{
 "cells": [
  {
   "cell_type": "markdown",
   "id": "deffcc98-aa83-4837-a546-428e3fc6add4",
   "metadata": {},
   "source": [
    "### Grain boundaries\n",
    "$$\\gamma = \\frac{E_{gb}- n*E_{atom}}{A_{total}}$$"
   ]
  },
  {
   "cell_type": "code",
   "execution_count": 1,
   "id": "a54cf3eb-8d4a-401d-bbb8-e1a2df36f50f",
   "metadata": {},
   "outputs": [
    {
     "data": {
      "application/vnd.jupyter.widget-view+json": {
       "model_id": "134a2eba4a164848842bf795f7cb4e94",
       "version_major": 2,
       "version_minor": 0
      },
      "text/plain": []
     },
     "metadata": {},
     "output_type": "display_data"
    }
   ],
   "source": [
    "from pyiron import Project\n",
    "import numpy as np\n",
    "import matplotlib.pylab as plt\n",
    "import ase.units"
   ]
  },
  {
   "cell_type": "code",
   "execution_count": 2,
   "id": "15242470-de7b-46bb-a3ae-e098806c0dc0",
   "metadata": {
    "scrolled": true
   },
   "outputs": [],
   "source": [
    "# job_min.list_potentials()"
   ]
  },
  {
   "cell_type": "code",
   "execution_count": 3,
   "id": "e23f8134-19e8-4e7b-8207-e7b1791a0185",
   "metadata": {},
   "outputs": [],
   "source": [
    "potential =  'FeH-NNIP'"
   ]
  },
  {
   "cell_type": "code",
   "execution_count": 4,
   "id": "e27c501b-67fa-4f5c-8fe0-4e4b1d954d45",
   "metadata": {},
   "outputs": [],
   "source": [
    "pr = Project(\"grain_boundaries\")\n",
    "# pr.create.structure.aimsgb.build?"
   ]
  },
  {
   "cell_type": "code",
   "execution_count": 5,
   "id": "9d230a16-bdc6-48a5-9bd6-2cc7e9780ad5",
   "metadata": {},
   "outputs": [
    {
     "name": "stdout",
     "output_type": "stream",
     "text": [
      "The job minimise was saved and received the ID: 10241\n"
     ]
    }
   ],
   "source": [
    "bulk = pr.create.structure.bulk('Fe', crystalstructure='bcc', cubic=True)\n",
    "job_min = pr.create.job.Lammps('minimise', delete_existing_job=True)\n",
    "job_min.structure = bulk\n",
    "job_min.potential = potential\n",
    "job_min.calc_minimize(pressure=0.0)\n",
    "job_min.run(delete_existing_job=True)\n",
    "eFe = job_min.output.energy_tot[-1]/len(bulk)\n",
    "structure = job_min.get_structure(-1)"
   ]
  },
  {
   "cell_type": "code",
   "execution_count": null,
   "id": "19c06954-c4aa-4390-9769-01ca3e052da9",
   "metadata": {},
   "outputs": [],
   "source": []
  },
  {
   "cell_type": "code",
   "execution_count": 10,
   "id": "3ece3ca2-5220-4f53-8353-282d16ef722e",
   "metadata": {},
   "outputs": [
    {
     "name": "stdout",
     "output_type": "stream",
     "text": [
      "2000\n",
      "The job supercell was saved and received the ID: 10242\n"
     ]
    },
    {
     "data": {
      "text/plain": [
       "array([-16483.09557258, -16483.09557258])"
      ]
     },
     "execution_count": 10,
     "metadata": {},
     "output_type": "execute_result"
    }
   ],
   "source": [
    "supercell = structure.repeat([10,10,10])\n",
    "print(len(supercell))\n",
    "job_supercell = pr.create.job.Lammps('supercell', delete_existing_job=True)\n",
    "job_supercell.structure = supercell\n",
    "job_supercell.potential = potential\n",
    "job_supercell.calc_minimize(pressure=[0.0, None, None, None, None, None])\n",
    "job_supercell.run(delete_existing_job=True)\n",
    "job_supercell.output.energy_pot"
   ]
  },
  {
   "cell_type": "code",
   "execution_count": null,
   "id": "6a8ac1b5-7eea-4b2a-ad19-11609129e4fd",
   "metadata": {},
   "outputs": [],
   "source": []
  },
  {
   "cell_type": "code",
   "execution_count": 11,
   "id": "47b88190-1b2d-4182-93d4-4d570c9bb75e",
   "metadata": {},
   "outputs": [
    {
     "name": "stderr",
     "output_type": "stream",
     "text": [
      "/home/gu.huang/miniconda3/envs/pyiron/lib/python3.12/site-packages/structuretoolkit/build/aimsgb.py:97: UserWarning: `add_if_dist` is deprecated, please use `gap` instead.\n",
      "  warn(\"`add_if_dist` is deprecated, please use `gap` instead.\")\n"
     ]
    }
   ],
   "source": [
    "# 110 symmetric\n",
    "E_110 = []\n",
    "\n",
    "gb1 = pr.create.structure.aimsgb.build((1,1,0), 9, (-1,1,-4), structure,\n",
    "                                      uc_a=3, uc_b=3, add_if_dist=1)\n",
    "gb2 = pr.create.structure.aimsgb.build((1,1,0), 11, (1,-1,3), structure,\n",
    "                                      uc_a=4, uc_b=4, add_if_dist=1)\n",
    "gb3 = pr.create.structure.aimsgb.build((1,1,0), 3, (1,-1,2), structure,\n",
    "                                      uc_a=5, uc_b=5, add_if_dist=1)\n",
    "gb4 = pr.create.structure.aimsgb.build((1,1,0), 3, (-1,1,1), structure,\n",
    "                                      uc_a=6, uc_b=6, add_if_dist=1)\n",
    "gb5 = pr.create.structure.aimsgb.build((1,1,0), 11, (-3,3,2), structure,\n",
    "                                      uc_a=3, uc_b=3, add_if_dist=1)\n",
    "gb6 = pr.create.structure.aimsgb.build((1,1,0), 9, (-2,2,1), structure,\n",
    "                                      uc_a=4, uc_b=4, add_if_dist=1)\n",
    "gb7 = pr.create.structure.aimsgb.build((1,1,0), 27, (-5,5,2), structure,\n",
    "                                      uc_a=2, uc_b=2, add_if_dist=1)"
   ]
  },
  {
   "cell_type": "code",
   "execution_count": 12,
   "id": "032a2627-520c-4ee4-8450-471a3da75e4a",
   "metadata": {},
   "outputs": [
    {
     "name": "stdout",
     "output_type": "stream",
     "text": [
      "The job gb114 was saved and received the ID: 10243\n"
     ]
    },
    {
     "name": "stderr",
     "output_type": "stream",
     "text": [
      "/home/gu.huang/miniconda3/envs/pyiron/lib/python3.12/site-packages/pyiron_atomistics/lammps/interactive.py:435: SyntaxWarning: invalid escape sequence '\\A'\n",
      "  \"\"\"\n",
      "/home/gu.huang/miniconda3/envs/pyiron/lib/python3.12/site-packages/pyiron_atomistics/lammps/base.py:119: SyntaxWarning: invalid escape sequence '\\A'\n",
      "  \"\"\"\n",
      "/home/gu.huang/miniconda3/envs/pyiron/lib/python3.12/site-packages/pyiron_atomistics/lammps/output.py:178: SyntaxWarning: invalid escape sequence '\\s'\n",
      "  sep=\"\\s+\",\n",
      "/home/gu.huang/miniconda3/envs/pyiron/lib/python3.12/site-packages/pyiron_atomistics/lammps/output.py:330: SyntaxWarning: invalid escape sequence '\\s'\n",
      "  df = pd.read_csv(StringIO(thermo_lines), sep=\"\\s+\", engine=\"c\")\n"
     ]
    },
    {
     "ename": "ValueError",
     "evalue": "could not convert string to float: '###'",
     "output_type": "error",
     "traceback": [
      "\u001b[0;31m---------------------------------------------------------------------------\u001b[0m",
      "\u001b[0;31mValueError\u001b[0m                                Traceback (most recent call last)",
      "Cell \u001b[0;32mIn[12], line 10\u001b[0m\n\u001b[1;32m      8\u001b[0m job\u001b[38;5;241m.\u001b[39mpotential \u001b[38;5;241m=\u001b[39m potential\n\u001b[1;32m      9\u001b[0m job\u001b[38;5;241m.\u001b[39mcalc_minimize(pressure\u001b[38;5;241m=\u001b[39m[\u001b[38;5;241m0.0\u001b[39m, \u001b[38;5;28;01mNone\u001b[39;00m, \u001b[38;5;28;01mNone\u001b[39;00m, \u001b[38;5;28;01mNone\u001b[39;00m, \u001b[38;5;28;01mNone\u001b[39;00m, \u001b[38;5;28;01mNone\u001b[39;00m])\n\u001b[0;32m---> 10\u001b[0m \u001b[43mjob\u001b[49m\u001b[38;5;241;43m.\u001b[39;49m\u001b[43mrun\u001b[49m\u001b[43m(\u001b[49m\u001b[43mdelete_existing_job\u001b[49m\u001b[38;5;241;43m=\u001b[39;49m\u001b[38;5;28;43;01mTrue\u001b[39;49;00m\u001b[43m)\u001b[49m\n\u001b[1;32m     12\u001b[0m a,b,c \u001b[38;5;241m=\u001b[39m job\u001b[38;5;241m.\u001b[39mget_structure(\u001b[38;5;241m-\u001b[39m\u001b[38;5;241m1\u001b[39m)\u001b[38;5;241m.\u001b[39mget_cell()\n\u001b[1;32m     13\u001b[0m A \u001b[38;5;241m=\u001b[39m np\u001b[38;5;241m.\u001b[39mlinalg\u001b[38;5;241m.\u001b[39mnorm(np\u001b[38;5;241m.\u001b[39mcross(b,c))\n",
      "File \u001b[0;32m~/miniconda3/envs/pyiron/lib/python3.12/site-packages/pyiron_base/utils/deprecate.py:171\u001b[0m, in \u001b[0;36mDeprecator.__deprecate_argument.<locals>.decorated\u001b[0;34m(*args, **kwargs)\u001b[0m\n\u001b[1;32m    161\u001b[0m     \u001b[38;5;28;01mif\u001b[39;00m kw \u001b[38;5;129;01min\u001b[39;00m \u001b[38;5;28mself\u001b[39m\u001b[38;5;241m.\u001b[39marguments:\n\u001b[1;32m    162\u001b[0m         warnings\u001b[38;5;241m.\u001b[39mwarn(\n\u001b[1;32m    163\u001b[0m             message_format\u001b[38;5;241m.\u001b[39mformat(\n\u001b[1;32m    164\u001b[0m                 \u001b[38;5;124m\"\u001b[39m\u001b[38;5;132;01m{}\u001b[39;00m\u001b[38;5;124m.\u001b[39m\u001b[38;5;132;01m{}\u001b[39;00m\u001b[38;5;124m(\u001b[39m\u001b[38;5;132;01m{}\u001b[39;00m\u001b[38;5;124m=\u001b[39m\u001b[38;5;132;01m{}\u001b[39;00m\u001b[38;5;124m)\u001b[39m\u001b[38;5;124m\"\u001b[39m\u001b[38;5;241m.\u001b[39mformat(\n\u001b[0;32m   (...)\u001b[0m\n\u001b[1;32m    169\u001b[0m             stacklevel\u001b[38;5;241m=\u001b[39m\u001b[38;5;241m2\u001b[39m,\n\u001b[1;32m    170\u001b[0m         )\n\u001b[0;32m--> 171\u001b[0m \u001b[38;5;28;01mreturn\u001b[39;00m \u001b[43mfunction\u001b[49m\u001b[43m(\u001b[49m\u001b[38;5;241;43m*\u001b[39;49m\u001b[43margs\u001b[49m\u001b[43m,\u001b[49m\u001b[43m \u001b[49m\u001b[38;5;241;43m*\u001b[39;49m\u001b[38;5;241;43m*\u001b[39;49m\u001b[43mkwargs\u001b[49m\u001b[43m)\u001b[49m\n",
      "File \u001b[0;32m~/miniconda3/envs/pyiron/lib/python3.12/site-packages/pyiron_base/jobs/job/generic.py:777\u001b[0m, in \u001b[0;36mGenericJob.run\u001b[0;34m(self, delete_existing_job, repair, debug, run_mode, run_again)\u001b[0m\n\u001b[1;32m    775\u001b[0m     \u001b[38;5;28mself\u001b[39m\u001b[38;5;241m.\u001b[39m_run_if_repair()\n\u001b[1;32m    776\u001b[0m \u001b[38;5;28;01melif\u001b[39;00m status \u001b[38;5;241m==\u001b[39m \u001b[38;5;124m\"\u001b[39m\u001b[38;5;124minitialized\u001b[39m\u001b[38;5;124m\"\u001b[39m:\n\u001b[0;32m--> 777\u001b[0m     \u001b[38;5;28;43mself\u001b[39;49m\u001b[38;5;241;43m.\u001b[39;49m\u001b[43m_run_if_new\u001b[49m\u001b[43m(\u001b[49m\u001b[43mdebug\u001b[49m\u001b[38;5;241;43m=\u001b[39;49m\u001b[43mdebug\u001b[49m\u001b[43m)\u001b[49m\n\u001b[1;32m    778\u001b[0m \u001b[38;5;28;01melif\u001b[39;00m status \u001b[38;5;241m==\u001b[39m \u001b[38;5;124m\"\u001b[39m\u001b[38;5;124mcreated\u001b[39m\u001b[38;5;124m\"\u001b[39m:\n\u001b[1;32m    779\u001b[0m     \u001b[38;5;28mself\u001b[39m\u001b[38;5;241m.\u001b[39m_run_if_created()\n",
      "File \u001b[0;32m~/miniconda3/envs/pyiron/lib/python3.12/site-packages/pyiron_base/jobs/job/generic.py:1294\u001b[0m, in \u001b[0;36mGenericJob._run_if_new\u001b[0;34m(self, debug)\u001b[0m\n\u001b[1;32m   1286\u001b[0m \u001b[38;5;28;01mdef\u001b[39;00m \u001b[38;5;21m_run_if_new\u001b[39m(\u001b[38;5;28mself\u001b[39m, debug\u001b[38;5;241m=\u001b[39m\u001b[38;5;28;01mFalse\u001b[39;00m):\n\u001b[1;32m   1287\u001b[0m \u001b[38;5;250m    \u001b[39m\u001b[38;5;124;03m\"\"\"\u001b[39;00m\n\u001b[1;32m   1288\u001b[0m \u001b[38;5;124;03m    Internal helper function the run if new function is called when the job status is 'initialized'. It prepares\u001b[39;00m\n\u001b[1;32m   1289\u001b[0m \u001b[38;5;124;03m    the hdf5 file and the corresponding directory structure.\u001b[39;00m\n\u001b[0;32m   (...)\u001b[0m\n\u001b[1;32m   1292\u001b[0m \u001b[38;5;124;03m        debug (bool): Debug Mode\u001b[39;00m\n\u001b[1;32m   1293\u001b[0m \u001b[38;5;124;03m    \"\"\"\u001b[39;00m\n\u001b[0;32m-> 1294\u001b[0m     \u001b[43mrun_job_with_status_initialized\u001b[49m\u001b[43m(\u001b[49m\u001b[43mjob\u001b[49m\u001b[38;5;241;43m=\u001b[39;49m\u001b[38;5;28;43mself\u001b[39;49m\u001b[43m,\u001b[49m\u001b[43m \u001b[49m\u001b[43mdebug\u001b[49m\u001b[38;5;241;43m=\u001b[39;49m\u001b[43mdebug\u001b[49m\u001b[43m)\u001b[49m\n",
      "File \u001b[0;32m~/miniconda3/envs/pyiron/lib/python3.12/site-packages/pyiron_base/jobs/job/runfunction.py:92\u001b[0m, in \u001b[0;36mrun_job_with_status_initialized\u001b[0;34m(job, debug)\u001b[0m\n\u001b[1;32m     90\u001b[0m \u001b[38;5;28;01melse\u001b[39;00m:\n\u001b[1;32m     91\u001b[0m     job\u001b[38;5;241m.\u001b[39msave()\n\u001b[0;32m---> 92\u001b[0m     \u001b[43mjob\u001b[49m\u001b[38;5;241;43m.\u001b[39;49m\u001b[43mrun\u001b[49m\u001b[43m(\u001b[49m\u001b[43m)\u001b[49m\n",
      "File \u001b[0;32m~/miniconda3/envs/pyiron/lib/python3.12/site-packages/pyiron_base/utils/deprecate.py:171\u001b[0m, in \u001b[0;36mDeprecator.__deprecate_argument.<locals>.decorated\u001b[0;34m(*args, **kwargs)\u001b[0m\n\u001b[1;32m    161\u001b[0m     \u001b[38;5;28;01mif\u001b[39;00m kw \u001b[38;5;129;01min\u001b[39;00m \u001b[38;5;28mself\u001b[39m\u001b[38;5;241m.\u001b[39marguments:\n\u001b[1;32m    162\u001b[0m         warnings\u001b[38;5;241m.\u001b[39mwarn(\n\u001b[1;32m    163\u001b[0m             message_format\u001b[38;5;241m.\u001b[39mformat(\n\u001b[1;32m    164\u001b[0m                 \u001b[38;5;124m\"\u001b[39m\u001b[38;5;132;01m{}\u001b[39;00m\u001b[38;5;124m.\u001b[39m\u001b[38;5;132;01m{}\u001b[39;00m\u001b[38;5;124m(\u001b[39m\u001b[38;5;132;01m{}\u001b[39;00m\u001b[38;5;124m=\u001b[39m\u001b[38;5;132;01m{}\u001b[39;00m\u001b[38;5;124m)\u001b[39m\u001b[38;5;124m\"\u001b[39m\u001b[38;5;241m.\u001b[39mformat(\n\u001b[0;32m   (...)\u001b[0m\n\u001b[1;32m    169\u001b[0m             stacklevel\u001b[38;5;241m=\u001b[39m\u001b[38;5;241m2\u001b[39m,\n\u001b[1;32m    170\u001b[0m         )\n\u001b[0;32m--> 171\u001b[0m \u001b[38;5;28;01mreturn\u001b[39;00m \u001b[43mfunction\u001b[49m\u001b[43m(\u001b[49m\u001b[38;5;241;43m*\u001b[39;49m\u001b[43margs\u001b[49m\u001b[43m,\u001b[49m\u001b[43m \u001b[49m\u001b[38;5;241;43m*\u001b[39;49m\u001b[38;5;241;43m*\u001b[39;49m\u001b[43mkwargs\u001b[49m\u001b[43m)\u001b[49m\n",
      "File \u001b[0;32m~/miniconda3/envs/pyiron/lib/python3.12/site-packages/pyiron_base/jobs/job/generic.py:779\u001b[0m, in \u001b[0;36mGenericJob.run\u001b[0;34m(self, delete_existing_job, repair, debug, run_mode, run_again)\u001b[0m\n\u001b[1;32m    777\u001b[0m     \u001b[38;5;28mself\u001b[39m\u001b[38;5;241m.\u001b[39m_run_if_new(debug\u001b[38;5;241m=\u001b[39mdebug)\n\u001b[1;32m    778\u001b[0m \u001b[38;5;28;01melif\u001b[39;00m status \u001b[38;5;241m==\u001b[39m \u001b[38;5;124m\"\u001b[39m\u001b[38;5;124mcreated\u001b[39m\u001b[38;5;124m\"\u001b[39m:\n\u001b[0;32m--> 779\u001b[0m     \u001b[38;5;28;43mself\u001b[39;49m\u001b[38;5;241;43m.\u001b[39;49m\u001b[43m_run_if_created\u001b[49m\u001b[43m(\u001b[49m\u001b[43m)\u001b[49m\n\u001b[1;32m    780\u001b[0m \u001b[38;5;28;01melif\u001b[39;00m status \u001b[38;5;241m==\u001b[39m \u001b[38;5;124m\"\u001b[39m\u001b[38;5;124msubmitted\u001b[39m\u001b[38;5;124m\"\u001b[39m:\n\u001b[1;32m    781\u001b[0m     run_job_with_status_submitted(job\u001b[38;5;241m=\u001b[39m\u001b[38;5;28mself\u001b[39m)\n",
      "File \u001b[0;32m~/miniconda3/envs/pyiron/lib/python3.12/site-packages/pyiron_base/jobs/job/generic.py:1305\u001b[0m, in \u001b[0;36mGenericJob._run_if_created\u001b[0;34m(self)\u001b[0m\n\u001b[1;32m   1296\u001b[0m \u001b[38;5;28;01mdef\u001b[39;00m \u001b[38;5;21m_run_if_created\u001b[39m(\u001b[38;5;28mself\u001b[39m):\n\u001b[1;32m   1297\u001b[0m \u001b[38;5;250m    \u001b[39m\u001b[38;5;124;03m\"\"\"\u001b[39;00m\n\u001b[1;32m   1298\u001b[0m \u001b[38;5;124;03m    Internal helper function the run if created function is called when the job status is 'created'. It executes\u001b[39;00m\n\u001b[1;32m   1299\u001b[0m \u001b[38;5;124;03m    the simulation, either in modal mode, meaning waiting for the simulation to finish, manually, or submits the\u001b[39;00m\n\u001b[0;32m   (...)\u001b[0m\n\u001b[1;32m   1303\u001b[0m \u001b[38;5;124;03m        int: Queue ID - if the job was send to the queue\u001b[39;00m\n\u001b[1;32m   1304\u001b[0m \u001b[38;5;124;03m    \"\"\"\u001b[39;00m\n\u001b[0;32m-> 1305\u001b[0m     \u001b[38;5;28;01mreturn\u001b[39;00m \u001b[43mrun_job_with_status_created\u001b[49m\u001b[43m(\u001b[49m\u001b[43mjob\u001b[49m\u001b[38;5;241;43m=\u001b[39;49m\u001b[38;5;28;43mself\u001b[39;49m\u001b[43m)\u001b[49m\n",
      "File \u001b[0;32m~/miniconda3/envs/pyiron/lib/python3.12/site-packages/pyiron_base/jobs/job/runfunction.py:115\u001b[0m, in \u001b[0;36mrun_job_with_status_created\u001b[0;34m(job)\u001b[0m\n\u001b[1;32m    113\u001b[0m     run_job_with_runmode_manually(job\u001b[38;5;241m=\u001b[39mjob, _manually_print\u001b[38;5;241m=\u001b[39m\u001b[38;5;28;01mTrue\u001b[39;00m)\n\u001b[1;32m    114\u001b[0m \u001b[38;5;28;01melif\u001b[39;00m job\u001b[38;5;241m.\u001b[39mserver\u001b[38;5;241m.\u001b[39mrun_mode\u001b[38;5;241m.\u001b[39mmodal:\n\u001b[0;32m--> 115\u001b[0m     \u001b[43mjob\u001b[49m\u001b[38;5;241;43m.\u001b[39;49m\u001b[43mrun_static\u001b[49m\u001b[43m(\u001b[49m\u001b[43m)\u001b[49m\n\u001b[1;32m    116\u001b[0m \u001b[38;5;28;01melif\u001b[39;00m job\u001b[38;5;241m.\u001b[39mserver\u001b[38;5;241m.\u001b[39mrun_mode\u001b[38;5;241m.\u001b[39msrun:\n\u001b[1;32m    117\u001b[0m     run_job_with_runmode_srun(job\u001b[38;5;241m=\u001b[39mjob)\n",
      "File \u001b[0;32m~/miniconda3/envs/pyiron/lib/python3.12/site-packages/pyiron_base/jobs/job/generic.py:813\u001b[0m, in \u001b[0;36mGenericJob.run_static\u001b[0;34m(self)\u001b[0m\n\u001b[1;32m    809\u001b[0m \u001b[38;5;28;01mdef\u001b[39;00m \u001b[38;5;21mrun_static\u001b[39m(\u001b[38;5;28mself\u001b[39m):\n\u001b[1;32m    810\u001b[0m \u001b[38;5;250m    \u001b[39m\u001b[38;5;124;03m\"\"\"\u001b[39;00m\n\u001b[1;32m    811\u001b[0m \u001b[38;5;124;03m    The run static function is called by run to execute the simulation.\u001b[39;00m\n\u001b[1;32m    812\u001b[0m \u001b[38;5;124;03m    \"\"\"\u001b[39;00m\n\u001b[0;32m--> 813\u001b[0m     \u001b[38;5;28;01mreturn\u001b[39;00m \u001b[43mexecute_job_with_external_executable\u001b[49m\u001b[43m(\u001b[49m\u001b[43mjob\u001b[49m\u001b[38;5;241;43m=\u001b[39;49m\u001b[38;5;28;43mself\u001b[39;49m\u001b[43m)\u001b[49m\n",
      "File \u001b[0;32m~/miniconda3/envs/pyiron/lib/python3.12/site-packages/pyiron_base/jobs/job/runfunction.py:610\u001b[0m, in \u001b[0;36mrun_time_decorator.<locals>.wrapper\u001b[0;34m(job)\u001b[0m\n\u001b[1;32m    608\u001b[0m \u001b[38;5;28;01mif\u001b[39;00m \u001b[38;5;129;01mnot\u001b[39;00m state\u001b[38;5;241m.\u001b[39mdatabase\u001b[38;5;241m.\u001b[39mdatabase_is_disabled \u001b[38;5;129;01mand\u001b[39;00m job\u001b[38;5;241m.\u001b[39mjob_id \u001b[38;5;129;01mis\u001b[39;00m \u001b[38;5;129;01mnot\u001b[39;00m \u001b[38;5;28;01mNone\u001b[39;00m:\n\u001b[1;32m    609\u001b[0m     job\u001b[38;5;241m.\u001b[39mproject\u001b[38;5;241m.\u001b[39mdb\u001b[38;5;241m.\u001b[39mitem_update({\u001b[38;5;124m\"\u001b[39m\u001b[38;5;124mtimestart\u001b[39m\u001b[38;5;124m\"\u001b[39m: datetime\u001b[38;5;241m.\u001b[39mnow()}, job\u001b[38;5;241m.\u001b[39mjob_id)\n\u001b[0;32m--> 610\u001b[0m     output \u001b[38;5;241m=\u001b[39m \u001b[43mfunc\u001b[49m\u001b[43m(\u001b[49m\u001b[43mjob\u001b[49m\u001b[43m)\u001b[49m\n\u001b[1;32m    611\u001b[0m     job\u001b[38;5;241m.\u001b[39mproject\u001b[38;5;241m.\u001b[39mdb\u001b[38;5;241m.\u001b[39mitem_update(job\u001b[38;5;241m.\u001b[39m_runtime(), job\u001b[38;5;241m.\u001b[39mjob_id)\n\u001b[1;32m    612\u001b[0m \u001b[38;5;28;01melse\u001b[39;00m:\n",
      "File \u001b[0;32m~/miniconda3/envs/pyiron/lib/python3.12/site-packages/pyiron_base/jobs/job/runfunction.py:686\u001b[0m, in \u001b[0;36mexecute_job_with_external_executable\u001b[0;34m(job)\u001b[0m\n\u001b[1;32m    682\u001b[0m \u001b[38;5;28;01mwith\u001b[39;00m \u001b[38;5;28mopen\u001b[39m(\n\u001b[1;32m    683\u001b[0m     posixpath\u001b[38;5;241m.\u001b[39mjoin(job\u001b[38;5;241m.\u001b[39mproject_hdf5\u001b[38;5;241m.\u001b[39mworking_directory, \u001b[38;5;124m\"\u001b[39m\u001b[38;5;124merror.out\u001b[39m\u001b[38;5;124m\"\u001b[39m), mode\u001b[38;5;241m=\u001b[39m\u001b[38;5;124m\"\u001b[39m\u001b[38;5;124mw\u001b[39m\u001b[38;5;124m\"\u001b[39m\n\u001b[1;32m    684\u001b[0m ) \u001b[38;5;28;01mas\u001b[39;00m f_err:\n\u001b[1;32m    685\u001b[0m     f_err\u001b[38;5;241m.\u001b[39mwrite(out)\n\u001b[0;32m--> 686\u001b[0m \u001b[43mhandle_finished_job\u001b[49m\u001b[43m(\u001b[49m\u001b[43mjob\u001b[49m\u001b[38;5;241;43m=\u001b[39;49m\u001b[43mjob\u001b[49m\u001b[43m,\u001b[49m\u001b[43m \u001b[49m\u001b[43mjob_crashed\u001b[49m\u001b[38;5;241;43m=\u001b[39;49m\u001b[43mjob_crashed\u001b[49m\u001b[43m,\u001b[49m\u001b[43m \u001b[49m\u001b[43mcollect_output\u001b[49m\u001b[38;5;241;43m=\u001b[39;49m\u001b[38;5;28;43;01mTrue\u001b[39;49;00m\u001b[43m)\u001b[49m\n\u001b[1;32m    687\u001b[0m \u001b[38;5;28;01mreturn\u001b[39;00m out\n",
      "File \u001b[0;32m~/miniconda3/envs/pyiron/lib/python3.12/site-packages/pyiron_base/jobs/job/runfunction.py:702\u001b[0m, in \u001b[0;36mhandle_finished_job\u001b[0;34m(job, job_crashed, collect_output)\u001b[0m\n\u001b[1;32m    700\u001b[0m \u001b[38;5;28;01mif\u001b[39;00m collect_output:\n\u001b[1;32m    701\u001b[0m     job\u001b[38;5;241m.\u001b[39mstatus\u001b[38;5;241m.\u001b[39mcollect \u001b[38;5;241m=\u001b[39m \u001b[38;5;28;01mTrue\u001b[39;00m\n\u001b[0;32m--> 702\u001b[0m     \u001b[43mjob\u001b[49m\u001b[38;5;241;43m.\u001b[39;49m\u001b[43mrun\u001b[49m\u001b[43m(\u001b[49m\u001b[43m)\u001b[49m\n\u001b[1;32m    703\u001b[0m \u001b[38;5;28;01mif\u001b[39;00m job_crashed:\n\u001b[1;32m    704\u001b[0m     job\u001b[38;5;241m.\u001b[39mstatus\u001b[38;5;241m.\u001b[39maborted \u001b[38;5;241m=\u001b[39m \u001b[38;5;28;01mTrue\u001b[39;00m\n",
      "File \u001b[0;32m~/miniconda3/envs/pyiron/lib/python3.12/site-packages/pyiron_base/utils/deprecate.py:171\u001b[0m, in \u001b[0;36mDeprecator.__deprecate_argument.<locals>.decorated\u001b[0;34m(*args, **kwargs)\u001b[0m\n\u001b[1;32m    161\u001b[0m     \u001b[38;5;28;01mif\u001b[39;00m kw \u001b[38;5;129;01min\u001b[39;00m \u001b[38;5;28mself\u001b[39m\u001b[38;5;241m.\u001b[39marguments:\n\u001b[1;32m    162\u001b[0m         warnings\u001b[38;5;241m.\u001b[39mwarn(\n\u001b[1;32m    163\u001b[0m             message_format\u001b[38;5;241m.\u001b[39mformat(\n\u001b[1;32m    164\u001b[0m                 \u001b[38;5;124m\"\u001b[39m\u001b[38;5;132;01m{}\u001b[39;00m\u001b[38;5;124m.\u001b[39m\u001b[38;5;132;01m{}\u001b[39;00m\u001b[38;5;124m(\u001b[39m\u001b[38;5;132;01m{}\u001b[39;00m\u001b[38;5;124m=\u001b[39m\u001b[38;5;132;01m{}\u001b[39;00m\u001b[38;5;124m)\u001b[39m\u001b[38;5;124m\"\u001b[39m\u001b[38;5;241m.\u001b[39mformat(\n\u001b[0;32m   (...)\u001b[0m\n\u001b[1;32m    169\u001b[0m             stacklevel\u001b[38;5;241m=\u001b[39m\u001b[38;5;241m2\u001b[39m,\n\u001b[1;32m    170\u001b[0m         )\n\u001b[0;32m--> 171\u001b[0m \u001b[38;5;28;01mreturn\u001b[39;00m \u001b[43mfunction\u001b[49m\u001b[43m(\u001b[49m\u001b[38;5;241;43m*\u001b[39;49m\u001b[43margs\u001b[49m\u001b[43m,\u001b[49m\u001b[43m \u001b[49m\u001b[38;5;241;43m*\u001b[39;49m\u001b[38;5;241;43m*\u001b[39;49m\u001b[43mkwargs\u001b[49m\u001b[43m)\u001b[49m\n",
      "File \u001b[0;32m~/miniconda3/envs/pyiron/lib/python3.12/site-packages/pyiron_base/jobs/job/generic.py:785\u001b[0m, in \u001b[0;36mGenericJob.run\u001b[0;34m(self, delete_existing_job, repair, debug, run_mode, run_again)\u001b[0m\n\u001b[1;32m    783\u001b[0m     \u001b[38;5;28mself\u001b[39m\u001b[38;5;241m.\u001b[39m_run_if_running()\n\u001b[1;32m    784\u001b[0m \u001b[38;5;28;01melif\u001b[39;00m status \u001b[38;5;241m==\u001b[39m \u001b[38;5;124m\"\u001b[39m\u001b[38;5;124mcollect\u001b[39m\u001b[38;5;124m\"\u001b[39m:\n\u001b[0;32m--> 785\u001b[0m     \u001b[38;5;28;43mself\u001b[39;49m\u001b[38;5;241;43m.\u001b[39;49m\u001b[43m_run_if_collect\u001b[49m\u001b[43m(\u001b[49m\u001b[43m)\u001b[49m\n\u001b[1;32m    786\u001b[0m \u001b[38;5;28;01melif\u001b[39;00m status \u001b[38;5;241m==\u001b[39m \u001b[38;5;124m\"\u001b[39m\u001b[38;5;124msuspend\u001b[39m\u001b[38;5;124m\"\u001b[39m:\n\u001b[1;32m    787\u001b[0m     \u001b[38;5;28mself\u001b[39m\u001b[38;5;241m.\u001b[39m_run_if_suspended()\n",
      "File \u001b[0;32m~/miniconda3/envs/pyiron/lib/python3.12/site-packages/pyiron_base/jobs/job/generic.py:1347\u001b[0m, in \u001b[0;36mGenericJob._run_if_collect\u001b[0;34m(self)\u001b[0m\n\u001b[1;32m   1341\u001b[0m \u001b[38;5;28;01mdef\u001b[39;00m \u001b[38;5;21m_run_if_collect\u001b[39m(\u001b[38;5;28mself\u001b[39m):\n\u001b[1;32m   1342\u001b[0m \u001b[38;5;250m    \u001b[39m\u001b[38;5;124;03m\"\"\"\u001b[39;00m\n\u001b[1;32m   1343\u001b[0m \u001b[38;5;124;03m    Internal helper function the run if collect function is called when the job status is 'collect'. It collects\u001b[39;00m\n\u001b[1;32m   1344\u001b[0m \u001b[38;5;124;03m    the simulation output using the standardized functions collect_output() and collect_logfiles(). Afterwards the\u001b[39;00m\n\u001b[1;32m   1345\u001b[0m \u001b[38;5;124;03m    status is set to 'finished'\u001b[39;00m\n\u001b[1;32m   1346\u001b[0m \u001b[38;5;124;03m    \"\"\"\u001b[39;00m\n\u001b[0;32m-> 1347\u001b[0m     \u001b[43mrun_job_with_status_collect\u001b[49m\u001b[43m(\u001b[49m\u001b[43mjob\u001b[49m\u001b[38;5;241;43m=\u001b[39;49m\u001b[38;5;28;43mself\u001b[39;49m\u001b[43m)\u001b[49m\n",
      "File \u001b[0;32m~/miniconda3/envs/pyiron/lib/python3.12/site-packages/pyiron_base/jobs/job/runfunction.py:223\u001b[0m, in \u001b[0;36mrun_job_with_status_collect\u001b[0;34m(job)\u001b[0m\n\u001b[1;32m    214\u001b[0m \u001b[38;5;28;01mdef\u001b[39;00m \u001b[38;5;21mrun_job_with_status_collect\u001b[39m(job):\n\u001b[1;32m    215\u001b[0m \u001b[38;5;250m    \u001b[39m\u001b[38;5;124;03m\"\"\"\u001b[39;00m\n\u001b[1;32m    216\u001b[0m \u001b[38;5;124;03m    Internal helper function the run if collect function is called when the job status is 'collect'. It collects\u001b[39;00m\n\u001b[1;32m    217\u001b[0m \u001b[38;5;124;03m    the simulation output using the standardized functions collect_output() and collect_logfiles(). Afterwards the\u001b[39;00m\n\u001b[0;32m   (...)\u001b[0m\n\u001b[1;32m    221\u001b[0m \u001b[38;5;124;03m        job (GenericJob): pyiron job object\u001b[39;00m\n\u001b[1;32m    222\u001b[0m \u001b[38;5;124;03m    \"\"\"\u001b[39;00m\n\u001b[0;32m--> 223\u001b[0m     \u001b[43mjob\u001b[49m\u001b[38;5;241;43m.\u001b[39;49m\u001b[43mcollect_output\u001b[49m\u001b[43m(\u001b[49m\u001b[43m)\u001b[49m\n\u001b[1;32m    224\u001b[0m     job\u001b[38;5;241m.\u001b[39mcollect_logfiles()\n\u001b[1;32m    225\u001b[0m     job\u001b[38;5;241m.\u001b[39mrun_time_to_db()\n",
      "File \u001b[0;32m~/miniconda3/envs/pyiron/lib/python3.12/site-packages/pyiron_atomistics/lammps/interactive.py:509\u001b[0m, in \u001b[0;36mLammpsInteractive.collect_output\u001b[0;34m(self)\u001b[0m\n\u001b[1;32m    507\u001b[0m     \u001b[38;5;28;01mpass\u001b[39;00m\n\u001b[1;32m    508\u001b[0m \u001b[38;5;28;01melse\u001b[39;00m:\n\u001b[0;32m--> 509\u001b[0m     \u001b[38;5;28;43msuper\u001b[39;49m\u001b[43m(\u001b[49m\u001b[43mLammpsInteractive\u001b[49m\u001b[43m,\u001b[49m\u001b[43m \u001b[49m\u001b[38;5;28;43mself\u001b[39;49m\u001b[43m)\u001b[49m\u001b[38;5;241;43m.\u001b[39;49m\u001b[43mcollect_output\u001b[49m\u001b[43m(\u001b[49m\u001b[43m)\u001b[49m\n",
      "File \u001b[0;32m~/miniconda3/envs/pyiron/lib/python3.12/site-packages/pyiron_atomistics/lammps/base.py:454\u001b[0m, in \u001b[0;36mLammpsBase.collect_output\u001b[0;34m(self)\u001b[0m\n\u001b[1;32m    447\u001b[0m \u001b[38;5;250m\u001b[39m\u001b[38;5;124;03m\"\"\"\u001b[39;00m\n\u001b[1;32m    448\u001b[0m \n\u001b[1;32m    449\u001b[0m \u001b[38;5;124;03mReturns:\u001b[39;00m\n\u001b[1;32m    450\u001b[0m \n\u001b[1;32m    451\u001b[0m \u001b[38;5;124;03m\"\"\"\u001b[39;00m\n\u001b[1;32m    452\u001b[0m \u001b[38;5;28mself\u001b[39m\u001b[38;5;241m.\u001b[39minput\u001b[38;5;241m.\u001b[39mfrom_hdf(\u001b[38;5;28mself\u001b[39m\u001b[38;5;241m.\u001b[39m_hdf5)\n\u001b[1;32m    453\u001b[0m hdf_dict \u001b[38;5;241m=\u001b[39m resolve_hierachical_dict(\n\u001b[0;32m--> 454\u001b[0m     data_dict\u001b[38;5;241m=\u001b[39m\u001b[38;5;28;43mself\u001b[39;49m\u001b[38;5;241;43m.\u001b[39;49m\u001b[43mcollect_output_parser\u001b[49m\u001b[43m(\u001b[49m\n\u001b[1;32m    455\u001b[0m \u001b[43m        \u001b[49m\u001b[43mcwd\u001b[49m\u001b[38;5;241;43m=\u001b[39;49m\u001b[38;5;28;43mself\u001b[39;49m\u001b[38;5;241;43m.\u001b[39;49m\u001b[43mworking_directory\u001b[49m\u001b[43m,\u001b[49m\n\u001b[1;32m    456\u001b[0m \u001b[43m        \u001b[49m\u001b[43mdump_h5_file_name\u001b[49m\u001b[38;5;241;43m=\u001b[39;49m\u001b[38;5;124;43m\"\u001b[39;49m\u001b[38;5;124;43mdump.h5\u001b[39;49m\u001b[38;5;124;43m\"\u001b[39;49m\u001b[43m,\u001b[49m\n\u001b[1;32m    457\u001b[0m \u001b[43m        \u001b[49m\u001b[43mdump_out_file_name\u001b[49m\u001b[38;5;241;43m=\u001b[39;49m\u001b[38;5;124;43m\"\u001b[39;49m\u001b[38;5;124;43mdump.out\u001b[39;49m\u001b[38;5;124;43m\"\u001b[39;49m\u001b[43m,\u001b[49m\n\u001b[1;32m    458\u001b[0m \u001b[43m        \u001b[49m\u001b[43mlog_lammps_file_name\u001b[49m\u001b[38;5;241;43m=\u001b[39;49m\u001b[38;5;124;43m\"\u001b[39;49m\u001b[38;5;124;43mlog.lammps\u001b[39;49m\u001b[38;5;124;43m\"\u001b[39;49m\u001b[43m,\u001b[49m\n\u001b[1;32m    459\u001b[0m \u001b[43m    \u001b[49m\u001b[43m)\u001b[49m,\n\u001b[1;32m    460\u001b[0m     group_name\u001b[38;5;241m=\u001b[39m\u001b[38;5;124m\"\u001b[39m\u001b[38;5;124moutput\u001b[39m\u001b[38;5;124m\"\u001b[39m,\n\u001b[1;32m    461\u001b[0m )\n\u001b[1;32m    462\u001b[0m final_structure \u001b[38;5;241m=\u001b[39m \u001b[38;5;28mself\u001b[39m\u001b[38;5;241m.\u001b[39mstructure\u001b[38;5;241m.\u001b[39mcopy()\n\u001b[1;32m    463\u001b[0m final_structure\u001b[38;5;241m.\u001b[39mindices \u001b[38;5;241m=\u001b[39m hdf_dict[\u001b[38;5;124m\"\u001b[39m\u001b[38;5;124moutput/generic/indices\u001b[39m\u001b[38;5;124m\"\u001b[39m][\u001b[38;5;241m-\u001b[39m\u001b[38;5;241m1\u001b[39m]\n",
      "File \u001b[0;32m~/miniconda3/envs/pyiron/lib/python3.12/site-packages/pyiron_atomistics/lammps/base.py:430\u001b[0m, in \u001b[0;36mLammpsBase.collect_output_parser\u001b[0;34m(self, cwd, dump_h5_file_name, dump_out_file_name, log_lammps_file_name)\u001b[0m\n\u001b[1;32m    422\u001b[0m \u001b[38;5;28;01mdef\u001b[39;00m \u001b[38;5;21mcollect_output_parser\u001b[39m(\n\u001b[1;32m    423\u001b[0m     \u001b[38;5;28mself\u001b[39m,\n\u001b[1;32m    424\u001b[0m     cwd,\n\u001b[0;32m   (...)\u001b[0m\n\u001b[1;32m    428\u001b[0m ):\n\u001b[1;32m    429\u001b[0m     \u001b[38;5;66;03m# Parse output files\u001b[39;00m\n\u001b[0;32m--> 430\u001b[0m     \u001b[38;5;28;01mreturn\u001b[39;00m \u001b[43mparse_lammps_output\u001b[49m\u001b[43m(\u001b[49m\n\u001b[1;32m    431\u001b[0m \u001b[43m        \u001b[49m\u001b[43mdump_h5_full_file_name\u001b[49m\u001b[38;5;241;43m=\u001b[39;49m\u001b[38;5;28;43mself\u001b[39;49m\u001b[38;5;241;43m.\u001b[39;49m\u001b[43mjob_file_name\u001b[49m\u001b[43m(\u001b[49m\n\u001b[1;32m    432\u001b[0m \u001b[43m            \u001b[49m\u001b[43mfile_name\u001b[49m\u001b[38;5;241;43m=\u001b[39;49m\u001b[43mdump_h5_file_name\u001b[49m\u001b[43m,\u001b[49m\u001b[43m \u001b[49m\u001b[43mcwd\u001b[49m\u001b[38;5;241;43m=\u001b[39;49m\u001b[43mcwd\u001b[49m\n\u001b[1;32m    433\u001b[0m \u001b[43m        \u001b[49m\u001b[43m)\u001b[49m\u001b[43m,\u001b[49m\n\u001b[1;32m    434\u001b[0m \u001b[43m        \u001b[49m\u001b[43mdump_out_full_file_name\u001b[49m\u001b[38;5;241;43m=\u001b[39;49m\u001b[38;5;28;43mself\u001b[39;49m\u001b[38;5;241;43m.\u001b[39;49m\u001b[43mjob_file_name\u001b[49m\u001b[43m(\u001b[49m\n\u001b[1;32m    435\u001b[0m \u001b[43m            \u001b[49m\u001b[43mfile_name\u001b[49m\u001b[38;5;241;43m=\u001b[39;49m\u001b[43mdump_out_file_name\u001b[49m\u001b[43m,\u001b[49m\u001b[43m \u001b[49m\u001b[43mcwd\u001b[49m\u001b[38;5;241;43m=\u001b[39;49m\u001b[43mcwd\u001b[49m\n\u001b[1;32m    436\u001b[0m \u001b[43m        \u001b[49m\u001b[43m)\u001b[49m\u001b[43m,\u001b[49m\n\u001b[1;32m    437\u001b[0m \u001b[43m        \u001b[49m\u001b[43mlog_lammps_full_file_name\u001b[49m\u001b[38;5;241;43m=\u001b[39;49m\u001b[38;5;28;43mself\u001b[39;49m\u001b[38;5;241;43m.\u001b[39;49m\u001b[43mjob_file_name\u001b[49m\u001b[43m(\u001b[49m\n\u001b[1;32m    438\u001b[0m \u001b[43m            \u001b[49m\u001b[43mfile_name\u001b[49m\u001b[38;5;241;43m=\u001b[39;49m\u001b[43mlog_lammps_file_name\u001b[49m\u001b[43m,\u001b[49m\u001b[43m \u001b[49m\u001b[43mcwd\u001b[49m\u001b[38;5;241;43m=\u001b[39;49m\u001b[43mcwd\u001b[49m\n\u001b[1;32m    439\u001b[0m \u001b[43m        \u001b[49m\u001b[43m)\u001b[49m\u001b[43m,\u001b[49m\n\u001b[1;32m    440\u001b[0m \u001b[43m        \u001b[49m\u001b[43mprism\u001b[49m\u001b[38;5;241;43m=\u001b[39;49m\u001b[38;5;28;43mself\u001b[39;49m\u001b[38;5;241;43m.\u001b[39;49m\u001b[43m_prism\u001b[49m\u001b[43m,\u001b[49m\n\u001b[1;32m    441\u001b[0m \u001b[43m        \u001b[49m\u001b[43mstructure\u001b[49m\u001b[38;5;241;43m=\u001b[39;49m\u001b[38;5;28;43mself\u001b[39;49m\u001b[38;5;241;43m.\u001b[39;49m\u001b[43mstructure\u001b[49m\u001b[43m,\u001b[49m\n\u001b[1;32m    442\u001b[0m \u001b[43m        \u001b[49m\u001b[43mpotential_elements\u001b[49m\u001b[38;5;241;43m=\u001b[39;49m\u001b[38;5;28;43mself\u001b[39;49m\u001b[38;5;241;43m.\u001b[39;49m\u001b[43minput\u001b[49m\u001b[38;5;241;43m.\u001b[39;49m\u001b[43mpotential\u001b[49m\u001b[38;5;241;43m.\u001b[39;49m\u001b[43mget_element_lst\u001b[49m\u001b[43m(\u001b[49m\u001b[43m)\u001b[49m\u001b[43m,\u001b[49m\n\u001b[1;32m    443\u001b[0m \u001b[43m        \u001b[49m\u001b[43munits\u001b[49m\u001b[38;5;241;43m=\u001b[39;49m\u001b[38;5;28;43mself\u001b[39;49m\u001b[38;5;241;43m.\u001b[39;49m\u001b[43munits\u001b[49m\u001b[43m,\u001b[49m\n\u001b[1;32m    444\u001b[0m \u001b[43m    \u001b[49m\u001b[43m)\u001b[49m\n",
      "File \u001b[0;32m~/miniconda3/envs/pyiron/lib/python3.12/site-packages/pyiron_atomistics/lammps/output.py:53\u001b[0m, in \u001b[0;36mparse_lammps_output\u001b[0;34m(dump_h5_full_file_name, dump_out_full_file_name, log_lammps_full_file_name, prism, structure, potential_elements, units)\u001b[0m\n\u001b[1;32m     36\u001b[0m \u001b[38;5;28;01mdef\u001b[39;00m \u001b[38;5;21mparse_lammps_output\u001b[39m(\n\u001b[1;32m     37\u001b[0m     dump_h5_full_file_name: \u001b[38;5;28mstr\u001b[39m,\n\u001b[1;32m     38\u001b[0m     dump_out_full_file_name: \u001b[38;5;28mstr\u001b[39m,\n\u001b[0;32m   (...)\u001b[0m\n\u001b[1;32m     43\u001b[0m     units: \u001b[38;5;28mstr\u001b[39m,\n\u001b[1;32m     44\u001b[0m ) \u001b[38;5;241m-\u001b[39m\u001b[38;5;241m>\u001b[39m Dict:\n\u001b[1;32m     45\u001b[0m     dump_dict \u001b[38;5;241m=\u001b[39m _parse_dump(\n\u001b[1;32m     46\u001b[0m         dump_h5_full_file_name,\n\u001b[1;32m     47\u001b[0m         dump_out_full_file_name,\n\u001b[0;32m   (...)\u001b[0m\n\u001b[1;32m     50\u001b[0m         potential_elements,\n\u001b[1;32m     51\u001b[0m     )\n\u001b[0;32m---> 53\u001b[0m     generic_keys_lst, pressure_dict, df \u001b[38;5;241m=\u001b[39m \u001b[43m_parse_log\u001b[49m\u001b[43m(\u001b[49m\u001b[43mlog_lammps_full_file_name\u001b[49m\u001b[43m,\u001b[49m\u001b[43m \u001b[49m\u001b[43mprism\u001b[49m\u001b[43m)\u001b[49m\n\u001b[1;32m     55\u001b[0m     convert_units \u001b[38;5;241m=\u001b[39m UnitConverter(units)\u001b[38;5;241m.\u001b[39mconvert_array_to_pyiron_units\n\u001b[1;32m     57\u001b[0m     hdf_output \u001b[38;5;241m=\u001b[39m {\u001b[38;5;124m\"\u001b[39m\u001b[38;5;124mgeneric\u001b[39m\u001b[38;5;124m\"\u001b[39m: {}, \u001b[38;5;124m\"\u001b[39m\u001b[38;5;124mlammps\u001b[39m\u001b[38;5;124m\"\u001b[39m: {}}\n",
      "File \u001b[0;32m~/miniconda3/envs/pyiron/lib/python3.12/site-packages/pyiron_atomistics/lammps/output.py:300\u001b[0m, in \u001b[0;36m_parse_log\u001b[0;34m(log_lammps_full_file_name, prism)\u001b[0m\n\u001b[1;32m    298\u001b[0m \u001b[38;5;28;01mif\u001b[39;00m os\u001b[38;5;241m.\u001b[39mpath\u001b[38;5;241m.\u001b[39mexists(log_lammps_full_file_name):\n\u001b[1;32m    299\u001b[0m     _raise_exception_if_errors_found(file_name\u001b[38;5;241m=\u001b[39mlog_lammps_full_file_name)\n\u001b[0;32m--> 300\u001b[0m     \u001b[38;5;28;01mreturn\u001b[39;00m \u001b[43m_collect_output_log\u001b[49m\u001b[43m(\u001b[49m\n\u001b[1;32m    301\u001b[0m \u001b[43m        \u001b[49m\u001b[43mfile_name\u001b[49m\u001b[38;5;241;43m=\u001b[39;49m\u001b[43mlog_lammps_full_file_name\u001b[49m\u001b[43m,\u001b[49m\n\u001b[1;32m    302\u001b[0m \u001b[43m        \u001b[49m\u001b[43mprism\u001b[49m\u001b[38;5;241;43m=\u001b[39;49m\u001b[43mprism\u001b[49m\u001b[43m,\u001b[49m\n\u001b[1;32m    303\u001b[0m \u001b[43m    \u001b[49m\u001b[43m)\u001b[49m\n\u001b[1;32m    304\u001b[0m \u001b[38;5;28;01melse\u001b[39;00m:\n\u001b[1;32m    305\u001b[0m     \u001b[38;5;28;01mreturn\u001b[39;00m \u001b[38;5;28;01mNone\u001b[39;00m, \u001b[38;5;28;01mNone\u001b[39;00m, \u001b[38;5;28;01mNone\u001b[39;00m\n",
      "File \u001b[0;32m~/miniconda3/envs/pyiron/lib/python3.12/site-packages/pyiron_atomistics/lammps/output.py:377\u001b[0m, in \u001b[0;36m_collect_output_log\u001b[0;34m(file_name, prism)\u001b[0m\n\u001b[1;32m    344\u001b[0m pressure_dict \u001b[38;5;241m=\u001b[39m \u001b[38;5;28mdict\u001b[39m()\n\u001b[1;32m    345\u001b[0m \u001b[38;5;28;01mif\u001b[39;00m \u001b[38;5;28mall\u001b[39m(\n\u001b[1;32m    346\u001b[0m     [\n\u001b[1;32m    347\u001b[0m         x \u001b[38;5;129;01min\u001b[39;00m df\u001b[38;5;241m.\u001b[39mcolumns\u001b[38;5;241m.\u001b[39mvalues\n\u001b[0;32m   (...)\u001b[0m\n\u001b[1;32m    359\u001b[0m     ]\n\u001b[1;32m    360\u001b[0m ):\n\u001b[1;32m    361\u001b[0m     pressures \u001b[38;5;241m=\u001b[39m (\n\u001b[1;32m    362\u001b[0m         \u001b[43mnp\u001b[49m\u001b[38;5;241;43m.\u001b[39;49m\u001b[43mstack\u001b[49m\u001b[43m(\u001b[49m\n\u001b[1;32m    363\u001b[0m \u001b[43m            \u001b[49m\u001b[43m(\u001b[49m\n\u001b[1;32m    364\u001b[0m \u001b[43m                \u001b[49m\u001b[43mdf\u001b[49m\u001b[38;5;241;43m.\u001b[39;49m\u001b[43mPxx\u001b[49m\u001b[43m,\u001b[49m\n\u001b[1;32m    365\u001b[0m \u001b[43m                \u001b[49m\u001b[43mdf\u001b[49m\u001b[38;5;241;43m.\u001b[39;49m\u001b[43mPxy\u001b[49m\u001b[43m,\u001b[49m\n\u001b[1;32m    366\u001b[0m \u001b[43m                \u001b[49m\u001b[43mdf\u001b[49m\u001b[38;5;241;43m.\u001b[39;49m\u001b[43mPxz\u001b[49m\u001b[43m,\u001b[49m\n\u001b[1;32m    367\u001b[0m \u001b[43m                \u001b[49m\u001b[43mdf\u001b[49m\u001b[38;5;241;43m.\u001b[39;49m\u001b[43mPxy\u001b[49m\u001b[43m,\u001b[49m\n\u001b[1;32m    368\u001b[0m \u001b[43m                \u001b[49m\u001b[43mdf\u001b[49m\u001b[38;5;241;43m.\u001b[39;49m\u001b[43mPyy\u001b[49m\u001b[43m,\u001b[49m\n\u001b[1;32m    369\u001b[0m \u001b[43m                \u001b[49m\u001b[43mdf\u001b[49m\u001b[38;5;241;43m.\u001b[39;49m\u001b[43mPyz\u001b[49m\u001b[43m,\u001b[49m\n\u001b[1;32m    370\u001b[0m \u001b[43m                \u001b[49m\u001b[43mdf\u001b[49m\u001b[38;5;241;43m.\u001b[39;49m\u001b[43mPxz\u001b[49m\u001b[43m,\u001b[49m\n\u001b[1;32m    371\u001b[0m \u001b[43m                \u001b[49m\u001b[43mdf\u001b[49m\u001b[38;5;241;43m.\u001b[39;49m\u001b[43mPyz\u001b[49m\u001b[43m,\u001b[49m\n\u001b[1;32m    372\u001b[0m \u001b[43m                \u001b[49m\u001b[43mdf\u001b[49m\u001b[38;5;241;43m.\u001b[39;49m\u001b[43mPzz\u001b[49m\u001b[43m,\u001b[49m\n\u001b[1;32m    373\u001b[0m \u001b[43m            \u001b[49m\u001b[43m)\u001b[49m\u001b[43m,\u001b[49m\n\u001b[1;32m    374\u001b[0m \u001b[43m            \u001b[49m\u001b[43maxis\u001b[49m\u001b[38;5;241;43m=\u001b[39;49m\u001b[38;5;241;43m-\u001b[39;49m\u001b[38;5;241;43m1\u001b[39;49m\u001b[43m,\u001b[49m\n\u001b[1;32m    375\u001b[0m \u001b[43m        \u001b[49m\u001b[43m)\u001b[49m\n\u001b[1;32m    376\u001b[0m \u001b[43m        \u001b[49m\u001b[38;5;241;43m.\u001b[39;49m\u001b[43mreshape\u001b[49m\u001b[43m(\u001b[49m\u001b[38;5;241;43m-\u001b[39;49m\u001b[38;5;241;43m1\u001b[39;49m\u001b[43m,\u001b[49m\u001b[43m \u001b[49m\u001b[38;5;241;43m3\u001b[39;49m\u001b[43m,\u001b[49m\u001b[43m \u001b[49m\u001b[38;5;241;43m3\u001b[39;49m\u001b[43m)\u001b[49m\n\u001b[0;32m--> 377\u001b[0m \u001b[43m        \u001b[49m\u001b[38;5;241;43m.\u001b[39;49m\u001b[43mastype\u001b[49m\u001b[43m(\u001b[49m\u001b[38;5;124;43m\"\u001b[39;49m\u001b[38;5;124;43mfloat64\u001b[39;49m\u001b[38;5;124;43m\"\u001b[39;49m\u001b[43m)\u001b[49m\n\u001b[1;32m    378\u001b[0m     )\n\u001b[1;32m    379\u001b[0m     \u001b[38;5;66;03m# Rotate pressures from Lammps frame to pyiron frame if necessary\u001b[39;00m\n\u001b[1;32m    380\u001b[0m     \u001b[38;5;28;01mif\u001b[39;00m _check_ortho_prism(prism\u001b[38;5;241m=\u001b[39mprism):\n",
      "\u001b[0;31mValueError\u001b[0m: could not convert string to float: '###'"
     ]
    }
   ],
   "source": [
    "gb114 = gb1.copy()\n",
    "gb114 = gb114.repeat([1,2,4])\n",
    "# gb114.plot3d()\n",
    "# x\n",
    "\n",
    "job = pr.create.job.Lammps('gb114', delete_existing_job=True)\n",
    "job.structure = gb114\n",
    "job.potential = potential\n",
    "job.calc_minimize(pressure=[0.0, None, None, None, None, None])\n",
    "job.run(delete_existing_job=True)\n",
    "\n",
    "a,b,c = job.get_structure(-1).get_cell()\n",
    "A = np.linalg.norm(np.cross(b,c))\n",
    "e = job.output.energy_tot[-1]\n",
    "egb = (e-len(gb114)*eFe) / (2*A)\n",
    "print(len(gb114))\n",
    "e_gb = egb / ase.units.J * (ase.units.m)**2\n",
    "E_110.append(e_gb)"
   ]
  },
  {
   "cell_type": "code",
   "execution_count": null,
   "id": "a69ab21e-bad6-40a4-b83f-55ff18b0759a",
   "metadata": {},
   "outputs": [],
   "source": []
  },
  {
   "cell_type": "code",
   "execution_count": null,
   "id": "43bf658f-4656-456d-af2a-0643adfb201e",
   "metadata": {},
   "outputs": [],
   "source": []
  },
  {
   "cell_type": "code",
   "execution_count": null,
   "id": "9084c76f-3968-463d-85e7-d0382ffda023",
   "metadata": {},
   "outputs": [],
   "source": []
  },
  {
   "cell_type": "code",
   "execution_count": 61,
   "id": "2d84da0f-9f3d-4d44-8b83-579a2633b4b5",
   "metadata": {},
   "outputs": [
    {
     "name": "stdout",
     "output_type": "stream",
     "text": [
      "The job gb113 was saved and received the ID: 10225\n",
      "1408\n"
     ]
    }
   ],
   "source": [
    "gb113 = gb2.copy()\n",
    "gb113 = gb113.repeat([1,1,4])\n",
    "# y\n",
    "\n",
    "job = pr.create.job.Lammps('gb113', delete_existing_job=True)\n",
    "job.structure = gb113\n",
    "job.potential = potential\n",
    "job.calc_minimize(pressure=[None, 0.0, None, None, None, None])\n",
    "job.run(delete_existing_job=True)\n",
    "\n",
    "a,b,c = job.get_structure(-1).get_cell()\n",
    "A = np.linalg.norm(np.cross(a,c))\n",
    "e = job.output.energy_tot[-1]\n",
    "egb = (e-len(gb113)*eFe) / (2*A)\n",
    "print(len(gb113))\n",
    "e_gb = egb / ase.units.J * (ase.units.m)**2\n",
    "E_110.append(e_gb)"
   ]
  },
  {
   "cell_type": "code",
   "execution_count": 62,
   "id": "70c69428-e11c-455c-92c3-7b5f166176d7",
   "metadata": {},
   "outputs": [
    {
     "name": "stdout",
     "output_type": "stream",
     "text": [
      "The job gb112 was saved and received the ID: 10226\n",
      "1440\n"
     ]
    }
   ],
   "source": [
    "gb112 = gb3.copy()\n",
    "gb112 = gb112.repeat([3,1,4])\n",
    "# y\n",
    "\n",
    "job = pr.create.job.Lammps('gb112', delete_existing_job=True)\n",
    "job.structure = gb112\n",
    "job.potential = potential\n",
    "job.calc_minimize(pressure=[None, 0.0, None, None, None, None])\n",
    "job.run(delete_existing_job=True)\n",
    "\n",
    "a,b,c = job.get_structure(-1).get_cell()\n",
    "A = np.linalg.norm(np.cross(a,c))\n",
    "e = job.output.energy_tot[-1]\n",
    "egb = (e-len(gb112)*eFe) / (2*A)\n",
    "print(len(gb112))\n",
    "e_gb = egb / ase.units.J * (ase.units.m)**2\n",
    "E_110.append(e_gb)"
   ]
  },
  {
   "cell_type": "code",
   "execution_count": 63,
   "id": "aeb98fd1-a82a-4a39-922f-4c4bb2f5b512",
   "metadata": {},
   "outputs": [
    {
     "name": "stdout",
     "output_type": "stream",
     "text": [
      "The job gb111 was saved and received the ID: 10227\n",
      "1728\n"
     ]
    }
   ],
   "source": [
    "gb111 = gb4.copy()\n",
    "gb111 = gb111.repeat([1,3,4])\n",
    "# x\n",
    "\n",
    "job = pr.create.job.Lammps('gb111', delete_existing_job=True)\n",
    "job.structure = gb111\n",
    "job.potential = potential\n",
    "job.calc_minimize(pressure=[0.0, None, None, None, None, None])\n",
    "job.run(delete_existing_job=True)\n",
    "\n",
    "a,b,c = job.get_structure(-1).get_cell()\n",
    "A = np.linalg.norm(np.cross(b,c))\n",
    "e = job.output.energy_tot[-1]\n",
    "egb = (e-len(gb111)*eFe) / (2*A)\n",
    "print(len(gb111))\n",
    "e_gb = egb / ase.units.J * (ase.units.m)**2\n",
    "E_110.append(e_gb)"
   ]
  },
  {
   "cell_type": "code",
   "execution_count": 64,
   "id": "c989af8e-3207-4365-a111-4febf0ad1440",
   "metadata": {},
   "outputs": [
    {
     "name": "stdout",
     "output_type": "stream",
     "text": [
      "The job gb332 was saved and received the ID: 10228\n",
      "1584\n"
     ]
    }
   ],
   "source": [
    "gb332 = gb5.copy()\n",
    "gb332 = gb332.repeat([1,2,3])\n",
    "# x\n",
    "\n",
    "job = pr.create.job.Lammps('gb332', delete_existing_job=True)\n",
    "job.structure = gb332\n",
    "job.potential = potential\n",
    "job.calc_minimize(pressure=[0.0, None, None, None, None, None])\n",
    "job.run(delete_existing_job=True)\n",
    "\n",
    "a,b,c = job.get_structure(-1).get_cell()\n",
    "A = np.linalg.norm(np.cross(b,c))\n",
    "e = job.output.energy_tot[-1]\n",
    "egb = (e-len(gb332)*eFe) / (2*A)\n",
    "print(len(gb332))\n",
    "e_gb = egb / ase.units.J * (ase.units.m)**2\n",
    "E_110.append(e_gb)"
   ]
  },
  {
   "cell_type": "code",
   "execution_count": 65,
   "id": "d6a4a626-8a99-45dc-b114-18f7c92fc408",
   "metadata": {},
   "outputs": [
    {
     "name": "stdout",
     "output_type": "stream",
     "text": [
      "The job gb221 was saved and received the ID: 10229\n",
      "1152\n"
     ]
    }
   ],
   "source": [
    "gb221 = gb6.copy()\n",
    "gb221 = gb221.repeat([1,1,4])\n",
    "# y\n",
    "\n",
    "job = pr.create.job.Lammps('gb221', delete_existing_job=True)\n",
    "job.structure = gb221\n",
    "job.potential = potential\n",
    "job.calc_minimize(pressure=[None, 0.0, None, None, None, None])\n",
    "job.run(delete_existing_job=True)\n",
    "\n",
    "a,b,c = job.get_structure(-1).get_cell()\n",
    "A = np.linalg.norm(np.cross(a,c))\n",
    "e = job.output.energy_tot[-1]\n",
    "egb = (e-len(gb221)*eFe) / (2*A)\n",
    "print(len(gb221))\n",
    "e_gb = egb / ase.units.J * (ase.units.m)**2\n",
    "E_110.append(e_gb)"
   ]
  },
  {
   "cell_type": "code",
   "execution_count": 66,
   "id": "7de1c78d-b25c-400d-9c79-53cdeb9e6738",
   "metadata": {},
   "outputs": [
    {
     "name": "stdout",
     "output_type": "stream",
     "text": [
      "The job gb552 was saved and received the ID: 10230\n",
      "1728\n"
     ]
    }
   ],
   "source": [
    "gb552 = gb7.copy()\n",
    "gb552 = gb552.repeat([1,1,4])\n",
    "# x\n",
    "\n",
    "job = pr.create.job.Lammps('gb552', delete_existing_job=True)\n",
    "job.structure = gb552\n",
    "job.potential = potential\n",
    "job.calc_minimize(pressure=[0.0, None, None, None, None, None])\n",
    "job.run(delete_existing_job=True)\n",
    "\n",
    "a,b,c = job.get_structure(-1).get_cell()\n",
    "A = np.linalg.norm(np.cross(b,c))\n",
    "e = job.output.energy_tot[-1]\n",
    "egb = (e-len(gb552)*eFe) / (2*A)\n",
    "print(len(gb552))\n",
    "e_gb = egb / ase.units.J * (ase.units.m)**2\n",
    "E_110.append(e_gb)"
   ]
  },
  {
   "cell_type": "code",
   "execution_count": 67,
   "id": "7b6da024-e43d-43f8-8ec5-448dcbf645d7",
   "metadata": {},
   "outputs": [
    {
     "data": {
      "image/png": "[encoded data removed]",
      "text/plain": [
       "<Figure size 640x480 with 1 Axes>"
      ]
     },
     "metadata": {},
     "output_type": "display_data"
    }
   ],
   "source": [
    "x_values = ['1', '2', '3', '4', '5', '6', '7']\n",
    "\n",
    "plt.scatter(x_values, E_110, label='E', marker='o')\n",
    "\n",
    "# plt.plt.ylim(0, 2.1)\n",
    "# plt.plt.xlim(-5, 15)\n",
    "\n",
    "plt.ylabel('Energy')\n",
    "plt.legend()\n",
    "\n",
    "plt.show()"
   ]
  },
  {
   "cell_type": "code",
   "execution_count": 68,
   "id": "93d13af1-b0c2-4354-bfc9-c37d0dd58ffb",
   "metadata": {},
   "outputs": [
    {
     "name": "stderr",
     "output_type": "stream",
     "text": [
      "/home/gu.huang/miniconda3/envs/pyiron/lib/python3.12/site-packages/structuretoolkit/build/aimsgb.py:97: UserWarning: `add_if_dist` is deprecated, please use `gap` instead.\n",
      "  warn(\"`add_if_dist` is deprecated, please use `gap` instead.\")\n"
     ]
    }
   ],
   "source": [
    "# 001 symmetric\n",
    "E_001 = []\n",
    "\n",
    "gb1 = pr.create.structure.aimsgb.build((0,0,1), 13, (5,-1,0), structure,\n",
    "                                      uc_a=3, uc_b=3, add_if_dist=1)\n",
    "\n",
    "gb2 = pr.create.structure.aimsgb.build((0,0,1), 17, (4,1,0), structure,\n",
    "                                      uc_a=4, uc_b=4, add_if_dist=1)\n",
    "\n",
    "gb3 = pr.create.structure.aimsgb.build((0,0,1), 5, (3,-1,0), structure,\n",
    "                                      uc_a=4, uc_b=4, add_if_dist=1)\n",
    "\n",
    "gb4 = pr.create.structure.aimsgb.build((0,0,1), 5, (2,-1,0), structure,\n",
    "                                      uc_a=6, uc_b=6, add_if_dist=1)\n",
    "\n",
    "gb5 = pr.create.structure.aimsgb.build((0,0,1), 17, (5,3,0), structure,\n",
    "                                      uc_a=4, uc_b=4, add_if_dist=1)\n",
    "\n",
    "gb6 = pr.create.structure.aimsgb.build((0,0,1), 13, (3,-2,0), structure,\n",
    "                                      uc_a=6, uc_b=6, add_if_dist=1)"
   ]
  },
  {
   "cell_type": "code",
   "execution_count": 69,
   "id": "84a0399d-7d4c-45a5-ad1e-ca8f5a7f6d88",
   "metadata": {},
   "outputs": [
    {
     "name": "stdout",
     "output_type": "stream",
     "text": [
      "The job gb510 was saved and received the ID: 10231\n",
      "1248\n"
     ]
    }
   ],
   "source": [
    "gb510 = gb1.copy()\n",
    "gb510 = gb510.repeat([1,1,4])\n",
    "# x\n",
    "\n",
    "job = pr.create.job.Lammps('gb510', delete_existing_job=True)\n",
    "job.structure = gb510\n",
    "job.potential = potential\n",
    "job.calc_minimize(pressure=[0.0, None, None, None, None, None])\n",
    "job.run(delete_existing_job=True)\n",
    "\n",
    "a,b,c = job.get_structure(-1).get_cell()\n",
    "A = np.linalg.norm(np.cross(b,c))\n",
    "e = job.output.energy_tot[-1]\n",
    "egb = (e-len(gb510)*eFe) / (2*A)\n",
    "print(len(gb510))\n",
    "e_gb = egb / ase.units.J * (ase.units.m)**2\n",
    "E_001.append(e_gb)"
   ]
  },
  {
   "cell_type": "code",
   "execution_count": 70,
   "id": "0c8c0da0-ee6c-4189-944f-9ad787b2f65a",
   "metadata": {},
   "outputs": [
    {
     "name": "stdout",
     "output_type": "stream",
     "text": [
      "The job gb410 was saved and received the ID: 10232\n",
      "1248\n"
     ]
    }
   ],
   "source": [
    "gb410 = gb1.copy()\n",
    "gb410 = gb410.repeat([1,1,4])\n",
    "# x\n",
    "\n",
    "job = pr.create.job.Lammps('gb410', delete_existing_job=True)\n",
    "job.structure = gb410\n",
    "job.potential = potential\n",
    "job.calc_minimize(pressure=[0.0, None, None, None, None, None])\n",
    "job.run(delete_existing_job=True)\n",
    "\n",
    "a,b,c = job.get_structure(-1).get_cell()\n",
    "A = np.linalg.norm(np.cross(b,c))\n",
    "e = job.output.energy_tot[-1]\n",
    "egb = (e-len(gb410)*eFe) / (2*A)\n",
    "print(len(gb410))\n",
    "e_gb = egb / ase.units.J * (ase.units.m)**2\n",
    "E_001.append(e_gb)"
   ]
  },
  {
   "cell_type": "code",
   "execution_count": 71,
   "id": "bf25dfce-99ad-41ea-b023-71076b5c3da4",
   "metadata": {
    "scrolled": true
   },
   "outputs": [
    {
     "name": "stdout",
     "output_type": "stream",
     "text": [
      "The job gb310 was saved and received the ID: 10233\n",
      "1280\n"
     ]
    }
   ],
   "source": [
    "gb310 = gb3.copy()\n",
    "gb310 = gb310.repeat([1,2,4])\n",
    "# x\n",
    "\n",
    "job = pr.create.job.Lammps('gb310', delete_existing_job=True)\n",
    "job.structure = gb310\n",
    "job.potential = potential\n",
    "job.calc_minimize(pressure=[0.0, None, None, None, None, None])\n",
    "job.run(delete_existing_job=True)\n",
    "\n",
    "a,b,c = job.get_structure(-1).get_cell()\n",
    "A = np.linalg.norm(np.cross(b,c))\n",
    "e = job.output.energy_tot[-1]\n",
    "egb = (e-len(gb310)*eFe) / (2*A)\n",
    "print(len(gb310))\n",
    "e_gb = egb / ase.units.J * (ase.units.m)**2\n",
    "E_001.append(e_gb)"
   ]
  },
  {
   "cell_type": "code",
   "execution_count": 72,
   "id": "b1fbf9e5-abc4-4212-abc1-b977092e16ca",
   "metadata": {},
   "outputs": [
    {
     "name": "stdout",
     "output_type": "stream",
     "text": [
      "The job gb210 was saved and received the ID: 10234\n",
      "1440\n"
     ]
    }
   ],
   "source": [
    "gb210 = gb4.copy()\n",
    "gb210 = gb210.repeat([1,3,4])\n",
    "# x\n",
    "\n",
    "job = pr.create.job.Lammps('gb210', delete_existing_job=True)\n",
    "job.structure = gb210\n",
    "job.potential = potential\n",
    "job.calc_minimize(pressure=[0.0, None, None, None, None, None])\n",
    "job.run(delete_existing_job=True)\n",
    "\n",
    "a,b,c = job.get_structure(-1).get_cell()\n",
    "A = np.linalg.norm(np.cross(b,c))\n",
    "e = job.output.energy_tot[-1]\n",
    "egb = (e-len(gb210)*eFe) / (2*A)\n",
    "print(len(gb210))\n",
    "e_gb = egb / ase.units.J * (ase.units.m)**2\n",
    "E_001.append(e_gb)"
   ]
  },
  {
   "cell_type": "code",
   "execution_count": 73,
   "id": "ce5a3e98-8438-4731-9d06-71d2d3065785",
   "metadata": {},
   "outputs": [
    {
     "name": "stdout",
     "output_type": "stream",
     "text": [
      "The job gb530 was saved and received the ID: 10235\n",
      "2176\n"
     ]
    }
   ],
   "source": [
    "gb530 = gb5.copy()\n",
    "gb530 = gb530.repeat([1,1,4])\n",
    "# x\n",
    "\n",
    "job = pr.create.job.Lammps('gb530', delete_existing_job=True)\n",
    "job.structure = gb530\n",
    "job.potential = potential\n",
    "job.calc_minimize(pressure=[0.0, None, None, None, None, None])\n",
    "job.run(delete_existing_job=True)\n",
    "\n",
    "a,b,c = job.get_structure(-1).get_cell()\n",
    "A = np.linalg.norm(np.cross(b,c))\n",
    "e = job.output.energy_tot[-1]\n",
    "egb = (e-len(gb530)*eFe) / (2*A)\n",
    "print(len(gb530))\n",
    "e_gb = egb / ase.units.J * (ase.units.m)**2\n",
    "E_001.append(e_gb)"
   ]
  },
  {
   "cell_type": "code",
   "execution_count": 74,
   "id": "e23b7163-54f2-4fe4-8ad6-3578f5d4893a",
   "metadata": {},
   "outputs": [
    {
     "name": "stdout",
     "output_type": "stream",
     "text": [
      "The job gb320 was saved and received the ID: 10236\n",
      "2496\n"
     ]
    }
   ],
   "source": [
    "gb320 = gb6.copy()\n",
    "gb320 = gb320.repeat([1,2,4])\n",
    "\n",
    "job = pr.create.job.Lammps('gb320', delete_existing_job=True)\n",
    "job.structure = gb320\n",
    "job.potential = potential\n",
    "job.calc_minimize(pressure=[0.0, None, None, None, None, None])\n",
    "job.run(delete_existing_job=True)\n",
    "\n",
    "a,b,c = job.get_structure(-1).get_cell()\n",
    "A = np.linalg.norm(np.cross(b,c))\n",
    "e = job.output.energy_tot[-1]\n",
    "egb = (e-len(gb320)*eFe) / (2*A)\n",
    "print(len(gb320))\n",
    "e_gb = egb / ase.units.J * (ase.units.m)**2\n",
    "E_001.append(e_gb)"
   ]
  },
  {
   "cell_type": "code",
   "execution_count": 75,
   "id": "9846ef8c-53f0-4bbb-82b5-e265e900c502",
   "metadata": {},
   "outputs": [
    {
     "data": {
      "image/png": "[encoded data removed]",
      "text/plain": [
       "<Figure size 640x480 with 1 Axes>"
      ]
     },
     "metadata": {},
     "output_type": "display_data"
    }
   ],
   "source": [
    "x_values = ['1', '2', '3', '4', '5', '6']\n",
    "\n",
    "plt.scatter(x_values, E_001, label='E', marker='o')\n",
    "\n",
    "# plt.plt.ylim(0, 2.1)\n",
    "# plt.plt.xlim(-5, 15)\n",
    "\n",
    "plt.ylabel('Energy')\n",
    "plt.legend()\n",
    "\n",
    "plt.show()"
   ]
  },
  {
   "cell_type": "code",
   "execution_count": 81,
   "id": "cb0b5946-aa85-431d-a8da-8cb3a4fd786e",
   "metadata": {},
   "outputs": [
    {
     "data": {
      "application/vnd.jupyter.widget-view+json": {
       "model_id": "b5eab98e1ebc4cb88617023bcfcfd998",
       "version_major": 2,
       "version_minor": 0
      },
      "text/plain": [
       "NGLWidget(max_frame=41)"
      ]
     },
     "metadata": {},
     "output_type": "display_data"
    }
   ],
   "source": [
    "job = pr.load('gb530')\n",
    "job.animate_structures()"
   ]
  },
  {
   "cell_type": "code",
   "execution_count": 86,
   "id": "05675762-0d26-4a45-b228-06e7b737d18b",
   "metadata": {},
   "outputs": [],
   "source": [
    "job_md = pr.create.job.Lammps('md', delete_existing_job=True)"
   ]
  },
  {
   "cell_type": "code",
   "execution_count": 87,
   "id": "8a054e45-8988-45e3-b36a-6cd2b5964f0a",
   "metadata": {},
   "outputs": [],
   "source": [
    "job_md.structure = gb510\n",
    "job_md.potential = job_md.list_potentials()[0]"
   ]
  },
  {
   "cell_type": "code",
   "execution_count": 88,
   "id": "df7602f8-9a68-4235-afaa-1cf47470fd22",
   "metadata": {},
   "outputs": [
    {
     "name": "stdout",
     "output_type": "stream",
     "text": [
      "The job md was saved and received the ID: 10237\n"
     ]
    },
    {
     "name": "stderr",
     "output_type": "stream",
     "text": [
      "/home/gu.huang/miniconda3/envs/pyiron/lib/python3.12/site-packages/pyiron_atomistics/lammps/interactive.py:435: SyntaxWarning: invalid escape sequence '\\A'\n",
      "  \"\"\"\n",
      "/home/gu.huang/miniconda3/envs/pyiron/lib/python3.12/site-packages/pyiron_atomistics/lammps/base.py:119: SyntaxWarning: invalid escape sequence '\\A'\n",
      "  \"\"\"\n",
      "/home/gu.huang/miniconda3/envs/pyiron/lib/python3.12/site-packages/pyiron_atomistics/lammps/output.py:178: SyntaxWarning: invalid escape sequence '\\s'\n",
      "  sep=\"\\s+\",\n",
      "/home/gu.huang/miniconda3/envs/pyiron/lib/python3.12/site-packages/pyiron_atomistics/lammps/output.py:330: SyntaxWarning: invalid escape sequence '\\s'\n",
      "  df = pd.read_csv(StringIO(thermo_lines), sep=\"\\s+\", engine=\"c\")\n"
     ]
    },
    {
     "ename": "ValueError",
     "evalue": "could not convert string to float: '###'",
     "output_type": "error",
     "traceback": [
      "\u001b[0;31m---------------------------------------------------------------------------\u001b[0m",
      "\u001b[0;31mValueError\u001b[0m                                Traceback (most recent call last)",
      "Cell \u001b[0;32mIn[88], line 2\u001b[0m\n\u001b[1;32m      1\u001b[0m job_md\u001b[38;5;241m.\u001b[39mcalc_md(initial_temperature\u001b[38;5;241m=\u001b[39m\u001b[38;5;241m450\u001b[39m, temperature\u001b[38;5;241m=\u001b[39m\u001b[38;5;241m300\u001b[39m, pressure\u001b[38;5;241m=\u001b[39m[\u001b[38;5;241m0.0\u001b[39m, \u001b[38;5;28;01mNone\u001b[39;00m, \u001b[38;5;28;01mNone\u001b[39;00m, \u001b[38;5;28;01mNone\u001b[39;00m, \u001b[38;5;28;01mNone\u001b[39;00m, \u001b[38;5;28;01mNone\u001b[39;00m])\n\u001b[0;32m----> 2\u001b[0m \u001b[43mjob_md\u001b[49m\u001b[38;5;241;43m.\u001b[39;49m\u001b[43mrun\u001b[49m\u001b[43m(\u001b[49m\u001b[43mdelete_existing_job\u001b[49m\u001b[38;5;241;43m=\u001b[39;49m\u001b[38;5;28;43;01mTrue\u001b[39;49;00m\u001b[43m)\u001b[49m\n",
      "File \u001b[0;32m~/miniconda3/envs/pyiron/lib/python3.12/site-packages/pyiron_base/utils/deprecate.py:171\u001b[0m, in \u001b[0;36mDeprecator.__deprecate_argument.<locals>.decorated\u001b[0;34m(*args, **kwargs)\u001b[0m\n\u001b[1;32m    161\u001b[0m     \u001b[38;5;28;01mif\u001b[39;00m kw \u001b[38;5;129;01min\u001b[39;00m \u001b[38;5;28mself\u001b[39m\u001b[38;5;241m.\u001b[39marguments:\n\u001b[1;32m    162\u001b[0m         warnings\u001b[38;5;241m.\u001b[39mwarn(\n\u001b[1;32m    163\u001b[0m             message_format\u001b[38;5;241m.\u001b[39mformat(\n\u001b[1;32m    164\u001b[0m                 \u001b[38;5;124m\"\u001b[39m\u001b[38;5;132;01m{}\u001b[39;00m\u001b[38;5;124m.\u001b[39m\u001b[38;5;132;01m{}\u001b[39;00m\u001b[38;5;124m(\u001b[39m\u001b[38;5;132;01m{}\u001b[39;00m\u001b[38;5;124m=\u001b[39m\u001b[38;5;132;01m{}\u001b[39;00m\u001b[38;5;124m)\u001b[39m\u001b[38;5;124m\"\u001b[39m\u001b[38;5;241m.\u001b[39mformat(\n\u001b[0;32m   (...)\u001b[0m\n\u001b[1;32m    169\u001b[0m             stacklevel\u001b[38;5;241m=\u001b[39m\u001b[38;5;241m2\u001b[39m,\n\u001b[1;32m    170\u001b[0m         )\n\u001b[0;32m--> 171\u001b[0m \u001b[38;5;28;01mreturn\u001b[39;00m \u001b[43mfunction\u001b[49m\u001b[43m(\u001b[49m\u001b[38;5;241;43m*\u001b[39;49m\u001b[43margs\u001b[49m\u001b[43m,\u001b[49m\u001b[43m \u001b[49m\u001b[38;5;241;43m*\u001b[39;49m\u001b[38;5;241;43m*\u001b[39;49m\u001b[43mkwargs\u001b[49m\u001b[43m)\u001b[49m\n",
      "File \u001b[0;32m~/miniconda3/envs/pyiron/lib/python3.12/site-packages/pyiron_base/jobs/job/generic.py:777\u001b[0m, in \u001b[0;36mGenericJob.run\u001b[0;34m(self, delete_existing_job, repair, debug, run_mode, run_again)\u001b[0m\n\u001b[1;32m    775\u001b[0m     \u001b[38;5;28mself\u001b[39m\u001b[38;5;241m.\u001b[39m_run_if_repair()\n\u001b[1;32m    776\u001b[0m \u001b[38;5;28;01melif\u001b[39;00m status \u001b[38;5;241m==\u001b[39m \u001b[38;5;124m\"\u001b[39m\u001b[38;5;124minitialized\u001b[39m\u001b[38;5;124m\"\u001b[39m:\n\u001b[0;32m--> 777\u001b[0m     \u001b[38;5;28;43mself\u001b[39;49m\u001b[38;5;241;43m.\u001b[39;49m\u001b[43m_run_if_new\u001b[49m\u001b[43m(\u001b[49m\u001b[43mdebug\u001b[49m\u001b[38;5;241;43m=\u001b[39;49m\u001b[43mdebug\u001b[49m\u001b[43m)\u001b[49m\n\u001b[1;32m    778\u001b[0m \u001b[38;5;28;01melif\u001b[39;00m status \u001b[38;5;241m==\u001b[39m \u001b[38;5;124m\"\u001b[39m\u001b[38;5;124mcreated\u001b[39m\u001b[38;5;124m\"\u001b[39m:\n\u001b[1;32m    779\u001b[0m     \u001b[38;5;28mself\u001b[39m\u001b[38;5;241m.\u001b[39m_run_if_created()\n",
      "File \u001b[0;32m~/miniconda3/envs/pyiron/lib/python3.12/site-packages/pyiron_base/jobs/job/generic.py:1294\u001b[0m, in \u001b[0;36mGenericJob._run_if_new\u001b[0;34m(self, debug)\u001b[0m\n\u001b[1;32m   1286\u001b[0m \u001b[38;5;28;01mdef\u001b[39;00m \u001b[38;5;21m_run_if_new\u001b[39m(\u001b[38;5;28mself\u001b[39m, debug\u001b[38;5;241m=\u001b[39m\u001b[38;5;28;01mFalse\u001b[39;00m):\n\u001b[1;32m   1287\u001b[0m \u001b[38;5;250m    \u001b[39m\u001b[38;5;124;03m\"\"\"\u001b[39;00m\n\u001b[1;32m   1288\u001b[0m \u001b[38;5;124;03m    Internal helper function the run if new function is called when the job status is 'initialized'. It prepares\u001b[39;00m\n\u001b[1;32m   1289\u001b[0m \u001b[38;5;124;03m    the hdf5 file and the corresponding directory structure.\u001b[39;00m\n\u001b[0;32m   (...)\u001b[0m\n\u001b[1;32m   1292\u001b[0m \u001b[38;5;124;03m        debug (bool): Debug Mode\u001b[39;00m\n\u001b[1;32m   1293\u001b[0m \u001b[38;5;124;03m    \"\"\"\u001b[39;00m\n\u001b[0;32m-> 1294\u001b[0m     \u001b[43mrun_job_with_status_initialized\u001b[49m\u001b[43m(\u001b[49m\u001b[43mjob\u001b[49m\u001b[38;5;241;43m=\u001b[39;49m\u001b[38;5;28;43mself\u001b[39;49m\u001b[43m,\u001b[49m\u001b[43m \u001b[49m\u001b[43mdebug\u001b[49m\u001b[38;5;241;43m=\u001b[39;49m\u001b[43mdebug\u001b[49m\u001b[43m)\u001b[49m\n",
      "File \u001b[0;32m~/miniconda3/envs/pyiron/lib/python3.12/site-packages/pyiron_base/jobs/job/runfunction.py:92\u001b[0m, in \u001b[0;36mrun_job_with_status_initialized\u001b[0;34m(job, debug)\u001b[0m\n\u001b[1;32m     90\u001b[0m \u001b[38;5;28;01melse\u001b[39;00m:\n\u001b[1;32m     91\u001b[0m     job\u001b[38;5;241m.\u001b[39msave()\n\u001b[0;32m---> 92\u001b[0m     \u001b[43mjob\u001b[49m\u001b[38;5;241;43m.\u001b[39;49m\u001b[43mrun\u001b[49m\u001b[43m(\u001b[49m\u001b[43m)\u001b[49m\n",
      "File \u001b[0;32m~/miniconda3/envs/pyiron/lib/python3.12/site-packages/pyiron_base/utils/deprecate.py:171\u001b[0m, in \u001b[0;36mDeprecator.__deprecate_argument.<locals>.decorated\u001b[0;34m(*args, **kwargs)\u001b[0m\n\u001b[1;32m    161\u001b[0m     \u001b[38;5;28;01mif\u001b[39;00m kw \u001b[38;5;129;01min\u001b[39;00m \u001b[38;5;28mself\u001b[39m\u001b[38;5;241m.\u001b[39marguments:\n\u001b[1;32m    162\u001b[0m         warnings\u001b[38;5;241m.\u001b[39mwarn(\n\u001b[1;32m    163\u001b[0m             message_format\u001b[38;5;241m.\u001b[39mformat(\n\u001b[1;32m    164\u001b[0m                 \u001b[38;5;124m\"\u001b[39m\u001b[38;5;132;01m{}\u001b[39;00m\u001b[38;5;124m.\u001b[39m\u001b[38;5;132;01m{}\u001b[39;00m\u001b[38;5;124m(\u001b[39m\u001b[38;5;132;01m{}\u001b[39;00m\u001b[38;5;124m=\u001b[39m\u001b[38;5;132;01m{}\u001b[39;00m\u001b[38;5;124m)\u001b[39m\u001b[38;5;124m\"\u001b[39m\u001b[38;5;241m.\u001b[39mformat(\n\u001b[0;32m   (...)\u001b[0m\n\u001b[1;32m    169\u001b[0m             stacklevel\u001b[38;5;241m=\u001b[39m\u001b[38;5;241m2\u001b[39m,\n\u001b[1;32m    170\u001b[0m         )\n\u001b[0;32m--> 171\u001b[0m \u001b[38;5;28;01mreturn\u001b[39;00m \u001b[43mfunction\u001b[49m\u001b[43m(\u001b[49m\u001b[38;5;241;43m*\u001b[39;49m\u001b[43margs\u001b[49m\u001b[43m,\u001b[49m\u001b[43m \u001b[49m\u001b[38;5;241;43m*\u001b[39;49m\u001b[38;5;241;43m*\u001b[39;49m\u001b[43mkwargs\u001b[49m\u001b[43m)\u001b[49m\n",
      "File \u001b[0;32m~/miniconda3/envs/pyiron/lib/python3.12/site-packages/pyiron_base/jobs/job/generic.py:779\u001b[0m, in \u001b[0;36mGenericJob.run\u001b[0;34m(self, delete_existing_job, repair, debug, run_mode, run_again)\u001b[0m\n\u001b[1;32m    777\u001b[0m     \u001b[38;5;28mself\u001b[39m\u001b[38;5;241m.\u001b[39m_run_if_new(debug\u001b[38;5;241m=\u001b[39mdebug)\n\u001b[1;32m    778\u001b[0m \u001b[38;5;28;01melif\u001b[39;00m status \u001b[38;5;241m==\u001b[39m \u001b[38;5;124m\"\u001b[39m\u001b[38;5;124mcreated\u001b[39m\u001b[38;5;124m\"\u001b[39m:\n\u001b[0;32m--> 779\u001b[0m     \u001b[38;5;28;43mself\u001b[39;49m\u001b[38;5;241;43m.\u001b[39;49m\u001b[43m_run_if_created\u001b[49m\u001b[43m(\u001b[49m\u001b[43m)\u001b[49m\n\u001b[1;32m    780\u001b[0m \u001b[38;5;28;01melif\u001b[39;00m status \u001b[38;5;241m==\u001b[39m \u001b[38;5;124m\"\u001b[39m\u001b[38;5;124msubmitted\u001b[39m\u001b[38;5;124m\"\u001b[39m:\n\u001b[1;32m    781\u001b[0m     run_job_with_status_submitted(job\u001b[38;5;241m=\u001b[39m\u001b[38;5;28mself\u001b[39m)\n",
      "File \u001b[0;32m~/miniconda3/envs/pyiron/lib/python3.12/site-packages/pyiron_base/jobs/job/generic.py:1305\u001b[0m, in \u001b[0;36mGenericJob._run_if_created\u001b[0;34m(self)\u001b[0m\n\u001b[1;32m   1296\u001b[0m \u001b[38;5;28;01mdef\u001b[39;00m \u001b[38;5;21m_run_if_created\u001b[39m(\u001b[38;5;28mself\u001b[39m):\n\u001b[1;32m   1297\u001b[0m \u001b[38;5;250m    \u001b[39m\u001b[38;5;124;03m\"\"\"\u001b[39;00m\n\u001b[1;32m   1298\u001b[0m \u001b[38;5;124;03m    Internal helper function the run if created function is called when the job status is 'created'. It executes\u001b[39;00m\n\u001b[1;32m   1299\u001b[0m \u001b[38;5;124;03m    the simulation, either in modal mode, meaning waiting for the simulation to finish, manually, or submits the\u001b[39;00m\n\u001b[0;32m   (...)\u001b[0m\n\u001b[1;32m   1303\u001b[0m \u001b[38;5;124;03m        int: Queue ID - if the job was send to the queue\u001b[39;00m\n\u001b[1;32m   1304\u001b[0m \u001b[38;5;124;03m    \"\"\"\u001b[39;00m\n\u001b[0;32m-> 1305\u001b[0m     \u001b[38;5;28;01mreturn\u001b[39;00m \u001b[43mrun_job_with_status_created\u001b[49m\u001b[43m(\u001b[49m\u001b[43mjob\u001b[49m\u001b[38;5;241;43m=\u001b[39;49m\u001b[38;5;28;43mself\u001b[39;49m\u001b[43m)\u001b[49m\n",
      "File \u001b[0;32m~/miniconda3/envs/pyiron/lib/python3.12/site-packages/pyiron_base/jobs/job/runfunction.py:115\u001b[0m, in \u001b[0;36mrun_job_with_status_created\u001b[0;34m(job)\u001b[0m\n\u001b[1;32m    113\u001b[0m     run_job_with_runmode_manually(job\u001b[38;5;241m=\u001b[39mjob, _manually_print\u001b[38;5;241m=\u001b[39m\u001b[38;5;28;01mTrue\u001b[39;00m)\n\u001b[1;32m    114\u001b[0m \u001b[38;5;28;01melif\u001b[39;00m job\u001b[38;5;241m.\u001b[39mserver\u001b[38;5;241m.\u001b[39mrun_mode\u001b[38;5;241m.\u001b[39mmodal:\n\u001b[0;32m--> 115\u001b[0m     \u001b[43mjob\u001b[49m\u001b[38;5;241;43m.\u001b[39;49m\u001b[43mrun_static\u001b[49m\u001b[43m(\u001b[49m\u001b[43m)\u001b[49m\n\u001b[1;32m    116\u001b[0m \u001b[38;5;28;01melif\u001b[39;00m job\u001b[38;5;241m.\u001b[39mserver\u001b[38;5;241m.\u001b[39mrun_mode\u001b[38;5;241m.\u001b[39msrun:\n\u001b[1;32m    117\u001b[0m     run_job_with_runmode_srun(job\u001b[38;5;241m=\u001b[39mjob)\n",
      "File \u001b[0;32m~/miniconda3/envs/pyiron/lib/python3.12/site-packages/pyiron_base/jobs/job/generic.py:813\u001b[0m, in \u001b[0;36mGenericJob.run_static\u001b[0;34m(self)\u001b[0m\n\u001b[1;32m    809\u001b[0m \u001b[38;5;28;01mdef\u001b[39;00m \u001b[38;5;21mrun_static\u001b[39m(\u001b[38;5;28mself\u001b[39m):\n\u001b[1;32m    810\u001b[0m \u001b[38;5;250m    \u001b[39m\u001b[38;5;124;03m\"\"\"\u001b[39;00m\n\u001b[1;32m    811\u001b[0m \u001b[38;5;124;03m    The run static function is called by run to execute the simulation.\u001b[39;00m\n\u001b[1;32m    812\u001b[0m \u001b[38;5;124;03m    \"\"\"\u001b[39;00m\n\u001b[0;32m--> 813\u001b[0m     \u001b[38;5;28;01mreturn\u001b[39;00m \u001b[43mexecute_job_with_external_executable\u001b[49m\u001b[43m(\u001b[49m\u001b[43mjob\u001b[49m\u001b[38;5;241;43m=\u001b[39;49m\u001b[38;5;28;43mself\u001b[39;49m\u001b[43m)\u001b[49m\n",
      "File \u001b[0;32m~/miniconda3/envs/pyiron/lib/python3.12/site-packages/pyiron_base/jobs/job/runfunction.py:610\u001b[0m, in \u001b[0;36mrun_time_decorator.<locals>.wrapper\u001b[0;34m(job)\u001b[0m\n\u001b[1;32m    608\u001b[0m \u001b[38;5;28;01mif\u001b[39;00m \u001b[38;5;129;01mnot\u001b[39;00m state\u001b[38;5;241m.\u001b[39mdatabase\u001b[38;5;241m.\u001b[39mdatabase_is_disabled \u001b[38;5;129;01mand\u001b[39;00m job\u001b[38;5;241m.\u001b[39mjob_id \u001b[38;5;129;01mis\u001b[39;00m \u001b[38;5;129;01mnot\u001b[39;00m \u001b[38;5;28;01mNone\u001b[39;00m:\n\u001b[1;32m    609\u001b[0m     job\u001b[38;5;241m.\u001b[39mproject\u001b[38;5;241m.\u001b[39mdb\u001b[38;5;241m.\u001b[39mitem_update({\u001b[38;5;124m\"\u001b[39m\u001b[38;5;124mtimestart\u001b[39m\u001b[38;5;124m\"\u001b[39m: datetime\u001b[38;5;241m.\u001b[39mnow()}, job\u001b[38;5;241m.\u001b[39mjob_id)\n\u001b[0;32m--> 610\u001b[0m     output \u001b[38;5;241m=\u001b[39m \u001b[43mfunc\u001b[49m\u001b[43m(\u001b[49m\u001b[43mjob\u001b[49m\u001b[43m)\u001b[49m\n\u001b[1;32m    611\u001b[0m     job\u001b[38;5;241m.\u001b[39mproject\u001b[38;5;241m.\u001b[39mdb\u001b[38;5;241m.\u001b[39mitem_update(job\u001b[38;5;241m.\u001b[39m_runtime(), job\u001b[38;5;241m.\u001b[39mjob_id)\n\u001b[1;32m    612\u001b[0m \u001b[38;5;28;01melse\u001b[39;00m:\n",
      "File \u001b[0;32m~/miniconda3/envs/pyiron/lib/python3.12/site-packages/pyiron_base/jobs/job/runfunction.py:686\u001b[0m, in \u001b[0;36mexecute_job_with_external_executable\u001b[0;34m(job)\u001b[0m\n\u001b[1;32m    682\u001b[0m \u001b[38;5;28;01mwith\u001b[39;00m \u001b[38;5;28mopen\u001b[39m(\n\u001b[1;32m    683\u001b[0m     posixpath\u001b[38;5;241m.\u001b[39mjoin(job\u001b[38;5;241m.\u001b[39mproject_hdf5\u001b[38;5;241m.\u001b[39mworking_directory, \u001b[38;5;124m\"\u001b[39m\u001b[38;5;124merror.out\u001b[39m\u001b[38;5;124m\"\u001b[39m), mode\u001b[38;5;241m=\u001b[39m\u001b[38;5;124m\"\u001b[39m\u001b[38;5;124mw\u001b[39m\u001b[38;5;124m\"\u001b[39m\n\u001b[1;32m    684\u001b[0m ) \u001b[38;5;28;01mas\u001b[39;00m f_err:\n\u001b[1;32m    685\u001b[0m     f_err\u001b[38;5;241m.\u001b[39mwrite(out)\n\u001b[0;32m--> 686\u001b[0m \u001b[43mhandle_finished_job\u001b[49m\u001b[43m(\u001b[49m\u001b[43mjob\u001b[49m\u001b[38;5;241;43m=\u001b[39;49m\u001b[43mjob\u001b[49m\u001b[43m,\u001b[49m\u001b[43m \u001b[49m\u001b[43mjob_crashed\u001b[49m\u001b[38;5;241;43m=\u001b[39;49m\u001b[43mjob_crashed\u001b[49m\u001b[43m,\u001b[49m\u001b[43m \u001b[49m\u001b[43mcollect_output\u001b[49m\u001b[38;5;241;43m=\u001b[39;49m\u001b[38;5;28;43;01mTrue\u001b[39;49;00m\u001b[43m)\u001b[49m\n\u001b[1;32m    687\u001b[0m \u001b[38;5;28;01mreturn\u001b[39;00m out\n",
      "File \u001b[0;32m~/miniconda3/envs/pyiron/lib/python3.12/site-packages/pyiron_base/jobs/job/runfunction.py:702\u001b[0m, in \u001b[0;36mhandle_finished_job\u001b[0;34m(job, job_crashed, collect_output)\u001b[0m\n\u001b[1;32m    700\u001b[0m \u001b[38;5;28;01mif\u001b[39;00m collect_output:\n\u001b[1;32m    701\u001b[0m     job\u001b[38;5;241m.\u001b[39mstatus\u001b[38;5;241m.\u001b[39mcollect \u001b[38;5;241m=\u001b[39m \u001b[38;5;28;01mTrue\u001b[39;00m\n\u001b[0;32m--> 702\u001b[0m     \u001b[43mjob\u001b[49m\u001b[38;5;241;43m.\u001b[39;49m\u001b[43mrun\u001b[49m\u001b[43m(\u001b[49m\u001b[43m)\u001b[49m\n\u001b[1;32m    703\u001b[0m \u001b[38;5;28;01mif\u001b[39;00m job_crashed:\n\u001b[1;32m    704\u001b[0m     job\u001b[38;5;241m.\u001b[39mstatus\u001b[38;5;241m.\u001b[39maborted \u001b[38;5;241m=\u001b[39m \u001b[38;5;28;01mTrue\u001b[39;00m\n",
      "File \u001b[0;32m~/miniconda3/envs/pyiron/lib/python3.12/site-packages/pyiron_base/utils/deprecate.py:171\u001b[0m, in \u001b[0;36mDeprecator.__deprecate_argument.<locals>.decorated\u001b[0;34m(*args, **kwargs)\u001b[0m\n\u001b[1;32m    161\u001b[0m     \u001b[38;5;28;01mif\u001b[39;00m kw \u001b[38;5;129;01min\u001b[39;00m \u001b[38;5;28mself\u001b[39m\u001b[38;5;241m.\u001b[39marguments:\n\u001b[1;32m    162\u001b[0m         warnings\u001b[38;5;241m.\u001b[39mwarn(\n\u001b[1;32m    163\u001b[0m             message_format\u001b[38;5;241m.\u001b[39mformat(\n\u001b[1;32m    164\u001b[0m                 \u001b[38;5;124m\"\u001b[39m\u001b[38;5;132;01m{}\u001b[39;00m\u001b[38;5;124m.\u001b[39m\u001b[38;5;132;01m{}\u001b[39;00m\u001b[38;5;124m(\u001b[39m\u001b[38;5;132;01m{}\u001b[39;00m\u001b[38;5;124m=\u001b[39m\u001b[38;5;132;01m{}\u001b[39;00m\u001b[38;5;124m)\u001b[39m\u001b[38;5;124m\"\u001b[39m\u001b[38;5;241m.\u001b[39mformat(\n\u001b[0;32m   (...)\u001b[0m\n\u001b[1;32m    169\u001b[0m             stacklevel\u001b[38;5;241m=\u001b[39m\u001b[38;5;241m2\u001b[39m,\n\u001b[1;32m    170\u001b[0m         )\n\u001b[0;32m--> 171\u001b[0m \u001b[38;5;28;01mreturn\u001b[39;00m \u001b[43mfunction\u001b[49m\u001b[43m(\u001b[49m\u001b[38;5;241;43m*\u001b[39;49m\u001b[43margs\u001b[49m\u001b[43m,\u001b[49m\u001b[43m \u001b[49m\u001b[38;5;241;43m*\u001b[39;49m\u001b[38;5;241;43m*\u001b[39;49m\u001b[43mkwargs\u001b[49m\u001b[43m)\u001b[49m\n",
      "File \u001b[0;32m~/miniconda3/envs/pyiron/lib/python3.12/site-packages/pyiron_base/jobs/job/generic.py:785\u001b[0m, in \u001b[0;36mGenericJob.run\u001b[0;34m(self, delete_existing_job, repair, debug, run_mode, run_again)\u001b[0m\n\u001b[1;32m    783\u001b[0m     \u001b[38;5;28mself\u001b[39m\u001b[38;5;241m.\u001b[39m_run_if_running()\n\u001b[1;32m    784\u001b[0m \u001b[38;5;28;01melif\u001b[39;00m status \u001b[38;5;241m==\u001b[39m \u001b[38;5;124m\"\u001b[39m\u001b[38;5;124mcollect\u001b[39m\u001b[38;5;124m\"\u001b[39m:\n\u001b[0;32m--> 785\u001b[0m     \u001b[38;5;28;43mself\u001b[39;49m\u001b[38;5;241;43m.\u001b[39;49m\u001b[43m_run_if_collect\u001b[49m\u001b[43m(\u001b[49m\u001b[43m)\u001b[49m\n\u001b[1;32m    786\u001b[0m \u001b[38;5;28;01melif\u001b[39;00m status \u001b[38;5;241m==\u001b[39m \u001b[38;5;124m\"\u001b[39m\u001b[38;5;124msuspend\u001b[39m\u001b[38;5;124m\"\u001b[39m:\n\u001b[1;32m    787\u001b[0m     \u001b[38;5;28mself\u001b[39m\u001b[38;5;241m.\u001b[39m_run_if_suspended()\n",
      "File \u001b[0;32m~/miniconda3/envs/pyiron/lib/python3.12/site-packages/pyiron_base/jobs/job/generic.py:1347\u001b[0m, in \u001b[0;36mGenericJob._run_if_collect\u001b[0;34m(self)\u001b[0m\n\u001b[1;32m   1341\u001b[0m \u001b[38;5;28;01mdef\u001b[39;00m \u001b[38;5;21m_run_if_collect\u001b[39m(\u001b[38;5;28mself\u001b[39m):\n\u001b[1;32m   1342\u001b[0m \u001b[38;5;250m    \u001b[39m\u001b[38;5;124;03m\"\"\"\u001b[39;00m\n\u001b[1;32m   1343\u001b[0m \u001b[38;5;124;03m    Internal helper function the run if collect function is called when the job status is 'collect'. It collects\u001b[39;00m\n\u001b[1;32m   1344\u001b[0m \u001b[38;5;124;03m    the simulation output using the standardized functions collect_output() and collect_logfiles(). Afterwards the\u001b[39;00m\n\u001b[1;32m   1345\u001b[0m \u001b[38;5;124;03m    status is set to 'finished'\u001b[39;00m\n\u001b[1;32m   1346\u001b[0m \u001b[38;5;124;03m    \"\"\"\u001b[39;00m\n\u001b[0;32m-> 1347\u001b[0m     \u001b[43mrun_job_with_status_collect\u001b[49m\u001b[43m(\u001b[49m\u001b[43mjob\u001b[49m\u001b[38;5;241;43m=\u001b[39;49m\u001b[38;5;28;43mself\u001b[39;49m\u001b[43m)\u001b[49m\n",
      "File \u001b[0;32m~/miniconda3/envs/pyiron/lib/python3.12/site-packages/pyiron_base/jobs/job/runfunction.py:223\u001b[0m, in \u001b[0;36mrun_job_with_status_collect\u001b[0;34m(job)\u001b[0m\n\u001b[1;32m    214\u001b[0m \u001b[38;5;28;01mdef\u001b[39;00m \u001b[38;5;21mrun_job_with_status_collect\u001b[39m(job):\n\u001b[1;32m    215\u001b[0m \u001b[38;5;250m    \u001b[39m\u001b[38;5;124;03m\"\"\"\u001b[39;00m\n\u001b[1;32m    216\u001b[0m \u001b[38;5;124;03m    Internal helper function the run if collect function is called when the job status is 'collect'. It collects\u001b[39;00m\n\u001b[1;32m    217\u001b[0m \u001b[38;5;124;03m    the simulation output using the standardized functions collect_output() and collect_logfiles(). Afterwards the\u001b[39;00m\n\u001b[0;32m   (...)\u001b[0m\n\u001b[1;32m    221\u001b[0m \u001b[38;5;124;03m        job (GenericJob): pyiron job object\u001b[39;00m\n\u001b[1;32m    222\u001b[0m \u001b[38;5;124;03m    \"\"\"\u001b[39;00m\n\u001b[0;32m--> 223\u001b[0m     \u001b[43mjob\u001b[49m\u001b[38;5;241;43m.\u001b[39;49m\u001b[43mcollect_output\u001b[49m\u001b[43m(\u001b[49m\u001b[43m)\u001b[49m\n\u001b[1;32m    224\u001b[0m     job\u001b[38;5;241m.\u001b[39mcollect_logfiles()\n\u001b[1;32m    225\u001b[0m     job\u001b[38;5;241m.\u001b[39mrun_time_to_db()\n",
      "File \u001b[0;32m~/miniconda3/envs/pyiron/lib/python3.12/site-packages/pyiron_atomistics/lammps/interactive.py:509\u001b[0m, in \u001b[0;36mLammpsInteractive.collect_output\u001b[0;34m(self)\u001b[0m\n\u001b[1;32m    507\u001b[0m     \u001b[38;5;28;01mpass\u001b[39;00m\n\u001b[1;32m    508\u001b[0m \u001b[38;5;28;01melse\u001b[39;00m:\n\u001b[0;32m--> 509\u001b[0m     \u001b[38;5;28;43msuper\u001b[39;49m\u001b[43m(\u001b[49m\u001b[43mLammpsInteractive\u001b[49m\u001b[43m,\u001b[49m\u001b[43m \u001b[49m\u001b[38;5;28;43mself\u001b[39;49m\u001b[43m)\u001b[49m\u001b[38;5;241;43m.\u001b[39;49m\u001b[43mcollect_output\u001b[49m\u001b[43m(\u001b[49m\u001b[43m)\u001b[49m\n",
      "File \u001b[0;32m~/miniconda3/envs/pyiron/lib/python3.12/site-packages/pyiron_atomistics/lammps/base.py:454\u001b[0m, in \u001b[0;36mLammpsBase.collect_output\u001b[0;34m(self)\u001b[0m\n\u001b[1;32m    447\u001b[0m \u001b[38;5;250m\u001b[39m\u001b[38;5;124;03m\"\"\"\u001b[39;00m\n\u001b[1;32m    448\u001b[0m \n\u001b[1;32m    449\u001b[0m \u001b[38;5;124;03mReturns:\u001b[39;00m\n\u001b[1;32m    450\u001b[0m \n\u001b[1;32m    451\u001b[0m \u001b[38;5;124;03m\"\"\"\u001b[39;00m\n\u001b[1;32m    452\u001b[0m \u001b[38;5;28mself\u001b[39m\u001b[38;5;241m.\u001b[39minput\u001b[38;5;241m.\u001b[39mfrom_hdf(\u001b[38;5;28mself\u001b[39m\u001b[38;5;241m.\u001b[39m_hdf5)\n\u001b[1;32m    453\u001b[0m hdf_dict \u001b[38;5;241m=\u001b[39m resolve_hierachical_dict(\n\u001b[0;32m--> 454\u001b[0m     data_dict\u001b[38;5;241m=\u001b[39m\u001b[38;5;28;43mself\u001b[39;49m\u001b[38;5;241;43m.\u001b[39;49m\u001b[43mcollect_output_parser\u001b[49m\u001b[43m(\u001b[49m\n\u001b[1;32m    455\u001b[0m \u001b[43m        \u001b[49m\u001b[43mcwd\u001b[49m\u001b[38;5;241;43m=\u001b[39;49m\u001b[38;5;28;43mself\u001b[39;49m\u001b[38;5;241;43m.\u001b[39;49m\u001b[43mworking_directory\u001b[49m\u001b[43m,\u001b[49m\n\u001b[1;32m    456\u001b[0m \u001b[43m        \u001b[49m\u001b[43mdump_h5_file_name\u001b[49m\u001b[38;5;241;43m=\u001b[39;49m\u001b[38;5;124;43m\"\u001b[39;49m\u001b[38;5;124;43mdump.h5\u001b[39;49m\u001b[38;5;124;43m\"\u001b[39;49m\u001b[43m,\u001b[49m\n\u001b[1;32m    457\u001b[0m \u001b[43m        \u001b[49m\u001b[43mdump_out_file_name\u001b[49m\u001b[38;5;241;43m=\u001b[39;49m\u001b[38;5;124;43m\"\u001b[39;49m\u001b[38;5;124;43mdump.out\u001b[39;49m\u001b[38;5;124;43m\"\u001b[39;49m\u001b[43m,\u001b[49m\n\u001b[1;32m    458\u001b[0m \u001b[43m        \u001b[49m\u001b[43mlog_lammps_file_name\u001b[49m\u001b[38;5;241;43m=\u001b[39;49m\u001b[38;5;124;43m\"\u001b[39;49m\u001b[38;5;124;43mlog.lammps\u001b[39;49m\u001b[38;5;124;43m\"\u001b[39;49m\u001b[43m,\u001b[49m\n\u001b[1;32m    459\u001b[0m \u001b[43m    \u001b[49m\u001b[43m)\u001b[49m,\n\u001b[1;32m    460\u001b[0m     group_name\u001b[38;5;241m=\u001b[39m\u001b[38;5;124m\"\u001b[39m\u001b[38;5;124moutput\u001b[39m\u001b[38;5;124m\"\u001b[39m,\n\u001b[1;32m    461\u001b[0m )\n\u001b[1;32m    462\u001b[0m final_structure \u001b[38;5;241m=\u001b[39m \u001b[38;5;28mself\u001b[39m\u001b[38;5;241m.\u001b[39mstructure\u001b[38;5;241m.\u001b[39mcopy()\n\u001b[1;32m    463\u001b[0m final_structure\u001b[38;5;241m.\u001b[39mindices \u001b[38;5;241m=\u001b[39m hdf_dict[\u001b[38;5;124m\"\u001b[39m\u001b[38;5;124moutput/generic/indices\u001b[39m\u001b[38;5;124m\"\u001b[39m][\u001b[38;5;241m-\u001b[39m\u001b[38;5;241m1\u001b[39m]\n",
      "File \u001b[0;32m~/miniconda3/envs/pyiron/lib/python3.12/site-packages/pyiron_atomistics/lammps/base.py:430\u001b[0m, in \u001b[0;36mLammpsBase.collect_output_parser\u001b[0;34m(self, cwd, dump_h5_file_name, dump_out_file_name, log_lammps_file_name)\u001b[0m\n\u001b[1;32m    422\u001b[0m \u001b[38;5;28;01mdef\u001b[39;00m \u001b[38;5;21mcollect_output_parser\u001b[39m(\n\u001b[1;32m    423\u001b[0m     \u001b[38;5;28mself\u001b[39m,\n\u001b[1;32m    424\u001b[0m     cwd,\n\u001b[0;32m   (...)\u001b[0m\n\u001b[1;32m    428\u001b[0m ):\n\u001b[1;32m    429\u001b[0m     \u001b[38;5;66;03m# Parse output files\u001b[39;00m\n\u001b[0;32m--> 430\u001b[0m     \u001b[38;5;28;01mreturn\u001b[39;00m \u001b[43mparse_lammps_output\u001b[49m\u001b[43m(\u001b[49m\n\u001b[1;32m    431\u001b[0m \u001b[43m        \u001b[49m\u001b[43mdump_h5_full_file_name\u001b[49m\u001b[38;5;241;43m=\u001b[39;49m\u001b[38;5;28;43mself\u001b[39;49m\u001b[38;5;241;43m.\u001b[39;49m\u001b[43mjob_file_name\u001b[49m\u001b[43m(\u001b[49m\n\u001b[1;32m    432\u001b[0m \u001b[43m            \u001b[49m\u001b[43mfile_name\u001b[49m\u001b[38;5;241;43m=\u001b[39;49m\u001b[43mdump_h5_file_name\u001b[49m\u001b[43m,\u001b[49m\u001b[43m \u001b[49m\u001b[43mcwd\u001b[49m\u001b[38;5;241;43m=\u001b[39;49m\u001b[43mcwd\u001b[49m\n\u001b[1;32m    433\u001b[0m \u001b[43m        \u001b[49m\u001b[43m)\u001b[49m\u001b[43m,\u001b[49m\n\u001b[1;32m    434\u001b[0m \u001b[43m        \u001b[49m\u001b[43mdump_out_full_file_name\u001b[49m\u001b[38;5;241;43m=\u001b[39;49m\u001b[38;5;28;43mself\u001b[39;49m\u001b[38;5;241;43m.\u001b[39;49m\u001b[43mjob_file_name\u001b[49m\u001b[43m(\u001b[49m\n\u001b[1;32m    435\u001b[0m \u001b[43m            \u001b[49m\u001b[43mfile_name\u001b[49m\u001b[38;5;241;43m=\u001b[39;49m\u001b[43mdump_out_file_name\u001b[49m\u001b[43m,\u001b[49m\u001b[43m \u001b[49m\u001b[43mcwd\u001b[49m\u001b[38;5;241;43m=\u001b[39;49m\u001b[43mcwd\u001b[49m\n\u001b[1;32m    436\u001b[0m \u001b[43m        \u001b[49m\u001b[43m)\u001b[49m\u001b[43m,\u001b[49m\n\u001b[1;32m    437\u001b[0m \u001b[43m        \u001b[49m\u001b[43mlog_lammps_full_file_name\u001b[49m\u001b[38;5;241;43m=\u001b[39;49m\u001b[38;5;28;43mself\u001b[39;49m\u001b[38;5;241;43m.\u001b[39;49m\u001b[43mjob_file_name\u001b[49m\u001b[43m(\u001b[49m\n\u001b[1;32m    438\u001b[0m \u001b[43m            \u001b[49m\u001b[43mfile_name\u001b[49m\u001b[38;5;241;43m=\u001b[39;49m\u001b[43mlog_lammps_file_name\u001b[49m\u001b[43m,\u001b[49m\u001b[43m \u001b[49m\u001b[43mcwd\u001b[49m\u001b[38;5;241;43m=\u001b[39;49m\u001b[43mcwd\u001b[49m\n\u001b[1;32m    439\u001b[0m \u001b[43m        \u001b[49m\u001b[43m)\u001b[49m\u001b[43m,\u001b[49m\n\u001b[1;32m    440\u001b[0m \u001b[43m        \u001b[49m\u001b[43mprism\u001b[49m\u001b[38;5;241;43m=\u001b[39;49m\u001b[38;5;28;43mself\u001b[39;49m\u001b[38;5;241;43m.\u001b[39;49m\u001b[43m_prism\u001b[49m\u001b[43m,\u001b[49m\n\u001b[1;32m    441\u001b[0m \u001b[43m        \u001b[49m\u001b[43mstructure\u001b[49m\u001b[38;5;241;43m=\u001b[39;49m\u001b[38;5;28;43mself\u001b[39;49m\u001b[38;5;241;43m.\u001b[39;49m\u001b[43mstructure\u001b[49m\u001b[43m,\u001b[49m\n\u001b[1;32m    442\u001b[0m \u001b[43m        \u001b[49m\u001b[43mpotential_elements\u001b[49m\u001b[38;5;241;43m=\u001b[39;49m\u001b[38;5;28;43mself\u001b[39;49m\u001b[38;5;241;43m.\u001b[39;49m\u001b[43minput\u001b[49m\u001b[38;5;241;43m.\u001b[39;49m\u001b[43mpotential\u001b[49m\u001b[38;5;241;43m.\u001b[39;49m\u001b[43mget_element_lst\u001b[49m\u001b[43m(\u001b[49m\u001b[43m)\u001b[49m\u001b[43m,\u001b[49m\n\u001b[1;32m    443\u001b[0m \u001b[43m        \u001b[49m\u001b[43munits\u001b[49m\u001b[38;5;241;43m=\u001b[39;49m\u001b[38;5;28;43mself\u001b[39;49m\u001b[38;5;241;43m.\u001b[39;49m\u001b[43munits\u001b[49m\u001b[43m,\u001b[49m\n\u001b[1;32m    444\u001b[0m \u001b[43m    \u001b[49m\u001b[43m)\u001b[49m\n",
      "File \u001b[0;32m~/miniconda3/envs/pyiron/lib/python3.12/site-packages/pyiron_atomistics/lammps/output.py:53\u001b[0m, in \u001b[0;36mparse_lammps_output\u001b[0;34m(dump_h5_full_file_name, dump_out_full_file_name, log_lammps_full_file_name, prism, structure, potential_elements, units)\u001b[0m\n\u001b[1;32m     36\u001b[0m \u001b[38;5;28;01mdef\u001b[39;00m \u001b[38;5;21mparse_lammps_output\u001b[39m(\n\u001b[1;32m     37\u001b[0m     dump_h5_full_file_name: \u001b[38;5;28mstr\u001b[39m,\n\u001b[1;32m     38\u001b[0m     dump_out_full_file_name: \u001b[38;5;28mstr\u001b[39m,\n\u001b[0;32m   (...)\u001b[0m\n\u001b[1;32m     43\u001b[0m     units: \u001b[38;5;28mstr\u001b[39m,\n\u001b[1;32m     44\u001b[0m ) \u001b[38;5;241m-\u001b[39m\u001b[38;5;241m>\u001b[39m Dict:\n\u001b[1;32m     45\u001b[0m     dump_dict \u001b[38;5;241m=\u001b[39m _parse_dump(\n\u001b[1;32m     46\u001b[0m         dump_h5_full_file_name,\n\u001b[1;32m     47\u001b[0m         dump_out_full_file_name,\n\u001b[0;32m   (...)\u001b[0m\n\u001b[1;32m     50\u001b[0m         potential_elements,\n\u001b[1;32m     51\u001b[0m     )\n\u001b[0;32m---> 53\u001b[0m     generic_keys_lst, pressure_dict, df \u001b[38;5;241m=\u001b[39m \u001b[43m_parse_log\u001b[49m\u001b[43m(\u001b[49m\u001b[43mlog_lammps_full_file_name\u001b[49m\u001b[43m,\u001b[49m\u001b[43m \u001b[49m\u001b[43mprism\u001b[49m\u001b[43m)\u001b[49m\n\u001b[1;32m     55\u001b[0m     convert_units \u001b[38;5;241m=\u001b[39m UnitConverter(units)\u001b[38;5;241m.\u001b[39mconvert_array_to_pyiron_units\n\u001b[1;32m     57\u001b[0m     hdf_output \u001b[38;5;241m=\u001b[39m {\u001b[38;5;124m\"\u001b[39m\u001b[38;5;124mgeneric\u001b[39m\u001b[38;5;124m\"\u001b[39m: {}, \u001b[38;5;124m\"\u001b[39m\u001b[38;5;124mlammps\u001b[39m\u001b[38;5;124m\"\u001b[39m: {}}\n",
      "File \u001b[0;32m~/miniconda3/envs/pyiron/lib/python3.12/site-packages/pyiron_atomistics/lammps/output.py:300\u001b[0m, in \u001b[0;36m_parse_log\u001b[0;34m(log_lammps_full_file_name, prism)\u001b[0m\n\u001b[1;32m    298\u001b[0m \u001b[38;5;28;01mif\u001b[39;00m os\u001b[38;5;241m.\u001b[39mpath\u001b[38;5;241m.\u001b[39mexists(log_lammps_full_file_name):\n\u001b[1;32m    299\u001b[0m     _raise_exception_if_errors_found(file_name\u001b[38;5;241m=\u001b[39mlog_lammps_full_file_name)\n\u001b[0;32m--> 300\u001b[0m     \u001b[38;5;28;01mreturn\u001b[39;00m \u001b[43m_collect_output_log\u001b[49m\u001b[43m(\u001b[49m\n\u001b[1;32m    301\u001b[0m \u001b[43m        \u001b[49m\u001b[43mfile_name\u001b[49m\u001b[38;5;241;43m=\u001b[39;49m\u001b[43mlog_lammps_full_file_name\u001b[49m\u001b[43m,\u001b[49m\n\u001b[1;32m    302\u001b[0m \u001b[43m        \u001b[49m\u001b[43mprism\u001b[49m\u001b[38;5;241;43m=\u001b[39;49m\u001b[43mprism\u001b[49m\u001b[43m,\u001b[49m\n\u001b[1;32m    303\u001b[0m \u001b[43m    \u001b[49m\u001b[43m)\u001b[49m\n\u001b[1;32m    304\u001b[0m \u001b[38;5;28;01melse\u001b[39;00m:\n\u001b[1;32m    305\u001b[0m     \u001b[38;5;28;01mreturn\u001b[39;00m \u001b[38;5;28;01mNone\u001b[39;00m, \u001b[38;5;28;01mNone\u001b[39;00m, \u001b[38;5;28;01mNone\u001b[39;00m\n",
      "File \u001b[0;32m~/miniconda3/envs/pyiron/lib/python3.12/site-packages/pyiron_atomistics/lammps/output.py:377\u001b[0m, in \u001b[0;36m_collect_output_log\u001b[0;34m(file_name, prism)\u001b[0m\n\u001b[1;32m    344\u001b[0m pressure_dict \u001b[38;5;241m=\u001b[39m \u001b[38;5;28mdict\u001b[39m()\n\u001b[1;32m    345\u001b[0m \u001b[38;5;28;01mif\u001b[39;00m \u001b[38;5;28mall\u001b[39m(\n\u001b[1;32m    346\u001b[0m     [\n\u001b[1;32m    347\u001b[0m         x \u001b[38;5;129;01min\u001b[39;00m df\u001b[38;5;241m.\u001b[39mcolumns\u001b[38;5;241m.\u001b[39mvalues\n\u001b[0;32m   (...)\u001b[0m\n\u001b[1;32m    359\u001b[0m     ]\n\u001b[1;32m    360\u001b[0m ):\n\u001b[1;32m    361\u001b[0m     pressures \u001b[38;5;241m=\u001b[39m (\n\u001b[1;32m    362\u001b[0m         \u001b[43mnp\u001b[49m\u001b[38;5;241;43m.\u001b[39;49m\u001b[43mstack\u001b[49m\u001b[43m(\u001b[49m\n\u001b[1;32m    363\u001b[0m \u001b[43m            \u001b[49m\u001b[43m(\u001b[49m\n\u001b[1;32m    364\u001b[0m \u001b[43m                \u001b[49m\u001b[43mdf\u001b[49m\u001b[38;5;241;43m.\u001b[39;49m\u001b[43mPxx\u001b[49m\u001b[43m,\u001b[49m\n\u001b[1;32m    365\u001b[0m \u001b[43m                \u001b[49m\u001b[43mdf\u001b[49m\u001b[38;5;241;43m.\u001b[39;49m\u001b[43mPxy\u001b[49m\u001b[43m,\u001b[49m\n\u001b[1;32m    366\u001b[0m \u001b[43m                \u001b[49m\u001b[43mdf\u001b[49m\u001b[38;5;241;43m.\u001b[39;49m\u001b[43mPxz\u001b[49m\u001b[43m,\u001b[49m\n\u001b[1;32m    367\u001b[0m \u001b[43m                \u001b[49m\u001b[43mdf\u001b[49m\u001b[38;5;241;43m.\u001b[39;49m\u001b[43mPxy\u001b[49m\u001b[43m,\u001b[49m\n\u001b[1;32m    368\u001b[0m \u001b[43m                \u001b[49m\u001b[43mdf\u001b[49m\u001b[38;5;241;43m.\u001b[39;49m\u001b[43mPyy\u001b[49m\u001b[43m,\u001b[49m\n\u001b[1;32m    369\u001b[0m \u001b[43m                \u001b[49m\u001b[43mdf\u001b[49m\u001b[38;5;241;43m.\u001b[39;49m\u001b[43mPyz\u001b[49m\u001b[43m,\u001b[49m\n\u001b[1;32m    370\u001b[0m \u001b[43m                \u001b[49m\u001b[43mdf\u001b[49m\u001b[38;5;241;43m.\u001b[39;49m\u001b[43mPxz\u001b[49m\u001b[43m,\u001b[49m\n\u001b[1;32m    371\u001b[0m \u001b[43m                \u001b[49m\u001b[43mdf\u001b[49m\u001b[38;5;241;43m.\u001b[39;49m\u001b[43mPyz\u001b[49m\u001b[43m,\u001b[49m\n\u001b[1;32m    372\u001b[0m \u001b[43m                \u001b[49m\u001b[43mdf\u001b[49m\u001b[38;5;241;43m.\u001b[39;49m\u001b[43mPzz\u001b[49m\u001b[43m,\u001b[49m\n\u001b[1;32m    373\u001b[0m \u001b[43m            \u001b[49m\u001b[43m)\u001b[49m\u001b[43m,\u001b[49m\n\u001b[1;32m    374\u001b[0m \u001b[43m            \u001b[49m\u001b[43maxis\u001b[49m\u001b[38;5;241;43m=\u001b[39;49m\u001b[38;5;241;43m-\u001b[39;49m\u001b[38;5;241;43m1\u001b[39;49m\u001b[43m,\u001b[49m\n\u001b[1;32m    375\u001b[0m \u001b[43m        \u001b[49m\u001b[43m)\u001b[49m\n\u001b[1;32m    376\u001b[0m \u001b[43m        \u001b[49m\u001b[38;5;241;43m.\u001b[39;49m\u001b[43mreshape\u001b[49m\u001b[43m(\u001b[49m\u001b[38;5;241;43m-\u001b[39;49m\u001b[38;5;241;43m1\u001b[39;49m\u001b[43m,\u001b[49m\u001b[43m \u001b[49m\u001b[38;5;241;43m3\u001b[39;49m\u001b[43m,\u001b[49m\u001b[43m \u001b[49m\u001b[38;5;241;43m3\u001b[39;49m\u001b[43m)\u001b[49m\n\u001b[0;32m--> 377\u001b[0m \u001b[43m        \u001b[49m\u001b[38;5;241;43m.\u001b[39;49m\u001b[43mastype\u001b[49m\u001b[43m(\u001b[49m\u001b[38;5;124;43m\"\u001b[39;49m\u001b[38;5;124;43mfloat64\u001b[39;49m\u001b[38;5;124;43m\"\u001b[39;49m\u001b[43m)\u001b[49m\n\u001b[1;32m    378\u001b[0m     )\n\u001b[1;32m    379\u001b[0m     \u001b[38;5;66;03m# Rotate pressures from Lammps frame to pyiron frame if necessary\u001b[39;00m\n\u001b[1;32m    380\u001b[0m     \u001b[38;5;28;01mif\u001b[39;00m _check_ortho_prism(prism\u001b[38;5;241m=\u001b[39mprism):\n",
      "\u001b[0;31mValueError\u001b[0m: could not convert string to float: '###'"
     ]
    }
   ],
   "source": [
    "job_md.calc_md(initial_temperature=450, temperature=300, pressure=[0.0, None, None, None, None, None])\n",
    "job_md.run(delete_existing_job=True)"
   ]
  },
  {
   "cell_type": "code",
   "execution_count": 85,
   "id": "e1201d6c-ee80-4392-b2ad-e2073991e2ca",
   "metadata": {},
   "outputs": [
    {
     "data": {
      "application/vnd.jupyter.widget-view+json": {
       "model_id": "fa728c73993c4a7abfa0001b3d8edb7c",
       "version_major": 2,
       "version_minor": 0
      },
      "text/plain": [
       "NGLWidget(max_frame=10)"
      ]
     },
     "metadata": {},
     "output_type": "display_data"
    }
   ],
   "source": [
    "job_md.animate_structures()"
   ]
  },
  {
   "cell_type": "code",
   "execution_count": null,
   "id": "1690e4a0-4639-42e8-9ee7-f3e32613a21e",
   "metadata": {},
   "outputs": [],
   "source": []
  }
 ],
 "metadata": {
  "kernelspec": {
   "display_name": "Python 3 (ipykernel)",
   "language": "python",
   "name": "python3"
  },
  "language_info": {
   "codemirror_mode": {
    "name": "ipython",
    "version": 3
   },
   "file_extension": ".py",
   "mimetype": "text/x-python",
   "name": "python",
   "nbconvert_exporter": "python",
   "pygments_lexer": "ipython3",
   "version": "3.12.3"
  }
 },
 "nbformat": 4,
 "nbformat_minor": 5
}
