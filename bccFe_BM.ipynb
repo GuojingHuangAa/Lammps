{
 "cells": [
  {
   "cell_type": "code",
   "execution_count": 1,
   "id": "5785cee5-c6ba-4c83-8340-9949e6677812",
   "metadata": {},
   "outputs": [
    {
     "data": {
      "application/vnd.jupyter.widget-view+json": {
       "model_id": "59c55d16c85748b2bfcb710eb6e7c0f7",
       "version_major": 2,
       "version_minor": 0
      },
      "text/plain": []
     },
     "metadata": {},
     "output_type": "display_data"
    }
   ],
   "source": [
    "from pyiron import Project\n",
    "import numpy as np\n",
    "import matplotlib.pylab as plt"
   ]
  },
  {
   "cell_type": "code",
   "execution_count": 2,
   "id": "d94d6041-dbbd-44df-a7e3-97568321e745",
   "metadata": {},
   "outputs": [],
   "source": [
    "pr = Project('bm_bccFe')"
   ]
  },
  {
   "cell_type": "code",
   "execution_count": 32,
   "id": "4a28a156-97e2-4c17-94df-af286d838ac8",
   "metadata": {},
   "outputs": [],
   "source": [
    "from pyscal3 import System"
   ]
  },
  {
   "cell_type": "code",
   "execution_count": 33,
   "id": "d8f8e24d-ec8e-4e6d-b86a-95614ac6cce5",
   "metadata": {
    "scrolled": true
   },
   "outputs": [
    {
     "data": {
      "application/vnd.plotly.v1+json": {
       "config": {
        "plotlyServerURL": "https://plot.ly"
       },
       "data": [
        {
         "line": {
          "color": "#263238",
          "width": 2
         },
         "mode": "lines",
         "name": "lines",
         "showlegend": false,
         "type": "scatter3d",
         "x": [
          0,
          18.15147376,
          18.15147376,
          0,
          0
         ],
         "y": [
          0,
          0,
          2.87,
          2.87,
          0
         ],
         "z": [
          0,
          0,
          0,
          0,
          0
         ]
        },
        {
         "line": {
          "color": "#263238",
          "width": 2
         },
         "mode": "lines",
         "name": "lines",
         "showlegend": false,
         "type": "scatter3d",
         "x": [
          0,
          18.15147376,
          18.15147376,
          0,
          0
         ],
         "y": [
          0,
          0,
          2.87,
          2.87,
          0
         ],
         "z": [
          9.07573688,
          9.07573688,
          9.07573688,
          9.07573688,
          9.07573688
         ]
        },
        {
         "line": {
          "color": "#263238",
          "width": 2
         },
         "mode": "lines",
         "name": "lines",
         "showlegend": false,
         "type": "scatter3d",
         "x": [
          0,
          18.15147376,
          18.15147376,
          0,
          0
         ],
         "y": [
          0,
          0,
          0,
          0,
          0
         ],
         "z": [
          0,
          0,
          9.07573688,
          9.07573688,
          0
         ]
        },
        {
         "line": {
          "color": "#263238",
          "width": 2
         },
         "mode": "lines",
         "name": "lines",
         "showlegend": false,
         "type": "scatter3d",
         "x": [
          0,
          18.15147376,
          18.15147376,
          0,
          0
         ],
         "y": [
          2.87,
          2.87,
          2.87,
          2.87,
          2.87
         ],
         "z": [
          0,
          0,
          9.07573688,
          9.07573688,
          0
         ]
        },
        {
         "line": {
          "color": "#263238",
          "width": 2
         },
         "mode": "lines",
         "name": "lines",
         "showlegend": false,
         "type": "scatter3d",
         "x": [
          0,
          0,
          0,
          0,
          0
         ],
         "y": [
          0,
          2.87,
          2.87,
          0,
          0
         ],
         "z": [
          0,
          0,
          9.07573688,
          9.07573688,
          0
         ]
        },
        {
         "line": {
          "color": "#263238",
          "width": 2
         },
         "mode": "lines",
         "name": "lines",
         "showlegend": false,
         "type": "scatter3d",
         "x": [
          18.15147376,
          18.15147376,
          18.15147376,
          18.15147376,
          18.15147376
         ],
         "y": [
          0,
          2.87,
          2.87,
          0,
          0
         ],
         "z": [
          0,
          0,
          9.07573688,
          9.07573688,
          0
         ]
        },
        {
         "marker": {
          "color": "#33a02c",
          "line": {
           "color": "#455A64",
           "width": 0.5
          },
          "opacity": 1,
          "size": 10,
          "sizemode": "diameter",
          "sizeref": 750
         },
         "mode": "markers",
         "opacity": 1,
         "type": "scatter3d",
         "x": [
          9.983310568468324,
          9.07573688,
          11.798457945404973,
          12.706031633873298,
          10.89088425693665,
          11.798457945404973,
          9.983310568468324,
          10.89088425693665,
          9.07573688,
          16.3363263877466,
          14.521179010809949,
          15.428752699278274,
          13.613605322341623,
          14.521179010809949,
          12.706031633873298,
          13.613605322341623,
          17.243900076214924,
          16.3363263877466,
          17.243900076214924,
          15.428752699278274,
          -4.683251120241039e-09,
          0.9075736837850741,
          -4.683251120241039e-09,
          1.8151473722533984,
          0.9075736837850741,
          2.7227210607217236,
          1.8151473722533984,
          3.630294749190049,
          2.7227210607217236,
          4.537868437658374,
          3.630294749190049,
          5.445442126126698,
          4.537868437658374,
          6.3530158145950235,
          5.445442126126698,
          7.260589503063349,
          6.353015814595023,
          8.168163191531672,
          7.260589503063348,
          8.168163191531672
         ],
         "y": [
          1.435,
          1.435,
          0,
          1.435,
          0,
          1.435,
          0,
          1.435,
          0,
          1.435,
          0,
          1.435,
          0,
          1.435,
          0,
          1.435,
          0,
          0,
          1.435,
          0,
          1.435,
          1.435,
          0,
          1.435,
          0,
          1.435,
          0,
          1.435,
          0,
          1.435,
          0,
          1.435,
          0,
          1.435,
          0,
          1.435,
          0,
          1.435,
          0,
          0
         ],
         "z": [
          7.2605895077466,
          4.537868442341624,
          8.168163196214923,
          6.353015819278275,
          5.445442130809949,
          3.6302947538733,
          2.7227210654049747,
          0.9075736884683248,
          0,
          8.168163196214923,
          7.2605895077466,
          5.445442130809949,
          4.537868442341624,
          2.7227210654049747,
          1.8151473769366495,
          0,
          6.353015819278275,
          3.630294753873299,
          1.8151473769366495,
          0.9075736884683248,
          4.537868442341624,
          1.81514737693665,
          0,
          8.168163196214923,
          6.353015819278275,
          5.445442130809949,
          3.6302947538733,
          2.7227210654049747,
          0.907573688468325,
          0,
          7.2605895077466,
          6.353015819278275,
          4.537868442341624,
          3.6302947538733,
          1.81514737693665,
          0.9075736884683251,
          8.168163196214923,
          7.2605895077466,
          5.445442130809949,
          2.7227210654049747
         ]
        }
       ],
       "layout": {
        "height": 360,
        "margin": {
         "b": 10,
         "l": 10,
         "r": 10,
         "t": 10
        },
        "scene": {
         "aspectmode": "data",
         "aspectratio": {
          "x": 2.3299861015014263,
          "y": 0.3684031499590902,
          "z": 1.164993050450134
         },
         "camera": {
          "center": {
           "x": -0.24294963655314528,
           "y": 0.017989154512077325,
           "z": -0.06787163018563995
          },
          "eye": {
           "x": 0.8551393302062845,
           "y": 4.395343528256304,
           "z": 1.806906354443569
          },
          "projection": {
           "type": "perspective"
          },
          "up": {
           "x": 0,
           "y": 0,
           "z": 1
          }
         },
         "xaxis": {
          "showbackground": false,
          "showticklabels": false,
          "title": {
           "text": ""
          },
          "type": "linear",
          "zerolinecolor": "#455A64"
         },
         "yaxis": {
          "showbackground": false,
          "showticklabels": false,
          "title": {
           "text": ""
          },
          "type": "linear",
          "zerolinecolor": "#455A64"
         },
         "zaxis": {
          "showbackground": false,
          "showticklabels": false,
          "title": {
           "text": ""
          },
          "type": "linear",
          "zerolinecolor": "#455A64"
         }
        },
        "showlegend": false,
        "template": {
         "data": {
          "bar": [
           {
            "error_x": {
             "color": "#2a3f5f"
            },
            "error_y": {
             "color": "#2a3f5f"
            },
            "marker": {
             "line": {
              "color": "#E5ECF6",
              "width": 0.5
             },
             "pattern": {
              "fillmode": "overlay",
              "size": 10,
              "solidity": 0.2
             }
            },
            "type": "bar"
           }
          ],
          "barpolar": [
           {
            "marker": {
             "line": {
              "color": "#E5ECF6",
              "width": 0.5
             },
             "pattern": {
              "fillmode": "overlay",
              "size": 10,
              "solidity": 0.2
             }
            },
            "type": "barpolar"
           }
          ],
          "carpet": [
           {
            "aaxis": {
             "endlinecolor": "#2a3f5f",
             "gridcolor": "white",
             "linecolor": "white",
             "minorgridcolor": "white",
             "startlinecolor": "#2a3f5f"
            },
            "baxis": {
             "endlinecolor": "#2a3f5f",
             "gridcolor": "white",
             "linecolor": "white",
             "minorgridcolor": "white",
             "startlinecolor": "#2a3f5f"
            },
            "type": "carpet"
           }
          ],
          "choropleth": [
           {
            "colorbar": {
             "outlinewidth": 0,
             "ticks": ""
            },
            "type": "choropleth"
           }
          ],
          "contour": [
           {
            "colorbar": {
             "outlinewidth": 0,
             "ticks": ""
            },
            "colorscale": [
             [
              0,
              "#0d0887"
             ],
             [
              0.1111111111111111,
              "#46039f"
             ],
             [
              0.2222222222222222,
              "#7201a8"
             ],
             [
              0.3333333333333333,
              "#9c179e"
             ],
             [
              0.4444444444444444,
              "#bd3786"
             ],
             [
              0.5555555555555556,
              "#d8576b"
             ],
             [
              0.6666666666666666,
              "#ed7953"
             ],
             [
              0.7777777777777778,
              "#fb9f3a"
             ],
             [
              0.8888888888888888,
              "#fdca26"
             ],
             [
              1,
              "#f0f921"
             ]
            ],
            "type": "contour"
           }
          ],
          "contourcarpet": [
           {
            "colorbar": {
             "outlinewidth": 0,
             "ticks": ""
            },
            "type": "contourcarpet"
           }
          ],
          "heatmap": [
           {
            "colorbar": {
             "outlinewidth": 0,
             "ticks": ""
            },
            "colorscale": [
             [
              0,
              "#0d0887"
             ],
             [
              0.1111111111111111,
              "#46039f"
             ],
             [
              0.2222222222222222,
              "#7201a8"
             ],
             [
              0.3333333333333333,
              "#9c179e"
             ],
             [
              0.4444444444444444,
              "#bd3786"
             ],
             [
              0.5555555555555556,
              "#d8576b"
             ],
             [
              0.6666666666666666,
              "#ed7953"
             ],
             [
              0.7777777777777778,
              "#fb9f3a"
             ],
             [
              0.8888888888888888,
              "#fdca26"
             ],
             [
              1,
              "#f0f921"
             ]
            ],
            "type": "heatmap"
           }
          ],
          "heatmapgl": [
           {
            "colorbar": {
             "outlinewidth": 0,
             "ticks": ""
            },
            "colorscale": [
             [
              0,
              "#0d0887"
             ],
             [
              0.1111111111111111,
              "#46039f"
             ],
             [
              0.2222222222222222,
              "#7201a8"
             ],
             [
              0.3333333333333333,
              "#9c179e"
             ],
             [
              0.4444444444444444,
              "#bd3786"
             ],
             [
              0.5555555555555556,
              "#d8576b"
             ],
             [
              0.6666666666666666,
              "#ed7953"
             ],
             [
              0.7777777777777778,
              "#fb9f3a"
             ],
             [
              0.8888888888888888,
              "#fdca26"
             ],
             [
              1,
              "#f0f921"
             ]
            ],
            "type": "heatmapgl"
           }
          ],
          "histogram": [
           {
            "marker": {
             "pattern": {
              "fillmode": "overlay",
              "size": 10,
              "solidity": 0.2
             }
            },
            "type": "histogram"
           }
          ],
          "histogram2d": [
           {
            "colorbar": {
             "outlinewidth": 0,
             "ticks": ""
            },
            "colorscale": [
             [
              0,
              "#0d0887"
             ],
             [
              0.1111111111111111,
              "#46039f"
             ],
             [
              0.2222222222222222,
              "#7201a8"
             ],
             [
              0.3333333333333333,
              "#9c179e"
             ],
             [
              0.4444444444444444,
              "#bd3786"
             ],
             [
              0.5555555555555556,
              "#d8576b"
             ],
             [
              0.6666666666666666,
              "#ed7953"
             ],
             [
              0.7777777777777778,
              "#fb9f3a"
             ],
             [
              0.8888888888888888,
              "#fdca26"
             ],
             [
              1,
              "#f0f921"
             ]
            ],
            "type": "histogram2d"
           }
          ],
          "histogram2dcontour": [
           {
            "colorbar": {
             "outlinewidth": 0,
             "ticks": ""
            },
            "colorscale": [
             [
              0,
              "#0d0887"
             ],
             [
              0.1111111111111111,
              "#46039f"
             ],
             [
              0.2222222222222222,
              "#7201a8"
             ],
             [
              0.3333333333333333,
              "#9c179e"
             ],
             [
              0.4444444444444444,
              "#bd3786"
             ],
             [
              0.5555555555555556,
              "#d8576b"
             ],
             [
              0.6666666666666666,
              "#ed7953"
             ],
             [
              0.7777777777777778,
              "#fb9f3a"
             ],
             [
              0.8888888888888888,
              "#fdca26"
             ],
             [
              1,
              "#f0f921"
             ]
            ],
            "type": "histogram2dcontour"
           }
          ],
          "mesh3d": [
           {
            "colorbar": {
             "outlinewidth": 0,
             "ticks": ""
            },
            "type": "mesh3d"
           }
          ],
          "parcoords": [
           {
            "line": {
             "colorbar": {
              "outlinewidth": 0,
              "ticks": ""
             }
            },
            "type": "parcoords"
           }
          ],
          "pie": [
           {
            "automargin": true,
            "type": "pie"
           }
          ],
          "scatter": [
           {
            "fillpattern": {
             "fillmode": "overlay",
             "size": 10,
             "solidity": 0.2
            },
            "type": "scatter"
           }
          ],
          "scatter3d": [
           {
            "line": {
             "colorbar": {
              "outlinewidth": 0,
              "ticks": ""
             }
            },
            "marker": {
             "colorbar": {
              "outlinewidth": 0,
              "ticks": ""
             }
            },
            "type": "scatter3d"
           }
          ],
          "scattercarpet": [
           {
            "marker": {
             "colorbar": {
              "outlinewidth": 0,
              "ticks": ""
             }
            },
            "type": "scattercarpet"
           }
          ],
          "scattergeo": [
           {
            "marker": {
             "colorbar": {
              "outlinewidth": 0,
              "ticks": ""
             }
            },
            "type": "scattergeo"
           }
          ],
          "scattergl": [
           {
            "marker": {
             "colorbar": {
              "outlinewidth": 0,
              "ticks": ""
             }
            },
            "type": "scattergl"
           }
          ],
          "scattermapbox": [
           {
            "marker": {
             "colorbar": {
              "outlinewidth": 0,
              "ticks": ""
             }
            },
            "type": "scattermapbox"
           }
          ],
          "scatterpolar": [
           {
            "marker": {
             "colorbar": {
              "outlinewidth": 0,
              "ticks": ""
             }
            },
            "type": "scatterpolar"
           }
          ],
          "scatterpolargl": [
           {
            "marker": {
             "colorbar": {
              "outlinewidth": 0,
              "ticks": ""
             }
            },
            "type": "scatterpolargl"
           }
          ],
          "scatterternary": [
           {
            "marker": {
             "colorbar": {
              "outlinewidth": 0,
              "ticks": ""
             }
            },
            "type": "scatterternary"
           }
          ],
          "surface": [
           {
            "colorbar": {
             "outlinewidth": 0,
             "ticks": ""
            },
            "colorscale": [
             [
              0,
              "#0d0887"
             ],
             [
              0.1111111111111111,
              "#46039f"
             ],
             [
              0.2222222222222222,
              "#7201a8"
             ],
             [
              0.3333333333333333,
              "#9c179e"
             ],
             [
              0.4444444444444444,
              "#bd3786"
             ],
             [
              0.5555555555555556,
              "#d8576b"
             ],
             [
              0.6666666666666666,
              "#ed7953"
             ],
             [
              0.7777777777777778,
              "#fb9f3a"
             ],
             [
              0.8888888888888888,
              "#fdca26"
             ],
             [
              1,
              "#f0f921"
             ]
            ],
            "type": "surface"
           }
          ],
          "table": [
           {
            "cells": {
             "fill": {
              "color": "#EBF0F8"
             },
             "line": {
              "color": "white"
             }
            },
            "header": {
             "fill": {
              "color": "#C8D4E3"
             },
             "line": {
              "color": "white"
             }
            },
            "type": "table"
           }
          ]
         },
         "layout": {
          "annotationdefaults": {
           "arrowcolor": "#2a3f5f",
           "arrowhead": 0,
           "arrowwidth": 1
          },
          "autotypenumbers": "strict",
          "coloraxis": {
           "colorbar": {
            "outlinewidth": 0,
            "ticks": ""
           }
          },
          "colorscale": {
           "diverging": [
            [
             0,
             "#8e0152"
            ],
            [
             0.1,
             "#c51b7d"
            ],
            [
             0.2,
             "#de77ae"
            ],
            [
             0.3,
             "#f1b6da"
            ],
            [
             0.4,
             "#fde0ef"
            ],
            [
             0.5,
             "#f7f7f7"
            ],
            [
             0.6,
             "#e6f5d0"
            ],
            [
             0.7,
             "#b8e186"
            ],
            [
             0.8,
             "#7fbc41"
            ],
            [
             0.9,
             "#4d9221"
            ],
            [
             1,
             "#276419"
            ]
           ],
           "sequential": [
            [
             0,
             "#0d0887"
            ],
            [
             0.1111111111111111,
             "#46039f"
            ],
            [
             0.2222222222222222,
             "#7201a8"
            ],
            [
             0.3333333333333333,
             "#9c179e"
            ],
            [
             0.4444444444444444,
             "#bd3786"
            ],
            [
             0.5555555555555556,
             "#d8576b"
            ],
            [
             0.6666666666666666,
             "#ed7953"
            ],
            [
             0.7777777777777778,
             "#fb9f3a"
            ],
            [
             0.8888888888888888,
             "#fdca26"
            ],
            [
             1,
             "#f0f921"
            ]
           ],
           "sequentialminus": [
            [
             0,
             "#0d0887"
            ],
            [
             0.1111111111111111,
             "#46039f"
            ],
            [
             0.2222222222222222,
             "#7201a8"
            ],
            [
             0.3333333333333333,
             "#9c179e"
            ],
            [
             0.4444444444444444,
             "#bd3786"
            ],
            [
             0.5555555555555556,
             "#d8576b"
            ],
            [
             0.6666666666666666,
             "#ed7953"
            ],
            [
             0.7777777777777778,
             "#fb9f3a"
            ],
            [
             0.8888888888888888,
             "#fdca26"
            ],
            [
             1,
             "#f0f921"
            ]
           ]
          },
          "colorway": [
           "#636efa",
           "#EF553B",
           "#00cc96",
           "#ab63fa",
           "#FFA15A",
           "#19d3f3",
           "#FF6692",
           "#B6E880",
           "#FF97FF",
           "#FECB52"
          ],
          "font": {
           "color": "#2a3f5f"
          },
          "geo": {
           "bgcolor": "white",
           "lakecolor": "white",
           "landcolor": "#E5ECF6",
           "showlakes": true,
           "showland": true,
           "subunitcolor": "white"
          },
          "hoverlabel": {
           "align": "left"
          },
          "hovermode": "closest",
          "mapbox": {
           "style": "light"
          },
          "paper_bgcolor": "white",
          "plot_bgcolor": "#E5ECF6",
          "polar": {
           "angularaxis": {
            "gridcolor": "white",
            "linecolor": "white",
            "ticks": ""
           },
           "bgcolor": "#E5ECF6",
           "radialaxis": {
            "gridcolor": "white",
            "linecolor": "white",
            "ticks": ""
           }
          },
          "scene": {
           "xaxis": {
            "backgroundcolor": "#E5ECF6",
            "gridcolor": "white",
            "gridwidth": 2,
            "linecolor": "white",
            "showbackground": true,
            "ticks": "",
            "zerolinecolor": "white"
           },
           "yaxis": {
            "backgroundcolor": "#E5ECF6",
            "gridcolor": "white",
            "gridwidth": 2,
            "linecolor": "white",
            "showbackground": true,
            "ticks": "",
            "zerolinecolor": "white"
           },
           "zaxis": {
            "backgroundcolor": "#E5ECF6",
            "gridcolor": "white",
            "gridwidth": 2,
            "linecolor": "white",
            "showbackground": true,
            "ticks": "",
            "zerolinecolor": "white"
           }
          },
          "shapedefaults": {
           "line": {
            "color": "#2a3f5f"
           }
          },
          "ternary": {
           "aaxis": {
            "gridcolor": "white",
            "linecolor": "white",
            "ticks": ""
           },
           "baxis": {
            "gridcolor": "white",
            "linecolor": "white",
            "ticks": ""
           },
           "bgcolor": "#E5ECF6",
           "caxis": {
            "gridcolor": "white",
            "linecolor": "white",
            "ticks": ""
           }
          },
          "title": {
           "x": 0.05
          },
          "xaxis": {
           "automargin": true,
           "gridcolor": "white",
           "linecolor": "white",
           "ticks": "",
           "title": {
            "standoff": 15
           },
           "zerolinecolor": "white",
           "zerolinewidth": 2
          },
          "yaxis": {
           "automargin": true,
           "gridcolor": "white",
           "linecolor": "white",
           "ticks": "",
           "title": {
            "standoff": 15
           },
           "zerolinecolor": "white",
           "zerolinewidth": 2
          }
         }
        },
        "width": 700
       }
      },
      "image/png": "[encoded data removed]",
      "text/html": [
       "<div>                            <div id=\"b800d4f9-94a1-4ad3-87db-3bb12e4624f1\" class=\"plotly-graph-div\" style=\"height:525px; width:700px;\"></div>            <script type=\"text/javascript\">                require([\"plotly\"], function(Plotly) {                    window.PLOTLYENV=window.PLOTLYENV || {};                                    if (document.getElementById(\"b800d4f9-94a1-4ad3-87db-3bb12e4624f1\")) {                    Plotly.newPlot(                        \"b800d4f9-94a1-4ad3-87db-3bb12e4624f1\",                        [{\"line\":{\"color\":\"#263238\",\"width\":2.0},\"mode\":\"lines\",\"name\":\"lines\",\"showlegend\":false,\"x\":[0.0,18.15147376,18.15147376,0.0,0.0],\"y\":[0.0,0.0,2.87,2.87,0.0],\"z\":[0.0,0.0,0.0,0.0,0.0],\"type\":\"scatter3d\"},{\"line\":{\"color\":\"#263238\",\"width\":2.0},\"mode\":\"lines\",\"name\":\"lines\",\"showlegend\":false,\"x\":[0.0,18.15147376,18.15147376,0.0,0.0],\"y\":[0.0,0.0,2.87,2.87,0.0],\"z\":[9.07573688,9.07573688,9.07573688,9.07573688,9.07573688],\"type\":\"scatter3d\"},{\"line\":{\"color\":\"#263238\",\"width\":2.0},\"mode\":\"lines\",\"name\":\"lines\",\"showlegend\":false,\"x\":[0.0,18.15147376,18.15147376,0.0,0.0],\"y\":[0.0,0.0,0.0,0.0,0.0],\"z\":[0.0,0.0,9.07573688,9.07573688,0.0],\"type\":\"scatter3d\"},{\"line\":{\"color\":\"#263238\",\"width\":2.0},\"mode\":\"lines\",\"name\":\"lines\",\"showlegend\":false,\"x\":[0.0,18.15147376,18.15147376,0.0,0.0],\"y\":[2.87,2.87,2.87,2.87,2.87],\"z\":[0.0,0.0,9.07573688,9.07573688,0.0],\"type\":\"scatter3d\"},{\"line\":{\"color\":\"#263238\",\"width\":2.0},\"mode\":\"lines\",\"name\":\"lines\",\"showlegend\":false,\"x\":[0.0,0.0,0.0,0.0,0.0],\"y\":[0.0,2.87,2.87,0.0,0.0],\"z\":[0.0,0.0,9.07573688,9.07573688,0.0],\"type\":\"scatter3d\"},{\"line\":{\"color\":\"#263238\",\"width\":2.0},\"mode\":\"lines\",\"name\":\"lines\",\"showlegend\":false,\"x\":[18.15147376,18.15147376,18.15147376,18.15147376,18.15147376],\"y\":[0.0,2.87,2.87,0.0,0.0],\"z\":[0.0,0.0,9.07573688,9.07573688,0.0],\"type\":\"scatter3d\"},{\"marker\":{\"color\":\"#33a02c\",\"line\":{\"color\":\"#455A64\",\"width\":0.5},\"opacity\":1.0,\"size\":10,\"sizemode\":\"diameter\",\"sizeref\":750},\"mode\":\"markers\",\"opacity\":1.0,\"x\":[9.983310568468324,9.07573688,11.798457945404973,12.706031633873298,10.89088425693665,11.798457945404973,9.983310568468324,10.89088425693665,9.07573688,16.3363263877466,14.521179010809949,15.428752699278274,13.613605322341623,14.521179010809949,12.706031633873298,13.613605322341623,17.243900076214924,16.3363263877466,17.243900076214924,15.428752699278274,-4.683251120241039e-9,0.9075736837850741,-4.683251120241039e-9,1.8151473722533984,0.9075736837850741,2.7227210607217236,1.8151473722533984,3.630294749190049,2.7227210607217236,4.537868437658374,3.630294749190049,5.445442126126698,4.537868437658374,6.3530158145950235,5.445442126126698,7.260589503063349,6.353015814595023,8.168163191531672,7.260589503063348,8.168163191531672],\"y\":[1.435,1.435,0.0,1.435,0.0,1.435,0.0,1.435,0.0,1.435,0.0,1.435,0.0,1.435,0.0,1.435,0.0,0.0,1.435,0.0,1.435,1.435,0.0,1.435,0.0,1.435,0.0,1.435,0.0,1.435,0.0,1.435,0.0,1.435,0.0,1.435,0.0,1.435,0.0,0.0],\"z\":[7.2605895077466,4.537868442341624,8.168163196214923,6.353015819278275,5.445442130809949,3.6302947538733,2.7227210654049747,0.9075736884683248,0.0,8.168163196214923,7.2605895077466,5.445442130809949,4.537868442341624,2.7227210654049747,1.8151473769366495,0.0,6.353015819278275,3.630294753873299,1.8151473769366495,0.9075736884683248,4.537868442341624,1.81514737693665,0.0,8.168163196214923,6.353015819278275,5.445442130809949,3.6302947538733,2.7227210654049747,0.907573688468325,0.0,7.2605895077466,6.353015819278275,4.537868442341624,3.6302947538733,1.81514737693665,0.9075736884683251,8.168163196214923,7.2605895077466,5.445442130809949,2.7227210654049747],\"type\":\"scatter3d\"}],                        {\"template\":{\"data\":{\"histogram2dcontour\":[{\"type\":\"histogram2dcontour\",\"colorbar\":{\"outlinewidth\":0,\"ticks\":\"\"},\"colorscale\":[[0.0,\"#0d0887\"],[0.1111111111111111,\"#46039f\"],[0.2222222222222222,\"#7201a8\"],[0.3333333333333333,\"#9c179e\"],[0.4444444444444444,\"#bd3786\"],[0.5555555555555556,\"#d8576b\"],[0.6666666666666666,\"#ed7953\"],[0.7777777777777778,\"#fb9f3a\"],[0.8888888888888888,\"#fdca26\"],[1.0,\"#f0f921\"]]}],\"choropleth\":[{\"type\":\"choropleth\",\"colorbar\":{\"outlinewidth\":0,\"ticks\":\"\"}}],\"histogram2d\":[{\"type\":\"histogram2d\",\"colorbar\":{\"outlinewidth\":0,\"ticks\":\"\"},\"colorscale\":[[0.0,\"#0d0887\"],[0.1111111111111111,\"#46039f\"],[0.2222222222222222,\"#7201a8\"],[0.3333333333333333,\"#9c179e\"],[0.4444444444444444,\"#bd3786\"],[0.5555555555555556,\"#d8576b\"],[0.6666666666666666,\"#ed7953\"],[0.7777777777777778,\"#fb9f3a\"],[0.8888888888888888,\"#fdca26\"],[1.0,\"#f0f921\"]]}],\"heatmap\":[{\"type\":\"heatmap\",\"colorbar\":{\"outlinewidth\":0,\"ticks\":\"\"},\"colorscale\":[[0.0,\"#0d0887\"],[0.1111111111111111,\"#46039f\"],[0.2222222222222222,\"#7201a8\"],[0.3333333333333333,\"#9c179e\"],[0.4444444444444444,\"#bd3786\"],[0.5555555555555556,\"#d8576b\"],[0.6666666666666666,\"#ed7953\"],[0.7777777777777778,\"#fb9f3a\"],[0.8888888888888888,\"#fdca26\"],[1.0,\"#f0f921\"]]}],\"heatmapgl\":[{\"type\":\"heatmapgl\",\"colorbar\":{\"outlinewidth\":0,\"ticks\":\"\"},\"colorscale\":[[0.0,\"#0d0887\"],[0.1111111111111111,\"#46039f\"],[0.2222222222222222,\"#7201a8\"],[0.3333333333333333,\"#9c179e\"],[0.4444444444444444,\"#bd3786\"],[0.5555555555555556,\"#d8576b\"],[0.6666666666666666,\"#ed7953\"],[0.7777777777777778,\"#fb9f3a\"],[0.8888888888888888,\"#fdca26\"],[1.0,\"#f0f921\"]]}],\"contourcarpet\":[{\"type\":\"contourcarpet\",\"colorbar\":{\"outlinewidth\":0,\"ticks\":\"\"}}],\"contour\":[{\"type\":\"contour\",\"colorbar\":{\"outlinewidth\":0,\"ticks\":\"\"},\"colorscale\":[[0.0,\"#0d0887\"],[0.1111111111111111,\"#46039f\"],[0.2222222222222222,\"#7201a8\"],[0.3333333333333333,\"#9c179e\"],[0.4444444444444444,\"#bd3786\"],[0.5555555555555556,\"#d8576b\"],[0.6666666666666666,\"#ed7953\"],[0.7777777777777778,\"#fb9f3a\"],[0.8888888888888888,\"#fdca26\"],[1.0,\"#f0f921\"]]}],\"surface\":[{\"type\":\"surface\",\"colorbar\":{\"outlinewidth\":0,\"ticks\":\"\"},\"colorscale\":[[0.0,\"#0d0887\"],[0.1111111111111111,\"#46039f\"],[0.2222222222222222,\"#7201a8\"],[0.3333333333333333,\"#9c179e\"],[0.4444444444444444,\"#bd3786\"],[0.5555555555555556,\"#d8576b\"],[0.6666666666666666,\"#ed7953\"],[0.7777777777777778,\"#fb9f3a\"],[0.8888888888888888,\"#fdca26\"],[1.0,\"#f0f921\"]]}],\"mesh3d\":[{\"type\":\"mesh3d\",\"colorbar\":{\"outlinewidth\":0,\"ticks\":\"\"}}],\"scatter\":[{\"fillpattern\":{\"fillmode\":\"overlay\",\"size\":10,\"solidity\":0.2},\"type\":\"scatter\"}],\"parcoords\":[{\"type\":\"parcoords\",\"line\":{\"colorbar\":{\"outlinewidth\":0,\"ticks\":\"\"}}}],\"scatterpolargl\":[{\"type\":\"scatterpolargl\",\"marker\":{\"colorbar\":{\"outlinewidth\":0,\"ticks\":\"\"}}}],\"bar\":[{\"error_x\":{\"color\":\"#2a3f5f\"},\"error_y\":{\"color\":\"#2a3f5f\"},\"marker\":{\"line\":{\"color\":\"#E5ECF6\",\"width\":0.5},\"pattern\":{\"fillmode\":\"overlay\",\"size\":10,\"solidity\":0.2}},\"type\":\"bar\"}],\"scattergeo\":[{\"type\":\"scattergeo\",\"marker\":{\"colorbar\":{\"outlinewidth\":0,\"ticks\":\"\"}}}],\"scatterpolar\":[{\"type\":\"scatterpolar\",\"marker\":{\"colorbar\":{\"outlinewidth\":0,\"ticks\":\"\"}}}],\"histogram\":[{\"marker\":{\"pattern\":{\"fillmode\":\"overlay\",\"size\":10,\"solidity\":0.2}},\"type\":\"histogram\"}],\"scattergl\":[{\"type\":\"scattergl\",\"marker\":{\"colorbar\":{\"outlinewidth\":0,\"ticks\":\"\"}}}],\"scatter3d\":[{\"type\":\"scatter3d\",\"line\":{\"colorbar\":{\"outlinewidth\":0,\"ticks\":\"\"}},\"marker\":{\"colorbar\":{\"outlinewidth\":0,\"ticks\":\"\"}}}],\"scattermapbox\":[{\"type\":\"scattermapbox\",\"marker\":{\"colorbar\":{\"outlinewidth\":0,\"ticks\":\"\"}}}],\"scatterternary\":[{\"type\":\"scatterternary\",\"marker\":{\"colorbar\":{\"outlinewidth\":0,\"ticks\":\"\"}}}],\"scattercarpet\":[{\"type\":\"scattercarpet\",\"marker\":{\"colorbar\":{\"outlinewidth\":0,\"ticks\":\"\"}}}],\"carpet\":[{\"aaxis\":{\"endlinecolor\":\"#2a3f5f\",\"gridcolor\":\"white\",\"linecolor\":\"white\",\"minorgridcolor\":\"white\",\"startlinecolor\":\"#2a3f5f\"},\"baxis\":{\"endlinecolor\":\"#2a3f5f\",\"gridcolor\":\"white\",\"linecolor\":\"white\",\"minorgridcolor\":\"white\",\"startlinecolor\":\"#2a3f5f\"},\"type\":\"carpet\"}],\"table\":[{\"cells\":{\"fill\":{\"color\":\"#EBF0F8\"},\"line\":{\"color\":\"white\"}},\"header\":{\"fill\":{\"color\":\"#C8D4E3\"},\"line\":{\"color\":\"white\"}},\"type\":\"table\"}],\"barpolar\":[{\"marker\":{\"line\":{\"color\":\"#E5ECF6\",\"width\":0.5},\"pattern\":{\"fillmode\":\"overlay\",\"size\":10,\"solidity\":0.2}},\"type\":\"barpolar\"}],\"pie\":[{\"automargin\":true,\"type\":\"pie\"}]},\"layout\":{\"autotypenumbers\":\"strict\",\"colorway\":[\"#636efa\",\"#EF553B\",\"#00cc96\",\"#ab63fa\",\"#FFA15A\",\"#19d3f3\",\"#FF6692\",\"#B6E880\",\"#FF97FF\",\"#FECB52\"],\"font\":{\"color\":\"#2a3f5f\"},\"hovermode\":\"closest\",\"hoverlabel\":{\"align\":\"left\"},\"paper_bgcolor\":\"white\",\"plot_bgcolor\":\"#E5ECF6\",\"polar\":{\"bgcolor\":\"#E5ECF6\",\"angularaxis\":{\"gridcolor\":\"white\",\"linecolor\":\"white\",\"ticks\":\"\"},\"radialaxis\":{\"gridcolor\":\"white\",\"linecolor\":\"white\",\"ticks\":\"\"}},\"ternary\":{\"bgcolor\":\"#E5ECF6\",\"aaxis\":{\"gridcolor\":\"white\",\"linecolor\":\"white\",\"ticks\":\"\"},\"baxis\":{\"gridcolor\":\"white\",\"linecolor\":\"white\",\"ticks\":\"\"},\"caxis\":{\"gridcolor\":\"white\",\"linecolor\":\"white\",\"ticks\":\"\"}},\"coloraxis\":{\"colorbar\":{\"outlinewidth\":0,\"ticks\":\"\"}},\"colorscale\":{\"sequential\":[[0.0,\"#0d0887\"],[0.1111111111111111,\"#46039f\"],[0.2222222222222222,\"#7201a8\"],[0.3333333333333333,\"#9c179e\"],[0.4444444444444444,\"#bd3786\"],[0.5555555555555556,\"#d8576b\"],[0.6666666666666666,\"#ed7953\"],[0.7777777777777778,\"#fb9f3a\"],[0.8888888888888888,\"#fdca26\"],[1.0,\"#f0f921\"]],\"sequentialminus\":[[0.0,\"#0d0887\"],[0.1111111111111111,\"#46039f\"],[0.2222222222222222,\"#7201a8\"],[0.3333333333333333,\"#9c179e\"],[0.4444444444444444,\"#bd3786\"],[0.5555555555555556,\"#d8576b\"],[0.6666666666666666,\"#ed7953\"],[0.7777777777777778,\"#fb9f3a\"],[0.8888888888888888,\"#fdca26\"],[1.0,\"#f0f921\"]],\"diverging\":[[0,\"#8e0152\"],[0.1,\"#c51b7d\"],[0.2,\"#de77ae\"],[0.3,\"#f1b6da\"],[0.4,\"#fde0ef\"],[0.5,\"#f7f7f7\"],[0.6,\"#e6f5d0\"],[0.7,\"#b8e186\"],[0.8,\"#7fbc41\"],[0.9,\"#4d9221\"],[1,\"#276419\"]]},\"xaxis\":{\"gridcolor\":\"white\",\"linecolor\":\"white\",\"ticks\":\"\",\"title\":{\"standoff\":15},\"zerolinecolor\":\"white\",\"automargin\":true,\"zerolinewidth\":2},\"yaxis\":{\"gridcolor\":\"white\",\"linecolor\":\"white\",\"ticks\":\"\",\"title\":{\"standoff\":15},\"zerolinecolor\":\"white\",\"automargin\":true,\"zerolinewidth\":2},\"scene\":{\"xaxis\":{\"backgroundcolor\":\"#E5ECF6\",\"gridcolor\":\"white\",\"linecolor\":\"white\",\"showbackground\":true,\"ticks\":\"\",\"zerolinecolor\":\"white\",\"gridwidth\":2},\"yaxis\":{\"backgroundcolor\":\"#E5ECF6\",\"gridcolor\":\"white\",\"linecolor\":\"white\",\"showbackground\":true,\"ticks\":\"\",\"zerolinecolor\":\"white\",\"gridwidth\":2},\"zaxis\":{\"backgroundcolor\":\"#E5ECF6\",\"gridcolor\":\"white\",\"linecolor\":\"white\",\"showbackground\":true,\"ticks\":\"\",\"zerolinecolor\":\"white\",\"gridwidth\":2}},\"shapedefaults\":{\"line\":{\"color\":\"#2a3f5f\"}},\"annotationdefaults\":{\"arrowcolor\":\"#2a3f5f\",\"arrowhead\":0,\"arrowwidth\":1},\"geo\":{\"bgcolor\":\"white\",\"landcolor\":\"#E5ECF6\",\"subunitcolor\":\"white\",\"showland\":true,\"showlakes\":true,\"lakecolor\":\"white\"},\"title\":{\"x\":0.05},\"mapbox\":{\"style\":\"light\"}}},\"scene\":{\"xaxis\":{\"title\":{\"text\":\"\"},\"showticklabels\":false,\"showbackground\":false,\"zerolinecolor\":\"#455A64\"},\"yaxis\":{\"title\":{\"text\":\"\"},\"showticklabels\":false,\"showbackground\":false,\"zerolinecolor\":\"#455A64\"},\"zaxis\":{\"title\":{\"text\":\"\"},\"showticklabels\":false,\"showbackground\":false,\"zerolinecolor\":\"#455A64\"},\"aspectmode\":\"data\"},\"margin\":{\"r\":10,\"l\":10,\"b\":10,\"t\":10},\"width\":700,\"showlegend\":false},                        {\"responsive\": true}                    ).then(function(){\n",
       "                            \n",
       "var gd = document.getElementById('b800d4f9-94a1-4ad3-87db-3bb12e4624f1');\n",
       "var x = new MutationObserver(function (mutations, observer) {{\n",
       "        var display = window.getComputedStyle(gd).display;\n",
       "        if (!display || display === 'none') {{\n",
       "            console.log([gd, 'removed!']);\n",
       "            Plotly.purge(gd);\n",
       "            observer.disconnect();\n",
       "        }}\n",
       "}});\n",
       "\n",
       "// Listen for the removal of the full notebook cells\n",
       "var notebookContainer = gd.closest('#notebook-container');\n",
       "if (notebookContainer) {{\n",
       "    x.observe(notebookContainer, {childList: true});\n",
       "}}\n",
       "\n",
       "// Listen for the clearing of the current output cell\n",
       "var outputEl = gd.closest('.output');\n",
       "if (outputEl) {{\n",
       "    x.observe(outputEl, {childList: true});\n",
       "}}\n",
       "\n",
       "                        })                };                });            </script>        </div>"
      ]
     },
     "metadata": {},
     "output_type": "display_data"
    }
   ],
   "source": [
    "sys = System.create.defect.grain_boundary(axis=[0,0,1], \n",
    "                        sigma=5, \n",
    "                        gb_plane=[3, -1, 0],\n",
    "                        element='Fe')\n",
    "sys.show.all()"
   ]
  },
  {
   "cell_type": "code",
   "execution_count": 4,
   "id": "80170ca2-8f32-4c13-991d-5393da467832",
   "metadata": {},
   "outputs": [
    {
     "name": "stdout",
     "output_type": "stream",
     "text": [
      "The job optimizaiton was saved and received the ID: 9476\n"
     ]
    }
   ],
   "source": [
    "job_opt = pr.create.job.Lammps('optimizaiton')\n",
    "job_opt.structure = pr.create.structure.ase.bulk(\"Fe\", crystalstructure='bcc', cubic=True)\n",
    "job_opt.potential = job_opt.list_potentials()[0]\n",
    "job_opt.calc_minimize(pressure = 0.0)\n",
    "job_opt.run(delete_existing_job=True)"
   ]
  },
  {
   "cell_type": "code",
   "execution_count": 6,
   "id": "f8c75762-94ba-4576-b8fc-a7e71ddddafa",
   "metadata": {},
   "outputs": [
    {
     "data": {
      "text/plain": [
       "\u001b[0;31mSignature:\u001b[0m\n",
       "\u001b[0mjob_opt\u001b[0m\u001b[0;34m.\u001b[0m\u001b[0mcalc_minimize\u001b[0m\u001b[0;34m(\u001b[0m\u001b[0;34m\u001b[0m\n",
       "\u001b[0;34m\u001b[0m    \u001b[0mionic_energy_tolerance\u001b[0m\u001b[0;34m=\u001b[0m\u001b[0;36m0.0\u001b[0m\u001b[0;34m,\u001b[0m\u001b[0;34m\u001b[0m\n",
       "\u001b[0;34m\u001b[0m    \u001b[0mionic_force_tolerance\u001b[0m\u001b[0;34m=\u001b[0m\u001b[0;36m0.0001\u001b[0m\u001b[0;34m,\u001b[0m\u001b[0;34m\u001b[0m\n",
       "\u001b[0;34m\u001b[0m    \u001b[0me_tol\u001b[0m\u001b[0;34m=\u001b[0m\u001b[0;32mNone\u001b[0m\u001b[0;34m,\u001b[0m\u001b[0;34m\u001b[0m\n",
       "\u001b[0;34m\u001b[0m    \u001b[0mf_tol\u001b[0m\u001b[0;34m=\u001b[0m\u001b[0;32mNone\u001b[0m\u001b[0;34m,\u001b[0m\u001b[0;34m\u001b[0m\n",
       "\u001b[0;34m\u001b[0m    \u001b[0mmax_iter\u001b[0m\u001b[0;34m=\u001b[0m\u001b[0;36m100000\u001b[0m\u001b[0;34m,\u001b[0m\u001b[0;34m\u001b[0m\n",
       "\u001b[0;34m\u001b[0m    \u001b[0mpressure\u001b[0m\u001b[0;34m=\u001b[0m\u001b[0;32mNone\u001b[0m\u001b[0;34m,\u001b[0m\u001b[0;34m\u001b[0m\n",
       "\u001b[0;34m\u001b[0m    \u001b[0mn_print\u001b[0m\u001b[0;34m=\u001b[0m\u001b[0;36m100\u001b[0m\u001b[0;34m,\u001b[0m\u001b[0;34m\u001b[0m\n",
       "\u001b[0;34m\u001b[0m    \u001b[0mstyle\u001b[0m\u001b[0;34m=\u001b[0m\u001b[0;34m'cg'\u001b[0m\u001b[0;34m,\u001b[0m\u001b[0;34m\u001b[0m\n",
       "\u001b[0;34m\u001b[0m\u001b[0;34m)\u001b[0m\u001b[0;34m\u001b[0m\u001b[0;34m\u001b[0m\u001b[0m\n",
       "\u001b[0;31mDocstring:\u001b[0m\n",
       "Sets parameters required for minimization.\n",
       "\n",
       "Args:\n",
       "    ionic_energy_tolerance (float): If the magnitude of difference between energies of two consecutive steps is\n",
       "        lower than or equal to `ionic_energy_tolerance`, the minimisation terminates. (Default is 0.0 eV.)\n",
       "    ionic_force_tolerance (float): If the magnitude of the global force vector at a step is lower than or equal\n",
       "        to `ionic_force_tolerance`, the minimisation terminates. (Default is 1e-4 eV/angstrom.)\n",
       "    e_tol (float): Same as ionic_energy_tolerance (deprecated)\n",
       "    f_tol (float): Same as ionic_force_tolerance (deprecated)\n",
       "    max_iter (int): Maximum number of minimisation steps to carry out. If the minimisation converges before\n",
       "        `max_iter` steps, terminate at the converged step. If the minimisation does not converge up to\n",
       "        `max_iter` steps, terminate at the `max_iter` step. (Default is 100000.)\n",
       "    pressure (None/float/numpy.ndarray/list): Target pressure. If set to None, an isochoric (constant V)\n",
       "        calculation is performed. If set to a scalar, the shear of the cell and the ratio of the x, y, and\n",
       "        z components is kept constant, while an isotropic, hydrostatic pressure is applied. A list of up to\n",
       "        length 6 can be given to specify xx, yy, zz, xy, xz, and yz components of the pressure tensor,\n",
       "        respectively. These values can mix floats and `None` to allow only certain degrees of cell freedom\n",
       "        to change. (Default is None, run isochorically.)\n",
       "    n_print (int): Write (dump or print) to the output file every n steps (Default: 100)\n",
       "    style ('cg'/'sd'/other values from Lammps docs): The style of the numeric minimization, either conjugate\n",
       "        gradient, steepest descent, or other keys permissible from the Lammps docs on 'min_style'. (Default\n",
       "        is 'cg' -- conjugate gradient.)\n",
       "    rotation_matrix (numpy.ndarray): The rotation matrix from the pyiron to Lammps coordinate frame.\n",
       "\u001b[0;31mFile:\u001b[0m      ~/miniconda3/envs/pyiron/lib/python3.12/site-packages/pyiron_atomistics/lammps/interactive.py\n",
       "\u001b[0;31mType:\u001b[0m      method"
      ]
     },
     "metadata": {},
     "output_type": "display_data"
    }
   ],
   "source": [
    "job_opt.calc_minimize?"
   ]
  },
  {
   "cell_type": "code",
   "execution_count": 35,
   "id": "2180f19f-f264-456f-8c4d-014a018711ba",
   "metadata": {},
   "outputs": [],
   "source": [
    "opt_str = job_opt.get_structure(-1)"
   ]
  },
  {
   "cell_type": "code",
   "execution_count": 36,
   "id": "e55e4e06-4cb2-4382-82a0-210b1c16fe4f",
   "metadata": {},
   "outputs": [],
   "source": [
    "ref_job = pr.create.job.Lammps('bm_Fe', delete_existing_job=True)"
   ]
  },
  {
   "cell_type": "code",
   "execution_count": 37,
   "id": "d4fa4107-e630-48de-a4ea-059c89cb9bd8",
   "metadata": {},
   "outputs": [
    {
     "name": "stdout",
     "output_type": "stream",
     "text": [
      "The job FeMurn was saved and received the ID: 8216\n",
      "The job FeMurn_0_9 was saved and received the ID: 8217\n",
      "The job FeMurn_0_92 was saved and received the ID: 8218\n",
      "The job FeMurn_0_94 was saved and received the ID: 8219\n",
      "The job FeMurn_0_96 was saved and received the ID: 8220\n",
      "The job FeMurn_0_98 was saved and received the ID: 8221\n",
      "The job FeMurn_1_0 was saved and received the ID: 8222\n",
      "The job FeMurn_1_02 was saved and received the ID: 8223\n",
      "The job FeMurn_1_04 was saved and received the ID: 8224\n",
      "The job FeMurn_1_06 was saved and received the ID: 8225\n",
      "The job FeMurn_1_08 was saved and received the ID: 8226\n",
      "The job FeMurn_1_1 was saved and received the ID: 8227\n"
     ]
    },
    {
     "data": {
      "text/plain": [
       "{'fit_type': 'birchmurnaghan',\n",
       " 'volume_eq': 23.551473397230783,\n",
       " 'energy_eq': -8.632560230122875,\n",
       " 'bulkmodul_eq': 188.9110341394213,\n",
       " 'b_prime_eq': 4.717644320185373,\n",
       " 'least_square_error': array([2.31270049e-04, 5.95782770e-01, 1.67092321e-01, 4.94257839e-03]),\n",
       " 'volume': array([21.19816888, 21.6692393 , 22.14030972, 22.61138014, 23.08245056,\n",
       "        23.55352098, 24.0245914 , 24.49566182, 24.96673223, 25.43780265,\n",
       "        25.90887307]),\n",
       " 'energy': array([-8.46276154, -8.52897698, -8.57691662, -8.60874972, -8.62648541,\n",
       "        -8.6320001 , -8.62689822, -8.6120795 , -8.58823965, -8.55603123,\n",
       "        -8.51606704])}"
      ]
     },
     "execution_count": 37,
     "metadata": {},
     "output_type": "execute_result"
    }
   ],
   "source": [
    "ref_job.structure = opt_str\n",
    "ref_job.potential = ref_job.list_potentials()[0]\n",
    "\n",
    "murn = ref_job.create_job(\"Murnaghan\", \"FeMurn\", delete_existing_job=True)\n",
    "murn.run(delete_existing_job=True)\n",
    "murn.fit_birch_murnaghan()"
   ]
  },
  {
   "cell_type": "code",
   "execution_count": 41,
   "id": "abf80bda-a1d7-4ae5-bfa4-1491a2f941e9",
   "metadata": {},
   "outputs": [],
   "source": [
    "pr = Project('bm_bccFe')"
   ]
  },
  {
   "cell_type": "code",
   "execution_count": 42,
   "id": "88082458-fbb1-4e8a-b4db-f2cbb2e47d08",
   "metadata": {},
   "outputs": [],
   "source": [
    "ref_job = pr.create.job.Lammps('bm_Fe', delete_existing_job=True)"
   ]
  },
  {
   "cell_type": "code",
   "execution_count": 43,
   "id": "aca89418-1529-44f4-b0e5-e827ee1e6e87",
   "metadata": {},
   "outputs": [
    {
     "name": "stdout",
     "output_type": "stream",
     "text": [
      "The job FeMurn was saved and received the ID: 8216\n",
      "The job FeMurn_0_9 was saved and received the ID: 8217\n",
      "The job FeMurn_0_92 was saved and received the ID: 8218\n",
      "The job FeMurn_0_94 was saved and received the ID: 8219\n",
      "The job FeMurn_0_96 was saved and received the ID: 8220\n",
      "The job FeMurn_0_98 was saved and received the ID: 8221\n",
      "The job FeMurn_1_0 was saved and received the ID: 8222\n",
      "The job FeMurn_1_02 was saved and received the ID: 8223\n",
      "The job FeMurn_1_04 was saved and received the ID: 8224\n",
      "The job FeMurn_1_06 was saved and received the ID: 8225\n",
      "The job FeMurn_1_08 was saved and received the ID: 8226\n",
      "The job FeMurn_1_1 was saved and received the ID: 8227\n"
     ]
    },
    {
     "data": {
      "text/plain": [
       "{'fit_type': 'birchmurnaghan',\n",
       " 'volume_eq': 1507.4221704135277,\n",
       " 'energy_eq': -552.485127171933,\n",
       " 'bulkmodul_eq': 189.02207210251296,\n",
       " 'b_prime_eq': 4.613942266032932,\n",
       " 'least_square_error': array([0.0150671 , 0.59419754, 0.17280552, 0.33062962]),\n",
       " 'volume': array([1361.65841273, 1391.91748839, 1422.17656447, 1452.43564024,\n",
       "        1482.69471601, 1512.953792  , 1543.21286764, 1573.47194345,\n",
       "        1603.73101941, 1633.99009516, 1664.24917108]),\n",
       " 'energy': array([-542.40289734, -546.4502235 , -549.34365809, -551.22172667,\n",
       "        -552.21277557, -552.43680634, -551.98999812, -550.92535166,\n",
       "        -549.28734001, -547.11767633, -544.45553164])}"
      ]
     },
     "execution_count": 43,
     "metadata": {},
     "output_type": "execute_result"
    }
   ],
   "source": [
    "ref_job.structure = pr.create.structure.ase.bulk(\"Fe\", crystalstructure='bcc', cubic=True).repeat([4,4,4])\n",
    "ref_job.potential = ref_job.list_potentials()[0]\n",
    "\n",
    "murn = ref_job.create_job(\"Murnaghan\", \"FeMurn\", delete_existing_job=True)\n",
    "murn.run(delete_existing_job=True)\n",
    "murn.fit_birch_murnaghan()"
   ]
  },
  {
   "cell_type": "code",
   "execution_count": 52,
   "id": "702a7838-0991-4d48-8d0d-2178982f9934",
   "metadata": {},
   "outputs": [
    {
     "data": {
      "image/png": "[encoded data removed]",
      "text/plain": [
       "<Figure size 640x480 with 1 Axes>"
      ]
     },
     "metadata": {},
     "output_type": "display_data"
    },
    {
     "data": {
      "text/plain": [
       "<Axes: xlabel='Volume ($\\\\AA^3$)', ylabel='energy (eV)'>"
      ]
     },
     "execution_count": 52,
     "metadata": {},
     "output_type": "execute_result"
    }
   ],
   "source": [
    "murn.plot()"
   ]
  },
  {
   "cell_type": "code",
   "execution_count": 22,
   "id": "bff96b42-4eae-46a7-9d4b-0b8d2f70ebea",
   "metadata": {},
   "outputs": [
    {
     "data": {
      "text/plain": [
       "<Figure size 640x480 with 0 Axes>"
      ]
     },
     "metadata": {},
     "output_type": "display_data"
    }
   ],
   "source": [
    "# plt.savefig('my_figure.png')\n",
    "\n",
    "# plt.figure()\n",
    "# figure = plt.plot(c_H, BM)\n",
    "# plt.xlabel(\"Hydrogen concentration\")\n",
    "# plt.ylabel(\"Bulk modulus\")\n",
    "# plt.savefig('BM.png')\n",
    "# plt.close()"
   ]
  },
  {
   "cell_type": "code",
   "execution_count": 263,
   "id": "74649dcf-ed11-4a7a-9273-8fd567635871",
   "metadata": {},
   "outputs": [],
   "source": [
    "# job_opt = pr.create.job.Lammps('optimization')\n",
    "# job_opt.structure = bulk_sc\n",
    "# job_opt.potential = job_opt.list_potentials()[0]\n",
    "# job_opt.calc_minimize(n_print=10, pressure=0.0)\n",
    "# job_opt.run(delete_existing_job=True)\n",
    "# structure_opted = job_opt.get_structure(frame=-1)"
   ]
  },
  {
   "cell_type": "markdown",
   "id": "7db2a241-611e-4bae-818b-8f6bce562f66",
   "metadata": {},
   "source": [
    "Fe with one H vacancies"
   ]
  },
  {
   "cell_type": "code",
   "execution_count": 329,
   "id": "818c3de1-9ab6-4367-b4da-65ad099aa8a3",
   "metadata": {},
   "outputs": [],
   "source": [
    "# bulk_sc_1vacancis = bulk_sc.copy()\n",
    "# print(len(bulk_sc_1vacancis))\n",
    "# del bulk_sc_1vacancis[np.random.randint(len(bulk_sc_1vacancis))]\n",
    "# print(len(bulk_sc_1vacancis))\n",
    "# bulk_sc_1vacancis.plot3d()"
   ]
  },
  {
   "cell_type": "code",
   "execution_count": 357,
   "id": "10bd577d-a9d7-4506-a3a7-5d3a41f4594c",
   "metadata": {
    "collapsed": true,
    "jupyter": {
     "outputs_hidden": true
    }
   },
   "outputs": [
    {
     "data": {
      "application/vnd.jupyter.widget-view+json": {
       "model_id": "4a38d40accf545f4836847112e932d65",
       "version_major": 2,
       "version_minor": 0
      },
      "text/plain": [
       "NGLWidget()"
      ]
     },
     "metadata": {},
     "output_type": "display_data"
    }
   ],
   "source": [
    "bulk_sc_1vacancis = bulk_sc.copy()\n",
    "bulk_sc_1vacancis[np.random.randint(len(bulk_sc_1vacancis))] = 'H'\n",
    "bulk_sc_1vacancis.plot3d()"
   ]
  },
  {
   "cell_type": "code",
   "execution_count": 363,
   "id": "c2943ec0-24fc-434e-a3c4-70689d741f11",
   "metadata": {},
   "outputs": [
    {
     "name": "stdout",
     "output_type": "stream",
     "text": [
      "The job optimization was saved and received the ID: 115\n"
     ]
    },
    {
     "data": {
      "application/vnd.jupyter.widget-view+json": {
       "model_id": "b1fbc9e2c68047d9a281c0cd60c7b545",
       "version_major": 2,
       "version_minor": 0
      },
      "text/plain": [
       "NGLWidget(max_frame=22)"
      ]
     },
     "metadata": {},
     "output_type": "display_data"
    }
   ],
   "source": [
    "# structure relaxation\n",
    "job_opt = pr.create.job.Lammps('optimization', delete_existing_job=True)\n",
    "job_opt.structure = bulk_sc_1vacancis\n",
    "job_opt.potential = job_opt.list_potentials()[1]\n",
    "job_opt.calc_minimize(n_print=10, pressure=0.0)\n",
    "job_opt.run(delete_existing_job=True)\n",
    "structure_opted = job_opt.get_structure(frame=-1)\n",
    "job_opt.animate_structures()"
   ]
  },
  {
   "cell_type": "code",
   "execution_count": 366,
   "id": "12f94eed-a5e4-4be9-b0bf-e5c5ea1a6d0e",
   "metadata": {},
   "outputs": [
    {
     "name": "stdout",
     "output_type": "stream",
     "text": [
      "The job FeMurn1 was saved and received the ID: 116\n",
      "The job FeMurn1_0_9 was saved and received the ID: 117\n",
      "The job FeMurn1_0_92 was saved and received the ID: 118\n",
      "The job FeMurn1_0_94 was saved and received the ID: 119\n",
      "The job FeMurn1_0_96 was saved and received the ID: 120\n",
      "The job FeMurn1_0_98 was saved and received the ID: 121\n",
      "The job FeMurn1_1_0 was saved and received the ID: 122\n",
      "The job FeMurn1_1_02 was saved and received the ID: 123\n",
      "The job FeMurn1_1_04 was saved and received the ID: 124\n",
      "The job FeMurn1_1_06 was saved and received the ID: 125\n",
      "The job FeMurn1_1_08 was saved and received the ID: 126\n",
      "The job FeMurn1_1_1 was saved and received the ID: 127\n"
     ]
    },
    {
     "data": {
      "text/plain": [
       "{'fit_type': 'birchmurnaghan',\n",
       " 'volume_eq': 1506.0423046814922,\n",
       " 'energy_eq': -546.2792068719419,\n",
       " 'bulkmodul_eq': 186.86579060755548,\n",
       " 'b_prime_eq': 4.610210331940922,\n",
       " 'least_square_error': array([0.01479726, 0.58403608, 0.17246593, 0.33011989]),\n",
       " 'volume': array([1361.65841273, 1391.91748839, 1422.17656447, 1452.43564024,\n",
       "        1482.69471601, 1512.953792  , 1543.21286764, 1573.47194345,\n",
       "        1603.73101941, 1633.99009516, 1664.24917108]),\n",
       " 'energy': array([-536.50846824, -540.46058982, -543.27675597, -545.09334503,\n",
       "        -546.03671401, -546.22500454, -545.75290715, -544.67260782,\n",
       "        -543.02789738, -540.85984929, -538.20703402])}"
      ]
     },
     "execution_count": 366,
     "metadata": {},
     "output_type": "execute_result"
    }
   ],
   "source": [
    "# BM BY Murnaghan\n",
    "job_1vancancie = pr.create.job.Lammps('bm_Fe_1vacancies', delete_existing_job=True)\n",
    "job_1vancancie.structure = structure_opted\n",
    "job_1vancancie.potential = job_1vancancie.list_potentials()[1]\n",
    "murn1 = job_1vancancie.create_job(\"Murnaghan\", \"FeMurn1\")\n",
    "murn1.run(delete_existing_job=True)\n",
    "murn1.fit_birch_murnaghan()"
   ]
  },
  {
   "cell_type": "code",
   "execution_count": 367,
   "id": "5caefeb5-0daf-4c5d-9c46-8685a3c17933",
   "metadata": {},
   "outputs": [],
   "source": [
    "# job_1vancancie = pr.create.job.Lammps('bm_Fe_1vacancies', delete_existing_job=True)\n",
    "# job_1vancancie.structure = structure_opted\n",
    "# job_1vancancie.potential = potential\n",
    "# murn1 = job_1vancancie.create_job(\"Murnaghan\", \"FeMurn1\")\n",
    "# murn1.run(delete_existing_job=True)\n",
    "# murn1.fit_birch_murnaghan()\n",
    "# murn1.plot()"
   ]
  },
  {
   "cell_type": "code",
   "execution_count": null,
   "id": "f242761b-0cd0-47fd-8db0-7c6cf73e3df7",
   "metadata": {},
   "outputs": [],
   "source": []
  },
  {
   "cell_type": "markdown",
   "id": "a3a39896-9df1-4de8-b513-ffe0337aa38a",
   "metadata": {},
   "source": [
    "Fe with two H"
   ]
  },
  {
   "cell_type": "code",
   "execution_count": 379,
   "id": "66c75dcc-74d9-4931-9e98-8684ce5acc24",
   "metadata": {},
   "outputs": [
    {
     "data": {
      "application/vnd.jupyter.widget-view+json": {
       "model_id": "eb61e27e38ac47ef97526453a63d0a06",
       "version_major": 2,
       "version_minor": 0
      },
      "text/plain": [
       "NGLWidget()"
      ]
     },
     "metadata": {},
     "output_type": "display_data"
    }
   ],
   "source": [
    "bulk_2vacancies = bulk_sc.copy()\n",
    "N_H = 2\n",
    "bulk_2vacancies[np.random.permutation(len(bulk_2vacancies))[:N_H]] = 'H'\n",
    "bulk_2vacancies.plot3d()"
   ]
  },
  {
   "cell_type": "code",
   "execution_count": 380,
   "id": "7e8a160a-708d-4ecf-a7a6-ff94eb4eddba",
   "metadata": {},
   "outputs": [
    {
     "name": "stdout",
     "output_type": "stream",
     "text": [
      "The job optimization was saved and received the ID: 128\n"
     ]
    },
    {
     "data": {
      "application/vnd.jupyter.widget-view+json": {
       "model_id": "dd6080949ec54544a64a5bf3194707ab",
       "version_major": 2,
       "version_minor": 0
      },
      "text/plain": [
       "NGLWidget(max_frame=155)"
      ]
     },
     "metadata": {},
     "output_type": "display_data"
    }
   ],
   "source": [
    "# structure relaxation\n",
    "job_opt = pr.create.job.Lammps('optimization', delete_existing_job=True)\n",
    "job_opt.structure = bulk_2vacancies\n",
    "job_opt.potential = job_opt.list_potentials()[1]\n",
    "job_opt.calc_minimize(n_print=10, pressure=0.0)\n",
    "job_opt.run(delete_existing_job=True)\n",
    "structure_opted = job_opt.get_structure(frame=-1)\n",
    "job_opt.animate_structures()"
   ]
  },
  {
   "cell_type": "code",
   "execution_count": 383,
   "id": "3b6eed93-4223-4e6e-9586-2e8b80b3c812",
   "metadata": {},
   "outputs": [
    {
     "name": "stdout",
     "output_type": "stream",
     "text": [
      "The job FeMurn2 was saved and received the ID: 141\n",
      "The job FeMurn2_0_9 was saved and received the ID: 142\n",
      "The job FeMurn2_0_92 was saved and received the ID: 143\n",
      "The job FeMurn2_0_94 was saved and received the ID: 144\n",
      "The job FeMurn2_0_96 was saved and received the ID: 145\n",
      "The job FeMurn2_0_98 was saved and received the ID: 146\n",
      "The job FeMurn2_1_0 was saved and received the ID: 147\n",
      "The job FeMurn2_1_02 was saved and received the ID: 148\n",
      "The job FeMurn2_1_04 was saved and received the ID: 149\n",
      "The job FeMurn2_1_06 was saved and received the ID: 150\n",
      "The job FeMurn2_1_08 was saved and received the ID: 151\n",
      "The job FeMurn2_1_1 was saved and received the ID: 152\n"
     ]
    },
    {
     "data": {
      "text/plain": [
       "{'fit_type': 'birchmurnaghan',\n",
       " 'volume_eq': 1484.846400318569,\n",
       " 'energy_eq': -510.24389895956386,\n",
       " 'bulkmodul_eq': 171.9412281430917,\n",
       " 'b_prime_eq': 3.1661305209691886,\n",
       " 'least_square_error': array([0.01093332, 0.45327841, 0.13571108, 0.25855383]),\n",
       " 'volume': array([1336.39272064, 1366.09033675, 1395.78795276, 1425.48556871,\n",
       "        1455.18318462, 1484.88080065, 1514.57841662, 1544.2760326 ,\n",
       "        1573.97364876, 1603.67126475, 1633.36888086]),\n",
       " 'energy': array([-501.05999022, -504.51306276, -507.10370179, -508.89256525,\n",
       "        -509.93100875, -510.26580879, -509.94850973, -509.03122814,\n",
       "        -507.57200324, -505.639199  , -503.29846785])}"
      ]
     },
     "execution_count": 383,
     "metadata": {},
     "output_type": "execute_result"
    }
   ],
   "source": [
    "# BM WITH Murnaghan\n",
    "job_2vancancie = pr.create.job.Lammps('bm_Fe_1vacancies', delete_existing_job=True)\n",
    "job_2vancancie.structure = structure_opted\n",
    "job_2vancancie.potential = job_2vancancie.list_potentials()[1]\n",
    "murn2 = job_1vancancie.create_job(\"Murnaghan\", \"FeMurn2\", delete_existing_job=True)\n",
    "murn2.run(delete_existing_job=True)\n",
    "murn2.fit_birch_murnaghan()"
   ]
  },
  {
   "cell_type": "code",
   "execution_count": 23,
   "id": "d239c02a-185a-414e-9700-722c6f0a6435",
   "metadata": {
    "collapsed": true,
    "jupyter": {
     "outputs_hidden": true
    }
   },
   "outputs": [
    {
     "data": {
      "text/plain": [
       "Fe: [0. 0. 0.]\n",
       "Fe: [1.435 1.435 1.435]\n",
       "Fe: [0.   0.   2.87]\n",
       "Fe: [1.435 1.435 4.305]\n",
       "Fe: [0.   0.   5.74]\n",
       "H: [1.435 1.435 7.175]\n",
       "Fe: [0.   2.87 0.  ]\n",
       "Fe: [1.435 4.305 1.435]\n",
       "Fe: [0.   2.87 2.87]\n",
       "Fe: [1.435 4.305 4.305]\n",
       "Fe: [0.   2.87 5.74]\n",
       "Fe: [1.435 4.305 7.175]\n",
       "Fe: [0.   5.74 0.  ]\n",
       "Fe: [1.435 7.175 1.435]\n",
       "Fe: [0.   5.74 2.87]\n",
       "Fe: [1.435 7.175 4.305]\n",
       "Fe: [0.   5.74 5.74]\n",
       "Fe: [1.435 7.175 7.175]\n",
       "Fe: [2.87 0.   0.  ]\n",
       "Fe: [4.305 1.435 1.435]\n",
       "Fe: [2.87 0.   2.87]\n",
       "Fe: [4.305 1.435 4.305]\n",
       "Fe: [2.87 0.   5.74]\n",
       "Fe: [4.305 1.435 7.175]\n",
       "Fe: [2.87 2.87 0.  ]\n",
       "Fe: [4.305 4.305 1.435]\n",
       "Fe: [2.87 2.87 2.87]\n",
       "Fe: [4.305 4.305 4.305]\n",
       "Fe: [2.87 2.87 5.74]\n",
       "Fe: [4.305 4.305 7.175]\n",
       "Fe: [2.87 5.74 0.  ]\n",
       "Fe: [4.305 7.175 1.435]\n",
       "Fe: [2.87 5.74 2.87]\n",
       "Fe: [4.305 7.175 4.305]\n",
       "Fe: [2.87 5.74 5.74]\n",
       "Fe: [4.305 7.175 7.175]\n",
       "Fe: [5.74 0.   0.  ]\n",
       "Fe: [7.175 1.435 1.435]\n",
       "Fe: [5.74 0.   2.87]\n",
       "Fe: [7.175 1.435 4.305]\n",
       "Fe: [5.74 0.   5.74]\n",
       "Fe: [7.175 1.435 7.175]\n",
       "Fe: [5.74 2.87 0.  ]\n",
       "Fe: [7.175 4.305 1.435]\n",
       "Fe: [5.74 2.87 2.87]\n",
       "Fe: [7.175 4.305 4.305]\n",
       "Fe: [5.74 2.87 5.74]\n",
       "Fe: [7.175 4.305 7.175]\n",
       "Fe: [5.74 5.74 0.  ]\n",
       "Fe: [7.175 7.175 1.435]\n",
       "Fe: [5.74 5.74 2.87]\n",
       "Fe: [7.175 7.175 4.305]\n",
       "Fe: [5.74 5.74 5.74]\n",
       "Fe: [7.175 7.175 7.175]\n",
       "tags: \n",
       "    indices: [0 0 0 0 0 1 0 0 0 0 0 0 0 0 0 0 0 0 0 0 0 0 0 0 0 0 0 0 0 0 0 0 0 0 0 0 0\n",
       " 0 0 0 0 0 0 0 0 0 0 0 0 0 0 0 0 0]\n",
       "pbc: [ True  True  True]\n",
       "cell: \n",
       "Cell([8.61, 8.61, 8.61])"
      ]
     },
     "execution_count": 23,
     "metadata": {},
     "output_type": "execute_result"
    }
   ],
   "source": [
    "bulk_vacancies = bulk_sc.copy()\n",
    "bulk_vacancies[5] = 'H'\n",
    "bulk_vacancies\n"
   ]
  },
  {
   "cell_type": "code",
   "execution_count": 27,
   "id": "90cc000e-8135-4cf8-8440-33882fa033bb",
   "metadata": {
    "collapsed": true,
    "jupyter": {
     "outputs_hidden": true
    }
   },
   "outputs": [
    {
     "data": {
      "text/plain": [
       "Fe: [0. 0. 0.]\n",
       "Fe: [1.435 1.435 1.435]\n",
       "Fe: [0.   0.   2.87]\n",
       "Fe: [1.435 1.435 4.305]\n",
       "H: [0.   0.   5.74]\n",
       "H: [1.435 1.435 7.175]\n",
       "Fe: [0.   2.87 0.  ]\n",
       "H: [1.435 4.305 1.435]\n",
       "Fe: [0.   2.87 2.87]\n",
       "Fe: [1.435 4.305 4.305]\n",
       "Fe: [0.   2.87 5.74]\n",
       "Fe: [1.435 4.305 7.175]\n",
       "Fe: [0.   5.74 0.  ]\n",
       "Fe: [1.435 7.175 1.435]\n",
       "Fe: [0.   5.74 2.87]\n",
       "Fe: [1.435 7.175 4.305]\n",
       "Fe: [0.   5.74 5.74]\n",
       "Fe: [1.435 7.175 7.175]\n",
       "Fe: [2.87 0.   0.  ]\n",
       "Fe: [4.305 1.435 1.435]\n",
       "Fe: [2.87 0.   2.87]\n",
       "Fe: [4.305 1.435 4.305]\n",
       "Fe: [2.87 0.   5.74]\n",
       "Fe: [4.305 1.435 7.175]\n",
       "Fe: [2.87 2.87 0.  ]\n",
       "Fe: [4.305 4.305 1.435]\n",
       "Fe: [2.87 2.87 2.87]\n",
       "Fe: [4.305 4.305 4.305]\n",
       "Fe: [2.87 2.87 5.74]\n",
       "Fe: [4.305 4.305 7.175]\n",
       "Fe: [2.87 5.74 0.  ]\n",
       "Fe: [4.305 7.175 1.435]\n",
       "Fe: [2.87 5.74 2.87]\n",
       "Fe: [4.305 7.175 4.305]\n",
       "Fe: [2.87 5.74 5.74]\n",
       "Fe: [4.305 7.175 7.175]\n",
       "Fe: [5.74 0.   0.  ]\n",
       "Fe: [7.175 1.435 1.435]\n",
       "Fe: [5.74 0.   2.87]\n",
       "Fe: [7.175 1.435 4.305]\n",
       "Fe: [5.74 0.   5.74]\n",
       "Fe: [7.175 1.435 7.175]\n",
       "Fe: [5.74 2.87 0.  ]\n",
       "Fe: [7.175 4.305 1.435]\n",
       "Fe: [5.74 2.87 2.87]\n",
       "Fe: [7.175 4.305 4.305]\n",
       "Fe: [5.74 2.87 5.74]\n",
       "Fe: [7.175 4.305 7.175]\n",
       "Fe: [5.74 5.74 0.  ]\n",
       "Fe: [7.175 7.175 1.435]\n",
       "Fe: [5.74 5.74 2.87]\n",
       "Fe: [7.175 7.175 4.305]\n",
       "Fe: [5.74 5.74 5.74]\n",
       "Fe: [7.175 7.175 7.175]\n",
       "tags: \n",
       "    indices: [0 0 0 0 1 1 0 1 0 0 0 0 0 0 0 0 0 0 0 0 0 0 0 0 0 0 0 0 0 0 0 0 0 0 0 0 0\n",
       " 0 0 0 0 0 0 0 0 0 0 0 0 0 0 0 0 0]\n",
       "pbc: [ True  True  True]\n",
       "cell: \n",
       "Cell([8.61, 8.61, 8.61])"
      ]
     },
     "execution_count": 27,
     "metadata": {},
     "output_type": "execute_result"
    }
   ],
   "source": [
    "bulk_vacancies[4] = 'H'\n",
    "bulk_vacancies"
   ]
  },
  {
   "cell_type": "code",
   "execution_count": null,
   "id": "572dd420-265d-4d9a-a19e-26798f8fa639",
   "metadata": {},
   "outputs": [],
   "source": []
  },
  {
   "cell_type": "markdown",
   "id": "0dc7f448-bd7e-4394-af2a-a0c09573ac48",
   "metadata": {},
   "source": [
    "Fe with n H"
   ]
  },
  {
   "cell_type": "code",
   "execution_count": 1,
   "id": "c70356bf-9393-4e4d-aab6-9dd4d72160b8",
   "metadata": {},
   "outputs": [
    {
     "data": {
      "application/vnd.jupyter.widget-view+json": {
       "model_id": "d95f8f3f6a0b4e288795a2c304a78207",
       "version_major": 2,
       "version_minor": 0
      },
      "text/plain": []
     },
     "metadata": {},
     "output_type": "display_data"
    }
   ],
   "source": [
    "from pyiron import Project\n",
    "import numpy as np\n",
    "import matplotlib.pylab as plt"
   ]
  },
  {
   "cell_type": "code",
   "execution_count": 28,
   "id": "d1377734-d738-4a5e-9d63-bdbfd790742f",
   "metadata": {
    "collapsed": true,
    "jupyter": {
     "outputs_hidden": true
    }
   },
   "outputs": [
    {
     "name": "stdout",
     "output_type": "stream",
     "text": [
      "The job optimization0 was saved and received the ID: 1884\n",
      "The job FeMurn0 was saved and received the ID: 1885\n",
      "The job FeMurn0_0_9 was saved and received the ID: 1886\n",
      "The job FeMurn0_0_92 was saved and received the ID: 1887\n",
      "The job FeMurn0_0_94 was saved and received the ID: 1888\n",
      "The job FeMurn0_0_96 was saved and received the ID: 1889\n",
      "The job FeMurn0_0_98 was saved and received the ID: 1890\n",
      "The job FeMurn0_1_0 was saved and received the ID: 1891\n",
      "The job FeMurn0_1_02 was saved and received the ID: 1892\n",
      "The job FeMurn0_1_04 was saved and received the ID: 1893\n",
      "The job FeMurn0_1_06 was saved and received the ID: 1894\n",
      "The job FeMurn0_1_08 was saved and received the ID: 1895\n",
      "The job FeMurn0_1_1 was saved and received the ID: 1896\n",
      "The job optimization1 was saved and received the ID: 1897\n",
      "The job FeMurn1 was saved and received the ID: 1898\n",
      "The job FeMurn1_0_9 was saved and received the ID: 1899\n",
      "The job FeMurn1_0_92 was saved and received the ID: 1900\n",
      "The job FeMurn1_0_94 was saved and received the ID: 1901\n",
      "The job FeMurn1_0_96 was saved and received the ID: 1902\n",
      "The job FeMurn1_0_98 was saved and received the ID: 1903\n",
      "The job FeMurn1_1_0 was saved and received the ID: 1904\n",
      "The job FeMurn1_1_02 was saved and received the ID: 1905\n",
      "The job FeMurn1_1_04 was saved and received the ID: 1906\n",
      "The job FeMurn1_1_06 was saved and received the ID: 1907\n",
      "The job FeMurn1_1_08 was saved and received the ID: 1908\n",
      "The job FeMurn1_1_1 was saved and received the ID: 1909\n",
      "The job optimization2 was saved and received the ID: 1910\n",
      "The job FeMurn2 was saved and received the ID: 1911\n",
      "The job FeMurn2_0_9 was saved and received the ID: 1912\n",
      "The job FeMurn2_0_92 was saved and received the ID: 1913\n",
      "The job FeMurn2_0_94 was saved and received the ID: 1914\n",
      "The job FeMurn2_0_96 was saved and received the ID: 1915\n",
      "The job FeMurn2_0_98 was saved and received the ID: 1916\n",
      "The job FeMurn2_1_0 was saved and received the ID: 1917\n",
      "The job FeMurn2_1_02 was saved and received the ID: 1918\n",
      "The job FeMurn2_1_04 was saved and received the ID: 1919\n",
      "The job FeMurn2_1_06 was saved and received the ID: 1920\n",
      "The job FeMurn2_1_08 was saved and received the ID: 1921\n",
      "The job FeMurn2_1_1 was saved and received the ID: 1922\n",
      "The job optimization3 was saved and received the ID: 1923\n",
      "The job FeMurn3 was saved and received the ID: 1924\n",
      "The job FeMurn3_0_9 was saved and received the ID: 1925\n",
      "The job FeMurn3_0_92 was saved and received the ID: 1926\n",
      "The job FeMurn3_0_94 was saved and received the ID: 1927\n",
      "The job FeMurn3_0_96 was saved and received the ID: 1928\n",
      "The job FeMurn3_0_98 was saved and received the ID: 1929\n",
      "The job FeMurn3_1_0 was saved and received the ID: 1930\n",
      "The job FeMurn3_1_02 was saved and received the ID: 1931\n",
      "The job FeMurn3_1_04 was saved and received the ID: 1932\n",
      "The job FeMurn3_1_06 was saved and received the ID: 1933\n",
      "The job FeMurn3_1_08 was saved and received the ID: 1934\n",
      "The job FeMurn3_1_1 was saved and received the ID: 1935\n",
      "The job optimization4 was saved and received the ID: 1936\n",
      "The job FeMurn4 was saved and received the ID: 1937\n",
      "The job FeMurn4_0_9 was saved and received the ID: 1938\n",
      "The job FeMurn4_0_92 was saved and received the ID: 1939\n",
      "The job FeMurn4_0_94 was saved and received the ID: 1940\n",
      "The job FeMurn4_0_96 was saved and received the ID: 1941\n",
      "The job FeMurn4_0_98 was saved and received the ID: 1942\n",
      "The job FeMurn4_1_0 was saved and received the ID: 1943\n",
      "The job FeMurn4_1_02 was saved and received the ID: 1944\n",
      "The job FeMurn4_1_04 was saved and received the ID: 1945\n",
      "The job FeMurn4_1_06 was saved and received the ID: 1946\n",
      "The job FeMurn4_1_08 was saved and received the ID: 1947\n",
      "The job FeMurn4_1_1 was saved and received the ID: 1948\n",
      "The job optimization5 was saved and received the ID: 1949\n",
      "The job FeMurn5 was saved and received the ID: 1950\n",
      "The job FeMurn5_0_9 was saved and received the ID: 1951\n",
      "The job FeMurn5_0_92 was saved and received the ID: 1952\n",
      "The job FeMurn5_0_94 was saved and received the ID: 1953\n",
      "The job FeMurn5_0_96 was saved and received the ID: 1954\n",
      "The job FeMurn5_0_98 was saved and received the ID: 1955\n",
      "The job FeMurn5_1_0 was saved and received the ID: 1956\n",
      "The job FeMurn5_1_02 was saved and received the ID: 1957\n",
      "The job FeMurn5_1_04 was saved and received the ID: 1958\n",
      "The job FeMurn5_1_06 was saved and received the ID: 1959\n",
      "The job FeMurn5_1_08 was saved and received the ID: 1960\n",
      "The job FeMurn5_1_1 was saved and received the ID: 1961\n",
      "The job optimization6 was saved and received the ID: 1962\n",
      "The job FeMurn6 was saved and received the ID: 1963\n",
      "The job FeMurn6_0_9 was saved and received the ID: 1964\n",
      "The job FeMurn6_0_92 was saved and received the ID: 1965\n",
      "The job FeMurn6_0_94 was saved and received the ID: 1966\n",
      "The job FeMurn6_0_96 was saved and received the ID: 1967\n",
      "The job FeMurn6_0_98 was saved and received the ID: 1968\n",
      "The job FeMurn6_1_0 was saved and received the ID: 1969\n",
      "The job FeMurn6_1_02 was saved and received the ID: 1970\n",
      "The job FeMurn6_1_04 was saved and received the ID: 1971\n",
      "The job FeMurn6_1_06 was saved and received the ID: 1972\n",
      "The job FeMurn6_1_08 was saved and received the ID: 1973\n",
      "The job FeMurn6_1_1 was saved and received the ID: 1974\n",
      "The job optimization7 was saved and received the ID: 1975\n",
      "The job FeMurn7 was saved and received the ID: 1976\n",
      "The job FeMurn7_0_9 was saved and received the ID: 1977\n",
      "The job FeMurn7_0_92 was saved and received the ID: 1978\n",
      "The job FeMurn7_0_94 was saved and received the ID: 1979\n",
      "The job FeMurn7_0_96 was saved and received the ID: 1980\n",
      "The job FeMurn7_0_98 was saved and received the ID: 1981\n",
      "The job FeMurn7_1_0 was saved and received the ID: 1982\n",
      "The job FeMurn7_1_02 was saved and received the ID: 1983\n",
      "The job FeMurn7_1_04 was saved and received the ID: 1984\n",
      "The job FeMurn7_1_06 was saved and received the ID: 1985\n",
      "The job FeMurn7_1_08 was saved and received the ID: 1986\n",
      "The job FeMurn7_1_1 was saved and received the ID: 1987\n",
      "The job optimization8 was saved and received the ID: 1988\n",
      "The job FeMurn8 was saved and received the ID: 1989\n",
      "The job FeMurn8_0_9 was saved and received the ID: 1990\n",
      "The job FeMurn8_0_92 was saved and received the ID: 1991\n",
      "The job FeMurn8_0_94 was saved and received the ID: 1992\n",
      "The job FeMurn8_0_96 was saved and received the ID: 1993\n",
      "The job FeMurn8_0_98 was saved and received the ID: 1994\n",
      "The job FeMurn8_1_0 was saved and received the ID: 1995\n",
      "The job FeMurn8_1_02 was saved and received the ID: 1996\n",
      "The job FeMurn8_1_04 was saved and received the ID: 1997\n",
      "The job FeMurn8_1_06 was saved and received the ID: 1998\n",
      "The job FeMurn8_1_08 was saved and received the ID: 1999\n",
      "The job FeMurn8_1_1 was saved and received the ID: 2000\n",
      "The job optimization9 was saved and received the ID: 2001\n",
      "The job FeMurn9 was saved and received the ID: 2002\n",
      "The job FeMurn9_0_9 was saved and received the ID: 2003\n",
      "The job FeMurn9_0_92 was saved and received the ID: 2004\n",
      "The job FeMurn9_0_94 was saved and received the ID: 2005\n",
      "The job FeMurn9_0_96 was saved and received the ID: 2006\n",
      "The job FeMurn9_0_98 was saved and received the ID: 2007\n",
      "The job FeMurn9_1_0 was saved and received the ID: 2008\n",
      "The job FeMurn9_1_02 was saved and received the ID: 2009\n",
      "The job FeMurn9_1_04 was saved and received the ID: 2010\n",
      "The job FeMurn9_1_06 was saved and received the ID: 2011\n",
      "The job FeMurn9_1_08 was saved and received the ID: 2012\n",
      "The job FeMurn9_1_1 was saved and received the ID: 2013\n",
      "The job optimization10 was saved and received the ID: 2014\n",
      "The job FeMurn10 was saved and received the ID: 2015\n",
      "The job FeMurn10_0_9 was saved and received the ID: 2016\n",
      "The job FeMurn10_0_92 was saved and received the ID: 2017\n",
      "The job FeMurn10_0_94 was saved and received the ID: 2018\n",
      "The job FeMurn10_0_96 was saved and received the ID: 2019\n",
      "The job FeMurn10_0_98 was saved and received the ID: 2020\n",
      "The job FeMurn10_1_0 was saved and received the ID: 2021\n",
      "The job FeMurn10_1_02 was saved and received the ID: 2022\n",
      "The job FeMurn10_1_04 was saved and received the ID: 2023\n",
      "The job FeMurn10_1_06 was saved and received the ID: 2024\n",
      "The job FeMurn10_1_08 was saved and received the ID: 2025\n",
      "The job FeMurn10_1_1 was saved and received the ID: 2026\n",
      "The job optimization11 was saved and received the ID: 2027\n",
      "The job FeMurn11 was saved and received the ID: 2028\n",
      "The job FeMurn11_0_9 was saved and received the ID: 2029\n",
      "The job FeMurn11_0_92 was saved and received the ID: 2030\n",
      "The job FeMurn11_0_94 was saved and received the ID: 2031\n",
      "The job FeMurn11_0_96 was saved and received the ID: 2032\n",
      "The job FeMurn11_0_98 was saved and received the ID: 2033\n",
      "The job FeMurn11_1_0 was saved and received the ID: 2034\n",
      "The job FeMurn11_1_02 was saved and received the ID: 2035\n",
      "The job FeMurn11_1_04 was saved and received the ID: 2036\n",
      "The job FeMurn11_1_06 was saved and received the ID: 2037\n",
      "The job FeMurn11_1_08 was saved and received the ID: 2038\n",
      "The job FeMurn11_1_1 was saved and received the ID: 2039\n",
      "The job optimization12 was saved and received the ID: 2040\n",
      "The job FeMurn12 was saved and received the ID: 2041\n",
      "The job FeMurn12_0_9 was saved and received the ID: 2042\n",
      "The job FeMurn12_0_92 was saved and received the ID: 2043\n",
      "The job FeMurn12_0_94 was saved and received the ID: 2044\n",
      "The job FeMurn12_0_96 was saved and received the ID: 2045\n",
      "The job FeMurn12_0_98 was saved and received the ID: 2046\n",
      "The job FeMurn12_1_0 was saved and received the ID: 2047\n",
      "The job FeMurn12_1_02 was saved and received the ID: 2048\n",
      "The job FeMurn12_1_04 was saved and received the ID: 2049\n",
      "The job FeMurn12_1_06 was saved and received the ID: 2050\n",
      "The job FeMurn12_1_08 was saved and received the ID: 2051\n",
      "The job FeMurn12_1_1 was saved and received the ID: 2052\n",
      "The job optimization13 was saved and received the ID: 2053\n",
      "The job FeMurn13 was saved and received the ID: 2054\n",
      "The job FeMurn13_0_9 was saved and received the ID: 2055\n",
      "The job FeMurn13_0_92 was saved and received the ID: 2056\n",
      "The job FeMurn13_0_94 was saved and received the ID: 2057\n",
      "The job FeMurn13_0_96 was saved and received the ID: 2058\n",
      "The job FeMurn13_0_98 was saved and received the ID: 2059\n",
      "The job FeMurn13_1_0 was saved and received the ID: 2060\n",
      "The job FeMurn13_1_02 was saved and received the ID: 2061\n",
      "The job FeMurn13_1_04 was saved and received the ID: 2062\n",
      "The job FeMurn13_1_06 was saved and received the ID: 2063\n",
      "The job FeMurn13_1_08 was saved and received the ID: 2064\n",
      "The job FeMurn13_1_1 was saved and received the ID: 2065\n",
      "The job optimization14 was saved and received the ID: 2066\n",
      "The job FeMurn14 was saved and received the ID: 2067\n",
      "The job FeMurn14_0_9 was saved and received the ID: 2068\n",
      "The job FeMurn14_0_92 was saved and received the ID: 2069\n",
      "The job FeMurn14_0_94 was saved and received the ID: 2070\n",
      "The job FeMurn14_0_96 was saved and received the ID: 2071\n",
      "The job FeMurn14_0_98 was saved and received the ID: 2072\n",
      "The job FeMurn14_1_0 was saved and received the ID: 2073\n",
      "The job FeMurn14_1_02 was saved and received the ID: 2074\n",
      "The job FeMurn14_1_04 was saved and received the ID: 2075\n",
      "The job FeMurn14_1_06 was saved and received the ID: 2076\n",
      "The job FeMurn14_1_08 was saved and received the ID: 2077\n",
      "The job FeMurn14_1_1 was saved and received the ID: 2078\n",
      "The job optimization15 was saved and received the ID: 2079\n",
      "The job FeMurn15 was saved and received the ID: 2080\n",
      "The job FeMurn15_0_9 was saved and received the ID: 2081\n",
      "The job FeMurn15_0_92 was saved and received the ID: 2082\n",
      "The job FeMurn15_0_94 was saved and received the ID: 2083\n",
      "The job FeMurn15_0_96 was saved and received the ID: 2084\n",
      "The job FeMurn15_0_98 was saved and received the ID: 2085\n",
      "The job FeMurn15_1_0 was saved and received the ID: 2086\n",
      "The job FeMurn15_1_02 was saved and received the ID: 2087\n",
      "The job FeMurn15_1_04 was saved and received the ID: 2088\n",
      "The job FeMurn15_1_06 was saved and received the ID: 2089\n",
      "The job FeMurn15_1_08 was saved and received the ID: 2090\n",
      "The job FeMurn15_1_1 was saved and received the ID: 2091\n",
      "The job optimization16 was saved and received the ID: 2092\n",
      "The job FeMurn16 was saved and received the ID: 2093\n",
      "The job FeMurn16_0_9 was saved and received the ID: 2094\n",
      "The job FeMurn16_0_92 was saved and received the ID: 2095\n",
      "The job FeMurn16_0_94 was saved and received the ID: 2096\n",
      "The job FeMurn16_0_96 was saved and received the ID: 2097\n",
      "The job FeMurn16_0_98 was saved and received the ID: 2098\n",
      "The job FeMurn16_1_0 was saved and received the ID: 2099\n",
      "The job FeMurn16_1_02 was saved and received the ID: 2100\n",
      "The job FeMurn16_1_04 was saved and received the ID: 2101\n",
      "The job FeMurn16_1_06 was saved and received the ID: 2102\n",
      "The job FeMurn16_1_08 was saved and received the ID: 2103\n",
      "The job FeMurn16_1_1 was saved and received the ID: 2104\n",
      "The job optimization17 was saved and received the ID: 2105\n",
      "The job FeMurn17 was saved and received the ID: 2106\n",
      "The job FeMurn17_0_9 was saved and received the ID: 2107\n",
      "The job FeMurn17_0_92 was saved and received the ID: 2108\n",
      "The job FeMurn17_0_94 was saved and received the ID: 2109\n",
      "The job FeMurn17_0_96 was saved and received the ID: 2110\n",
      "The job FeMurn17_0_98 was saved and received the ID: 2111\n",
      "The job FeMurn17_1_0 was saved and received the ID: 2112\n",
      "The job FeMurn17_1_02 was saved and received the ID: 2113\n",
      "The job FeMurn17_1_04 was saved and received the ID: 2114\n",
      "The job FeMurn17_1_06 was saved and received the ID: 2115\n",
      "The job FeMurn17_1_08 was saved and received the ID: 2116\n",
      "The job FeMurn17_1_1 was saved and received the ID: 2117\n",
      "The job optimization18 was saved and received the ID: 2118\n",
      "The job FeMurn18 was saved and received the ID: 2119\n",
      "The job FeMurn18_0_9 was saved and received the ID: 2120\n",
      "The job FeMurn18_0_92 was saved and received the ID: 2121\n",
      "The job FeMurn18_0_94 was saved and received the ID: 2122\n",
      "The job FeMurn18_0_96 was saved and received the ID: 2123\n",
      "The job FeMurn18_0_98 was saved and received the ID: 2124\n",
      "The job FeMurn18_1_0 was saved and received the ID: 2125\n",
      "The job FeMurn18_1_02 was saved and received the ID: 2126\n",
      "The job FeMurn18_1_04 was saved and received the ID: 2127\n",
      "The job FeMurn18_1_06 was saved and received the ID: 2128\n",
      "The job FeMurn18_1_08 was saved and received the ID: 2129\n",
      "The job FeMurn18_1_1 was saved and received the ID: 2130\n",
      "The job optimization19 was saved and received the ID: 2131\n",
      "The job FeMurn19 was saved and received the ID: 2132\n",
      "The job FeMurn19_0_9 was saved and received the ID: 2133\n",
      "The job FeMurn19_0_92 was saved and received the ID: 2134\n",
      "The job FeMurn19_0_94 was saved and received the ID: 2135\n",
      "The job FeMurn19_0_96 was saved and received the ID: 2136\n",
      "The job FeMurn19_0_98 was saved and received the ID: 2137\n",
      "The job FeMurn19_1_0 was saved and received the ID: 2138\n",
      "The job FeMurn19_1_02 was saved and received the ID: 2139\n",
      "The job FeMurn19_1_04 was saved and received the ID: 2140\n",
      "The job FeMurn19_1_06 was saved and received the ID: 2141\n",
      "The job FeMurn19_1_08 was saved and received the ID: 2142\n",
      "The job FeMurn19_1_1 was saved and received the ID: 2143\n",
      "The job optimization20 was saved and received the ID: 2144\n",
      "The job FeMurn20 was saved and received the ID: 2145\n",
      "The job FeMurn20_0_9 was saved and received the ID: 2146\n",
      "The job FeMurn20_0_92 was saved and received the ID: 2147\n",
      "The job FeMurn20_0_94 was saved and received the ID: 2148\n",
      "The job FeMurn20_0_96 was saved and received the ID: 2149\n",
      "The job FeMurn20_0_98 was saved and received the ID: 2150\n",
      "The job FeMurn20_1_0 was saved and received the ID: 2151\n",
      "The job FeMurn20_1_02 was saved and received the ID: 2152\n",
      "The job FeMurn20_1_04 was saved and received the ID: 2153\n",
      "The job FeMurn20_1_06 was saved and received the ID: 2154\n",
      "The job FeMurn20_1_08 was saved and received the ID: 2155\n",
      "The job FeMurn20_1_1 was saved and received the ID: 2156\n",
      "The job optimization21 was saved and received the ID: 2157\n",
      "The job FeMurn21 was saved and received the ID: 2158\n",
      "The job FeMurn21_0_9 was saved and received the ID: 2159\n",
      "The job FeMurn21_0_92 was saved and received the ID: 2160\n",
      "The job FeMurn21_0_94 was saved and received the ID: 2161\n",
      "The job FeMurn21_0_96 was saved and received the ID: 2162\n",
      "The job FeMurn21_0_98 was saved and received the ID: 2163\n",
      "The job FeMurn21_1_0 was saved and received the ID: 2164\n",
      "The job FeMurn21_1_02 was saved and received the ID: 2165\n",
      "The job FeMurn21_1_04 was saved and received the ID: 2166\n",
      "The job FeMurn21_1_06 was saved and received the ID: 2167\n",
      "The job FeMurn21_1_08 was saved and received the ID: 2168\n",
      "The job FeMurn21_1_1 was saved and received the ID: 2169\n",
      "The job optimization22 was saved and received the ID: 2170\n",
      "The job FeMurn22 was saved and received the ID: 2171\n",
      "The job FeMurn22_0_9 was saved and received the ID: 2172\n",
      "The job FeMurn22_0_92 was saved and received the ID: 2173\n",
      "The job FeMurn22_0_94 was saved and received the ID: 2174\n",
      "The job FeMurn22_0_96 was saved and received the ID: 2175\n",
      "The job FeMurn22_0_98 was saved and received the ID: 2176\n",
      "The job FeMurn22_1_0 was saved and received the ID: 2177\n",
      "The job FeMurn22_1_02 was saved and received the ID: 2178\n",
      "The job FeMurn22_1_04 was saved and received the ID: 2179\n",
      "The job FeMurn22_1_06 was saved and received the ID: 2180\n",
      "The job FeMurn22_1_08 was saved and received the ID: 2181\n",
      "The job FeMurn22_1_1 was saved and received the ID: 2182\n",
      "The job optimization23 was saved and received the ID: 2183\n",
      "The job FeMurn23 was saved and received the ID: 2184\n",
      "The job FeMurn23_0_9 was saved and received the ID: 2185\n",
      "The job FeMurn23_0_92 was saved and received the ID: 2186\n",
      "The job FeMurn23_0_94 was saved and received the ID: 2187\n",
      "The job FeMurn23_0_96 was saved and received the ID: 2188\n",
      "The job FeMurn23_0_98 was saved and received the ID: 2189\n",
      "The job FeMurn23_1_0 was saved and received the ID: 2190\n",
      "The job FeMurn23_1_02 was saved and received the ID: 2191\n",
      "The job FeMurn23_1_04 was saved and received the ID: 2192\n",
      "The job FeMurn23_1_06 was saved and received the ID: 2193\n",
      "The job FeMurn23_1_08 was saved and received the ID: 2194\n",
      "The job FeMurn23_1_1 was saved and received the ID: 2195\n",
      "The job optimization24 was saved and received the ID: 2196\n",
      "The job FeMurn24 was saved and received the ID: 2197\n",
      "The job FeMurn24_0_9 was saved and received the ID: 2198\n",
      "The job FeMurn24_0_92 was saved and received the ID: 2199\n",
      "The job FeMurn24_0_94 was saved and received the ID: 2200\n",
      "The job FeMurn24_0_96 was saved and received the ID: 2201\n",
      "The job FeMurn24_0_98 was saved and received the ID: 2202\n",
      "The job FeMurn24_1_0 was saved and received the ID: 2203\n",
      "The job FeMurn24_1_02 was saved and received the ID: 2204\n",
      "The job FeMurn24_1_04 was saved and received the ID: 2205\n",
      "The job FeMurn24_1_06 was saved and received the ID: 2206\n",
      "The job FeMurn24_1_08 was saved and received the ID: 2207\n",
      "The job FeMurn24_1_1 was saved and received the ID: 2208\n",
      "The job optimization25 was saved and received the ID: 2209\n",
      "The job FeMurn25 was saved and received the ID: 2210\n",
      "The job FeMurn25_0_9 was saved and received the ID: 2211\n",
      "The job FeMurn25_0_92 was saved and received the ID: 2212\n",
      "The job FeMurn25_0_94 was saved and received the ID: 2213\n",
      "The job FeMurn25_0_96 was saved and received the ID: 2214\n",
      "The job FeMurn25_0_98 was saved and received the ID: 2215\n",
      "The job FeMurn25_1_0 was saved and received the ID: 2216\n",
      "The job FeMurn25_1_02 was saved and received the ID: 2217\n",
      "The job FeMurn25_1_04 was saved and received the ID: 2218\n",
      "The job FeMurn25_1_06 was saved and received the ID: 2219\n",
      "The job FeMurn25_1_08 was saved and received the ID: 2220\n",
      "The job FeMurn25_1_1 was saved and received the ID: 2221\n",
      "The job optimization26 was saved and received the ID: 2222\n",
      "The job FeMurn26 was saved and received the ID: 2223\n",
      "The job FeMurn26_0_9 was saved and received the ID: 2224\n",
      "The job FeMurn26_0_92 was saved and received the ID: 2225\n",
      "The job FeMurn26_0_94 was saved and received the ID: 2226\n",
      "The job FeMurn26_0_96 was saved and received the ID: 2227\n",
      "The job FeMurn26_0_98 was saved and received the ID: 2228\n",
      "The job FeMurn26_1_0 was saved and received the ID: 2229\n",
      "The job FeMurn26_1_02 was saved and received the ID: 2230\n",
      "The job FeMurn26_1_04 was saved and received the ID: 2231\n",
      "The job FeMurn26_1_06 was saved and received the ID: 2232\n",
      "The job FeMurn26_1_08 was saved and received the ID: 2233\n",
      "The job FeMurn26_1_1 was saved and received the ID: 2234\n",
      "The job optimization27 was saved and received the ID: 2235\n",
      "The job FeMurn27 was saved and received the ID: 2236\n",
      "The job FeMurn27_0_9 was saved and received the ID: 2237\n",
      "The job FeMurn27_0_92 was saved and received the ID: 2238\n",
      "The job FeMurn27_0_94 was saved and received the ID: 2239\n",
      "The job FeMurn27_0_96 was saved and received the ID: 2240\n",
      "The job FeMurn27_0_98 was saved and received the ID: 2241\n",
      "The job FeMurn27_1_0 was saved and received the ID: 2242\n",
      "The job FeMurn27_1_02 was saved and received the ID: 2243\n",
      "The job FeMurn27_1_04 was saved and received the ID: 2244\n",
      "The job FeMurn27_1_06 was saved and received the ID: 2245\n",
      "The job FeMurn27_1_08 was saved and received the ID: 2246\n",
      "The job FeMurn27_1_1 was saved and received the ID: 2247\n",
      "The job optimization28 was saved and received the ID: 2248\n",
      "The job FeMurn28 was saved and received the ID: 2249\n",
      "The job FeMurn28_0_9 was saved and received the ID: 2250\n",
      "The job FeMurn28_0_92 was saved and received the ID: 2251\n",
      "The job FeMurn28_0_94 was saved and received the ID: 2252\n",
      "The job FeMurn28_0_96 was saved and received the ID: 2253\n",
      "The job FeMurn28_0_98 was saved and received the ID: 2254\n",
      "The job FeMurn28_1_0 was saved and received the ID: 2255\n",
      "The job FeMurn28_1_02 was saved and received the ID: 2256\n",
      "The job FeMurn28_1_04 was saved and received the ID: 2257\n",
      "The job FeMurn28_1_06 was saved and received the ID: 2258\n",
      "The job FeMurn28_1_08 was saved and received the ID: 2259\n",
      "The job FeMurn28_1_1 was saved and received the ID: 2260\n",
      "The job optimization29 was saved and received the ID: 2261\n",
      "The job FeMurn29 was saved and received the ID: 2262\n",
      "The job FeMurn29_0_9 was saved and received the ID: 2263\n",
      "The job FeMurn29_0_92 was saved and received the ID: 2264\n",
      "The job FeMurn29_0_94 was saved and received the ID: 2265\n",
      "The job FeMurn29_0_96 was saved and received the ID: 2266\n",
      "The job FeMurn29_0_98 was saved and received the ID: 2267\n",
      "The job FeMurn29_1_0 was saved and received the ID: 2268\n",
      "The job FeMurn29_1_02 was saved and received the ID: 2269\n",
      "The job FeMurn29_1_04 was saved and received the ID: 2270\n",
      "The job FeMurn29_1_06 was saved and received the ID: 2271\n",
      "The job FeMurn29_1_08 was saved and received the ID: 2272\n",
      "The job FeMurn29_1_1 was saved and received the ID: 2273\n",
      "The job optimization30 was saved and received the ID: 2274\n",
      "The job FeMurn30 was saved and received the ID: 2275\n",
      "The job FeMurn30_0_9 was saved and received the ID: 2276\n",
      "The job FeMurn30_0_92 was saved and received the ID: 2277\n",
      "The job FeMurn30_0_94 was saved and received the ID: 2278\n",
      "The job FeMurn30_0_96 was saved and received the ID: 2279\n",
      "The job FeMurn30_0_98 was saved and received the ID: 2280\n",
      "The job FeMurn30_1_0 was saved and received the ID: 2281\n",
      "The job FeMurn30_1_02 was saved and received the ID: 2282\n",
      "The job FeMurn30_1_04 was saved and received the ID: 2283\n",
      "The job FeMurn30_1_06 was saved and received the ID: 2284\n",
      "The job FeMurn30_1_08 was saved and received the ID: 2285\n",
      "The job FeMurn30_1_1 was saved and received the ID: 2286\n",
      "The job optimization31 was saved and received the ID: 2287\n",
      "The job FeMurn31 was saved and received the ID: 2288\n",
      "The job FeMurn31_0_9 was saved and received the ID: 2289\n",
      "The job FeMurn31_0_92 was saved and received the ID: 2290\n",
      "The job FeMurn31_0_94 was saved and received the ID: 2291\n",
      "The job FeMurn31_0_96 was saved and received the ID: 2292\n",
      "The job FeMurn31_0_98 was saved and received the ID: 2293\n",
      "The job FeMurn31_1_0 was saved and received the ID: 2294\n",
      "The job FeMurn31_1_02 was saved and received the ID: 2295\n",
      "The job FeMurn31_1_04 was saved and received the ID: 2296\n",
      "The job FeMurn31_1_06 was saved and received the ID: 2297\n",
      "The job FeMurn31_1_08 was saved and received the ID: 2298\n",
      "The job FeMurn31_1_1 was saved and received the ID: 2299\n",
      "The job optimization32 was saved and received the ID: 2300\n",
      "The job FeMurn32 was saved and received the ID: 2301\n",
      "The job FeMurn32_0_9 was saved and received the ID: 2302\n",
      "The job FeMurn32_0_92 was saved and received the ID: 2303\n",
      "The job FeMurn32_0_94 was saved and received the ID: 2304\n",
      "The job FeMurn32_0_96 was saved and received the ID: 2305\n",
      "The job FeMurn32_0_98 was saved and received the ID: 2306\n",
      "The job FeMurn32_1_0 was saved and received the ID: 2307\n",
      "The job FeMurn32_1_02 was saved and received the ID: 2308\n",
      "The job FeMurn32_1_04 was saved and received the ID: 2309\n",
      "The job FeMurn32_1_06 was saved and received the ID: 2310\n",
      "The job FeMurn32_1_08 was saved and received the ID: 2311\n",
      "The job FeMurn32_1_1 was saved and received the ID: 2312\n",
      "The job optimization33 was saved and received the ID: 2313\n",
      "The job FeMurn33 was saved and received the ID: 2314\n",
      "The job FeMurn33_0_9 was saved and received the ID: 2315\n",
      "The job FeMurn33_0_92 was saved and received the ID: 2316\n",
      "The job FeMurn33_0_94 was saved and received the ID: 2317\n",
      "The job FeMurn33_0_96 was saved and received the ID: 2318\n",
      "The job FeMurn33_0_98 was saved and received the ID: 2319\n",
      "The job FeMurn33_1_0 was saved and received the ID: 2320\n",
      "The job FeMurn33_1_02 was saved and received the ID: 2321\n",
      "The job FeMurn33_1_04 was saved and received the ID: 2322\n",
      "The job FeMurn33_1_06 was saved and received the ID: 2323\n",
      "The job FeMurn33_1_08 was saved and received the ID: 2324\n",
      "The job FeMurn33_1_1 was saved and received the ID: 2325\n",
      "The job optimization34 was saved and received the ID: 2326\n",
      "The job FeMurn34 was saved and received the ID: 2327\n",
      "The job FeMurn34_0_9 was saved and received the ID: 2328\n",
      "The job FeMurn34_0_92 was saved and received the ID: 2329\n",
      "The job FeMurn34_0_94 was saved and received the ID: 2330\n",
      "The job FeMurn34_0_96 was saved and received the ID: 2331\n",
      "The job FeMurn34_0_98 was saved and received the ID: 2332\n",
      "The job FeMurn34_1_0 was saved and received the ID: 2333\n",
      "The job FeMurn34_1_02 was saved and received the ID: 2334\n",
      "The job FeMurn34_1_04 was saved and received the ID: 2335\n",
      "The job FeMurn34_1_06 was saved and received the ID: 2336\n",
      "The job FeMurn34_1_08 was saved and received the ID: 2337\n",
      "The job FeMurn34_1_1 was saved and received the ID: 2338\n",
      "The job optimization35 was saved and received the ID: 2339\n",
      "The job FeMurn35 was saved and received the ID: 2340\n",
      "The job FeMurn35_0_9 was saved and received the ID: 2341\n",
      "The job FeMurn35_0_92 was saved and received the ID: 2342\n",
      "The job FeMurn35_0_94 was saved and received the ID: 2343\n",
      "The job FeMurn35_0_96 was saved and received the ID: 2344\n",
      "The job FeMurn35_0_98 was saved and received the ID: 2345\n",
      "The job FeMurn35_1_0 was saved and received the ID: 2346\n",
      "The job FeMurn35_1_02 was saved and received the ID: 2347\n",
      "The job FeMurn35_1_04 was saved and received the ID: 2348\n",
      "The job FeMurn35_1_06 was saved and received the ID: 2349\n",
      "The job FeMurn35_1_08 was saved and received the ID: 2350\n",
      "The job FeMurn35_1_1 was saved and received the ID: 2351\n",
      "The job optimization36 was saved and received the ID: 2352\n",
      "The job FeMurn36 was saved and received the ID: 2353\n",
      "The job FeMurn36_0_9 was saved and received the ID: 2354\n",
      "The job FeMurn36_0_92 was saved and received the ID: 2355\n",
      "The job FeMurn36_0_94 was saved and received the ID: 2356\n",
      "The job FeMurn36_0_96 was saved and received the ID: 2357\n",
      "The job FeMurn36_0_98 was saved and received the ID: 2358\n",
      "The job FeMurn36_1_0 was saved and received the ID: 2359\n",
      "The job FeMurn36_1_02 was saved and received the ID: 2360\n",
      "The job FeMurn36_1_04 was saved and received the ID: 2361\n",
      "The job FeMurn36_1_06 was saved and received the ID: 2362\n",
      "The job FeMurn36_1_08 was saved and received the ID: 2363\n",
      "The job FeMurn36_1_1 was saved and received the ID: 2364\n",
      "The job optimization37 was saved and received the ID: 2365\n",
      "The job FeMurn37 was saved and received the ID: 2366\n",
      "The job FeMurn37_0_9 was saved and received the ID: 2367\n",
      "The job FeMurn37_0_92 was saved and received the ID: 2368\n",
      "The job FeMurn37_0_94 was saved and received the ID: 2369\n",
      "The job FeMurn37_0_96 was saved and received the ID: 2370\n",
      "The job FeMurn37_0_98 was saved and received the ID: 2371\n",
      "The job FeMurn37_1_0 was saved and received the ID: 2372\n",
      "The job FeMurn37_1_02 was saved and received the ID: 2373\n",
      "The job FeMurn37_1_04 was saved and received the ID: 2374\n",
      "The job FeMurn37_1_06 was saved and received the ID: 2375\n",
      "The job FeMurn37_1_08 was saved and received the ID: 2376\n",
      "The job FeMurn37_1_1 was saved and received the ID: 2377\n",
      "The job optimization38 was saved and received the ID: 2378\n",
      "The job FeMurn38 was saved and received the ID: 2379\n",
      "The job FeMurn38_0_9 was saved and received the ID: 2380\n",
      "The job FeMurn38_0_92 was saved and received the ID: 2381\n",
      "The job FeMurn38_0_94 was saved and received the ID: 2382\n",
      "The job FeMurn38_0_96 was saved and received the ID: 2383\n",
      "The job FeMurn38_0_98 was saved and received the ID: 2384\n",
      "The job FeMurn38_1_0 was saved and received the ID: 2385\n",
      "The job FeMurn38_1_02 was saved and received the ID: 2386\n",
      "The job FeMurn38_1_04 was saved and received the ID: 2387\n",
      "The job FeMurn38_1_06 was saved and received the ID: 2388\n",
      "The job FeMurn38_1_08 was saved and received the ID: 2389\n",
      "The job FeMurn38_1_1 was saved and received the ID: 2390\n",
      "The job optimization39 was saved and received the ID: 2391\n",
      "The job FeMurn39 was saved and received the ID: 2392\n",
      "The job FeMurn39_0_9 was saved and received the ID: 2393\n",
      "The job FeMurn39_0_92 was saved and received the ID: 2394\n",
      "The job FeMurn39_0_94 was saved and received the ID: 2395\n",
      "The job FeMurn39_0_96 was saved and received the ID: 2396\n",
      "The job FeMurn39_0_98 was saved and received the ID: 2397\n",
      "The job FeMurn39_1_0 was saved and received the ID: 2398\n",
      "The job FeMurn39_1_02 was saved and received the ID: 2399\n",
      "The job FeMurn39_1_04 was saved and received the ID: 2400\n",
      "The job FeMurn39_1_06 was saved and received the ID: 2401\n",
      "The job FeMurn39_1_08 was saved and received the ID: 2402\n",
      "The job FeMurn39_1_1 was saved and received the ID: 2403\n",
      "The job optimization40 was saved and received the ID: 2404\n",
      "The job FeMurn40 was saved and received the ID: 2405\n",
      "The job FeMurn40_0_9 was saved and received the ID: 2406\n",
      "The job FeMurn40_0_92 was saved and received the ID: 2407\n",
      "The job FeMurn40_0_94 was saved and received the ID: 2408\n",
      "The job FeMurn40_0_96 was saved and received the ID: 2409\n",
      "The job FeMurn40_0_98 was saved and received the ID: 2410\n",
      "The job FeMurn40_1_0 was saved and received the ID: 2411\n",
      "The job FeMurn40_1_02 was saved and received the ID: 2412\n",
      "The job FeMurn40_1_04 was saved and received the ID: 2413\n",
      "The job FeMurn40_1_06 was saved and received the ID: 2414\n",
      "The job FeMurn40_1_08 was saved and received the ID: 2415\n",
      "The job FeMurn40_1_1 was saved and received the ID: 2416\n",
      "The job optimization41 was saved and received the ID: 2417\n",
      "The job FeMurn41 was saved and received the ID: 2418\n",
      "The job FeMurn41_0_9 was saved and received the ID: 2419\n",
      "The job FeMurn41_0_92 was saved and received the ID: 2420\n",
      "The job FeMurn41_0_94 was saved and received the ID: 2421\n",
      "The job FeMurn41_0_96 was saved and received the ID: 2422\n",
      "The job FeMurn41_0_98 was saved and received the ID: 2423\n",
      "The job FeMurn41_1_0 was saved and received the ID: 2424\n",
      "The job FeMurn41_1_02 was saved and received the ID: 2425\n",
      "The job FeMurn41_1_04 was saved and received the ID: 2426\n",
      "The job FeMurn41_1_06 was saved and received the ID: 2427\n",
      "The job FeMurn41_1_08 was saved and received the ID: 2428\n",
      "The job FeMurn41_1_1 was saved and received the ID: 2429\n",
      "The job optimization42 was saved and received the ID: 2430\n",
      "The job FeMurn42 was saved and received the ID: 2431\n",
      "The job FeMurn42_0_9 was saved and received the ID: 2432\n",
      "The job FeMurn42_0_92 was saved and received the ID: 2433\n",
      "The job FeMurn42_0_94 was saved and received the ID: 2434\n",
      "The job FeMurn42_0_96 was saved and received the ID: 2435\n",
      "The job FeMurn42_0_98 was saved and received the ID: 2436\n",
      "The job FeMurn42_1_0 was saved and received the ID: 2437\n",
      "The job FeMurn42_1_02 was saved and received the ID: 2438\n",
      "The job FeMurn42_1_04 was saved and received the ID: 2439\n",
      "The job FeMurn42_1_06 was saved and received the ID: 2440\n",
      "The job FeMurn42_1_08 was saved and received the ID: 2441\n",
      "The job FeMurn42_1_1 was saved and received the ID: 2442\n",
      "The job optimization43 was saved and received the ID: 2443\n",
      "The job FeMurn43 was saved and received the ID: 2444\n",
      "The job FeMurn43_0_9 was saved and received the ID: 2445\n",
      "The job FeMurn43_0_92 was saved and received the ID: 2446\n",
      "The job FeMurn43_0_94 was saved and received the ID: 2447\n",
      "The job FeMurn43_0_96 was saved and received the ID: 2448\n",
      "The job FeMurn43_0_98 was saved and received the ID: 2449\n",
      "The job FeMurn43_1_0 was saved and received the ID: 2450\n",
      "The job FeMurn43_1_02 was saved and received the ID: 2451\n",
      "The job FeMurn43_1_04 was saved and received the ID: 2452\n",
      "The job FeMurn43_1_06 was saved and received the ID: 2453\n",
      "The job FeMurn43_1_08 was saved and received the ID: 2454\n",
      "The job FeMurn43_1_1 was saved and received the ID: 2455\n",
      "The job optimization44 was saved and received the ID: 2456\n",
      "The job FeMurn44 was saved and received the ID: 2457\n",
      "The job FeMurn44_0_9 was saved and received the ID: 2458\n",
      "The job FeMurn44_0_92 was saved and received the ID: 2459\n",
      "The job FeMurn44_0_94 was saved and received the ID: 2460\n",
      "The job FeMurn44_0_96 was saved and received the ID: 2461\n",
      "The job FeMurn44_0_98 was saved and received the ID: 2462\n",
      "The job FeMurn44_1_0 was saved and received the ID: 2463\n",
      "The job FeMurn44_1_02 was saved and received the ID: 2464\n",
      "The job FeMurn44_1_04 was saved and received the ID: 2465\n",
      "The job FeMurn44_1_06 was saved and received the ID: 2466\n",
      "The job FeMurn44_1_08 was saved and received the ID: 2467\n",
      "The job FeMurn44_1_1 was saved and received the ID: 2468\n",
      "The job optimization45 was saved and received the ID: 2469\n",
      "The job FeMurn45 was saved and received the ID: 2470\n",
      "The job FeMurn45_0_9 was saved and received the ID: 2471\n",
      "The job FeMurn45_0_92 was saved and received the ID: 2472\n",
      "The job FeMurn45_0_94 was saved and received the ID: 2473\n",
      "The job FeMurn45_0_96 was saved and received the ID: 2474\n",
      "The job FeMurn45_0_98 was saved and received the ID: 2475\n",
      "The job FeMurn45_1_0 was saved and received the ID: 2476\n",
      "The job FeMurn45_1_02 was saved and received the ID: 2477\n",
      "The job FeMurn45_1_04 was saved and received the ID: 2478\n",
      "The job FeMurn45_1_06 was saved and received the ID: 2479\n",
      "The job FeMurn45_1_08 was saved and received the ID: 2480\n",
      "The job FeMurn45_1_1 was saved and received the ID: 2481\n",
      "The job optimization46 was saved and received the ID: 2482\n",
      "The job FeMurn46 was saved and received the ID: 2483\n",
      "The job FeMurn46_0_9 was saved and received the ID: 2484\n",
      "The job FeMurn46_0_92 was saved and received the ID: 2485\n",
      "The job FeMurn46_0_94 was saved and received the ID: 2486\n",
      "The job FeMurn46_0_96 was saved and received the ID: 2487\n",
      "The job FeMurn46_0_98 was saved and received the ID: 2488\n",
      "The job FeMurn46_1_0 was saved and received the ID: 2489\n",
      "The job FeMurn46_1_02 was saved and received the ID: 2490\n",
      "The job FeMurn46_1_04 was saved and received the ID: 2491\n",
      "The job FeMurn46_1_06 was saved and received the ID: 2492\n",
      "The job FeMurn46_1_08 was saved and received the ID: 2493\n",
      "The job FeMurn46_1_1 was saved and received the ID: 2494\n",
      "The job optimization47 was saved and received the ID: 2495\n",
      "The job FeMurn47 was saved and received the ID: 2496\n",
      "The job FeMurn47_0_9 was saved and received the ID: 2497\n",
      "The job FeMurn47_0_92 was saved and received the ID: 2498\n",
      "The job FeMurn47_0_94 was saved and received the ID: 2499\n",
      "The job FeMurn47_0_96 was saved and received the ID: 2500\n",
      "The job FeMurn47_0_98 was saved and received the ID: 2501\n",
      "The job FeMurn47_1_0 was saved and received the ID: 2502\n",
      "The job FeMurn47_1_02 was saved and received the ID: 2503\n",
      "The job FeMurn47_1_04 was saved and received the ID: 2504\n",
      "The job FeMurn47_1_06 was saved and received the ID: 2505\n",
      "The job FeMurn47_1_08 was saved and received the ID: 2506\n",
      "The job FeMurn47_1_1 was saved and received the ID: 2507\n",
      "The job optimization48 was saved and received the ID: 2508\n",
      "The job FeMurn48 was saved and received the ID: 2509\n",
      "The job FeMurn48_0_9 was saved and received the ID: 2510\n",
      "The job FeMurn48_0_92 was saved and received the ID: 2511\n",
      "The job FeMurn48_0_94 was saved and received the ID: 2512\n",
      "The job FeMurn48_0_96 was saved and received the ID: 2513\n",
      "The job FeMurn48_0_98 was saved and received the ID: 2514\n",
      "The job FeMurn48_1_0 was saved and received the ID: 2515\n",
      "The job FeMurn48_1_02 was saved and received the ID: 2516\n",
      "The job FeMurn48_1_04 was saved and received the ID: 2517\n",
      "The job FeMurn48_1_06 was saved and received the ID: 2518\n",
      "The job FeMurn48_1_08 was saved and received the ID: 2519\n",
      "The job FeMurn48_1_1 was saved and received the ID: 2520\n",
      "The job optimization49 was saved and received the ID: 2521\n",
      "The job FeMurn49 was saved and received the ID: 2522\n",
      "The job FeMurn49_0_9 was saved and received the ID: 2523\n",
      "The job FeMurn49_0_92 was saved and received the ID: 2524\n",
      "The job FeMurn49_0_94 was saved and received the ID: 2525\n",
      "The job FeMurn49_0_96 was saved and received the ID: 2526\n",
      "The job FeMurn49_0_98 was saved and received the ID: 2527\n",
      "The job FeMurn49_1_0 was saved and received the ID: 2528\n",
      "The job FeMurn49_1_02 was saved and received the ID: 2529\n",
      "The job FeMurn49_1_04 was saved and received the ID: 2530\n",
      "The job FeMurn49_1_06 was saved and received the ID: 2531\n",
      "The job FeMurn49_1_08 was saved and received the ID: 2532\n",
      "The job FeMurn49_1_1 was saved and received the ID: 2533\n",
      "The job optimization50 was saved and received the ID: 2534\n",
      "The job FeMurn50 was saved and received the ID: 2535\n",
      "The job FeMurn50_0_9 was saved and received the ID: 2536\n",
      "The job FeMurn50_0_92 was saved and received the ID: 2537\n",
      "The job FeMurn50_0_94 was saved and received the ID: 2538\n",
      "The job FeMurn50_0_96 was saved and received the ID: 2539\n",
      "The job FeMurn50_0_98 was saved and received the ID: 2540\n",
      "The job FeMurn50_1_0 was saved and received the ID: 2541\n",
      "The job FeMurn50_1_02 was saved and received the ID: 2542\n",
      "The job FeMurn50_1_04 was saved and received the ID: 2543\n",
      "The job FeMurn50_1_06 was saved and received the ID: 2544\n",
      "The job FeMurn50_1_08 was saved and received the ID: 2545\n",
      "The job FeMurn50_1_1 was saved and received the ID: 2546\n",
      "The job optimization51 was saved and received the ID: 2547\n",
      "The job FeMurn51 was saved and received the ID: 2548\n",
      "The job FeMurn51_0_9 was saved and received the ID: 2549\n",
      "The job FeMurn51_0_92 was saved and received the ID: 2550\n",
      "The job FeMurn51_0_94 was saved and received the ID: 2551\n",
      "The job FeMurn51_0_96 was saved and received the ID: 2552\n",
      "The job FeMurn51_0_98 was saved and received the ID: 2553\n",
      "The job FeMurn51_1_0 was saved and received the ID: 2554\n",
      "The job FeMurn51_1_02 was saved and received the ID: 2555\n",
      "The job FeMurn51_1_04 was saved and received the ID: 2556\n",
      "The job FeMurn51_1_06 was saved and received the ID: 2557\n",
      "The job FeMurn51_1_08 was saved and received the ID: 2558\n",
      "The job FeMurn51_1_1 was saved and received the ID: 2559\n",
      "The job optimization52 was saved and received the ID: 2560\n",
      "The job FeMurn52 was saved and received the ID: 2561\n",
      "The job FeMurn52_0_9 was saved and received the ID: 2562\n",
      "The job FeMurn52_0_92 was saved and received the ID: 2563\n",
      "The job FeMurn52_0_94 was saved and received the ID: 2564\n",
      "The job FeMurn52_0_96 was saved and received the ID: 2565\n",
      "The job FeMurn52_0_98 was saved and received the ID: 2566\n",
      "The job FeMurn52_1_0 was saved and received the ID: 2567\n",
      "The job FeMurn52_1_02 was saved and received the ID: 2568\n",
      "The job FeMurn52_1_04 was saved and received the ID: 2569\n",
      "The job FeMurn52_1_06 was saved and received the ID: 2570\n",
      "The job FeMurn52_1_08 was saved and received the ID: 2571\n",
      "The job FeMurn52_1_1 was saved and received the ID: 2572\n",
      "The job optimization53 was saved and received the ID: 2573\n",
      "The job FeMurn53 was saved and received the ID: 2574\n",
      "The job FeMurn53_0_9 was saved and received the ID: 2575\n",
      "The job FeMurn53_0_92 was saved and received the ID: 2576\n",
      "The job FeMurn53_0_94 was saved and received the ID: 2577\n",
      "The job FeMurn53_0_96 was saved and received the ID: 2578\n",
      "The job FeMurn53_0_98 was saved and received the ID: 2579\n",
      "The job FeMurn53_1_0 was saved and received the ID: 2580\n",
      "The job FeMurn53_1_02 was saved and received the ID: 2581\n",
      "The job FeMurn53_1_04 was saved and received the ID: 2582\n",
      "The job FeMurn53_1_06 was saved and received the ID: 2583\n",
      "The job FeMurn53_1_08 was saved and received the ID: 2584\n",
      "The job FeMurn53_1_1 was saved and received the ID: 2585\n"
     ]
    }
   ],
   "source": [
    "pr = Project('Fe_vacancies')\n",
    "bulk_sc = pr.create.structure.bulk('Fe', crystalstructure='bcc', cubic=True).repeat([3,3,3])\n",
    "c_H = []\n",
    "BM = []\n",
    "\n",
    "for i in range(len(bulk_sc)):\n",
    "    \n",
    "    bulk_vacancies = bulk_sc.copy()\n",
    "    bulk_vacancies[np.random.permutation(len(bulk_vacancies))[:i]]= 'H'\n",
    "    \n",
    "    job_opt = pr.create.job.Lammps(f'optimization{i}', delete_existing_job=True)\n",
    "    job_opt.structure = bulk_vacancies\n",
    "    job_opt.potential = job_opt.list_potentials()[0]\n",
    "    job_opt.calc_minimize(n_print=10, pressure=0.0)\n",
    "    job_opt.run(delete_existing_job=True)\n",
    "    structure_opted = job_opt.get_structure(frame=-1)\n",
    "    \n",
    "    job_vancancies = pr.create.job.Lammps(f'bm_Fe_{i}vacancies', delete_existing_job=True)\n",
    "    job_vancancies.structure = structure_opted\n",
    "    job_vancancies.potential = job_vancancies.list_potentials()[0]\n",
    "    murn = job_vancancies.create_job('Murnaghan', f\"FeMurn{i}\", delete_existing_job=True)\n",
    "    murn.run(delete_existing_job=True)\n",
    "    \n",
    "    bm = murn.fit_birch_murnaghan()['bulkmodul_eq']\n",
    "    BM.append(bm)\n",
    "    c = i/len(bulk_sc)\n",
    "    c_H.append(c)\n",
    "    \n",
    "    "
   ]
  },
  {
   "cell_type": "code",
   "execution_count": 29,
   "id": "6a1dfdb1-de4c-4914-bded-ce0528956f65",
   "metadata": {},
   "outputs": [
    {
     "data": {
      "text/plain": [
       "[<matplotlib.lines.Line2D at 0x76d75555d310>]"
      ]
     },
     "execution_count": 29,
     "metadata": {},
     "output_type": "execute_result"
    },
    {
     "data": {
      "image/png": "[encoded data removed]",
      "text/plain": [
       "<Figure size 640x480 with 1 Axes>"
      ]
     },
     "metadata": {},
     "output_type": "display_data"
    }
   ],
   "source": [
    "plt.plot(c_H, BM)"
   ]
  },
  {
   "cell_type": "code",
   "execution_count": 30,
   "id": "42ab1198-fe61-4839-b80b-8c60b7d18de9",
   "metadata": {},
   "outputs": [
    {
     "data": {
      "text/plain": [
       "[188.911034139532,\n",
       " 170.9036811828114,\n",
       " 169.8638040384993,\n",
       " 174.1476203878351,\n",
       " 174.8508753482144,\n",
       " 168.74144192870997,\n",
       " 170.9973736034364,\n",
       " 172.54010942968955,\n",
       " 172.16010009491066,\n",
       " 176.6240628963411,\n",
       " 172.28955793635947,\n",
       " 172.76575191622678,\n",
       " 182.60119636211843,\n",
       " 178.4789515118539,\n",
       " 180.08300886955678,\n",
       " 174.70108119361058,\n",
       " 185.8707362730347,\n",
       " 179.04238542341523,\n",
       " 192.6149038481741,\n",
       " 173.87162520883038,\n",
       " 181.24296152960673,\n",
       " 197.08420969471678,\n",
       " 187.64426439663765,\n",
       " 195.68819568761336,\n",
       " 199.5992917038836,\n",
       " 188.21648821464512,\n",
       " 208.1599889668073,\n",
       " 192.86799308475213,\n",
       " 183.13881301295046,\n",
       " 195.75137614779152,\n",
       " 198.9153869629483,\n",
       " 205.3412751361723,\n",
       " 208.32359892034765,\n",
       " 198.5649868760567,\n",
       " 196.80710616871568,\n",
       " 207.5631916132965,\n",
       " 195.52159736050035,\n",
       " 201.69261741453306,\n",
       " 189.302405641918,\n",
       " 197.356760720323,\n",
       " 202.3611042335076,\n",
       " 187.56194672799202,\n",
       " 185.58947099032136,\n",
       " 187.82115103091064,\n",
       " 141.38085417884034,\n",
       " 118.50201401450892,\n",
       " 36.75079847639628,\n",
       " 43.4653975615806,\n",
       " 27.995720335933576,\n",
       " 32.63064397156803,\n",
       " 22.713180100857265,\n",
       " 18.60222535426524,\n",
       " 11.820578325598774,\n",
       " 2.6593810545488967]"
      ]
     },
     "execution_count": 30,
     "metadata": {},
     "output_type": "execute_result"
    }
   ],
   "source": [
    "BM"
   ]
  },
  {
   "cell_type": "code",
   "execution_count": 285,
   "id": "171fc9c2-bd4f-4366-9b5e-4b7f401d7901",
   "metadata": {},
   "outputs": [
    {
     "name": "stdout",
     "output_type": "stream",
     "text": [
      "The job FeMurn1 was saved and received the ID: 77\n",
      "The job FeMurn1_0_9 was saved and received the ID: 78\n",
      "The job FeMurn1_0_92 was saved and received the ID: 79\n",
      "The job FeMurn1_0_94 was saved and received the ID: 80\n",
      "The job FeMurn1_0_96 was saved and received the ID: 81\n",
      "The job FeMurn1_0_98 was saved and received the ID: 82\n",
      "The job FeMurn1_1_0 was saved and received the ID: 83\n",
      "The job FeMurn1_1_02 was saved and received the ID: 84\n",
      "The job FeMurn1_1_04 was saved and received the ID: 85\n",
      "The job FeMurn1_1_06 was saved and received the ID: 86\n",
      "The job FeMurn1_1_08 was saved and received the ID: 87\n",
      "The job FeMurn1_1_1 was saved and received the ID: 88\n"
     ]
    },
    {
     "data": {
      "text/plain": [
       "{'fit_type': 'birchmurnaghan',\n",
       " 'volume_eq': 1506.0423046814922,\n",
       " 'energy_eq': -546.2792068719419,\n",
       " 'bulkmodul_eq': 186.86579060755548,\n",
       " 'b_prime_eq': 4.610210331940922,\n",
       " 'least_square_error': array([0.01479726, 0.58403608, 0.17246593, 0.33011989]),\n",
       " 'volume': array([1361.65841273, 1391.91748839, 1422.17656447, 1452.43564024,\n",
       "        1482.69471601, 1512.953792  , 1543.21286764, 1573.47194345,\n",
       "        1603.73101941, 1633.99009516, 1664.24917108]),\n",
       " 'energy': array([-536.50846824, -540.46058982, -543.27675597, -545.09334503,\n",
       "        -546.03671401, -546.22500454, -545.75290715, -544.67260782,\n",
       "        -543.02789738, -540.85984929, -538.20703402])}"
      ]
     },
     "execution_count": 285,
     "metadata": {},
     "output_type": "execute_result"
    }
   ],
   "source": [
    "job_1vancancie = pr.create.job.Lammps('bm_Fe_1vacancies', delete_existing_job=True)\n",
    "job_1vancancie.structure = job_opt.get_structure(frame=-1)\n",
    "job_1vancancie.potential = potential\n",
    "murn1 = job_1vancancie.create_job(\"Murnaghan\", \"FeMurn1\")\n",
    "murn1.run(delete_existing_job=True)\n",
    "murn1.fit_birch_murnaghan()\n",
    "# murn1.plot()"
   ]
  },
  {
   "cell_type": "code",
   "execution_count": 313,
   "id": "76764c54-757b-42ea-8a29-ed9e13a57c82",
   "metadata": {},
   "outputs": [
    {
     "name": "stdout",
     "output_type": "stream",
     "text": [
      "Number of atoms in the repeat unit:  256\n",
      "Chemical formula:  Al232Mg24\n"
     ]
    },
    {
     "data": {
      "application/vnd.jupyter.widget-view+json": {
       "model_id": "6ce64aa5a9fb4450bf72a284e28838c9",
       "version_major": 2,
       "version_minor": 0
      },
      "text/plain": [
       "NGLWidget()"
      ]
     },
     "metadata": {},
     "output_type": "display_data"
    }
   ],
   "source": [
    "structureAl = pr.create.structure.bulk('Al', cubic=True)\n",
    "structureAl = structureAl.repeat([4,4,4])\n",
    "n_sub = 24\n",
    "structureAl[np.random.permutation(len(structureAl))[:n_sub]] = 'H'\n",
    "print('Number of atoms in the repeat unit: ',structure.get_number_of_atoms())\n",
    "print('Chemical formula: ',structure.get_chemical_formula())\n",
    "structureAl.plot3d()\n"
   ]
  },
  {
   "cell_type": "code",
   "execution_count": 319,
   "id": "b375e026-4f5f-4b88-897e-9519d4cd7085",
   "metadata": {},
   "outputs": [
    {
     "name": "stdout",
     "output_type": "stream",
     "text": [
      "The job AlH was saved and received the ID: 102\n"
     ]
    }
   ],
   "source": [
    "job_minin = pr.create.job.Lammps('AlH', delete_existing_job=True)\n",
    "job_minin.structure = structureAl\n",
    "job_minin.potential = job_minin.list_potentials()[1]\n",
    "job_minin.calc_minimize(n_print=10, pressure=[0,0,0,0,0,0])\n",
    "job_minin.run(delete_existing_job=True)"
   ]
  },
  {
   "cell_type": "code",
   "execution_count": 320,
   "id": "2b6500aa-0d01-4c94-8b14-1ed8f9bef8db",
   "metadata": {},
   "outputs": [
    {
     "data": {
      "application/vnd.jupyter.widget-view+json": {
       "model_id": "b728e7275609455bbee93cfdf36c26e2",
       "version_major": 2,
       "version_minor": 0
      },
      "text/plain": [
       "NGLWidget(max_frame=1460)"
      ]
     },
     "metadata": {},
     "output_type": "display_data"
    }
   ],
   "source": [
    "job_minin.animate_structures()"
   ]
  },
  {
   "cell_type": "code",
   "execution_count": 321,
   "id": "b8ceb516-4c4d-43fe-8dc6-6d268c0ef81a",
   "metadata": {},
   "outputs": [
    {
     "data": {
      "text/plain": [
       "[<matplotlib.lines.Line2D at 0x7d6a20151a60>]"
      ]
     },
     "execution_count": 321,
     "metadata": {},
     "output_type": "execute_result"
    },
    {
     "data": {
      "image/png": "[encoded data removed]",
      "text/plain": [
       "<Figure size 640x480 with 1 Axes>"
      ]
     },
     "metadata": {},
     "output_type": "display_data"
    }
   ],
   "source": [
    "plt.plot(job_minin.output.energy_tot)"
   ]
  },
  {
   "cell_type": "code",
   "execution_count": 316,
   "id": "fc8c44e0-1fb9-4f96-bc2f-bb664e004d44",
   "metadata": {},
   "outputs": [
    {
     "data": {
      "text/plain": [
       "['1995--Angelo-J-E--Ni-Al-H--LAMMPS--ipr1',\n",
       " '2011--Ko-W-S--Al-H--LAMMPS--ipr1',\n",
       " '2013--Shim-J-H--V-Al-H--LAMMPS--ipr1',\n",
       " '2018--Zhou-X-W--Al-Cu-H--LAMMPS--ipr1',\n",
       " 'EAM_Dynamo_AngeloMoodyBaskes_1995_NiAlH__MO_418978237058_005',\n",
       " 'MEAM_LAMMPS_KoShimLee_2011_AlH__MO_127847080751_000',\n",
       " 'MEAM_LAMMPS_ShimKoKim_2013_AlVH__MO_344724145339_000']"
      ]
     },
     "execution_count": 316,
     "metadata": {},
     "output_type": "execute_result"
    }
   ],
   "source": [
    "job_minin.list_potentials()[1]"
   ]
  },
  {
   "cell_type": "code",
   "execution_count": 299,
   "id": "1b58d30c-b078-4989-99f6-38ff5fa88b3d",
   "metadata": {},
   "outputs": [
    {
     "data": {
      "text/plain": [
       "array([ 50, 120, 226, 255,  57, 149, 234,  15, 101, 146,   0,  46, 223,\n",
       "       242, 161,  66, 231, 163, 139,  94, 204, 169,  44, 212,  76,  14,\n",
       "       198, 187,  12, 129, 232, 233, 211, 207,  19, 230,   6,  56,  78,\n",
       "        21, 213,  95, 105, 209, 132,  18, 104,  75,  64, 243, 254, 175,\n",
       "       167, 188,  27,  65,  13, 236, 112,  24,   7, 246, 190,  84,  80,\n",
       "         3,  39,  67, 164, 130, 219,  87, 123, 248,   1,  97,  40, 102,\n",
       "       114, 113, 147, 156, 100, 228, 155, 176, 251,  63, 168, 218, 140,\n",
       "        25, 202, 118, 128, 165,   8,   9, 109, 173, 178,  61,  20, 252,\n",
       "       177,  49, 217, 220,  31, 181,  70,  34, 239,  58, 195,  88,  51,\n",
       "       250, 171, 240,  92, 108, 136,  45, 107, 166, 184, 138, 172,  36,\n",
       "        72,  82, 216,  91, 159, 201, 115, 137, 126, 116, 111,  28,  59,\n",
       "        90, 142,  79, 197,  53, 103,  11, 143, 121,  85, 196,  35, 237,\n",
       "       225, 110, 253,  60,  74,  55,  47,  81,  54, 185,  41,  86,  32,\n",
       "        22, 205,  33, 133, 249, 191, 208,   4, 229,  38, 157,  17,  96,\n",
       "        52, 224, 131, 244, 162,  89, 125, 160, 193,  93, 238, 151,  43,\n",
       "       200,  30,  26, 235,  23, 215, 186, 150, 210, 245,   2, 153, 174,\n",
       "       241,  37, 124,  42,  98, 227, 203, 106, 214, 141, 221, 222, 152,\n",
       "        83, 145, 148, 189, 170,  62,   5,  29, 179,  77, 135, 183, 194,\n",
       "        16, 199, 206,  69, 117,  99,  73, 122, 119, 247, 192, 127,  10,\n",
       "        48, 182, 134, 154,  68, 158, 180, 144,  71])"
      ]
     },
     "execution_count": 299,
     "metadata": {},
     "output_type": "execute_result"
    }
   ],
   "source": [
    "print('Number of atoms in the repeat unit: ',structure.get_number_of_atoms())\n",
    "print('Chemical formula: ',structure.get_chemical_formula())\n",
    "structure.plot3d("
   ]
  },
  {
   "cell_type": "code",
   "execution_count": null,
   "id": "4ef5c71d-0622-4f62-99a2-2f622ae701e9",
   "metadata": {},
   "outputs": [],
   "source": []
  },
  {
   "cell_type": "code",
   "execution_count": 59,
   "id": "be054e68-329c-4cca-ae3e-74d3fb265c40",
   "metadata": {
    "collapsed": true,
    "jupyter": {
     "outputs_hidden": true
    }
   },
   "outputs": [
    {
     "name": "stdout",
     "output_type": "stream",
     "text": [
      "The job optimization0 was saved and received the ID: 6096\n",
      "The job FeMurn0 was saved and received the ID: 6097\n",
      "The job FeMurn0_0_9 was saved and received the ID: 6098\n",
      "The job FeMurn0_0_92 was saved and received the ID: 6099\n",
      "The job FeMurn0_0_94 was saved and received the ID: 6100\n",
      "The job FeMurn0_0_96 was saved and received the ID: 6101\n",
      "The job FeMurn0_0_98 was saved and received the ID: 6102\n",
      "The job FeMurn0_1_0 was saved and received the ID: 6103\n",
      "The job FeMurn0_1_02 was saved and received the ID: 6104\n",
      "The job FeMurn0_1_04 was saved and received the ID: 6105\n",
      "The job FeMurn0_1_06 was saved and received the ID: 6106\n",
      "The job FeMurn0_1_08 was saved and received the ID: 6107\n",
      "The job FeMurn0_1_1 was saved and received the ID: 6108\n",
      "Fe127H\n",
      "The job optimization1 was saved and received the ID: 6109\n",
      "The job FeMurn1 was saved and received the ID: 6110\n",
      "The job FeMurn1_0_9 was saved and received the ID: 6111\n",
      "The job FeMurn1_0_92 was saved and received the ID: 6112\n",
      "The job FeMurn1_0_94 was saved and received the ID: 6113\n",
      "The job FeMurn1_0_96 was saved and received the ID: 6114\n",
      "The job FeMurn1_0_98 was saved and received the ID: 6115\n",
      "The job FeMurn1_1_0 was saved and received the ID: 6116\n",
      "The job FeMurn1_1_02 was saved and received the ID: 6117\n",
      "The job FeMurn1_1_04 was saved and received the ID: 6118\n",
      "The job FeMurn1_1_06 was saved and received the ID: 6119\n",
      "The job FeMurn1_1_08 was saved and received the ID: 6120\n",
      "The job FeMurn1_1_1 was saved and received the ID: 6121\n",
      "Fe126H2\n",
      "The job optimization2 was saved and received the ID: 6122\n",
      "The job FeMurn2 was saved and received the ID: 6123\n",
      "The job FeMurn2_0_9 was saved and received the ID: 6124\n",
      "The job FeMurn2_0_92 was saved and received the ID: 6125\n",
      "The job FeMurn2_0_94 was saved and received the ID: 6126\n",
      "The job FeMurn2_0_96 was saved and received the ID: 6127\n",
      "The job FeMurn2_0_98 was saved and received the ID: 6128\n",
      "The job FeMurn2_1_0 was saved and received the ID: 6129\n",
      "The job FeMurn2_1_02 was saved and received the ID: 6130\n",
      "The job FeMurn2_1_04 was saved and received the ID: 6131\n",
      "The job FeMurn2_1_06 was saved and received the ID: 6132\n",
      "The job FeMurn2_1_08 was saved and received the ID: 6133\n",
      "The job FeMurn2_1_1 was saved and received the ID: 6134\n",
      "Fe125H3\n",
      "The job optimization3 was saved and received the ID: 6135\n",
      "The job FeMurn3 was saved and received the ID: 6136\n",
      "The job FeMurn3_0_9 was saved and received the ID: 6137\n",
      "The job FeMurn3_0_92 was saved and received the ID: 6138\n",
      "The job FeMurn3_0_94 was saved and received the ID: 6139\n",
      "The job FeMurn3_0_96 was saved and received the ID: 6140\n",
      "The job FeMurn3_0_98 was saved and received the ID: 6141\n",
      "The job FeMurn3_1_0 was saved and received the ID: 6142\n",
      "The job FeMurn3_1_02 was saved and received the ID: 6143\n",
      "The job FeMurn3_1_04 was saved and received the ID: 6144\n",
      "The job FeMurn3_1_06 was saved and received the ID: 6145\n",
      "The job FeMurn3_1_08 was saved and received the ID: 6146\n",
      "The job FeMurn3_1_1 was saved and received the ID: 6147\n",
      "Fe124H4\n",
      "The job optimization4 was saved and received the ID: 6148\n",
      "The job FeMurn4 was saved and received the ID: 6149\n",
      "The job FeMurn4_0_9 was saved and received the ID: 6150\n",
      "The job FeMurn4_0_92 was saved and received the ID: 6151\n",
      "The job FeMurn4_0_94 was saved and received the ID: 6152\n",
      "The job FeMurn4_0_96 was saved and received the ID: 6153\n",
      "The job FeMurn4_0_98 was saved and received the ID: 6154\n",
      "The job FeMurn4_1_0 was saved and received the ID: 6155\n",
      "The job FeMurn4_1_02 was saved and received the ID: 6156\n",
      "The job FeMurn4_1_04 was saved and received the ID: 6157\n",
      "The job FeMurn4_1_06 was saved and received the ID: 6158\n",
      "The job FeMurn4_1_08 was saved and received the ID: 6159\n",
      "The job FeMurn4_1_1 was saved and received the ID: 6160\n",
      "Fe123H5\n",
      "The job optimization5 was saved and received the ID: 6161\n",
      "The job FeMurn5 was saved and received the ID: 6162\n",
      "The job FeMurn5_0_9 was saved and received the ID: 6163\n",
      "The job FeMurn5_0_92 was saved and received the ID: 6164\n",
      "The job FeMurn5_0_94 was saved and received the ID: 6165\n",
      "The job FeMurn5_0_96 was saved and received the ID: 6166\n",
      "The job FeMurn5_0_98 was saved and received the ID: 6167\n",
      "The job FeMurn5_1_0 was saved and received the ID: 6168\n",
      "The job FeMurn5_1_02 was saved and received the ID: 6169\n",
      "The job FeMurn5_1_04 was saved and received the ID: 6170\n",
      "The job FeMurn5_1_06 was saved and received the ID: 6171\n",
      "The job FeMurn5_1_08 was saved and received the ID: 6172\n",
      "The job FeMurn5_1_1 was saved and received the ID: 6173\n",
      "Fe122H6\n",
      "The job optimization6 was saved and received the ID: 6174\n",
      "The job FeMurn6 was saved and received the ID: 6175\n",
      "The job FeMurn6_0_9 was saved and received the ID: 6176\n",
      "The job FeMurn6_0_92 was saved and received the ID: 6177\n",
      "The job FeMurn6_0_94 was saved and received the ID: 6178\n",
      "The job FeMurn6_0_96 was saved and received the ID: 6179\n",
      "The job FeMurn6_0_98 was saved and received the ID: 6180\n",
      "The job FeMurn6_1_0 was saved and received the ID: 6181\n",
      "The job FeMurn6_1_02 was saved and received the ID: 6182\n",
      "The job FeMurn6_1_04 was saved and received the ID: 6183\n",
      "The job FeMurn6_1_06 was saved and received the ID: 6184\n",
      "The job FeMurn6_1_08 was saved and received the ID: 6185\n",
      "The job FeMurn6_1_1 was saved and received the ID: 6186\n",
      "Fe121H7\n",
      "The job optimization7 was saved and received the ID: 6187\n",
      "The job FeMurn7 was saved and received the ID: 6188\n",
      "The job FeMurn7_0_9 was saved and received the ID: 6189\n",
      "The job FeMurn7_0_92 was saved and received the ID: 6190\n",
      "The job FeMurn7_0_94 was saved and received the ID: 6191\n",
      "The job FeMurn7_0_96 was saved and received the ID: 6192\n",
      "The job FeMurn7_0_98 was saved and received the ID: 6193\n",
      "The job FeMurn7_1_0 was saved and received the ID: 6194\n",
      "The job FeMurn7_1_02 was saved and received the ID: 6195\n",
      "The job FeMurn7_1_04 was saved and received the ID: 6196\n",
      "The job FeMurn7_1_06 was saved and received the ID: 6197\n",
      "The job FeMurn7_1_08 was saved and received the ID: 6198\n",
      "The job FeMurn7_1_1 was saved and received the ID: 6199\n",
      "Fe120H8\n",
      "The job optimization8 was saved and received the ID: 6200\n",
      "The job FeMurn8 was saved and received the ID: 6201\n",
      "The job FeMurn8_0_9 was saved and received the ID: 6202\n",
      "The job FeMurn8_0_92 was saved and received the ID: 6203\n",
      "The job FeMurn8_0_94 was saved and received the ID: 6204\n",
      "The job FeMurn8_0_96 was saved and received the ID: 6205\n",
      "The job FeMurn8_0_98 was saved and received the ID: 6206\n",
      "The job FeMurn8_1_0 was saved and received the ID: 6207\n",
      "The job FeMurn8_1_02 was saved and received the ID: 6208\n",
      "The job FeMurn8_1_04 was saved and received the ID: 6209\n",
      "The job FeMurn8_1_06 was saved and received the ID: 6210\n",
      "The job FeMurn8_1_08 was saved and received the ID: 6211\n",
      "The job FeMurn8_1_1 was saved and received the ID: 6212\n",
      "Fe119H9\n",
      "The job optimization9 was saved and received the ID: 6213\n",
      "The job FeMurn9 was saved and received the ID: 6214\n",
      "The job FeMurn9_0_9 was saved and received the ID: 6215\n",
      "The job FeMurn9_0_92 was saved and received the ID: 6216\n",
      "The job FeMurn9_0_94 was saved and received the ID: 6217\n",
      "The job FeMurn9_0_96 was saved and received the ID: 6218\n",
      "The job FeMurn9_0_98 was saved and received the ID: 6219\n",
      "The job FeMurn9_1_0 was saved and received the ID: 6220\n",
      "The job FeMurn9_1_02 was saved and received the ID: 6221\n",
      "The job FeMurn9_1_04 was saved and received the ID: 6222\n",
      "The job FeMurn9_1_06 was saved and received the ID: 6223\n",
      "The job FeMurn9_1_08 was saved and received the ID: 6224\n",
      "The job FeMurn9_1_1 was saved and received the ID: 6225\n",
      "Fe118H10\n",
      "The job optimization10 was saved and received the ID: 6226\n",
      "The job FeMurn10 was saved and received the ID: 6227\n",
      "The job FeMurn10_0_9 was saved and received the ID: 6228\n",
      "The job FeMurn10_0_92 was saved and received the ID: 6229\n",
      "The job FeMurn10_0_94 was saved and received the ID: 6230\n",
      "The job FeMurn10_0_96 was saved and received the ID: 6231\n",
      "The job FeMurn10_0_98 was saved and received the ID: 6232\n",
      "The job FeMurn10_1_0 was saved and received the ID: 6233\n",
      "The job FeMurn10_1_02 was saved and received the ID: 6234\n",
      "The job FeMurn10_1_04 was saved and received the ID: 6235\n",
      "The job FeMurn10_1_06 was saved and received the ID: 6236\n",
      "The job FeMurn10_1_08 was saved and received the ID: 6237\n",
      "The job FeMurn10_1_1 was saved and received the ID: 6238\n",
      "Fe117H11\n",
      "The job optimization11 was saved and received the ID: 6239\n",
      "The job FeMurn11 was saved and received the ID: 6240\n",
      "The job FeMurn11_0_9 was saved and received the ID: 6241\n",
      "The job FeMurn11_0_92 was saved and received the ID: 6242\n",
      "The job FeMurn11_0_94 was saved and received the ID: 6243\n",
      "The job FeMurn11_0_96 was saved and received the ID: 6244\n",
      "The job FeMurn11_0_98 was saved and received the ID: 6245\n",
      "The job FeMurn11_1_0 was saved and received the ID: 6246\n",
      "The job FeMurn11_1_02 was saved and received the ID: 6247\n",
      "The job FeMurn11_1_04 was saved and received the ID: 6248\n",
      "The job FeMurn11_1_06 was saved and received the ID: 6249\n",
      "The job FeMurn11_1_08 was saved and received the ID: 6250\n",
      "The job FeMurn11_1_1 was saved and received the ID: 6251\n",
      "Fe116H12\n",
      "The job optimization12 was saved and received the ID: 6252\n",
      "The job FeMurn12 was saved and received the ID: 6253\n",
      "The job FeMurn12_0_9 was saved and received the ID: 6254\n",
      "The job FeMurn12_0_92 was saved and received the ID: 6255\n",
      "The job FeMurn12_0_94 was saved and received the ID: 6256\n",
      "The job FeMurn12_0_96 was saved and received the ID: 6257\n",
      "The job FeMurn12_0_98 was saved and received the ID: 6258\n",
      "The job FeMurn12_1_0 was saved and received the ID: 6259\n",
      "The job FeMurn12_1_02 was saved and received the ID: 6260\n",
      "The job FeMurn12_1_04 was saved and received the ID: 6261\n",
      "The job FeMurn12_1_06 was saved and received the ID: 6262\n",
      "The job FeMurn12_1_08 was saved and received the ID: 6263\n",
      "The job FeMurn12_1_1 was saved and received the ID: 6264\n",
      "Fe115H13\n",
      "The job optimization13 was saved and received the ID: 6265\n",
      "The job FeMurn13 was saved and received the ID: 6266\n",
      "The job FeMurn13_0_9 was saved and received the ID: 6267\n",
      "The job FeMurn13_0_92 was saved and received the ID: 6268\n",
      "The job FeMurn13_0_94 was saved and received the ID: 6269\n",
      "The job FeMurn13_0_96 was saved and received the ID: 6270\n",
      "The job FeMurn13_0_98 was saved and received the ID: 6271\n",
      "The job FeMurn13_1_0 was saved and received the ID: 6272\n",
      "The job FeMurn13_1_02 was saved and received the ID: 6273\n",
      "The job FeMurn13_1_04 was saved and received the ID: 6274\n",
      "The job FeMurn13_1_06 was saved and received the ID: 6275\n",
      "The job FeMurn13_1_08 was saved and received the ID: 6276\n",
      "The job FeMurn13_1_1 was saved and received the ID: 6277\n",
      "Fe114H14\n",
      "The job optimization14 was saved and received the ID: 6278\n",
      "The job FeMurn14 was saved and received the ID: 6279\n",
      "The job FeMurn14_0_9 was saved and received the ID: 6280\n",
      "The job FeMurn14_0_92 was saved and received the ID: 6281\n",
      "The job FeMurn14_0_94 was saved and received the ID: 6282\n",
      "The job FeMurn14_0_96 was saved and received the ID: 6283\n",
      "The job FeMurn14_0_98 was saved and received the ID: 6284\n",
      "The job FeMurn14_1_0 was saved and received the ID: 6285\n",
      "The job FeMurn14_1_02 was saved and received the ID: 6286\n",
      "The job FeMurn14_1_04 was saved and received the ID: 6287\n",
      "The job FeMurn14_1_06 was saved and received the ID: 6288\n",
      "The job FeMurn14_1_08 was saved and received the ID: 6289\n",
      "The job FeMurn14_1_1 was saved and received the ID: 6290\n",
      "Fe113H15\n",
      "The job optimization15 was saved and received the ID: 6291\n",
      "The job FeMurn15 was saved and received the ID: 6292\n",
      "The job FeMurn15_0_9 was saved and received the ID: 6293\n",
      "The job FeMurn15_0_92 was saved and received the ID: 6294\n",
      "The job FeMurn15_0_94 was saved and received the ID: 6295\n",
      "The job FeMurn15_0_96 was saved and received the ID: 6296\n",
      "The job FeMurn15_0_98 was saved and received the ID: 6297\n",
      "The job FeMurn15_1_0 was saved and received the ID: 6298\n",
      "The job FeMurn15_1_02 was saved and received the ID: 6299\n",
      "The job FeMurn15_1_04 was saved and received the ID: 6300\n",
      "The job FeMurn15_1_06 was saved and received the ID: 6301\n",
      "The job FeMurn15_1_08 was saved and received the ID: 6302\n",
      "The job FeMurn15_1_1 was saved and received the ID: 6303\n",
      "Fe112H16\n",
      "The job optimization16 was saved and received the ID: 6304\n",
      "The job FeMurn16 was saved and received the ID: 6305\n",
      "The job FeMurn16_0_9 was saved and received the ID: 6306\n",
      "The job FeMurn16_0_92 was saved and received the ID: 6307\n",
      "The job FeMurn16_0_94 was saved and received the ID: 6308\n",
      "The job FeMurn16_0_96 was saved and received the ID: 6309\n",
      "The job FeMurn16_0_98 was saved and received the ID: 6310\n",
      "The job FeMurn16_1_0 was saved and received the ID: 6311\n",
      "The job FeMurn16_1_02 was saved and received the ID: 6312\n",
      "The job FeMurn16_1_04 was saved and received the ID: 6313\n",
      "The job FeMurn16_1_06 was saved and received the ID: 6314\n",
      "The job FeMurn16_1_08 was saved and received the ID: 6315\n",
      "The job FeMurn16_1_1 was saved and received the ID: 6316\n",
      "Fe111H17\n",
      "The job optimization17 was saved and received the ID: 6317\n",
      "The job FeMurn17 was saved and received the ID: 6318\n",
      "The job FeMurn17_0_9 was saved and received the ID: 6319\n",
      "The job FeMurn17_0_92 was saved and received the ID: 6320\n",
      "The job FeMurn17_0_94 was saved and received the ID: 6321\n",
      "The job FeMurn17_0_96 was saved and received the ID: 6322\n",
      "The job FeMurn17_0_98 was saved and received the ID: 6323\n",
      "The job FeMurn17_1_0 was saved and received the ID: 6324\n",
      "The job FeMurn17_1_02 was saved and received the ID: 6325\n",
      "The job FeMurn17_1_04 was saved and received the ID: 6326\n",
      "The job FeMurn17_1_06 was saved and received the ID: 6327\n",
      "The job FeMurn17_1_08 was saved and received the ID: 6328\n",
      "The job FeMurn17_1_1 was saved and received the ID: 6329\n",
      "Fe110H18\n",
      "The job optimization18 was saved and received the ID: 6330\n",
      "The job FeMurn18 was saved and received the ID: 6331\n",
      "The job FeMurn18_0_9 was saved and received the ID: 6332\n",
      "The job FeMurn18_0_92 was saved and received the ID: 6333\n",
      "The job FeMurn18_0_94 was saved and received the ID: 6334\n",
      "The job FeMurn18_0_96 was saved and received the ID: 6335\n",
      "The job FeMurn18_0_98 was saved and received the ID: 6336\n",
      "The job FeMurn18_1_0 was saved and received the ID: 6337\n",
      "The job FeMurn18_1_02 was saved and received the ID: 6338\n",
      "The job FeMurn18_1_04 was saved and received the ID: 6339\n",
      "The job FeMurn18_1_06 was saved and received the ID: 6340\n",
      "The job FeMurn18_1_08 was saved and received the ID: 6341\n",
      "The job FeMurn18_1_1 was saved and received the ID: 6342\n",
      "Fe109H19\n",
      "The job optimization19 was saved and received the ID: 6343\n",
      "The job FeMurn19 was saved and received the ID: 6344\n",
      "The job FeMurn19_0_9 was saved and received the ID: 6345\n",
      "The job FeMurn19_0_92 was saved and received the ID: 6346\n",
      "The job FeMurn19_0_94 was saved and received the ID: 6347\n",
      "The job FeMurn19_0_96 was saved and received the ID: 6348\n",
      "The job FeMurn19_0_98 was saved and received the ID: 6349\n",
      "The job FeMurn19_1_0 was saved and received the ID: 6350\n",
      "The job FeMurn19_1_02 was saved and received the ID: 6351\n",
      "The job FeMurn19_1_04 was saved and received the ID: 6352\n",
      "The job FeMurn19_1_06 was saved and received the ID: 6353\n",
      "The job FeMurn19_1_08 was saved and received the ID: 6354\n",
      "The job FeMurn19_1_1 was saved and received the ID: 6355\n",
      "Fe108H20\n",
      "The job optimization20 was saved and received the ID: 6356\n",
      "The job FeMurn20 was saved and received the ID: 6357\n",
      "The job FeMurn20_0_9 was saved and received the ID: 6358\n",
      "The job FeMurn20_0_92 was saved and received the ID: 6359\n",
      "The job FeMurn20_0_94 was saved and received the ID: 6360\n",
      "The job FeMurn20_0_96 was saved and received the ID: 6361\n",
      "The job FeMurn20_0_98 was saved and received the ID: 6362\n",
      "The job FeMurn20_1_0 was saved and received the ID: 6363\n",
      "The job FeMurn20_1_02 was saved and received the ID: 6364\n",
      "The job FeMurn20_1_04 was saved and received the ID: 6365\n",
      "The job FeMurn20_1_06 was saved and received the ID: 6366\n",
      "The job FeMurn20_1_08 was saved and received the ID: 6367\n",
      "The job FeMurn20_1_1 was saved and received the ID: 6368\n",
      "Fe107H21\n",
      "The job optimization21 was saved and received the ID: 6369\n",
      "The job FeMurn21 was saved and received the ID: 6370\n",
      "The job FeMurn21_0_9 was saved and received the ID: 6371\n",
      "The job FeMurn21_0_92 was saved and received the ID: 6372\n",
      "The job FeMurn21_0_94 was saved and received the ID: 6373\n",
      "The job FeMurn21_0_96 was saved and received the ID: 6374\n",
      "The job FeMurn21_0_98 was saved and received the ID: 6375\n",
      "The job FeMurn21_1_0 was saved and received the ID: 6376\n",
      "The job FeMurn21_1_02 was saved and received the ID: 6377\n",
      "The job FeMurn21_1_04 was saved and received the ID: 6378\n",
      "The job FeMurn21_1_06 was saved and received the ID: 6379\n",
      "The job FeMurn21_1_08 was saved and received the ID: 6380\n",
      "The job FeMurn21_1_1 was saved and received the ID: 6381\n",
      "Fe106H22\n",
      "The job optimization22 was saved and received the ID: 6382\n",
      "The job FeMurn22 was saved and received the ID: 6383\n",
      "The job FeMurn22_0_9 was saved and received the ID: 6384\n",
      "The job FeMurn22_0_92 was saved and received the ID: 6385\n",
      "The job FeMurn22_0_94 was saved and received the ID: 6386\n",
      "The job FeMurn22_0_96 was saved and received the ID: 6387\n",
      "The job FeMurn22_0_98 was saved and received the ID: 6388\n",
      "The job FeMurn22_1_0 was saved and received the ID: 6389\n",
      "The job FeMurn22_1_02 was saved and received the ID: 6390\n",
      "The job FeMurn22_1_04 was saved and received the ID: 6391\n",
      "The job FeMurn22_1_06 was saved and received the ID: 6392\n",
      "The job FeMurn22_1_08 was saved and received the ID: 6393\n",
      "The job FeMurn22_1_1 was saved and received the ID: 6394\n",
      "Fe105H23\n",
      "The job optimization23 was saved and received the ID: 6395\n",
      "The job FeMurn23 was saved and received the ID: 6396\n",
      "The job FeMurn23_0_9 was saved and received the ID: 6397\n",
      "The job FeMurn23_0_92 was saved and received the ID: 6398\n",
      "The job FeMurn23_0_94 was saved and received the ID: 6399\n",
      "The job FeMurn23_0_96 was saved and received the ID: 6400\n",
      "The job FeMurn23_0_98 was saved and received the ID: 6401\n",
      "The job FeMurn23_1_0 was saved and received the ID: 6402\n",
      "The job FeMurn23_1_02 was saved and received the ID: 6403\n",
      "The job FeMurn23_1_04 was saved and received the ID: 6404\n",
      "The job FeMurn23_1_06 was saved and received the ID: 6405\n",
      "The job FeMurn23_1_08 was saved and received the ID: 6406\n",
      "The job FeMurn23_1_1 was saved and received the ID: 6407\n",
      "Fe104H24\n",
      "The job optimization24 was saved and received the ID: 6408\n",
      "The job FeMurn24 was saved and received the ID: 6409\n",
      "The job FeMurn24_0_9 was saved and received the ID: 6410\n",
      "The job FeMurn24_0_92 was saved and received the ID: 6411\n",
      "The job FeMurn24_0_94 was saved and received the ID: 6412\n",
      "The job FeMurn24_0_96 was saved and received the ID: 6413\n",
      "The job FeMurn24_0_98 was saved and received the ID: 6414\n",
      "The job FeMurn24_1_0 was saved and received the ID: 6415\n",
      "The job FeMurn24_1_02 was saved and received the ID: 6416\n",
      "The job FeMurn24_1_04 was saved and received the ID: 6417\n",
      "The job FeMurn24_1_06 was saved and received the ID: 6418\n",
      "The job FeMurn24_1_08 was saved and received the ID: 6419\n",
      "The job FeMurn24_1_1 was saved and received the ID: 6420\n",
      "Fe103H25\n",
      "The job optimization25 was saved and received the ID: 6421\n",
      "The job FeMurn25 was saved and received the ID: 6422\n",
      "The job FeMurn25_0_9 was saved and received the ID: 6423\n",
      "The job FeMurn25_0_92 was saved and received the ID: 6424\n",
      "The job FeMurn25_0_94 was saved and received the ID: 6425\n",
      "The job FeMurn25_0_96 was saved and received the ID: 6426\n",
      "The job FeMurn25_0_98 was saved and received the ID: 6427\n",
      "The job FeMurn25_1_0 was saved and received the ID: 6428\n",
      "The job FeMurn25_1_02 was saved and received the ID: 6429\n",
      "The job FeMurn25_1_04 was saved and received the ID: 6430\n",
      "The job FeMurn25_1_06 was saved and received the ID: 6431\n",
      "The job FeMurn25_1_08 was saved and received the ID: 6432\n",
      "The job FeMurn25_1_1 was saved and received the ID: 6433\n",
      "Fe102H26\n",
      "The job optimization26 was saved and received the ID: 6434\n",
      "The job FeMurn26 was saved and received the ID: 6435\n",
      "The job FeMurn26_0_9 was saved and received the ID: 6436\n",
      "The job FeMurn26_0_92 was saved and received the ID: 6437\n",
      "The job FeMurn26_0_94 was saved and received the ID: 6438\n",
      "The job FeMurn26_0_96 was saved and received the ID: 6439\n",
      "The job FeMurn26_0_98 was saved and received the ID: 6440\n",
      "The job FeMurn26_1_0 was saved and received the ID: 6441\n",
      "The job FeMurn26_1_02 was saved and received the ID: 6442\n",
      "The job FeMurn26_1_04 was saved and received the ID: 6443\n",
      "The job FeMurn26_1_06 was saved and received the ID: 6444\n",
      "The job FeMurn26_1_08 was saved and received the ID: 6445\n",
      "The job FeMurn26_1_1 was saved and received the ID: 6446\n",
      "Fe101H27\n",
      "The job optimization27 was saved and received the ID: 6447\n",
      "The job FeMurn27 was saved and received the ID: 6448\n",
      "The job FeMurn27_0_9 was saved and received the ID: 6449\n",
      "The job FeMurn27_0_92 was saved and received the ID: 6450\n",
      "The job FeMurn27_0_94 was saved and received the ID: 6451\n",
      "The job FeMurn27_0_96 was saved and received the ID: 6452\n",
      "The job FeMurn27_0_98 was saved and received the ID: 6453\n",
      "The job FeMurn27_1_0 was saved and received the ID: 6454\n",
      "The job FeMurn27_1_02 was saved and received the ID: 6455\n",
      "The job FeMurn27_1_04 was saved and received the ID: 6456\n",
      "The job FeMurn27_1_06 was saved and received the ID: 6457\n",
      "The job FeMurn27_1_08 was saved and received the ID: 6458\n",
      "The job FeMurn27_1_1 was saved and received the ID: 6459\n",
      "Fe100H28\n",
      "The job optimization28 was saved and received the ID: 6460\n",
      "The job FeMurn28 was saved and received the ID: 6461\n",
      "The job FeMurn28_0_9 was saved and received the ID: 6462\n",
      "The job FeMurn28_0_92 was saved and received the ID: 6463\n",
      "The job FeMurn28_0_94 was saved and received the ID: 6464\n",
      "The job FeMurn28_0_96 was saved and received the ID: 6465\n",
      "The job FeMurn28_0_98 was saved and received the ID: 6466\n",
      "The job FeMurn28_1_0 was saved and received the ID: 6467\n",
      "The job FeMurn28_1_02 was saved and received the ID: 6468\n",
      "The job FeMurn28_1_04 was saved and received the ID: 6469\n",
      "The job FeMurn28_1_06 was saved and received the ID: 6470\n",
      "The job FeMurn28_1_08 was saved and received the ID: 6471\n",
      "The job FeMurn28_1_1 was saved and received the ID: 6472\n",
      "Fe99H29\n",
      "The job optimization29 was saved and received the ID: 6473\n",
      "The job FeMurn29 was saved and received the ID: 6474\n",
      "The job FeMurn29_0_9 was saved and received the ID: 6475\n",
      "The job FeMurn29_0_92 was saved and received the ID: 6476\n",
      "The job FeMurn29_0_94 was saved and received the ID: 6477\n",
      "The job FeMurn29_0_96 was saved and received the ID: 6478\n",
      "The job FeMurn29_0_98 was saved and received the ID: 6479\n",
      "The job FeMurn29_1_0 was saved and received the ID: 6480\n",
      "The job FeMurn29_1_02 was saved and received the ID: 6481\n",
      "The job FeMurn29_1_04 was saved and received the ID: 6482\n",
      "The job FeMurn29_1_06 was saved and received the ID: 6483\n",
      "The job FeMurn29_1_08 was saved and received the ID: 6484\n",
      "The job FeMurn29_1_1 was saved and received the ID: 6485\n",
      "Fe98H30\n",
      "The job optimization30 was saved and received the ID: 6486\n",
      "The job FeMurn30 was saved and received the ID: 6487\n",
      "The job FeMurn30_0_9 was saved and received the ID: 6488\n",
      "The job FeMurn30_0_92 was saved and received the ID: 6489\n",
      "The job FeMurn30_0_94 was saved and received the ID: 6490\n",
      "The job FeMurn30_0_96 was saved and received the ID: 6491\n",
      "The job FeMurn30_0_98 was saved and received the ID: 6492\n",
      "The job FeMurn30_1_0 was saved and received the ID: 6493\n",
      "The job FeMurn30_1_02 was saved and received the ID: 6494\n",
      "The job FeMurn30_1_04 was saved and received the ID: 6495\n",
      "The job FeMurn30_1_06 was saved and received the ID: 6496\n",
      "The job FeMurn30_1_08 was saved and received the ID: 6497\n",
      "The job FeMurn30_1_1 was saved and received the ID: 6498\n",
      "Fe97H31\n",
      "The job optimization31 was saved and received the ID: 6499\n",
      "The job FeMurn31 was saved and received the ID: 6500\n",
      "The job FeMurn31_0_9 was saved and received the ID: 6501\n",
      "The job FeMurn31_0_92 was saved and received the ID: 6502\n",
      "The job FeMurn31_0_94 was saved and received the ID: 6503\n",
      "The job FeMurn31_0_96 was saved and received the ID: 6504\n",
      "The job FeMurn31_0_98 was saved and received the ID: 6505\n",
      "The job FeMurn31_1_0 was saved and received the ID: 6506\n",
      "The job FeMurn31_1_02 was saved and received the ID: 6507\n",
      "The job FeMurn31_1_04 was saved and received the ID: 6508\n",
      "The job FeMurn31_1_06 was saved and received the ID: 6509\n",
      "The job FeMurn31_1_08 was saved and received the ID: 6510\n",
      "The job FeMurn31_1_1 was saved and received the ID: 6511\n",
      "Fe96H32\n",
      "The job optimization32 was saved and received the ID: 6512\n",
      "The job FeMurn32 was saved and received the ID: 6513\n",
      "The job FeMurn32_0_9 was saved and received the ID: 6514\n",
      "The job FeMurn32_0_92 was saved and received the ID: 6515\n",
      "The job FeMurn32_0_94 was saved and received the ID: 6516\n",
      "The job FeMurn32_0_96 was saved and received the ID: 6517\n",
      "The job FeMurn32_0_98 was saved and received the ID: 6518\n",
      "The job FeMurn32_1_0 was saved and received the ID: 6519\n",
      "The job FeMurn32_1_02 was saved and received the ID: 6520\n",
      "The job FeMurn32_1_04 was saved and received the ID: 6521\n",
      "The job FeMurn32_1_06 was saved and received the ID: 6522\n",
      "The job FeMurn32_1_08 was saved and received the ID: 6523\n",
      "The job FeMurn32_1_1 was saved and received the ID: 6524\n",
      "Fe95H33\n",
      "The job optimization33 was saved and received the ID: 6525\n",
      "The job FeMurn33 was saved and received the ID: 6526\n",
      "The job FeMurn33_0_9 was saved and received the ID: 6527\n",
      "The job FeMurn33_0_92 was saved and received the ID: 6528\n",
      "The job FeMurn33_0_94 was saved and received the ID: 6529\n",
      "The job FeMurn33_0_96 was saved and received the ID: 6530\n",
      "The job FeMurn33_0_98 was saved and received the ID: 6531\n",
      "The job FeMurn33_1_0 was saved and received the ID: 6532\n",
      "The job FeMurn33_1_02 was saved and received the ID: 6533\n",
      "The job FeMurn33_1_04 was saved and received the ID: 6534\n",
      "The job FeMurn33_1_06 was saved and received the ID: 6535\n",
      "The job FeMurn33_1_08 was saved and received the ID: 6536\n",
      "The job FeMurn33_1_1 was saved and received the ID: 6537\n",
      "Fe94H34\n",
      "The job optimization34 was saved and received the ID: 6538\n",
      "The job FeMurn34 was saved and received the ID: 6539\n",
      "The job FeMurn34_0_9 was saved and received the ID: 6540\n",
      "The job FeMurn34_0_92 was saved and received the ID: 6541\n",
      "The job FeMurn34_0_94 was saved and received the ID: 6542\n",
      "The job FeMurn34_0_96 was saved and received the ID: 6543\n",
      "The job FeMurn34_0_98 was saved and received the ID: 6544\n",
      "The job FeMurn34_1_0 was saved and received the ID: 6545\n",
      "The job FeMurn34_1_02 was saved and received the ID: 6546\n",
      "The job FeMurn34_1_04 was saved and received the ID: 6547\n",
      "The job FeMurn34_1_06 was saved and received the ID: 6548\n",
      "The job FeMurn34_1_08 was saved and received the ID: 6549\n",
      "The job FeMurn34_1_1 was saved and received the ID: 6550\n",
      "Fe93H35\n",
      "The job optimization35 was saved and received the ID: 6551\n",
      "The job FeMurn35 was saved and received the ID: 6552\n",
      "The job FeMurn35_0_9 was saved and received the ID: 6553\n",
      "The job FeMurn35_0_92 was saved and received the ID: 6554\n",
      "The job FeMurn35_0_94 was saved and received the ID: 6555\n",
      "The job FeMurn35_0_96 was saved and received the ID: 6556\n",
      "The job FeMurn35_0_98 was saved and received the ID: 6557\n",
      "The job FeMurn35_1_0 was saved and received the ID: 6558\n",
      "The job FeMurn35_1_02 was saved and received the ID: 6559\n",
      "The job FeMurn35_1_04 was saved and received the ID: 6560\n",
      "The job FeMurn35_1_06 was saved and received the ID: 6561\n",
      "The job FeMurn35_1_08 was saved and received the ID: 6562\n",
      "The job FeMurn35_1_1 was saved and received the ID: 6563\n",
      "Fe92H36\n",
      "The job optimization36 was saved and received the ID: 6564\n",
      "The job FeMurn36 was saved and received the ID: 6565\n",
      "The job FeMurn36_0_9 was saved and received the ID: 6566\n",
      "The job FeMurn36_0_92 was saved and received the ID: 6567\n",
      "The job FeMurn36_0_94 was saved and received the ID: 6568\n",
      "The job FeMurn36_0_96 was saved and received the ID: 6569\n",
      "The job FeMurn36_0_98 was saved and received the ID: 6570\n",
      "The job FeMurn36_1_0 was saved and received the ID: 6571\n",
      "The job FeMurn36_1_02 was saved and received the ID: 6572\n",
      "The job FeMurn36_1_04 was saved and received the ID: 6573\n",
      "The job FeMurn36_1_06 was saved and received the ID: 6574\n",
      "The job FeMurn36_1_08 was saved and received the ID: 6575\n",
      "The job FeMurn36_1_1 was saved and received the ID: 6576\n",
      "Fe91H37\n",
      "The job optimization37 was saved and received the ID: 6577\n",
      "The job FeMurn37 was saved and received the ID: 6578\n",
      "The job FeMurn37_0_9 was saved and received the ID: 6579\n",
      "The job FeMurn37_0_92 was saved and received the ID: 6580\n",
      "The job FeMurn37_0_94 was saved and received the ID: 6581\n",
      "The job FeMurn37_0_96 was saved and received the ID: 6582\n",
      "The job FeMurn37_0_98 was saved and received the ID: 6583\n",
      "The job FeMurn37_1_0 was saved and received the ID: 6584\n",
      "The job FeMurn37_1_02 was saved and received the ID: 6585\n",
      "The job FeMurn37_1_04 was saved and received the ID: 6586\n",
      "The job FeMurn37_1_06 was saved and received the ID: 6587\n",
      "The job FeMurn37_1_08 was saved and received the ID: 6588\n",
      "The job FeMurn37_1_1 was saved and received the ID: 6589\n",
      "Fe90H38\n",
      "The job optimization38 was saved and received the ID: 6590\n",
      "The job FeMurn38 was saved and received the ID: 6591\n",
      "The job FeMurn38_0_9 was saved and received the ID: 6592\n",
      "The job FeMurn38_0_92 was saved and received the ID: 6593\n",
      "The job FeMurn38_0_94 was saved and received the ID: 6594\n",
      "The job FeMurn38_0_96 was saved and received the ID: 6595\n",
      "The job FeMurn38_0_98 was saved and received the ID: 6596\n",
      "The job FeMurn38_1_0 was saved and received the ID: 6597\n",
      "The job FeMurn38_1_02 was saved and received the ID: 6598\n",
      "The job FeMurn38_1_04 was saved and received the ID: 6599\n",
      "The job FeMurn38_1_06 was saved and received the ID: 6600\n",
      "The job FeMurn38_1_08 was saved and received the ID: 6601\n",
      "The job FeMurn38_1_1 was saved and received the ID: 6602\n",
      "Fe89H39\n",
      "The job optimization39 was saved and received the ID: 6603\n",
      "The job FeMurn39 was saved and received the ID: 6604\n",
      "The job FeMurn39_0_9 was saved and received the ID: 6605\n",
      "The job FeMurn39_0_92 was saved and received the ID: 6606\n",
      "The job FeMurn39_0_94 was saved and received the ID: 6607\n",
      "The job FeMurn39_0_96 was saved and received the ID: 6608\n",
      "The job FeMurn39_0_98 was saved and received the ID: 6609\n",
      "The job FeMurn39_1_0 was saved and received the ID: 6610\n",
      "The job FeMurn39_1_02 was saved and received the ID: 6611\n",
      "The job FeMurn39_1_04 was saved and received the ID: 6612\n",
      "The job FeMurn39_1_06 was saved and received the ID: 6613\n",
      "The job FeMurn39_1_08 was saved and received the ID: 6614\n",
      "The job FeMurn39_1_1 was saved and received the ID: 6615\n",
      "Fe88H40\n",
      "The job optimization40 was saved and received the ID: 6616\n",
      "The job FeMurn40 was saved and received the ID: 6617\n",
      "The job FeMurn40_0_9 was saved and received the ID: 6618\n",
      "The job FeMurn40_0_92 was saved and received the ID: 6619\n",
      "The job FeMurn40_0_94 was saved and received the ID: 6620\n",
      "The job FeMurn40_0_96 was saved and received the ID: 6621\n",
      "The job FeMurn40_0_98 was saved and received the ID: 6622\n",
      "The job FeMurn40_1_0 was saved and received the ID: 6623\n",
      "The job FeMurn40_1_02 was saved and received the ID: 6624\n",
      "The job FeMurn40_1_04 was saved and received the ID: 6625\n",
      "The job FeMurn40_1_06 was saved and received the ID: 6626\n",
      "The job FeMurn40_1_08 was saved and received the ID: 6627\n",
      "The job FeMurn40_1_1 was saved and received the ID: 6628\n",
      "Fe87H41\n",
      "The job optimization41 was saved and received the ID: 6629\n",
      "The job FeMurn41 was saved and received the ID: 6630\n",
      "The job FeMurn41_0_9 was saved and received the ID: 6631\n",
      "The job FeMurn41_0_92 was saved and received the ID: 6632\n",
      "The job FeMurn41_0_94 was saved and received the ID: 6633\n",
      "The job FeMurn41_0_96 was saved and received the ID: 6634\n",
      "The job FeMurn41_0_98 was saved and received the ID: 6635\n",
      "The job FeMurn41_1_0 was saved and received the ID: 6636\n",
      "The job FeMurn41_1_02 was saved and received the ID: 6637\n",
      "The job FeMurn41_1_04 was saved and received the ID: 6638\n",
      "The job FeMurn41_1_06 was saved and received the ID: 6639\n",
      "The job FeMurn41_1_08 was saved and received the ID: 6640\n",
      "The job FeMurn41_1_1 was saved and received the ID: 6641\n",
      "Fe86H42\n",
      "The job optimization42 was saved and received the ID: 6642\n",
      "The job FeMurn42 was saved and received the ID: 6643\n",
      "The job FeMurn42_0_9 was saved and received the ID: 6644\n",
      "The job FeMurn42_0_92 was saved and received the ID: 6645\n",
      "The job FeMurn42_0_94 was saved and received the ID: 6646\n",
      "The job FeMurn42_0_96 was saved and received the ID: 6647\n",
      "The job FeMurn42_0_98 was saved and received the ID: 6648\n",
      "The job FeMurn42_1_0 was saved and received the ID: 6649\n",
      "The job FeMurn42_1_02 was saved and received the ID: 6650\n",
      "The job FeMurn42_1_04 was saved and received the ID: 6651\n",
      "The job FeMurn42_1_06 was saved and received the ID: 6652\n",
      "The job FeMurn42_1_08 was saved and received the ID: 6653\n",
      "The job FeMurn42_1_1 was saved and received the ID: 6654\n",
      "Fe85H43\n",
      "The job optimization43 was saved and received the ID: 6655\n",
      "The job FeMurn43 was saved and received the ID: 6656\n",
      "The job FeMurn43_0_9 was saved and received the ID: 6657\n",
      "The job FeMurn43_0_92 was saved and received the ID: 6658\n",
      "The job FeMurn43_0_94 was saved and received the ID: 6659\n",
      "The job FeMurn43_0_96 was saved and received the ID: 6660\n",
      "The job FeMurn43_0_98 was saved and received the ID: 6661\n",
      "The job FeMurn43_1_0 was saved and received the ID: 6662\n",
      "The job FeMurn43_1_02 was saved and received the ID: 6663\n",
      "The job FeMurn43_1_04 was saved and received the ID: 6664\n",
      "The job FeMurn43_1_06 was saved and received the ID: 6665\n",
      "The job FeMurn43_1_08 was saved and received the ID: 6666\n",
      "The job FeMurn43_1_1 was saved and received the ID: 6667\n",
      "Fe84H44\n",
      "The job optimization44 was saved and received the ID: 6668\n",
      "The job FeMurn44 was saved and received the ID: 6669\n",
      "The job FeMurn44_0_9 was saved and received the ID: 6670\n",
      "The job FeMurn44_0_92 was saved and received the ID: 6671\n",
      "The job FeMurn44_0_94 was saved and received the ID: 6672\n",
      "The job FeMurn44_0_96 was saved and received the ID: 6673\n",
      "The job FeMurn44_0_98 was saved and received the ID: 6674\n",
      "The job FeMurn44_1_0 was saved and received the ID: 6675\n",
      "The job FeMurn44_1_02 was saved and received the ID: 6676\n",
      "The job FeMurn44_1_04 was saved and received the ID: 6677\n",
      "The job FeMurn44_1_06 was saved and received the ID: 6678\n",
      "The job FeMurn44_1_08 was saved and received the ID: 6679\n",
      "The job FeMurn44_1_1 was saved and received the ID: 6680\n",
      "Fe83H45\n",
      "The job optimization45 was saved and received the ID: 6681\n",
      "The job FeMurn45 was saved and received the ID: 6682\n",
      "The job FeMurn45_0_9 was saved and received the ID: 6683\n",
      "The job FeMurn45_0_92 was saved and received the ID: 6684\n",
      "The job FeMurn45_0_94 was saved and received the ID: 6685\n",
      "The job FeMurn45_0_96 was saved and received the ID: 6686\n",
      "The job FeMurn45_0_98 was saved and received the ID: 6687\n",
      "The job FeMurn45_1_0 was saved and received the ID: 6688\n",
      "The job FeMurn45_1_02 was saved and received the ID: 6689\n",
      "The job FeMurn45_1_04 was saved and received the ID: 6690\n",
      "The job FeMurn45_1_06 was saved and received the ID: 6691\n",
      "The job FeMurn45_1_08 was saved and received the ID: 6692\n",
      "The job FeMurn45_1_1 was saved and received the ID: 6693\n",
      "Fe82H46\n",
      "The job optimization46 was saved and received the ID: 6694\n",
      "The job FeMurn46 was saved and received the ID: 6695\n",
      "The job FeMurn46_0_9 was saved and received the ID: 6696\n",
      "The job FeMurn46_0_92 was saved and received the ID: 6697\n",
      "The job FeMurn46_0_94 was saved and received the ID: 6698\n",
      "The job FeMurn46_0_96 was saved and received the ID: 6699\n",
      "The job FeMurn46_0_98 was saved and received the ID: 6700\n",
      "The job FeMurn46_1_0 was saved and received the ID: 6701\n",
      "The job FeMurn46_1_02 was saved and received the ID: 6702\n",
      "The job FeMurn46_1_04 was saved and received the ID: 6703\n",
      "The job FeMurn46_1_06 was saved and received the ID: 6704\n",
      "The job FeMurn46_1_08 was saved and received the ID: 6705\n",
      "The job FeMurn46_1_1 was saved and received the ID: 6706\n",
      "Fe81H47\n",
      "The job optimization47 was saved and received the ID: 6707\n",
      "The job FeMurn47 was saved and received the ID: 6708\n",
      "The job FeMurn47_0_9 was saved and received the ID: 6709\n",
      "The job FeMurn47_0_92 was saved and received the ID: 6710\n",
      "The job FeMurn47_0_94 was saved and received the ID: 6711\n",
      "The job FeMurn47_0_96 was saved and received the ID: 6712\n",
      "The job FeMurn47_0_98 was saved and received the ID: 6713\n",
      "The job FeMurn47_1_0 was saved and received the ID: 6714\n",
      "The job FeMurn47_1_02 was saved and received the ID: 6715\n",
      "The job FeMurn47_1_04 was saved and received the ID: 6716\n",
      "The job FeMurn47_1_06 was saved and received the ID: 6717\n",
      "The job FeMurn47_1_08 was saved and received the ID: 6718\n",
      "The job FeMurn47_1_1 was saved and received the ID: 6719\n",
      "Fe80H48\n",
      "The job optimization48 was saved and received the ID: 6720\n",
      "The job FeMurn48 was saved and received the ID: 6721\n",
      "The job FeMurn48_0_9 was saved and received the ID: 6722\n",
      "The job FeMurn48_0_92 was saved and received the ID: 6723\n",
      "The job FeMurn48_0_94 was saved and received the ID: 6724\n",
      "The job FeMurn48_0_96 was saved and received the ID: 6725\n",
      "The job FeMurn48_0_98 was saved and received the ID: 6726\n",
      "The job FeMurn48_1_0 was saved and received the ID: 6727\n",
      "The job FeMurn48_1_02 was saved and received the ID: 6728\n",
      "The job FeMurn48_1_04 was saved and received the ID: 6729\n",
      "The job FeMurn48_1_06 was saved and received the ID: 6730\n",
      "The job FeMurn48_1_08 was saved and received the ID: 6731\n",
      "The job FeMurn48_1_1 was saved and received the ID: 6732\n",
      "Fe79H49\n",
      "The job optimization49 was saved and received the ID: 6733\n",
      "The job FeMurn49 was saved and received the ID: 6734\n",
      "The job FeMurn49_0_9 was saved and received the ID: 6735\n",
      "The job FeMurn49_0_92 was saved and received the ID: 6736\n",
      "The job FeMurn49_0_94 was saved and received the ID: 6737\n",
      "The job FeMurn49_0_96 was saved and received the ID: 6738\n",
      "The job FeMurn49_0_98 was saved and received the ID: 6739\n",
      "The job FeMurn49_1_0 was saved and received the ID: 6740\n",
      "The job FeMurn49_1_02 was saved and received the ID: 6741\n",
      "The job FeMurn49_1_04 was saved and received the ID: 6742\n",
      "The job FeMurn49_1_06 was saved and received the ID: 6743\n",
      "The job FeMurn49_1_08 was saved and received the ID: 6744\n",
      "The job FeMurn49_1_1 was saved and received the ID: 6745\n",
      "Fe78H50\n",
      "The job optimization50 was saved and received the ID: 6746\n",
      "The job FeMurn50 was saved and received the ID: 6747\n",
      "The job FeMurn50_0_9 was saved and received the ID: 6748\n",
      "The job FeMurn50_0_92 was saved and received the ID: 6749\n",
      "The job FeMurn50_0_94 was saved and received the ID: 6750\n",
      "The job FeMurn50_0_96 was saved and received the ID: 6751\n",
      "The job FeMurn50_0_98 was saved and received the ID: 6752\n",
      "The job FeMurn50_1_0 was saved and received the ID: 6753\n",
      "The job FeMurn50_1_02 was saved and received the ID: 6754\n",
      "The job FeMurn50_1_04 was saved and received the ID: 6755\n",
      "The job FeMurn50_1_06 was saved and received the ID: 6756\n",
      "The job FeMurn50_1_08 was saved and received the ID: 6757\n",
      "The job FeMurn50_1_1 was saved and received the ID: 6758\n",
      "Fe77H51\n",
      "The job optimization51 was saved and received the ID: 6759\n",
      "The job FeMurn51 was saved and received the ID: 6760\n",
      "The job FeMurn51_0_9 was saved and received the ID: 6761\n",
      "The job FeMurn51_0_92 was saved and received the ID: 6762\n",
      "The job FeMurn51_0_94 was saved and received the ID: 6763\n",
      "The job FeMurn51_0_96 was saved and received the ID: 6764\n",
      "The job FeMurn51_0_98 was saved and received the ID: 6765\n",
      "The job FeMurn51_1_0 was saved and received the ID: 6766\n",
      "The job FeMurn51_1_02 was saved and received the ID: 6767\n",
      "The job FeMurn51_1_04 was saved and received the ID: 6768\n",
      "The job FeMurn51_1_06 was saved and received the ID: 6769\n",
      "The job FeMurn51_1_08 was saved and received the ID: 6770\n",
      "The job FeMurn51_1_1 was saved and received the ID: 6771\n",
      "Fe76H52\n",
      "The job optimization52 was saved and received the ID: 6772\n",
      "The job FeMurn52 was saved and received the ID: 6773\n",
      "The job FeMurn52_0_9 was saved and received the ID: 6774\n",
      "The job FeMurn52_0_92 was saved and received the ID: 6775\n",
      "The job FeMurn52_0_94 was saved and received the ID: 6776\n",
      "The job FeMurn52_0_96 was saved and received the ID: 6777\n",
      "The job FeMurn52_0_98 was saved and received the ID: 6778\n",
      "The job FeMurn52_1_0 was saved and received the ID: 6779\n",
      "The job FeMurn52_1_02 was saved and received the ID: 6780\n",
      "The job FeMurn52_1_04 was saved and received the ID: 6781\n",
      "The job FeMurn52_1_06 was saved and received the ID: 6782\n",
      "The job FeMurn52_1_08 was saved and received the ID: 6783\n",
      "The job FeMurn52_1_1 was saved and received the ID: 6784\n",
      "Fe75H53\n",
      "The job optimization53 was saved and received the ID: 6785\n",
      "The job FeMurn53 was saved and received the ID: 6786\n",
      "The job FeMurn53_0_9 was saved and received the ID: 6787\n",
      "The job FeMurn53_0_92 was saved and received the ID: 6788\n",
      "The job FeMurn53_0_94 was saved and received the ID: 6789\n",
      "The job FeMurn53_0_96 was saved and received the ID: 6790\n",
      "The job FeMurn53_0_98 was saved and received the ID: 6791\n",
      "The job FeMurn53_1_0 was saved and received the ID: 6792\n",
      "The job FeMurn53_1_02 was saved and received the ID: 6793\n",
      "The job FeMurn53_1_04 was saved and received the ID: 6794\n",
      "The job FeMurn53_1_06 was saved and received the ID: 6795\n",
      "The job FeMurn53_1_08 was saved and received the ID: 6796\n",
      "The job FeMurn53_1_1 was saved and received the ID: 6797\n",
      "Fe74H54\n",
      "The job optimization54 was saved and received the ID: 6798\n",
      "The job FeMurn54 was saved and received the ID: 6799\n",
      "The job FeMurn54_0_9 was saved and received the ID: 6800\n",
      "The job FeMurn54_0_92 was saved and received the ID: 6801\n",
      "The job FeMurn54_0_94 was saved and received the ID: 6802\n",
      "The job FeMurn54_0_96 was saved and received the ID: 6803\n",
      "The job FeMurn54_0_98 was saved and received the ID: 6804\n",
      "The job FeMurn54_1_0 was saved and received the ID: 6805\n",
      "The job FeMurn54_1_02 was saved and received the ID: 6806\n",
      "The job FeMurn54_1_04 was saved and received the ID: 6807\n",
      "The job FeMurn54_1_06 was saved and received the ID: 6808\n",
      "The job FeMurn54_1_08 was saved and received the ID: 6809\n",
      "The job FeMurn54_1_1 was saved and received the ID: 6810\n",
      "Fe73H55\n",
      "The job optimization55 was saved and received the ID: 6811\n",
      "The job FeMurn55 was saved and received the ID: 6812\n",
      "The job FeMurn55_0_9 was saved and received the ID: 6813\n",
      "The job FeMurn55_0_92 was saved and received the ID: 6814\n",
      "The job FeMurn55_0_94 was saved and received the ID: 6815\n",
      "The job FeMurn55_0_96 was saved and received the ID: 6816\n",
      "The job FeMurn55_0_98 was saved and received the ID: 6817\n",
      "The job FeMurn55_1_0 was saved and received the ID: 6818\n",
      "The job FeMurn55_1_02 was saved and received the ID: 6819\n",
      "The job FeMurn55_1_04 was saved and received the ID: 6820\n",
      "The job FeMurn55_1_06 was saved and received the ID: 6821\n",
      "The job FeMurn55_1_08 was saved and received the ID: 6822\n",
      "The job FeMurn55_1_1 was saved and received the ID: 6823\n",
      "Fe72H56\n",
      "The job optimization56 was saved and received the ID: 6824\n",
      "The job FeMurn56 was saved and received the ID: 6825\n",
      "The job FeMurn56_0_9 was saved and received the ID: 6826\n",
      "The job FeMurn56_0_92 was saved and received the ID: 6827\n",
      "The job FeMurn56_0_94 was saved and received the ID: 6828\n",
      "The job FeMurn56_0_96 was saved and received the ID: 6829\n",
      "The job FeMurn56_0_98 was saved and received the ID: 6830\n",
      "The job FeMurn56_1_0 was saved and received the ID: 6831\n",
      "The job FeMurn56_1_02 was saved and received the ID: 6832\n",
      "The job FeMurn56_1_04 was saved and received the ID: 6833\n",
      "The job FeMurn56_1_06 was saved and received the ID: 6834\n",
      "The job FeMurn56_1_08 was saved and received the ID: 6835\n",
      "The job FeMurn56_1_1 was saved and received the ID: 6836\n",
      "Fe71H57\n",
      "The job optimization57 was saved and received the ID: 6837\n",
      "The job FeMurn57 was saved and received the ID: 6838\n",
      "The job FeMurn57_0_9 was saved and received the ID: 6839\n",
      "The job FeMurn57_0_92 was saved and received the ID: 6840\n",
      "The job FeMurn57_0_94 was saved and received the ID: 6841\n",
      "The job FeMurn57_0_96 was saved and received the ID: 6842\n",
      "The job FeMurn57_0_98 was saved and received the ID: 6843\n",
      "The job FeMurn57_1_0 was saved and received the ID: 6844\n",
      "The job FeMurn57_1_02 was saved and received the ID: 6845\n",
      "The job FeMurn57_1_04 was saved and received the ID: 6846\n",
      "The job FeMurn57_1_06 was saved and received the ID: 6847\n",
      "The job FeMurn57_1_08 was saved and received the ID: 6848\n",
      "The job FeMurn57_1_1 was saved and received the ID: 6849\n",
      "Fe70H58\n",
      "The job optimization58 was saved and received the ID: 6850\n",
      "The job FeMurn58 was saved and received the ID: 6851\n",
      "The job FeMurn58_0_9 was saved and received the ID: 6852\n",
      "The job FeMurn58_0_92 was saved and received the ID: 6853\n",
      "The job FeMurn58_0_94 was saved and received the ID: 6854\n",
      "The job FeMurn58_0_96 was saved and received the ID: 6855\n",
      "The job FeMurn58_0_98 was saved and received the ID: 6856\n",
      "The job FeMurn58_1_0 was saved and received the ID: 6857\n",
      "The job FeMurn58_1_02 was saved and received the ID: 6858\n",
      "The job FeMurn58_1_04 was saved and received the ID: 6859\n",
      "The job FeMurn58_1_06 was saved and received the ID: 6860\n",
      "The job FeMurn58_1_08 was saved and received the ID: 6861\n",
      "The job FeMurn58_1_1 was saved and received the ID: 6862\n",
      "Fe69H59\n",
      "The job optimization59 was saved and received the ID: 6863\n",
      "The job FeMurn59 was saved and received the ID: 6864\n",
      "The job FeMurn59_0_9 was saved and received the ID: 6865\n",
      "The job FeMurn59_0_92 was saved and received the ID: 6866\n",
      "The job FeMurn59_0_94 was saved and received the ID: 6867\n",
      "The job FeMurn59_0_96 was saved and received the ID: 6868\n",
      "The job FeMurn59_0_98 was saved and received the ID: 6869\n",
      "The job FeMurn59_1_0 was saved and received the ID: 6870\n",
      "The job FeMurn59_1_02 was saved and received the ID: 6871\n",
      "The job FeMurn59_1_04 was saved and received the ID: 6872\n",
      "The job FeMurn59_1_06 was saved and received the ID: 6873\n",
      "The job FeMurn59_1_08 was saved and received the ID: 6874\n",
      "The job FeMurn59_1_1 was saved and received the ID: 6875\n",
      "Fe68H60\n",
      "The job optimization60 was saved and received the ID: 6876\n",
      "The job FeMurn60 was saved and received the ID: 6877\n",
      "The job FeMurn60_0_9 was saved and received the ID: 6878\n",
      "The job FeMurn60_0_92 was saved and received the ID: 6879\n",
      "The job FeMurn60_0_94 was saved and received the ID: 6880\n",
      "The job FeMurn60_0_96 was saved and received the ID: 6881\n",
      "The job FeMurn60_0_98 was saved and received the ID: 6882\n",
      "The job FeMurn60_1_0 was saved and received the ID: 6883\n",
      "The job FeMurn60_1_02 was saved and received the ID: 6884\n",
      "The job FeMurn60_1_04 was saved and received the ID: 6885\n",
      "The job FeMurn60_1_06 was saved and received the ID: 6886\n",
      "The job FeMurn60_1_08 was saved and received the ID: 6887\n",
      "The job FeMurn60_1_1 was saved and received the ID: 6888\n",
      "Fe67H61\n",
      "The job optimization61 was saved and received the ID: 6889\n",
      "The job FeMurn61 was saved and received the ID: 6890\n",
      "The job FeMurn61_0_9 was saved and received the ID: 6891\n",
      "The job FeMurn61_0_92 was saved and received the ID: 6892\n",
      "The job FeMurn61_0_94 was saved and received the ID: 6893\n",
      "The job FeMurn61_0_96 was saved and received the ID: 6894\n",
      "The job FeMurn61_0_98 was saved and received the ID: 6895\n",
      "The job FeMurn61_1_0 was saved and received the ID: 6896\n",
      "The job FeMurn61_1_02 was saved and received the ID: 6897\n",
      "The job FeMurn61_1_04 was saved and received the ID: 6898\n",
      "The job FeMurn61_1_06 was saved and received the ID: 6899\n",
      "The job FeMurn61_1_08 was saved and received the ID: 6900\n",
      "The job FeMurn61_1_1 was saved and received the ID: 6901\n",
      "Fe66H62\n",
      "The job optimization62 was saved and received the ID: 6902\n",
      "The job FeMurn62 was saved and received the ID: 6903\n",
      "The job FeMurn62_0_9 was saved and received the ID: 6904\n",
      "The job FeMurn62_0_92 was saved and received the ID: 6905\n",
      "The job FeMurn62_0_94 was saved and received the ID: 6906\n",
      "The job FeMurn62_0_96 was saved and received the ID: 6907\n",
      "The job FeMurn62_0_98 was saved and received the ID: 6908\n",
      "The job FeMurn62_1_0 was saved and received the ID: 6909\n",
      "The job FeMurn62_1_02 was saved and received the ID: 6910\n",
      "The job FeMurn62_1_04 was saved and received the ID: 6911\n",
      "The job FeMurn62_1_06 was saved and received the ID: 6912\n",
      "The job FeMurn62_1_08 was saved and received the ID: 6913\n",
      "The job FeMurn62_1_1 was saved and received the ID: 6914\n",
      "Fe65H63\n",
      "The job optimization63 was saved and received the ID: 6915\n",
      "The job FeMurn63 was saved and received the ID: 6916\n",
      "The job FeMurn63_0_9 was saved and received the ID: 6917\n",
      "The job FeMurn63_0_92 was saved and received the ID: 6918\n",
      "The job FeMurn63_0_94 was saved and received the ID: 6919\n",
      "The job FeMurn63_0_96 was saved and received the ID: 6920\n",
      "The job FeMurn63_0_98 was saved and received the ID: 6921\n",
      "The job FeMurn63_1_0 was saved and received the ID: 6922\n",
      "The job FeMurn63_1_02 was saved and received the ID: 6923\n",
      "The job FeMurn63_1_04 was saved and received the ID: 6924\n",
      "The job FeMurn63_1_06 was saved and received the ID: 6925\n",
      "The job FeMurn63_1_08 was saved and received the ID: 6926\n",
      "The job FeMurn63_1_1 was saved and received the ID: 6927\n",
      "Fe64H64\n",
      "The job optimization64 was saved and received the ID: 6928\n",
      "The job FeMurn64 was saved and received the ID: 6929\n",
      "The job FeMurn64_0_9 was saved and received the ID: 6930\n",
      "The job FeMurn64_0_92 was saved and received the ID: 6931\n",
      "The job FeMurn64_0_94 was saved and received the ID: 6932\n",
      "The job FeMurn64_0_96 was saved and received the ID: 6933\n",
      "The job FeMurn64_0_98 was saved and received the ID: 6934\n",
      "The job FeMurn64_1_0 was saved and received the ID: 6935\n",
      "The job FeMurn64_1_02 was saved and received the ID: 6936\n",
      "The job FeMurn64_1_04 was saved and received the ID: 6937\n",
      "The job FeMurn64_1_06 was saved and received the ID: 6938\n",
      "The job FeMurn64_1_08 was saved and received the ID: 6939\n",
      "The job FeMurn64_1_1 was saved and received the ID: 6940\n",
      "Fe63H65\n",
      "The job optimization65 was saved and received the ID: 6941\n",
      "The job FeMurn65 was saved and received the ID: 6942\n",
      "The job FeMurn65_0_9 was saved and received the ID: 6943\n",
      "The job FeMurn65_0_92 was saved and received the ID: 6944\n",
      "The job FeMurn65_0_94 was saved and received the ID: 6945\n",
      "The job FeMurn65_0_96 was saved and received the ID: 6946\n",
      "The job FeMurn65_0_98 was saved and received the ID: 6947\n",
      "The job FeMurn65_1_0 was saved and received the ID: 6948\n",
      "The job FeMurn65_1_02 was saved and received the ID: 6949\n",
      "The job FeMurn65_1_04 was saved and received the ID: 6950\n",
      "The job FeMurn65_1_06 was saved and received the ID: 6951\n",
      "The job FeMurn65_1_08 was saved and received the ID: 6952\n",
      "The job FeMurn65_1_1 was saved and received the ID: 6953\n",
      "Fe62H66\n",
      "The job optimization66 was saved and received the ID: 6954\n",
      "The job FeMurn66 was saved and received the ID: 6955\n",
      "The job FeMurn66_0_9 was saved and received the ID: 6956\n",
      "The job FeMurn66_0_92 was saved and received the ID: 6957\n",
      "The job FeMurn66_0_94 was saved and received the ID: 6958\n",
      "The job FeMurn66_0_96 was saved and received the ID: 6959\n",
      "The job FeMurn66_0_98 was saved and received the ID: 6960\n",
      "The job FeMurn66_1_0 was saved and received the ID: 6961\n",
      "The job FeMurn66_1_02 was saved and received the ID: 6962\n",
      "The job FeMurn66_1_04 was saved and received the ID: 6963\n",
      "The job FeMurn66_1_06 was saved and received the ID: 6964\n",
      "The job FeMurn66_1_08 was saved and received the ID: 6965\n",
      "The job FeMurn66_1_1 was saved and received the ID: 6966\n",
      "Fe61H67\n",
      "The job optimization67 was saved and received the ID: 6967\n",
      "The job FeMurn67 was saved and received the ID: 6968\n",
      "The job FeMurn67_0_9 was saved and received the ID: 6969\n",
      "The job FeMurn67_0_92 was saved and received the ID: 6970\n",
      "The job FeMurn67_0_94 was saved and received the ID: 6971\n",
      "The job FeMurn67_0_96 was saved and received the ID: 6972\n",
      "The job FeMurn67_0_98 was saved and received the ID: 6973\n",
      "The job FeMurn67_1_0 was saved and received the ID: 6974\n",
      "The job FeMurn67_1_02 was saved and received the ID: 6975\n",
      "The job FeMurn67_1_04 was saved and received the ID: 6976\n",
      "The job FeMurn67_1_06 was saved and received the ID: 6977\n",
      "The job FeMurn67_1_08 was saved and received the ID: 6978\n",
      "The job FeMurn67_1_1 was saved and received the ID: 6979\n",
      "Fe60H68\n",
      "The job optimization68 was saved and received the ID: 6980\n",
      "The job FeMurn68 was saved and received the ID: 6981\n",
      "The job FeMurn68_0_9 was saved and received the ID: 6982\n",
      "The job FeMurn68_0_92 was saved and received the ID: 6983\n",
      "The job FeMurn68_0_94 was saved and received the ID: 6984\n",
      "The job FeMurn68_0_96 was saved and received the ID: 6985\n",
      "The job FeMurn68_0_98 was saved and received the ID: 6986\n",
      "The job FeMurn68_1_0 was saved and received the ID: 6987\n",
      "The job FeMurn68_1_02 was saved and received the ID: 6988\n",
      "The job FeMurn68_1_04 was saved and received the ID: 6989\n",
      "The job FeMurn68_1_06 was saved and received the ID: 6990\n",
      "The job FeMurn68_1_08 was saved and received the ID: 6991\n",
      "The job FeMurn68_1_1 was saved and received the ID: 6992\n",
      "Fe59H69\n",
      "The job optimization69 was saved and received the ID: 6993\n",
      "The job FeMurn69 was saved and received the ID: 6994\n",
      "The job FeMurn69_0_9 was saved and received the ID: 6995\n",
      "The job FeMurn69_0_92 was saved and received the ID: 6996\n",
      "The job FeMurn69_0_94 was saved and received the ID: 6997\n",
      "The job FeMurn69_0_96 was saved and received the ID: 6998\n",
      "The job FeMurn69_0_98 was saved and received the ID: 6999\n",
      "The job FeMurn69_1_0 was saved and received the ID: 7000\n",
      "The job FeMurn69_1_02 was saved and received the ID: 7001\n",
      "The job FeMurn69_1_04 was saved and received the ID: 7002\n",
      "The job FeMurn69_1_06 was saved and received the ID: 7003\n",
      "The job FeMurn69_1_08 was saved and received the ID: 7004\n",
      "The job FeMurn69_1_1 was saved and received the ID: 7005\n",
      "Fe58H70\n",
      "The job optimization70 was saved and received the ID: 7006\n",
      "The job FeMurn70 was saved and received the ID: 7007\n",
      "The job FeMurn70_0_9 was saved and received the ID: 7008\n",
      "The job FeMurn70_0_92 was saved and received the ID: 7009\n",
      "The job FeMurn70_0_94 was saved and received the ID: 7010\n",
      "The job FeMurn70_0_96 was saved and received the ID: 7011\n",
      "The job FeMurn70_0_98 was saved and received the ID: 7012\n",
      "The job FeMurn70_1_0 was saved and received the ID: 7013\n",
      "The job FeMurn70_1_02 was saved and received the ID: 7014\n",
      "The job FeMurn70_1_04 was saved and received the ID: 7015\n",
      "The job FeMurn70_1_06 was saved and received the ID: 7016\n",
      "The job FeMurn70_1_08 was saved and received the ID: 7017\n",
      "The job FeMurn70_1_1 was saved and received the ID: 7018\n",
      "Fe57H71\n",
      "The job optimization71 was saved and received the ID: 7019\n",
      "The job FeMurn71 was saved and received the ID: 7020\n",
      "The job FeMurn71_0_9 was saved and received the ID: 7021\n",
      "The job FeMurn71_0_92 was saved and received the ID: 7022\n",
      "The job FeMurn71_0_94 was saved and received the ID: 7023\n",
      "The job FeMurn71_0_96 was saved and received the ID: 7024\n",
      "The job FeMurn71_0_98 was saved and received the ID: 7025\n",
      "The job FeMurn71_1_0 was saved and received the ID: 7026\n",
      "The job FeMurn71_1_02 was saved and received the ID: 7027\n",
      "The job FeMurn71_1_04 was saved and received the ID: 7028\n",
      "The job FeMurn71_1_06 was saved and received the ID: 7029\n",
      "The job FeMurn71_1_08 was saved and received the ID: 7030\n",
      "The job FeMurn71_1_1 was saved and received the ID: 7031\n",
      "Fe56H72\n",
      "The job optimization72 was saved and received the ID: 7032\n",
      "The job FeMurn72 was saved and received the ID: 7033\n",
      "The job FeMurn72_0_9 was saved and received the ID: 7034\n",
      "The job FeMurn72_0_92 was saved and received the ID: 7035\n",
      "The job FeMurn72_0_94 was saved and received the ID: 7036\n",
      "The job FeMurn72_0_96 was saved and received the ID: 7037\n",
      "The job FeMurn72_0_98 was saved and received the ID: 7038\n",
      "The job FeMurn72_1_0 was saved and received the ID: 7039\n",
      "The job FeMurn72_1_02 was saved and received the ID: 7040\n",
      "The job FeMurn72_1_04 was saved and received the ID: 7041\n",
      "The job FeMurn72_1_06 was saved and received the ID: 7042\n",
      "The job FeMurn72_1_08 was saved and received the ID: 7043\n",
      "The job FeMurn72_1_1 was saved and received the ID: 7044\n",
      "Fe55H73\n",
      "The job optimization73 was saved and received the ID: 7045\n",
      "The job FeMurn73 was saved and received the ID: 7046\n",
      "The job FeMurn73_0_9 was saved and received the ID: 7047\n",
      "The job FeMurn73_0_92 was saved and received the ID: 7048\n",
      "The job FeMurn73_0_94 was saved and received the ID: 7049\n",
      "The job FeMurn73_0_96 was saved and received the ID: 7050\n",
      "The job FeMurn73_0_98 was saved and received the ID: 7051\n",
      "The job FeMurn73_1_0 was saved and received the ID: 7052\n",
      "The job FeMurn73_1_02 was saved and received the ID: 7053\n",
      "The job FeMurn73_1_04 was saved and received the ID: 7054\n",
      "The job FeMurn73_1_06 was saved and received the ID: 7055\n",
      "The job FeMurn73_1_08 was saved and received the ID: 7056\n",
      "The job FeMurn73_1_1 was saved and received the ID: 7057\n",
      "Fe54H74\n",
      "The job optimization74 was saved and received the ID: 7058\n",
      "The job FeMurn74 was saved and received the ID: 7059\n",
      "The job FeMurn74_0_9 was saved and received the ID: 7060\n",
      "The job FeMurn74_0_92 was saved and received the ID: 7061\n",
      "The job FeMurn74_0_94 was saved and received the ID: 7062\n",
      "The job FeMurn74_0_96 was saved and received the ID: 7063\n",
      "The job FeMurn74_0_98 was saved and received the ID: 7064\n",
      "The job FeMurn74_1_0 was saved and received the ID: 7065\n",
      "The job FeMurn74_1_02 was saved and received the ID: 7066\n",
      "The job FeMurn74_1_04 was saved and received the ID: 7067\n",
      "The job FeMurn74_1_06 was saved and received the ID: 7068\n",
      "The job FeMurn74_1_08 was saved and received the ID: 7069\n",
      "The job FeMurn74_1_1 was saved and received the ID: 7070\n",
      "Fe53H75\n",
      "The job optimization75 was saved and received the ID: 7071\n",
      "The job FeMurn75 was saved and received the ID: 7072\n",
      "The job FeMurn75_0_9 was saved and received the ID: 7073\n",
      "The job FeMurn75_0_92 was saved and received the ID: 7074\n",
      "The job FeMurn75_0_94 was saved and received the ID: 7075\n",
      "The job FeMurn75_0_96 was saved and received the ID: 7076\n",
      "The job FeMurn75_0_98 was saved and received the ID: 7077\n",
      "The job FeMurn75_1_0 was saved and received the ID: 7078\n",
      "The job FeMurn75_1_02 was saved and received the ID: 7079\n",
      "The job FeMurn75_1_04 was saved and received the ID: 7080\n",
      "The job FeMurn75_1_06 was saved and received the ID: 7081\n",
      "The job FeMurn75_1_08 was saved and received the ID: 7082\n",
      "The job FeMurn75_1_1 was saved and received the ID: 7083\n",
      "Fe52H76\n",
      "The job optimization76 was saved and received the ID: 7084\n",
      "The job FeMurn76 was saved and received the ID: 7085\n",
      "The job FeMurn76_0_9 was saved and received the ID: 7086\n",
      "The job FeMurn76_0_92 was saved and received the ID: 7087\n",
      "The job FeMurn76_0_94 was saved and received the ID: 7088\n",
      "The job FeMurn76_0_96 was saved and received the ID: 7089\n",
      "The job FeMurn76_0_98 was saved and received the ID: 7090\n",
      "The job FeMurn76_1_0 was saved and received the ID: 7091\n",
      "The job FeMurn76_1_02 was saved and received the ID: 7092\n",
      "The job FeMurn76_1_04 was saved and received the ID: 7093\n",
      "The job FeMurn76_1_06 was saved and received the ID: 7094\n",
      "The job FeMurn76_1_08 was saved and received the ID: 7095\n",
      "The job FeMurn76_1_1 was saved and received the ID: 7096\n",
      "Fe51H77\n",
      "The job optimization77 was saved and received the ID: 7097\n",
      "The job FeMurn77 was saved and received the ID: 7098\n",
      "The job FeMurn77_0_9 was saved and received the ID: 7099\n",
      "The job FeMurn77_0_92 was saved and received the ID: 7100\n",
      "The job FeMurn77_0_94 was saved and received the ID: 7101\n",
      "The job FeMurn77_0_96 was saved and received the ID: 7102\n",
      "The job FeMurn77_0_98 was saved and received the ID: 7103\n",
      "The job FeMurn77_1_0 was saved and received the ID: 7104\n",
      "The job FeMurn77_1_02 was saved and received the ID: 7105\n",
      "The job FeMurn77_1_04 was saved and received the ID: 7106\n",
      "The job FeMurn77_1_06 was saved and received the ID: 7107\n",
      "The job FeMurn77_1_08 was saved and received the ID: 7108\n",
      "The job FeMurn77_1_1 was saved and received the ID: 7109\n",
      "Fe50H78\n",
      "The job optimization78 was saved and received the ID: 7110\n",
      "The job FeMurn78 was saved and received the ID: 7111\n",
      "The job FeMurn78_0_9 was saved and received the ID: 7112\n",
      "The job FeMurn78_0_92 was saved and received the ID: 7113\n",
      "The job FeMurn78_0_94 was saved and received the ID: 7114\n",
      "The job FeMurn78_0_96 was saved and received the ID: 7115\n",
      "The job FeMurn78_0_98 was saved and received the ID: 7116\n",
      "The job FeMurn78_1_0 was saved and received the ID: 7117\n",
      "The job FeMurn78_1_02 was saved and received the ID: 7118\n",
      "The job FeMurn78_1_04 was saved and received the ID: 7119\n",
      "The job FeMurn78_1_06 was saved and received the ID: 7120\n",
      "The job FeMurn78_1_08 was saved and received the ID: 7121\n",
      "The job FeMurn78_1_1 was saved and received the ID: 7122\n",
      "Fe49H79\n",
      "The job optimization79 was saved and received the ID: 7123\n",
      "The job FeMurn79 was saved and received the ID: 7124\n",
      "The job FeMurn79_0_9 was saved and received the ID: 7125\n",
      "The job FeMurn79_0_92 was saved and received the ID: 7126\n",
      "The job FeMurn79_0_94 was saved and received the ID: 7127\n",
      "The job FeMurn79_0_96 was saved and received the ID: 7128\n",
      "The job FeMurn79_0_98 was saved and received the ID: 7129\n",
      "The job FeMurn79_1_0 was saved and received the ID: 7130\n",
      "The job FeMurn79_1_02 was saved and received the ID: 7131\n",
      "The job FeMurn79_1_04 was saved and received the ID: 7132\n",
      "The job FeMurn79_1_06 was saved and received the ID: 7133\n",
      "The job FeMurn79_1_08 was saved and received the ID: 7134\n",
      "The job FeMurn79_1_1 was saved and received the ID: 7135\n",
      "Fe48H80\n",
      "The job optimization80 was saved and received the ID: 7136\n",
      "The job FeMurn80 was saved and received the ID: 7137\n",
      "The job FeMurn80_0_9 was saved and received the ID: 7138\n",
      "The job FeMurn80_0_92 was saved and received the ID: 7139\n",
      "The job FeMurn80_0_94 was saved and received the ID: 7140\n",
      "The job FeMurn80_0_96 was saved and received the ID: 7141\n",
      "The job FeMurn80_0_98 was saved and received the ID: 7142\n",
      "The job FeMurn80_1_0 was saved and received the ID: 7143\n",
      "The job FeMurn80_1_02 was saved and received the ID: 7144\n",
      "The job FeMurn80_1_04 was saved and received the ID: 7145\n",
      "The job FeMurn80_1_06 was saved and received the ID: 7146\n",
      "The job FeMurn80_1_08 was saved and received the ID: 7147\n",
      "The job FeMurn80_1_1 was saved and received the ID: 7148\n",
      "Fe47H81\n",
      "The job optimization81 was saved and received the ID: 7149\n",
      "The job FeMurn81 was saved and received the ID: 7150\n",
      "The job FeMurn81_0_9 was saved and received the ID: 7151\n",
      "The job FeMurn81_0_92 was saved and received the ID: 7152\n",
      "The job FeMurn81_0_94 was saved and received the ID: 7153\n",
      "The job FeMurn81_0_96 was saved and received the ID: 7154\n",
      "The job FeMurn81_0_98 was saved and received the ID: 7155\n",
      "The job FeMurn81_1_0 was saved and received the ID: 7156\n",
      "The job FeMurn81_1_02 was saved and received the ID: 7157\n",
      "The job FeMurn81_1_04 was saved and received the ID: 7158\n",
      "The job FeMurn81_1_06 was saved and received the ID: 7159\n",
      "The job FeMurn81_1_08 was saved and received the ID: 7160\n",
      "The job FeMurn81_1_1 was saved and received the ID: 7161\n",
      "Fe46H82\n",
      "The job optimization82 was saved and received the ID: 7162\n",
      "The job FeMurn82 was saved and received the ID: 7163\n",
      "The job FeMurn82_0_9 was saved and received the ID: 7164\n",
      "The job FeMurn82_0_92 was saved and received the ID: 7165\n",
      "The job FeMurn82_0_94 was saved and received the ID: 7166\n",
      "The job FeMurn82_0_96 was saved and received the ID: 7167\n",
      "The job FeMurn82_0_98 was saved and received the ID: 7168\n",
      "The job FeMurn82_1_0 was saved and received the ID: 7169\n",
      "The job FeMurn82_1_02 was saved and received the ID: 7170\n",
      "The job FeMurn82_1_04 was saved and received the ID: 7171\n",
      "The job FeMurn82_1_06 was saved and received the ID: 7172\n",
      "The job FeMurn82_1_08 was saved and received the ID: 7173\n",
      "The job FeMurn82_1_1 was saved and received the ID: 7174\n",
      "Fe45H83\n",
      "The job optimization83 was saved and received the ID: 7175\n",
      "The job FeMurn83 was saved and received the ID: 7176\n",
      "The job FeMurn83_0_9 was saved and received the ID: 7177\n",
      "The job FeMurn83_0_92 was saved and received the ID: 7178\n",
      "The job FeMurn83_0_94 was saved and received the ID: 7179\n",
      "The job FeMurn83_0_96 was saved and received the ID: 7180\n",
      "The job FeMurn83_0_98 was saved and received the ID: 7181\n",
      "The job FeMurn83_1_0 was saved and received the ID: 7182\n",
      "The job FeMurn83_1_02 was saved and received the ID: 7183\n",
      "The job FeMurn83_1_04 was saved and received the ID: 7184\n",
      "The job FeMurn83_1_06 was saved and received the ID: 7185\n",
      "The job FeMurn83_1_08 was saved and received the ID: 7186\n",
      "The job FeMurn83_1_1 was saved and received the ID: 7187\n",
      "Fe44H84\n",
      "The job optimization84 was saved and received the ID: 7188\n",
      "The job FeMurn84 was saved and received the ID: 7189\n",
      "The job FeMurn84_0_9 was saved and received the ID: 7190\n",
      "The job FeMurn84_0_92 was saved and received the ID: 7191\n",
      "The job FeMurn84_0_94 was saved and received the ID: 7192\n",
      "The job FeMurn84_0_96 was saved and received the ID: 7193\n",
      "The job FeMurn84_0_98 was saved and received the ID: 7194\n",
      "The job FeMurn84_1_0 was saved and received the ID: 7195\n",
      "The job FeMurn84_1_02 was saved and received the ID: 7196\n",
      "The job FeMurn84_1_04 was saved and received the ID: 7197\n",
      "The job FeMurn84_1_06 was saved and received the ID: 7198\n",
      "The job FeMurn84_1_08 was saved and received the ID: 7199\n",
      "The job FeMurn84_1_1 was saved and received the ID: 7200\n",
      "Fe43H85\n",
      "The job optimization85 was saved and received the ID: 7201\n",
      "The job FeMurn85 was saved and received the ID: 7202\n",
      "The job FeMurn85_0_9 was saved and received the ID: 7203\n",
      "The job FeMurn85_0_92 was saved and received the ID: 7204\n",
      "The job FeMurn85_0_94 was saved and received the ID: 7205\n",
      "The job FeMurn85_0_96 was saved and received the ID: 7206\n",
      "The job FeMurn85_0_98 was saved and received the ID: 7207\n",
      "The job FeMurn85_1_0 was saved and received the ID: 7208\n",
      "The job FeMurn85_1_02 was saved and received the ID: 7209\n",
      "The job FeMurn85_1_04 was saved and received the ID: 7210\n",
      "The job FeMurn85_1_06 was saved and received the ID: 7211\n",
      "The job FeMurn85_1_08 was saved and received the ID: 7212\n",
      "The job FeMurn85_1_1 was saved and received the ID: 7213\n",
      "Fe42H86\n",
      "The job optimization86 was saved and received the ID: 7214\n",
      "The job FeMurn86 was saved and received the ID: 7215\n",
      "The job FeMurn86_0_9 was saved and received the ID: 7216\n",
      "The job FeMurn86_0_92 was saved and received the ID: 7217\n",
      "The job FeMurn86_0_94 was saved and received the ID: 7218\n",
      "The job FeMurn86_0_96 was saved and received the ID: 7219\n",
      "The job FeMurn86_0_98 was saved and received the ID: 7220\n",
      "The job FeMurn86_1_0 was saved and received the ID: 7221\n",
      "The job FeMurn86_1_02 was saved and received the ID: 7222\n",
      "The job FeMurn86_1_04 was saved and received the ID: 7223\n",
      "The job FeMurn86_1_06 was saved and received the ID: 7224\n",
      "The job FeMurn86_1_08 was saved and received the ID: 7225\n",
      "The job FeMurn86_1_1 was saved and received the ID: 7226\n",
      "Fe41H87\n",
      "The job optimization87 was saved and received the ID: 7227\n",
      "The job FeMurn87 was saved and received the ID: 7228\n",
      "The job FeMurn87_0_9 was saved and received the ID: 7229\n",
      "The job FeMurn87_0_92 was saved and received the ID: 7230\n",
      "The job FeMurn87_0_94 was saved and received the ID: 7231\n",
      "The job FeMurn87_0_96 was saved and received the ID: 7232\n",
      "The job FeMurn87_0_98 was saved and received the ID: 7233\n",
      "The job FeMurn87_1_0 was saved and received the ID: 7234\n",
      "The job FeMurn87_1_02 was saved and received the ID: 7235\n",
      "The job FeMurn87_1_04 was saved and received the ID: 7236\n",
      "The job FeMurn87_1_06 was saved and received the ID: 7237\n",
      "The job FeMurn87_1_08 was saved and received the ID: 7238\n",
      "The job FeMurn87_1_1 was saved and received the ID: 7239\n",
      "Fe40H88\n",
      "The job optimization88 was saved and received the ID: 7240\n",
      "The job FeMurn88 was saved and received the ID: 7241\n",
      "The job FeMurn88_0_9 was saved and received the ID: 7242\n",
      "The job FeMurn88_0_92 was saved and received the ID: 7243\n",
      "The job FeMurn88_0_94 was saved and received the ID: 7244\n",
      "The job FeMurn88_0_96 was saved and received the ID: 7245\n",
      "The job FeMurn88_0_98 was saved and received the ID: 7246\n",
      "The job FeMurn88_1_0 was saved and received the ID: 7247\n",
      "The job FeMurn88_1_02 was saved and received the ID: 7248\n",
      "The job FeMurn88_1_04 was saved and received the ID: 7249\n",
      "The job FeMurn88_1_06 was saved and received the ID: 7250\n",
      "The job FeMurn88_1_08 was saved and received the ID: 7251\n",
      "The job FeMurn88_1_1 was saved and received the ID: 7252\n",
      "Fe39H89\n",
      "The job optimization89 was saved and received the ID: 7253\n",
      "The job FeMurn89 was saved and received the ID: 7254\n",
      "The job FeMurn89_0_9 was saved and received the ID: 7255\n",
      "The job FeMurn89_0_92 was saved and received the ID: 7256\n",
      "The job FeMurn89_0_94 was saved and received the ID: 7257\n",
      "The job FeMurn89_0_96 was saved and received the ID: 7258\n",
      "The job FeMurn89_0_98 was saved and received the ID: 7259\n",
      "The job FeMurn89_1_0 was saved and received the ID: 7260\n",
      "The job FeMurn89_1_02 was saved and received the ID: 7261\n",
      "The job FeMurn89_1_04 was saved and received the ID: 7262\n",
      "The job FeMurn89_1_06 was saved and received the ID: 7263\n",
      "The job FeMurn89_1_08 was saved and received the ID: 7264\n",
      "The job FeMurn89_1_1 was saved and received the ID: 7265\n",
      "Fe38H90\n",
      "The job optimization90 was saved and received the ID: 7266\n",
      "The job FeMurn90 was saved and received the ID: 7267\n",
      "The job FeMurn90_0_9 was saved and received the ID: 7268\n",
      "The job FeMurn90_0_92 was saved and received the ID: 7269\n",
      "The job FeMurn90_0_94 was saved and received the ID: 7270\n",
      "The job FeMurn90_0_96 was saved and received the ID: 7271\n",
      "The job FeMurn90_0_98 was saved and received the ID: 7272\n",
      "The job FeMurn90_1_0 was saved and received the ID: 7273\n",
      "The job FeMurn90_1_02 was saved and received the ID: 7274\n",
      "The job FeMurn90_1_04 was saved and received the ID: 7275\n",
      "The job FeMurn90_1_06 was saved and received the ID: 7276\n",
      "The job FeMurn90_1_08 was saved and received the ID: 7277\n",
      "The job FeMurn90_1_1 was saved and received the ID: 7278\n",
      "Fe37H91\n",
      "The job optimization91 was saved and received the ID: 7279\n",
      "The job FeMurn91 was saved and received the ID: 7280\n",
      "The job FeMurn91_0_9 was saved and received the ID: 7281\n",
      "The job FeMurn91_0_92 was saved and received the ID: 7282\n",
      "The job FeMurn91_0_94 was saved and received the ID: 7283\n",
      "The job FeMurn91_0_96 was saved and received the ID: 7284\n",
      "The job FeMurn91_0_98 was saved and received the ID: 7285\n",
      "The job FeMurn91_1_0 was saved and received the ID: 7286\n",
      "The job FeMurn91_1_02 was saved and received the ID: 7287\n",
      "The job FeMurn91_1_04 was saved and received the ID: 7288\n",
      "The job FeMurn91_1_06 was saved and received the ID: 7289\n",
      "The job FeMurn91_1_08 was saved and received the ID: 7290\n",
      "The job FeMurn91_1_1 was saved and received the ID: 7291\n",
      "Fe36H92\n",
      "The job optimization92 was saved and received the ID: 7292\n",
      "The job FeMurn92 was saved and received the ID: 7293\n",
      "The job FeMurn92_0_9 was saved and received the ID: 7294\n",
      "The job FeMurn92_0_92 was saved and received the ID: 7295\n",
      "The job FeMurn92_0_94 was saved and received the ID: 7296\n",
      "The job FeMurn92_0_96 was saved and received the ID: 7297\n",
      "The job FeMurn92_0_98 was saved and received the ID: 7298\n",
      "The job FeMurn92_1_0 was saved and received the ID: 7299\n",
      "The job FeMurn92_1_02 was saved and received the ID: 7300\n",
      "The job FeMurn92_1_04 was saved and received the ID: 7301\n",
      "The job FeMurn92_1_06 was saved and received the ID: 7302\n",
      "The job FeMurn92_1_08 was saved and received the ID: 7303\n",
      "The job FeMurn92_1_1 was saved and received the ID: 7304\n",
      "Fe35H93\n",
      "The job optimization93 was saved and received the ID: 7305\n",
      "The job FeMurn93 was saved and received the ID: 7306\n",
      "The job FeMurn93_0_9 was saved and received the ID: 7307\n",
      "The job FeMurn93_0_92 was saved and received the ID: 7308\n",
      "The job FeMurn93_0_94 was saved and received the ID: 7309\n",
      "The job FeMurn93_0_96 was saved and received the ID: 7310\n",
      "The job FeMurn93_0_98 was saved and received the ID: 7311\n",
      "The job FeMurn93_1_0 was saved and received the ID: 7312\n",
      "The job FeMurn93_1_02 was saved and received the ID: 7313\n",
      "The job FeMurn93_1_04 was saved and received the ID: 7314\n",
      "The job FeMurn93_1_06 was saved and received the ID: 7315\n",
      "The job FeMurn93_1_08 was saved and received the ID: 7316\n",
      "The job FeMurn93_1_1 was saved and received the ID: 7317\n",
      "Fe34H94\n",
      "The job optimization94 was saved and received the ID: 7318\n",
      "The job FeMurn94 was saved and received the ID: 7319\n",
      "The job FeMurn94_0_9 was saved and received the ID: 7320\n",
      "The job FeMurn94_0_92 was saved and received the ID: 7321\n",
      "The job FeMurn94_0_94 was saved and received the ID: 7322\n",
      "The job FeMurn94_0_96 was saved and received the ID: 7323\n",
      "The job FeMurn94_0_98 was saved and received the ID: 7324\n",
      "The job FeMurn94_1_0 was saved and received the ID: 7325\n",
      "The job FeMurn94_1_02 was saved and received the ID: 7326\n",
      "The job FeMurn94_1_04 was saved and received the ID: 7327\n",
      "The job FeMurn94_1_06 was saved and received the ID: 7328\n",
      "The job FeMurn94_1_08 was saved and received the ID: 7329\n",
      "The job FeMurn94_1_1 was saved and received the ID: 7330\n",
      "Fe33H95\n",
      "The job optimization95 was saved and received the ID: 7331\n",
      "The job FeMurn95 was saved and received the ID: 7332\n",
      "The job FeMurn95_0_9 was saved and received the ID: 7333\n",
      "The job FeMurn95_0_92 was saved and received the ID: 7334\n",
      "The job FeMurn95_0_94 was saved and received the ID: 7335\n",
      "The job FeMurn95_0_96 was saved and received the ID: 7336\n",
      "The job FeMurn95_0_98 was saved and received the ID: 7337\n",
      "The job FeMurn95_1_0 was saved and received the ID: 7338\n",
      "The job FeMurn95_1_02 was saved and received the ID: 7339\n",
      "The job FeMurn95_1_04 was saved and received the ID: 7340\n",
      "The job FeMurn95_1_06 was saved and received the ID: 7341\n",
      "The job FeMurn95_1_08 was saved and received the ID: 7342\n",
      "The job FeMurn95_1_1 was saved and received the ID: 7343\n",
      "Fe32H96\n",
      "The job optimization96 was saved and received the ID: 7344\n",
      "The job FeMurn96 was saved and received the ID: 7345\n",
      "The job FeMurn96_0_9 was saved and received the ID: 7346\n",
      "The job FeMurn96_0_92 was saved and received the ID: 7347\n",
      "The job FeMurn96_0_94 was saved and received the ID: 7348\n",
      "The job FeMurn96_0_96 was saved and received the ID: 7349\n",
      "The job FeMurn96_0_98 was saved and received the ID: 7350\n",
      "The job FeMurn96_1_0 was saved and received the ID: 7351\n",
      "The job FeMurn96_1_02 was saved and received the ID: 7352\n",
      "The job FeMurn96_1_04 was saved and received the ID: 7353\n",
      "The job FeMurn96_1_06 was saved and received the ID: 7354\n",
      "The job FeMurn96_1_08 was saved and received the ID: 7355\n",
      "The job FeMurn96_1_1 was saved and received the ID: 7356\n",
      "Fe31H97\n",
      "The job optimization97 was saved and received the ID: 7357\n",
      "The job FeMurn97 was saved and received the ID: 7358\n",
      "The job FeMurn97_0_9 was saved and received the ID: 7359\n",
      "The job FeMurn97_0_92 was saved and received the ID: 7360\n",
      "The job FeMurn97_0_94 was saved and received the ID: 7361\n",
      "The job FeMurn97_0_96 was saved and received the ID: 7362\n",
      "The job FeMurn97_0_98 was saved and received the ID: 7363\n",
      "The job FeMurn97_1_0 was saved and received the ID: 7364\n",
      "The job FeMurn97_1_02 was saved and received the ID: 7365\n",
      "The job FeMurn97_1_04 was saved and received the ID: 7366\n",
      "The job FeMurn97_1_06 was saved and received the ID: 7367\n",
      "The job FeMurn97_1_08 was saved and received the ID: 7368\n",
      "The job FeMurn97_1_1 was saved and received the ID: 7369\n",
      "Fe30H98\n",
      "The job optimization98 was saved and received the ID: 7370\n",
      "The job FeMurn98 was saved and received the ID: 7371\n",
      "The job FeMurn98_0_9 was saved and received the ID: 7372\n",
      "The job FeMurn98_0_92 was saved and received the ID: 7373\n",
      "The job FeMurn98_0_94 was saved and received the ID: 7374\n",
      "The job FeMurn98_0_96 was saved and received the ID: 7375\n",
      "The job FeMurn98_0_98 was saved and received the ID: 7376\n",
      "The job FeMurn98_1_0 was saved and received the ID: 7377\n",
      "The job FeMurn98_1_02 was saved and received the ID: 7378\n",
      "The job FeMurn98_1_04 was saved and received the ID: 7379\n",
      "The job FeMurn98_1_06 was saved and received the ID: 7380\n",
      "The job FeMurn98_1_08 was saved and received the ID: 7381\n",
      "The job FeMurn98_1_1 was saved and received the ID: 7382\n",
      "Fe29H99\n",
      "The job optimization99 was saved and received the ID: 7383\n",
      "The job FeMurn99 was saved and received the ID: 7384\n",
      "The job FeMurn99_0_9 was saved and received the ID: 7385\n",
      "The job FeMurn99_0_92 was saved and received the ID: 7386\n",
      "The job FeMurn99_0_94 was saved and received the ID: 7387\n",
      "The job FeMurn99_0_96 was saved and received the ID: 7388\n",
      "The job FeMurn99_0_98 was saved and received the ID: 7389\n",
      "The job FeMurn99_1_0 was saved and received the ID: 7390\n",
      "The job FeMurn99_1_02 was saved and received the ID: 7391\n",
      "The job FeMurn99_1_04 was saved and received the ID: 7392\n",
      "The job FeMurn99_1_06 was saved and received the ID: 7393\n",
      "The job FeMurn99_1_08 was saved and received the ID: 7394\n",
      "The job FeMurn99_1_1 was saved and received the ID: 7395\n",
      "Fe28H100\n",
      "The job optimization100 was saved and received the ID: 7396\n",
      "The job FeMurn100 was saved and received the ID: 7397\n",
      "The job FeMurn100_0_9 was saved and received the ID: 7398\n",
      "The job FeMurn100_0_92 was saved and received the ID: 7399\n",
      "The job FeMurn100_0_94 was saved and received the ID: 7400\n",
      "The job FeMurn100_0_96 was saved and received the ID: 7401\n",
      "The job FeMurn100_0_98 was saved and received the ID: 7402\n",
      "The job FeMurn100_1_0 was saved and received the ID: 7403\n",
      "The job FeMurn100_1_02 was saved and received the ID: 7404\n",
      "The job FeMurn100_1_04 was saved and received the ID: 7405\n",
      "The job FeMurn100_1_06 was saved and received the ID: 7406\n",
      "The job FeMurn100_1_08 was saved and received the ID: 7407\n",
      "The job FeMurn100_1_1 was saved and received the ID: 7408\n",
      "Fe27H101\n",
      "The job optimization101 was saved and received the ID: 7409\n",
      "The job FeMurn101 was saved and received the ID: 7410\n",
      "The job FeMurn101_0_9 was saved and received the ID: 7411\n",
      "The job FeMurn101_0_92 was saved and received the ID: 7412\n",
      "The job FeMurn101_0_94 was saved and received the ID: 7413\n",
      "The job FeMurn101_0_96 was saved and received the ID: 7414\n",
      "The job FeMurn101_0_98 was saved and received the ID: 7415\n",
      "The job FeMurn101_1_0 was saved and received the ID: 7416\n",
      "The job FeMurn101_1_02 was saved and received the ID: 7417\n",
      "The job FeMurn101_1_04 was saved and received the ID: 7418\n",
      "The job FeMurn101_1_06 was saved and received the ID: 7419\n",
      "The job FeMurn101_1_08 was saved and received the ID: 7420\n",
      "The job FeMurn101_1_1 was saved and received the ID: 7421\n",
      "Fe26H102\n",
      "The job optimization102 was saved and received the ID: 7422\n",
      "The job FeMurn102 was saved and received the ID: 7423\n",
      "The job FeMurn102_0_9 was saved and received the ID: 7424\n",
      "The job FeMurn102_0_92 was saved and received the ID: 7425\n",
      "The job FeMurn102_0_94 was saved and received the ID: 7426\n",
      "The job FeMurn102_0_96 was saved and received the ID: 7427\n",
      "The job FeMurn102_0_98 was saved and received the ID: 7428\n",
      "The job FeMurn102_1_0 was saved and received the ID: 7429\n",
      "The job FeMurn102_1_02 was saved and received the ID: 7430\n",
      "The job FeMurn102_1_04 was saved and received the ID: 7431\n",
      "The job FeMurn102_1_06 was saved and received the ID: 7432\n",
      "The job FeMurn102_1_08 was saved and received the ID: 7433\n",
      "The job FeMurn102_1_1 was saved and received the ID: 7434\n",
      "Fe25H103\n",
      "The job optimization103 was saved and received the ID: 7435\n",
      "The job FeMurn103 was saved and received the ID: 7436\n",
      "The job FeMurn103_0_9 was saved and received the ID: 7437\n",
      "The job FeMurn103_0_92 was saved and received the ID: 7438\n",
      "The job FeMurn103_0_94 was saved and received the ID: 7439\n",
      "The job FeMurn103_0_96 was saved and received the ID: 7440\n",
      "The job FeMurn103_0_98 was saved and received the ID: 7441\n",
      "The job FeMurn103_1_0 was saved and received the ID: 7442\n",
      "The job FeMurn103_1_02 was saved and received the ID: 7443\n",
      "The job FeMurn103_1_04 was saved and received the ID: 7444\n",
      "The job FeMurn103_1_06 was saved and received the ID: 7445\n",
      "The job FeMurn103_1_08 was saved and received the ID: 7446\n",
      "The job FeMurn103_1_1 was saved and received the ID: 7447\n",
      "Fe24H104\n",
      "The job optimization104 was saved and received the ID: 7448\n",
      "The job FeMurn104 was saved and received the ID: 7449\n",
      "The job FeMurn104_0_9 was saved and received the ID: 7450\n",
      "The job FeMurn104_0_92 was saved and received the ID: 7451\n",
      "The job FeMurn104_0_94 was saved and received the ID: 7452\n",
      "The job FeMurn104_0_96 was saved and received the ID: 7453\n",
      "The job FeMurn104_0_98 was saved and received the ID: 7454\n",
      "The job FeMurn104_1_0 was saved and received the ID: 7455\n",
      "The job FeMurn104_1_02 was saved and received the ID: 7456\n",
      "The job FeMurn104_1_04 was saved and received the ID: 7457\n",
      "The job FeMurn104_1_06 was saved and received the ID: 7458\n",
      "The job FeMurn104_1_08 was saved and received the ID: 7459\n",
      "The job FeMurn104_1_1 was saved and received the ID: 7460\n",
      "Fe23H105\n",
      "The job optimization105 was saved and received the ID: 7461\n",
      "The job FeMurn105 was saved and received the ID: 7462\n",
      "The job FeMurn105_0_9 was saved and received the ID: 7463\n",
      "The job FeMurn105_0_92 was saved and received the ID: 7464\n",
      "The job FeMurn105_0_94 was saved and received the ID: 7465\n",
      "The job FeMurn105_0_96 was saved and received the ID: 7466\n",
      "The job FeMurn105_0_98 was saved and received the ID: 7467\n",
      "The job FeMurn105_1_0 was saved and received the ID: 7468\n",
      "The job FeMurn105_1_02 was saved and received the ID: 7469\n",
      "The job FeMurn105_1_04 was saved and received the ID: 7470\n",
      "The job FeMurn105_1_06 was saved and received the ID: 7471\n",
      "The job FeMurn105_1_08 was saved and received the ID: 7472\n",
      "The job FeMurn105_1_1 was saved and received the ID: 7473\n",
      "Fe22H106\n",
      "The job optimization106 was saved and received the ID: 7474\n",
      "The job FeMurn106 was saved and received the ID: 7475\n",
      "The job FeMurn106_0_9 was saved and received the ID: 7476\n",
      "The job FeMurn106_0_92 was saved and received the ID: 7477\n",
      "The job FeMurn106_0_94 was saved and received the ID: 7478\n",
      "The job FeMurn106_0_96 was saved and received the ID: 7479\n",
      "The job FeMurn106_0_98 was saved and received the ID: 7480\n",
      "The job FeMurn106_1_0 was saved and received the ID: 7481\n",
      "The job FeMurn106_1_02 was saved and received the ID: 7482\n",
      "The job FeMurn106_1_04 was saved and received the ID: 7483\n",
      "The job FeMurn106_1_06 was saved and received the ID: 7484\n",
      "The job FeMurn106_1_08 was saved and received the ID: 7485\n",
      "The job FeMurn106_1_1 was saved and received the ID: 7486\n",
      "Fe21H107\n",
      "The job optimization107 was saved and received the ID: 7487\n",
      "The job FeMurn107 was saved and received the ID: 7488\n",
      "The job FeMurn107_0_9 was saved and received the ID: 7489\n",
      "The job FeMurn107_0_92 was saved and received the ID: 7490\n",
      "The job FeMurn107_0_94 was saved and received the ID: 7491\n",
      "The job FeMurn107_0_96 was saved and received the ID: 7492\n",
      "The job FeMurn107_0_98 was saved and received the ID: 7493\n",
      "The job FeMurn107_1_0 was saved and received the ID: 7494\n",
      "The job FeMurn107_1_02 was saved and received the ID: 7495\n",
      "The job FeMurn107_1_04 was saved and received the ID: 7496\n",
      "The job FeMurn107_1_06 was saved and received the ID: 7497\n",
      "The job FeMurn107_1_08 was saved and received the ID: 7498\n",
      "The job FeMurn107_1_1 was saved and received the ID: 7499\n",
      "Fe20H108\n",
      "The job optimization108 was saved and received the ID: 7500\n",
      "The job FeMurn108 was saved and received the ID: 7501\n",
      "The job FeMurn108_0_9 was saved and received the ID: 7502\n",
      "The job FeMurn108_0_92 was saved and received the ID: 7503\n",
      "The job FeMurn108_0_94 was saved and received the ID: 7504\n",
      "The job FeMurn108_0_96 was saved and received the ID: 7505\n",
      "The job FeMurn108_0_98 was saved and received the ID: 7506\n",
      "The job FeMurn108_1_0 was saved and received the ID: 7507\n",
      "The job FeMurn108_1_02 was saved and received the ID: 7508\n",
      "The job FeMurn108_1_04 was saved and received the ID: 7509\n",
      "The job FeMurn108_1_06 was saved and received the ID: 7510\n",
      "The job FeMurn108_1_08 was saved and received the ID: 7511\n",
      "The job FeMurn108_1_1 was saved and received the ID: 7512\n",
      "Fe19H109\n",
      "The job optimization109 was saved and received the ID: 7513\n",
      "The job FeMurn109 was saved and received the ID: 7514\n",
      "The job FeMurn109_0_9 was saved and received the ID: 7515\n",
      "The job FeMurn109_0_92 was saved and received the ID: 7516\n",
      "The job FeMurn109_0_94 was saved and received the ID: 7517\n",
      "The job FeMurn109_0_96 was saved and received the ID: 7518\n",
      "The job FeMurn109_0_98 was saved and received the ID: 7519\n",
      "The job FeMurn109_1_0 was saved and received the ID: 7520\n",
      "The job FeMurn109_1_02 was saved and received the ID: 7521\n",
      "The job FeMurn109_1_04 was saved and received the ID: 7522\n",
      "The job FeMurn109_1_06 was saved and received the ID: 7523\n",
      "The job FeMurn109_1_08 was saved and received the ID: 7524\n",
      "The job FeMurn109_1_1 was saved and received the ID: 7525\n",
      "Fe18H110\n",
      "The job optimization110 was saved and received the ID: 7526\n",
      "The job FeMurn110 was saved and received the ID: 7527\n",
      "The job FeMurn110_0_9 was saved and received the ID: 7528\n",
      "The job FeMurn110_0_92 was saved and received the ID: 7529\n",
      "The job FeMurn110_0_94 was saved and received the ID: 7530\n",
      "The job FeMurn110_0_96 was saved and received the ID: 7531\n",
      "The job FeMurn110_0_98 was saved and received the ID: 7532\n",
      "The job FeMurn110_1_0 was saved and received the ID: 7533\n",
      "The job FeMurn110_1_02 was saved and received the ID: 7534\n",
      "The job FeMurn110_1_04 was saved and received the ID: 7535\n",
      "The job FeMurn110_1_06 was saved and received the ID: 7536\n",
      "The job FeMurn110_1_08 was saved and received the ID: 7537\n",
      "The job FeMurn110_1_1 was saved and received the ID: 7538\n",
      "Fe17H111\n",
      "The job optimization111 was saved and received the ID: 7539\n",
      "The job FeMurn111 was saved and received the ID: 7540\n",
      "The job FeMurn111_0_9 was saved and received the ID: 7541\n",
      "The job FeMurn111_0_92 was saved and received the ID: 7542\n",
      "The job FeMurn111_0_94 was saved and received the ID: 7543\n",
      "The job FeMurn111_0_96 was saved and received the ID: 7544\n",
      "The job FeMurn111_0_98 was saved and received the ID: 7545\n",
      "The job FeMurn111_1_0 was saved and received the ID: 7546\n",
      "The job FeMurn111_1_02 was saved and received the ID: 7547\n",
      "The job FeMurn111_1_04 was saved and received the ID: 7548\n",
      "The job FeMurn111_1_06 was saved and received the ID: 7549\n",
      "The job FeMurn111_1_08 was saved and received the ID: 7550\n",
      "The job FeMurn111_1_1 was saved and received the ID: 7551\n",
      "Fe16H112\n",
      "The job optimization112 was saved and received the ID: 7552\n",
      "The job FeMurn112 was saved and received the ID: 7553\n",
      "The job FeMurn112_0_9 was saved and received the ID: 7554\n",
      "The job FeMurn112_0_92 was saved and received the ID: 7555\n",
      "The job FeMurn112_0_94 was saved and received the ID: 7556\n",
      "The job FeMurn112_0_96 was saved and received the ID: 7557\n",
      "The job FeMurn112_0_98 was saved and received the ID: 7558\n",
      "The job FeMurn112_1_0 was saved and received the ID: 7559\n",
      "The job FeMurn112_1_02 was saved and received the ID: 7560\n",
      "The job FeMurn112_1_04 was saved and received the ID: 7561\n",
      "The job FeMurn112_1_06 was saved and received the ID: 7562\n",
      "The job FeMurn112_1_08 was saved and received the ID: 7563\n",
      "The job FeMurn112_1_1 was saved and received the ID: 7564\n",
      "Fe15H113\n",
      "The job optimization113 was saved and received the ID: 7565\n",
      "The job FeMurn113 was saved and received the ID: 7566\n",
      "The job FeMurn113_0_9 was saved and received the ID: 7567\n",
      "The job FeMurn113_0_92 was saved and received the ID: 7568\n",
      "The job FeMurn113_0_94 was saved and received the ID: 7569\n",
      "The job FeMurn113_0_96 was saved and received the ID: 7570\n",
      "The job FeMurn113_0_98 was saved and received the ID: 7571\n",
      "The job FeMurn113_1_0 was saved and received the ID: 7572\n",
      "The job FeMurn113_1_02 was saved and received the ID: 7573\n",
      "The job FeMurn113_1_04 was saved and received the ID: 7574\n",
      "The job FeMurn113_1_06 was saved and received the ID: 7575\n",
      "The job FeMurn113_1_08 was saved and received the ID: 7576\n",
      "The job FeMurn113_1_1 was saved and received the ID: 7577\n",
      "Fe14H114\n",
      "The job optimization114 was saved and received the ID: 7578\n",
      "The job FeMurn114 was saved and received the ID: 7579\n",
      "The job FeMurn114_0_9 was saved and received the ID: 7580\n",
      "The job FeMurn114_0_92 was saved and received the ID: 7581\n",
      "The job FeMurn114_0_94 was saved and received the ID: 7582\n",
      "The job FeMurn114_0_96 was saved and received the ID: 7583\n",
      "The job FeMurn114_0_98 was saved and received the ID: 7584\n",
      "The job FeMurn114_1_0 was saved and received the ID: 7585\n",
      "The job FeMurn114_1_02 was saved and received the ID: 7586\n",
      "The job FeMurn114_1_04 was saved and received the ID: 7587\n",
      "The job FeMurn114_1_06 was saved and received the ID: 7588\n",
      "The job FeMurn114_1_08 was saved and received the ID: 7589\n",
      "The job FeMurn114_1_1 was saved and received the ID: 7590\n",
      "Fe13H115\n",
      "The job optimization115 was saved and received the ID: 7591\n",
      "The job FeMurn115 was saved and received the ID: 7592\n",
      "The job FeMurn115_0_9 was saved and received the ID: 7593\n",
      "The job FeMurn115_0_92 was saved and received the ID: 7594\n",
      "The job FeMurn115_0_94 was saved and received the ID: 7595\n",
      "The job FeMurn115_0_96 was saved and received the ID: 7596\n",
      "The job FeMurn115_0_98 was saved and received the ID: 7597\n",
      "The job FeMurn115_1_0 was saved and received the ID: 7598\n",
      "The job FeMurn115_1_02 was saved and received the ID: 7599\n",
      "The job FeMurn115_1_04 was saved and received the ID: 7600\n",
      "The job FeMurn115_1_06 was saved and received the ID: 7601\n",
      "The job FeMurn115_1_08 was saved and received the ID: 7602\n",
      "The job FeMurn115_1_1 was saved and received the ID: 7603\n",
      "Fe12H116\n",
      "The job optimization116 was saved and received the ID: 7604\n",
      "The job FeMurn116 was saved and received the ID: 7605\n",
      "The job FeMurn116_0_9 was saved and received the ID: 7606\n",
      "The job FeMurn116_0_92 was saved and received the ID: 7607\n",
      "The job FeMurn116_0_94 was saved and received the ID: 7608\n",
      "The job FeMurn116_0_96 was saved and received the ID: 7609\n",
      "The job FeMurn116_0_98 was saved and received the ID: 7610\n",
      "The job FeMurn116_1_0 was saved and received the ID: 7611\n",
      "The job FeMurn116_1_02 was saved and received the ID: 7612\n",
      "The job FeMurn116_1_04 was saved and received the ID: 7613\n",
      "The job FeMurn116_1_06 was saved and received the ID: 7614\n",
      "The job FeMurn116_1_08 was saved and received the ID: 7615\n",
      "The job FeMurn116_1_1 was saved and received the ID: 7616\n",
      "Fe11H117\n",
      "The job optimization117 was saved and received the ID: 7617\n",
      "The job FeMurn117 was saved and received the ID: 7618\n",
      "The job FeMurn117_0_9 was saved and received the ID: 7619\n",
      "The job FeMurn117_0_92 was saved and received the ID: 7620\n",
      "The job FeMurn117_0_94 was saved and received the ID: 7621\n",
      "The job FeMurn117_0_96 was saved and received the ID: 7622\n",
      "The job FeMurn117_0_98 was saved and received the ID: 7623\n",
      "The job FeMurn117_1_0 was saved and received the ID: 7624\n",
      "The job FeMurn117_1_02 was saved and received the ID: 7625\n",
      "The job FeMurn117_1_04 was saved and received the ID: 7626\n",
      "The job FeMurn117_1_06 was saved and received the ID: 7627\n",
      "The job FeMurn117_1_08 was saved and received the ID: 7628\n",
      "The job FeMurn117_1_1 was saved and received the ID: 7629\n",
      "Fe10H118\n",
      "The job optimization118 was saved and received the ID: 7630\n",
      "The job FeMurn118 was saved and received the ID: 7631\n",
      "The job FeMurn118_0_9 was saved and received the ID: 7632\n",
      "The job FeMurn118_0_92 was saved and received the ID: 7633\n",
      "The job FeMurn118_0_94 was saved and received the ID: 7634\n",
      "The job FeMurn118_0_96 was saved and received the ID: 7635\n",
      "The job FeMurn118_0_98 was saved and received the ID: 7636\n",
      "The job FeMurn118_1_0 was saved and received the ID: 7637\n",
      "The job FeMurn118_1_02 was saved and received the ID: 7638\n",
      "The job FeMurn118_1_04 was saved and received the ID: 7639\n",
      "The job FeMurn118_1_06 was saved and received the ID: 7640\n",
      "The job FeMurn118_1_08 was saved and received the ID: 7641\n",
      "The job FeMurn118_1_1 was saved and received the ID: 7642\n",
      "Fe9H119\n",
      "The job optimization119 was saved and received the ID: 7643\n",
      "The job FeMurn119 was saved and received the ID: 7644\n",
      "The job FeMurn119_0_9 was saved and received the ID: 7645\n",
      "The job FeMurn119_0_92 was saved and received the ID: 7646\n",
      "The job FeMurn119_0_94 was saved and received the ID: 7647\n",
      "The job FeMurn119_0_96 was saved and received the ID: 7648\n",
      "The job FeMurn119_0_98 was saved and received the ID: 7649\n",
      "The job FeMurn119_1_0 was saved and received the ID: 7650\n",
      "The job FeMurn119_1_02 was saved and received the ID: 7651\n",
      "The job FeMurn119_1_04 was saved and received the ID: 7652\n",
      "The job FeMurn119_1_06 was saved and received the ID: 7653\n",
      "The job FeMurn119_1_08 was saved and received the ID: 7654\n",
      "The job FeMurn119_1_1 was saved and received the ID: 7655\n",
      "Fe8H120\n",
      "The job optimization120 was saved and received the ID: 7656\n",
      "The job FeMurn120 was saved and received the ID: 7657\n",
      "The job FeMurn120_0_9 was saved and received the ID: 7658\n",
      "The job FeMurn120_0_92 was saved and received the ID: 7659\n",
      "The job FeMurn120_0_94 was saved and received the ID: 7660\n",
      "The job FeMurn120_0_96 was saved and received the ID: 7661\n",
      "The job FeMurn120_0_98 was saved and received the ID: 7662\n",
      "The job FeMurn120_1_0 was saved and received the ID: 7663\n",
      "The job FeMurn120_1_02 was saved and received the ID: 7664\n",
      "The job FeMurn120_1_04 was saved and received the ID: 7665\n",
      "The job FeMurn120_1_06 was saved and received the ID: 7666\n",
      "The job FeMurn120_1_08 was saved and received the ID: 7667\n",
      "The job FeMurn120_1_1 was saved and received the ID: 7668\n",
      "Fe7H121\n",
      "The job optimization121 was saved and received the ID: 7669\n",
      "The job FeMurn121 was saved and received the ID: 7670\n",
      "The job FeMurn121_0_9 was saved and received the ID: 7671\n",
      "The job FeMurn121_0_92 was saved and received the ID: 7672\n",
      "The job FeMurn121_0_94 was saved and received the ID: 7673\n",
      "The job FeMurn121_0_96 was saved and received the ID: 7674\n",
      "The job FeMurn121_0_98 was saved and received the ID: 7675\n",
      "The job FeMurn121_1_0 was saved and received the ID: 7676\n",
      "The job FeMurn121_1_02 was saved and received the ID: 7677\n",
      "The job FeMurn121_1_04 was saved and received the ID: 7678\n",
      "The job FeMurn121_1_06 was saved and received the ID: 7679\n",
      "The job FeMurn121_1_08 was saved and received the ID: 7680\n",
      "The job FeMurn121_1_1 was saved and received the ID: 7681\n",
      "Fe6H122\n",
      "The job optimization122 was saved and received the ID: 7682\n",
      "The job FeMurn122 was saved and received the ID: 7683\n",
      "The job FeMurn122_0_9 was saved and received the ID: 7684\n",
      "The job FeMurn122_0_92 was saved and received the ID: 7685\n",
      "The job FeMurn122_0_94 was saved and received the ID: 7686\n",
      "The job FeMurn122_0_96 was saved and received the ID: 7687\n",
      "The job FeMurn122_0_98 was saved and received the ID: 7688\n",
      "The job FeMurn122_1_0 was saved and received the ID: 7689\n",
      "The job FeMurn122_1_02 was saved and received the ID: 7690\n",
      "The job FeMurn122_1_04 was saved and received the ID: 7691\n",
      "The job FeMurn122_1_06 was saved and received the ID: 7692\n",
      "The job FeMurn122_1_08 was saved and received the ID: 7693\n",
      "The job FeMurn122_1_1 was saved and received the ID: 7694\n",
      "Fe5H123\n",
      "The job optimization123 was saved and received the ID: 7695\n",
      "The job FeMurn123 was saved and received the ID: 7696\n",
      "The job FeMurn123_0_9 was saved and received the ID: 7697\n",
      "The job FeMurn123_0_92 was saved and received the ID: 7698\n",
      "The job FeMurn123_0_94 was saved and received the ID: 7699\n",
      "The job FeMurn123_0_96 was saved and received the ID: 7700\n",
      "The job FeMurn123_0_98 was saved and received the ID: 7701\n",
      "The job FeMurn123_1_0 was saved and received the ID: 7702\n",
      "The job FeMurn123_1_02 was saved and received the ID: 7703\n",
      "The job FeMurn123_1_04 was saved and received the ID: 7704\n",
      "The job FeMurn123_1_06 was saved and received the ID: 7705\n",
      "The job FeMurn123_1_08 was saved and received the ID: 7706\n",
      "The job FeMurn123_1_1 was saved and received the ID: 7707\n",
      "Fe4H124\n",
      "The job optimization124 was saved and received the ID: 7708\n",
      "The job FeMurn124 was saved and received the ID: 7709\n",
      "The job FeMurn124_0_9 was saved and received the ID: 7710\n",
      "The job FeMurn124_0_92 was saved and received the ID: 7711\n",
      "The job FeMurn124_0_94 was saved and received the ID: 7712\n",
      "The job FeMurn124_0_96 was saved and received the ID: 7713\n",
      "The job FeMurn124_0_98 was saved and received the ID: 7714\n",
      "The job FeMurn124_1_0 was saved and received the ID: 7715\n",
      "The job FeMurn124_1_02 was saved and received the ID: 7716\n",
      "The job FeMurn124_1_04 was saved and received the ID: 7717\n",
      "The job FeMurn124_1_06 was saved and received the ID: 7718\n",
      "The job FeMurn124_1_08 was saved and received the ID: 7719\n",
      "The job FeMurn124_1_1 was saved and received the ID: 7720\n",
      "Fe3H125\n",
      "The job optimization125 was saved and received the ID: 7721\n",
      "The job FeMurn125 was saved and received the ID: 7722\n",
      "The job FeMurn125_0_9 was saved and received the ID: 7723\n",
      "The job FeMurn125_0_92 was saved and received the ID: 7724\n",
      "The job FeMurn125_0_94 was saved and received the ID: 7725\n",
      "The job FeMurn125_0_96 was saved and received the ID: 7726\n",
      "The job FeMurn125_0_98 was saved and received the ID: 7727\n",
      "The job FeMurn125_1_0 was saved and received the ID: 7728\n",
      "The job FeMurn125_1_02 was saved and received the ID: 7729\n",
      "The job FeMurn125_1_04 was saved and received the ID: 7730\n",
      "The job FeMurn125_1_06 was saved and received the ID: 7731\n",
      "The job FeMurn125_1_08 was saved and received the ID: 7732\n",
      "The job FeMurn125_1_1 was saved and received the ID: 7733\n",
      "Fe2H126\n",
      "The job optimization126 was saved and received the ID: 7734\n",
      "The job FeMurn126 was saved and received the ID: 7735\n",
      "The job FeMurn126_0_9 was saved and received the ID: 7736\n",
      "The job FeMurn126_0_92 was saved and received the ID: 7737\n",
      "The job FeMurn126_0_94 was saved and received the ID: 7738\n",
      "The job FeMurn126_0_96 was saved and received the ID: 7739\n",
      "The job FeMurn126_0_98 was saved and received the ID: 7740\n",
      "The job FeMurn126_1_0 was saved and received the ID: 7741\n",
      "The job FeMurn126_1_02 was saved and received the ID: 7742\n",
      "The job FeMurn126_1_04 was saved and received the ID: 7743\n",
      "The job FeMurn126_1_06 was saved and received the ID: 7744\n",
      "The job FeMurn126_1_08 was saved and received the ID: 7745\n",
      "The job FeMurn126_1_1 was saved and received the ID: 7746\n",
      "FeH127\n",
      "The job optimization127 was saved and received the ID: 7747\n",
      "The job FeMurn127 was saved and received the ID: 7748\n",
      "The job FeMurn127_0_9 was saved and received the ID: 7749\n",
      "The job FeMurn127_0_92 was saved and received the ID: 7750\n",
      "The job FeMurn127_0_94 was saved and received the ID: 7751\n",
      "The job FeMurn127_0_96 was saved and received the ID: 7752\n",
      "The job FeMurn127_0_98 was saved and received the ID: 7753\n",
      "The job FeMurn127_1_0 was saved and received the ID: 7754\n",
      "The job FeMurn127_1_02 was saved and received the ID: 7755\n",
      "The job FeMurn127_1_04 was saved and received the ID: 7756\n",
      "The job FeMurn127_1_06 was saved and received the ID: 7757\n",
      "The job FeMurn127_1_08 was saved and received the ID: 7758\n",
      "The job FeMurn127_1_1 was saved and received the ID: 7759\n"
     ]
    }
   ],
   "source": [
    "pr = Project('Fe_vacancies_4')\n",
    "bulk_sc = pr.create.structure.bulk('Fe', crystalstructure='bcc', cubic=True).repeat([4,4,4])\n",
    "c_H = []\n",
    "BM = []\n",
    "\n",
    "list = np.random.permutation(len(bulk_sc))\n",
    "\n",
    "for i in range(len(bulk_sc)):\n",
    "    if i == 0:\n",
    "        bulk_vacancies = bulk_sc.copy()\n",
    "    else:\n",
    "        bulk_vacancies = structure_opted.copy()\n",
    "        bulk_vacancies[list[0]] = 'H'\n",
    "        list  = list[1:]\n",
    "        print(bulk_vacancies.get_chemical_formula())\n",
    "    \n",
    "    job_opt = pr.create.job.Lammps(f'optimization{i}', delete_existing_job=True)\n",
    "    job_opt.structure = bulk_vacancies\n",
    "    job_opt.potential = job_opt.list_potentials()[0]\n",
    "    job_opt.calc_minimize(n_print=10, pressure=0.0)\n",
    "    job_opt.run(delete_existing_job=True)\n",
    "    structure_opted = job_opt.get_structure(frame=-1)\n",
    "    \n",
    "    job_vancancies = pr.create.job.Lammps(f'bm_Fe_{i}vacancies', delete_existing_job=True)\n",
    "    job_vancancies.structure = structure_opted\n",
    "    job_vancancies.potential = job_vancancies.list_potentials()[0]\n",
    "    murn = job_vancancies.create_job('Murnaghan', f\"FeMurn{i}\", delete_existing_job=True)\n",
    "    murn.run(delete_existing_job=True)\n",
    "    \n",
    "    bm = murn.fit_birch_murnaghan()['bulkmodul_eq']\n",
    "    BM.append(bm)\n",
    "    c = i/len(bulk_sc)\n",
    "    c_H.append(c)"
   ]
  },
  {
   "cell_type": "code",
   "execution_count": 69,
   "id": "275d4c17-076f-4d09-8d72-50902516b400",
   "metadata": {},
   "outputs": [
    {
     "data": {
      "text/plain": [
       "[<matplotlib.lines.Line2D at 0x76d75290acf0>]"
      ]
     },
     "execution_count": 69,
     "metadata": {},
     "output_type": "execute_result"
    },
    {
     "data": {
      "image/png": "[encoded data removed]",
      "text/plain": [
       "<Figure size 640x480 with 1 Axes>"
      ]
     },
     "metadata": {},
     "output_type": "display_data"
    }
   ],
   "source": [
    "plt.plot(c_H, BM)"
   ]
  },
  {
   "cell_type": "code",
   "execution_count": 94,
   "id": "67855cd2-2094-4103-9ff3-4d610de3dfd3",
   "metadata": {},
   "outputs": [],
   "source": [
    "plt.figure()\n",
    "figure = plt.plot(c_H, BM)\n",
    "plt.xlabel(\"Hydrogen concentration\")\n",
    "plt.ylabel(\"Bulk modulus\")\n",
    "plt.savefig('BM.png')\n",
    "plt.close()"
   ]
  },
  {
   "cell_type": "code",
   "execution_count": 17,
   "id": "95599f34-176f-4f62-b986-8233cf28daf4",
   "metadata": {},
   "outputs": [
    {
     "data": {
      "text/plain": [
       "<Figure size 640x480 with 0 Axes>"
      ]
     },
     "execution_count": 17,
     "metadata": {},
     "output_type": "execute_result"
    },
    {
     "data": {
      "text/plain": [
       "<Figure size 640x480 with 0 Axes>"
      ]
     },
     "metadata": {},
     "output_type": "display_data"
    }
   ],
   "source": []
  },
  {
   "cell_type": "markdown",
   "id": "6f61ba03-826a-45a2-8f5b-17f3363c7dbd",
   "metadata": {},
   "source": [
    "Test potentials"
   ]
  },
  {
   "cell_type": "code",
   "execution_count": 2,
   "id": "873996f1-c032-4792-bf2a-c4bc0cf7bca0",
   "metadata": {},
   "outputs": [],
   "source": [
    "pr = Project('potential_test')"
   ]
  },
  {
   "cell_type": "code",
   "execution_count": 7,
   "id": "026d300e-ae76-4ad0-bca8-aa9efa5a328e",
   "metadata": {},
   "outputs": [],
   "source": [
    "Fe_bulk = pr.create.structure.bulk('Fe', crystalstructure='bcc', cubic= True)\n",
    "Fe_sc = Fe_bulk.repeat([4,4,4])\n",
    "\n",
    "job = pr.create_job(job_name='PT', job_type='Lammps', delete_existing_job=True)\n",
    "job.structure = Fe_sc\n",
    "# job.list_potentials()"
   ]
  },
  {
   "cell_type": "code",
   "execution_count": 9,
   "id": "ce1d9a18-20f0-4005-93f0-c42ae987da8b",
   "metadata": {},
   "outputs": [],
   "source": [
    "list = job.list_potentials()"
   ]
  },
  {
   "cell_type": "code",
   "execution_count": 17,
   "id": "96013b0e-b079-4d60-85b6-959429b83cc5",
   "metadata": {
    "collapsed": true,
    "jupyter": {
     "outputs_hidden": true
    }
   },
   "outputs": [
    {
     "name": "stdout",
     "output_type": "stream",
     "text": [
      "The job optimize0 was saved and received the ID: 7760\n"
     ]
    },
    {
     "name": "stderr",
     "output_type": "stream",
     "text": [
      "/tmp/ipykernel_2298375/2313573055.py:10: DeprecationWarning: pyiron_atomistics.lammps.base.get_final_structure is deprecated: use get_structure() instead.\n",
      "  opted_structure = j.get_final_structure()\n"
     ]
    },
    {
     "name": "stdout",
     "output_type": "stream",
     "text": [
      "The job FeMurn0 was saved and received the ID: 7761\n",
      "The job FeMurn0_0_9 was saved and received the ID: 7762\n",
      "The job FeMurn0_0_92 was saved and received the ID: 7763\n",
      "The job FeMurn0_0_94 was saved and received the ID: 7764\n",
      "The job FeMurn0_0_96 was saved and received the ID: 7765\n",
      "The job FeMurn0_0_98 was saved and received the ID: 7766\n",
      "The job FeMurn0_1_0 was saved and received the ID: 7767\n",
      "The job FeMurn0_1_02 was saved and received the ID: 7768\n",
      "The job FeMurn0_1_04 was saved and received the ID: 7769\n",
      "The job FeMurn0_1_06 was saved and received the ID: 7770\n",
      "The job FeMurn0_1_08 was saved and received the ID: 7771\n",
      "The job FeMurn0_1_1 was saved and received the ID: 7772\n",
      "The job optimize1 was saved and received the ID: 7773\n"
     ]
    },
    {
     "name": "stderr",
     "output_type": "stream",
     "text": [
      "/tmp/ipykernel_2298375/2313573055.py:10: DeprecationWarning: pyiron_atomistics.lammps.base.get_final_structure is deprecated: use get_structure() instead.\n",
      "  opted_structure = j.get_final_structure()\n"
     ]
    },
    {
     "name": "stdout",
     "output_type": "stream",
     "text": [
      "The job FeMurn1 was saved and received the ID: 7774\n",
      "The job FeMurn1_0_9 was saved and received the ID: 7775\n",
      "The job FeMurn1_0_92 was saved and received the ID: 7776\n",
      "The job FeMurn1_0_94 was saved and received the ID: 7777\n",
      "The job FeMurn1_0_96 was saved and received the ID: 7778\n",
      "The job FeMurn1_0_98 was saved and received the ID: 7779\n",
      "The job FeMurn1_1_0 was saved and received the ID: 7780\n",
      "The job FeMurn1_1_02 was saved and received the ID: 7781\n",
      "The job FeMurn1_1_04 was saved and received the ID: 7782\n",
      "The job FeMurn1_1_06 was saved and received the ID: 7783\n",
      "The job FeMurn1_1_08 was saved and received the ID: 7784\n",
      "The job FeMurn1_1_1 was saved and received the ID: 7785\n",
      "The job optimize2 was saved and received the ID: 7786\n"
     ]
    },
    {
     "name": "stderr",
     "output_type": "stream",
     "text": [
      "/tmp/ipykernel_2298375/2313573055.py:10: DeprecationWarning: pyiron_atomistics.lammps.base.get_final_structure is deprecated: use get_structure() instead.\n",
      "  opted_structure = j.get_final_structure()\n"
     ]
    },
    {
     "name": "stdout",
     "output_type": "stream",
     "text": [
      "The job FeMurn2 was saved and received the ID: 7787\n",
      "The job FeMurn2_0_9 was saved and received the ID: 7788\n",
      "The job FeMurn2_0_92 was saved and received the ID: 7789\n",
      "The job FeMurn2_0_94 was saved and received the ID: 7790\n",
      "The job FeMurn2_0_96 was saved and received the ID: 7791\n",
      "The job FeMurn2_0_98 was saved and received the ID: 7792\n",
      "The job FeMurn2_1_0 was saved and received the ID: 7793\n",
      "The job FeMurn2_1_02 was saved and received the ID: 7794\n",
      "The job FeMurn2_1_04 was saved and received the ID: 7795\n",
      "The job FeMurn2_1_06 was saved and received the ID: 7796\n",
      "The job FeMurn2_1_08 was saved and received the ID: 7797\n",
      "The job FeMurn2_1_1 was saved and received the ID: 7798\n",
      "The job optimize3 was saved and received the ID: 7799\n"
     ]
    },
    {
     "name": "stderr",
     "output_type": "stream",
     "text": [
      "/tmp/ipykernel_2298375/2313573055.py:10: DeprecationWarning: pyiron_atomistics.lammps.base.get_final_structure is deprecated: use get_structure() instead.\n",
      "  opted_structure = j.get_final_structure()\n"
     ]
    },
    {
     "name": "stdout",
     "output_type": "stream",
     "text": [
      "The job FeMurn3 was saved and received the ID: 7800\n",
      "The job FeMurn3_0_9 was saved and received the ID: 7801\n",
      "The job FeMurn3_0_92 was saved and received the ID: 7802\n",
      "The job FeMurn3_0_94 was saved and received the ID: 7803\n",
      "The job FeMurn3_0_96 was saved and received the ID: 7804\n",
      "The job FeMurn3_0_98 was saved and received the ID: 7805\n",
      "The job FeMurn3_1_0 was saved and received the ID: 7806\n",
      "The job FeMurn3_1_02 was saved and received the ID: 7807\n",
      "The job FeMurn3_1_04 was saved and received the ID: 7808\n",
      "The job FeMurn3_1_06 was saved and received the ID: 7809\n",
      "The job FeMurn3_1_08 was saved and received the ID: 7810\n",
      "The job FeMurn3_1_1 was saved and received the ID: 7811\n",
      "The job optimize4 was saved and received the ID: 7812\n"
     ]
    },
    {
     "name": "stderr",
     "output_type": "stream",
     "text": [
      "/tmp/ipykernel_2298375/2313573055.py:10: DeprecationWarning: pyiron_atomistics.lammps.base.get_final_structure is deprecated: use get_structure() instead.\n",
      "  opted_structure = j.get_final_structure()\n"
     ]
    },
    {
     "name": "stdout",
     "output_type": "stream",
     "text": [
      "The job FeMurn4 was saved and received the ID: 7813\n",
      "The job FeMurn4_0_9 was saved and received the ID: 7814\n",
      "The job FeMurn4_0_92 was saved and received the ID: 7815\n",
      "The job FeMurn4_0_94 was saved and received the ID: 7816\n",
      "The job FeMurn4_0_96 was saved and received the ID: 7817\n",
      "The job FeMurn4_0_98 was saved and received the ID: 7818\n",
      "The job FeMurn4_1_0 was saved and received the ID: 7819\n",
      "The job FeMurn4_1_02 was saved and received the ID: 7820\n",
      "The job FeMurn4_1_04 was saved and received the ID: 7821\n",
      "The job FeMurn4_1_06 was saved and received the ID: 7822\n",
      "The job FeMurn4_1_08 was saved and received the ID: 7823\n",
      "The job FeMurn4_1_1 was saved and received the ID: 7824\n",
      "The job optimize5 was saved and received the ID: 7825\n"
     ]
    },
    {
     "name": "stderr",
     "output_type": "stream",
     "text": [
      "/tmp/ipykernel_2298375/2313573055.py:10: DeprecationWarning: pyiron_atomistics.lammps.base.get_final_structure is deprecated: use get_structure() instead.\n",
      "  opted_structure = j.get_final_structure()\n"
     ]
    },
    {
     "name": "stdout",
     "output_type": "stream",
     "text": [
      "The job FeMurn5 was saved and received the ID: 7826\n",
      "The job FeMurn5_0_9 was saved and received the ID: 7827\n",
      "The job FeMurn5_0_92 was saved and received the ID: 7828\n",
      "The job FeMurn5_0_94 was saved and received the ID: 7829\n",
      "The job FeMurn5_0_96 was saved and received the ID: 7830\n",
      "The job FeMurn5_0_98 was saved and received the ID: 7831\n",
      "The job FeMurn5_1_0 was saved and received the ID: 7832\n",
      "The job FeMurn5_1_02 was saved and received the ID: 7833\n",
      "The job FeMurn5_1_04 was saved and received the ID: 7834\n",
      "The job FeMurn5_1_06 was saved and received the ID: 7835\n",
      "The job FeMurn5_1_08 was saved and received the ID: 7836\n",
      "The job FeMurn5_1_1 was saved and received the ID: 7837\n",
      "The job optimize6 was saved and received the ID: 7838\n"
     ]
    },
    {
     "name": "stderr",
     "output_type": "stream",
     "text": [
      "/tmp/ipykernel_2298375/2313573055.py:10: DeprecationWarning: pyiron_atomistics.lammps.base.get_final_structure is deprecated: use get_structure() instead.\n",
      "  opted_structure = j.get_final_structure()\n"
     ]
    },
    {
     "name": "stdout",
     "output_type": "stream",
     "text": [
      "The job FeMurn6 was saved and received the ID: 7839\n",
      "The job FeMurn6_0_9 was saved and received the ID: 7840\n",
      "The job FeMurn6_0_92 was saved and received the ID: 7841\n",
      "The job FeMurn6_0_94 was saved and received the ID: 7842\n",
      "The job FeMurn6_0_96 was saved and received the ID: 7843\n",
      "The job FeMurn6_0_98 was saved and received the ID: 7844\n",
      "The job FeMurn6_1_0 was saved and received the ID: 7845\n",
      "The job FeMurn6_1_02 was saved and received the ID: 7846\n",
      "The job FeMurn6_1_04 was saved and received the ID: 7847\n",
      "The job FeMurn6_1_06 was saved and received the ID: 7848\n",
      "The job FeMurn6_1_08 was saved and received the ID: 7849\n",
      "The job FeMurn6_1_1 was saved and received the ID: 7850\n",
      "The job optimize7 was saved and received the ID: 7851\n"
     ]
    },
    {
     "name": "stderr",
     "output_type": "stream",
     "text": [
      "/tmp/ipykernel_2298375/2313573055.py:10: DeprecationWarning: pyiron_atomistics.lammps.base.get_final_structure is deprecated: use get_structure() instead.\n",
      "  opted_structure = j.get_final_structure()\n"
     ]
    },
    {
     "name": "stdout",
     "output_type": "stream",
     "text": [
      "The job FeMurn7 was saved and received the ID: 7852\n",
      "The job FeMurn7_0_9 was saved and received the ID: 7853\n",
      "The job FeMurn7_0_92 was saved and received the ID: 7854\n",
      "The job FeMurn7_0_94 was saved and received the ID: 7855\n",
      "The job FeMurn7_0_96 was saved and received the ID: 7856\n",
      "The job FeMurn7_0_98 was saved and received the ID: 7857\n",
      "The job FeMurn7_1_0 was saved and received the ID: 7858\n",
      "The job FeMurn7_1_02 was saved and received the ID: 7859\n",
      "The job FeMurn7_1_04 was saved and received the ID: 7860\n",
      "The job FeMurn7_1_06 was saved and received the ID: 7861\n",
      "The job FeMurn7_1_08 was saved and received the ID: 7862\n",
      "The job FeMurn7_1_1 was saved and received the ID: 7863\n",
      "The job optimize8 was saved and received the ID: 7864\n"
     ]
    },
    {
     "name": "stderr",
     "output_type": "stream",
     "text": [
      "/tmp/ipykernel_2298375/2313573055.py:10: DeprecationWarning: pyiron_atomistics.lammps.base.get_final_structure is deprecated: use get_structure() instead.\n",
      "  opted_structure = j.get_final_structure()\n"
     ]
    },
    {
     "name": "stdout",
     "output_type": "stream",
     "text": [
      "The job FeMurn8 was saved and received the ID: 7865\n",
      "The job FeMurn8_0_9 was saved and received the ID: 7866\n",
      "The job FeMurn8_0_92 was saved and received the ID: 7867\n",
      "The job FeMurn8_0_94 was saved and received the ID: 7868\n",
      "The job FeMurn8_0_96 was saved and received the ID: 7869\n",
      "The job FeMurn8_0_98 was saved and received the ID: 7870\n",
      "The job FeMurn8_1_0 was saved and received the ID: 7871\n",
      "The job FeMurn8_1_02 was saved and received the ID: 7872\n",
      "The job FeMurn8_1_04 was saved and received the ID: 7873\n",
      "The job FeMurn8_1_06 was saved and received the ID: 7874\n",
      "The job FeMurn8_1_08 was saved and received the ID: 7875\n",
      "The job FeMurn8_1_1 was saved and received the ID: 7876\n",
      "The job optimize9 was saved and received the ID: 7877\n"
     ]
    },
    {
     "name": "stderr",
     "output_type": "stream",
     "text": [
      "/tmp/ipykernel_2298375/2313573055.py:10: DeprecationWarning: pyiron_atomistics.lammps.base.get_final_structure is deprecated: use get_structure() instead.\n",
      "  opted_structure = j.get_final_structure()\n"
     ]
    },
    {
     "name": "stdout",
     "output_type": "stream",
     "text": [
      "The job FeMurn9 was saved and received the ID: 7878\n",
      "The job FeMurn9_0_9 was saved and received the ID: 7879\n",
      "The job FeMurn9_0_92 was saved and received the ID: 7880\n",
      "The job FeMurn9_0_94 was saved and received the ID: 7881\n",
      "The job FeMurn9_0_96 was saved and received the ID: 7882\n",
      "The job FeMurn9_0_98 was saved and received the ID: 7883\n",
      "The job FeMurn9_1_0 was saved and received the ID: 7884\n",
      "The job FeMurn9_1_02 was saved and received the ID: 7885\n",
      "The job FeMurn9_1_04 was saved and received the ID: 7886\n",
      "The job FeMurn9_1_06 was saved and received the ID: 7887\n",
      "The job FeMurn9_1_08 was saved and received the ID: 7888\n",
      "The job FeMurn9_1_1 was saved and received the ID: 7889\n",
      "The job optimize10 was saved and received the ID: 7890\n"
     ]
    },
    {
     "name": "stderr",
     "output_type": "stream",
     "text": [
      "/tmp/ipykernel_2298375/2313573055.py:10: DeprecationWarning: pyiron_atomistics.lammps.base.get_final_structure is deprecated: use get_structure() instead.\n",
      "  opted_structure = j.get_final_structure()\n"
     ]
    },
    {
     "name": "stdout",
     "output_type": "stream",
     "text": [
      "The job FeMurn10 was saved and received the ID: 7891\n",
      "The job FeMurn10_0_9 was saved and received the ID: 7892\n",
      "The job FeMurn10_0_92 was saved and received the ID: 7893\n",
      "The job FeMurn10_0_94 was saved and received the ID: 7894\n",
      "The job FeMurn10_0_96 was saved and received the ID: 7895\n",
      "The job FeMurn10_0_98 was saved and received the ID: 7896\n",
      "The job FeMurn10_1_0 was saved and received the ID: 7897\n",
      "The job FeMurn10_1_02 was saved and received the ID: 7898\n",
      "The job FeMurn10_1_04 was saved and received the ID: 7899\n",
      "The job FeMurn10_1_06 was saved and received the ID: 7900\n",
      "The job FeMurn10_1_08 was saved and received the ID: 7901\n",
      "The job FeMurn10_1_1 was saved and received the ID: 7902\n",
      "The job optimize11 was saved and received the ID: 7903\n"
     ]
    },
    {
     "name": "stderr",
     "output_type": "stream",
     "text": [
      "/tmp/ipykernel_2298375/2313573055.py:10: DeprecationWarning: pyiron_atomistics.lammps.base.get_final_structure is deprecated: use get_structure() instead.\n",
      "  opted_structure = j.get_final_structure()\n"
     ]
    },
    {
     "name": "stdout",
     "output_type": "stream",
     "text": [
      "The job FeMurn11 was saved and received the ID: 7904\n",
      "The job FeMurn11_0_9 was saved and received the ID: 7905\n",
      "The job FeMurn11_0_92 was saved and received the ID: 7906\n",
      "The job FeMurn11_0_94 was saved and received the ID: 7907\n",
      "The job FeMurn11_0_96 was saved and received the ID: 7908\n",
      "The job FeMurn11_0_98 was saved and received the ID: 7909\n",
      "The job FeMurn11_1_0 was saved and received the ID: 7910\n",
      "The job FeMurn11_1_02 was saved and received the ID: 7911\n",
      "The job FeMurn11_1_04 was saved and received the ID: 7912\n",
      "The job FeMurn11_1_06 was saved and received the ID: 7913\n",
      "The job FeMurn11_1_08 was saved and received the ID: 7914\n",
      "The job FeMurn11_1_1 was saved and received the ID: 7915\n",
      "The job optimize12 was saved and received the ID: 7916\n"
     ]
    },
    {
     "name": "stderr",
     "output_type": "stream",
     "text": [
      "/tmp/ipykernel_2298375/2313573055.py:10: DeprecationWarning: pyiron_atomistics.lammps.base.get_final_structure is deprecated: use get_structure() instead.\n",
      "  opted_structure = j.get_final_structure()\n"
     ]
    },
    {
     "name": "stdout",
     "output_type": "stream",
     "text": [
      "The job FeMurn12 was saved and received the ID: 7917\n",
      "The job FeMurn12_0_9 was saved and received the ID: 7918\n",
      "The job FeMurn12_0_92 was saved and received the ID: 7919\n",
      "The job FeMurn12_0_94 was saved and received the ID: 7920\n",
      "The job FeMurn12_0_96 was saved and received the ID: 7921\n",
      "The job FeMurn12_0_98 was saved and received the ID: 7922\n",
      "The job FeMurn12_1_0 was saved and received the ID: 7923\n",
      "The job FeMurn12_1_02 was saved and received the ID: 7924\n",
      "The job FeMurn12_1_04 was saved and received the ID: 7925\n",
      "The job FeMurn12_1_06 was saved and received the ID: 7926\n",
      "The job FeMurn12_1_08 was saved and received the ID: 7927\n",
      "The job FeMurn12_1_1 was saved and received the ID: 7928\n",
      "The job optimize13 was saved and received the ID: 7929\n"
     ]
    },
    {
     "name": "stderr",
     "output_type": "stream",
     "text": [
      "/tmp/ipykernel_2298375/2313573055.py:10: DeprecationWarning: pyiron_atomistics.lammps.base.get_final_structure is deprecated: use get_structure() instead.\n",
      "  opted_structure = j.get_final_structure()\n"
     ]
    },
    {
     "name": "stdout",
     "output_type": "stream",
     "text": [
      "The job FeMurn13 was saved and received the ID: 7930\n",
      "The job FeMurn13_0_9 was saved and received the ID: 7931\n",
      "The job FeMurn13_0_92 was saved and received the ID: 7932\n",
      "The job FeMurn13_0_94 was saved and received the ID: 7933\n",
      "The job FeMurn13_0_96 was saved and received the ID: 7934\n",
      "The job FeMurn13_0_98 was saved and received the ID: 7935\n",
      "The job FeMurn13_1_0 was saved and received the ID: 7936\n",
      "The job FeMurn13_1_02 was saved and received the ID: 7937\n",
      "The job FeMurn13_1_04 was saved and received the ID: 7938\n",
      "The job FeMurn13_1_06 was saved and received the ID: 7939\n",
      "The job FeMurn13_1_08 was saved and received the ID: 7940\n",
      "The job FeMurn13_1_1 was saved and received the ID: 7941\n",
      "The job optimize14 was saved and received the ID: 7942\n"
     ]
    },
    {
     "name": "stderr",
     "output_type": "stream",
     "text": [
      "/tmp/ipykernel_2298375/2313573055.py:10: DeprecationWarning: pyiron_atomistics.lammps.base.get_final_structure is deprecated: use get_structure() instead.\n",
      "  opted_structure = j.get_final_structure()\n"
     ]
    },
    {
     "name": "stdout",
     "output_type": "stream",
     "text": [
      "The job FeMurn14 was saved and received the ID: 7943\n",
      "The job FeMurn14_0_9 was saved and received the ID: 7944\n",
      "The job FeMurn14_0_92 was saved and received the ID: 7945\n",
      "The job FeMurn14_0_94 was saved and received the ID: 7946\n",
      "The job FeMurn14_0_96 was saved and received the ID: 7947\n",
      "The job FeMurn14_0_98 was saved and received the ID: 7948\n",
      "The job FeMurn14_1_0 was saved and received the ID: 7949\n",
      "The job FeMurn14_1_02 was saved and received the ID: 7950\n",
      "The job FeMurn14_1_04 was saved and received the ID: 7951\n",
      "The job FeMurn14_1_06 was saved and received the ID: 7952\n",
      "The job FeMurn14_1_08 was saved and received the ID: 7953\n",
      "The job FeMurn14_1_1 was saved and received the ID: 7954\n",
      "The job optimize15 was saved and received the ID: 7955\n"
     ]
    },
    {
     "name": "stderr",
     "output_type": "stream",
     "text": [
      "/tmp/ipykernel_2298375/2313573055.py:10: DeprecationWarning: pyiron_atomistics.lammps.base.get_final_structure is deprecated: use get_structure() instead.\n",
      "  opted_structure = j.get_final_structure()\n"
     ]
    },
    {
     "name": "stdout",
     "output_type": "stream",
     "text": [
      "The job FeMurn15 was saved and received the ID: 7956\n",
      "The job FeMurn15_0_9 was saved and received the ID: 7957\n",
      "The job FeMurn15_0_92 was saved and received the ID: 7958\n",
      "The job FeMurn15_0_94 was saved and received the ID: 7959\n",
      "The job FeMurn15_0_96 was saved and received the ID: 7960\n",
      "The job FeMurn15_0_98 was saved and received the ID: 7961\n",
      "The job FeMurn15_1_0 was saved and received the ID: 7962\n",
      "The job FeMurn15_1_02 was saved and received the ID: 7963\n",
      "The job FeMurn15_1_04 was saved and received the ID: 7964\n",
      "The job FeMurn15_1_06 was saved and received the ID: 7965\n",
      "The job FeMurn15_1_08 was saved and received the ID: 7966\n",
      "The job FeMurn15_1_1 was saved and received the ID: 7967\n",
      "The job optimize16 was saved and received the ID: 7968\n"
     ]
    },
    {
     "name": "stderr",
     "output_type": "stream",
     "text": [
      "/tmp/ipykernel_2298375/2313573055.py:10: DeprecationWarning: pyiron_atomistics.lammps.base.get_final_structure is deprecated: use get_structure() instead.\n",
      "  opted_structure = j.get_final_structure()\n"
     ]
    },
    {
     "name": "stdout",
     "output_type": "stream",
     "text": [
      "The job FeMurn16 was saved and received the ID: 7969\n",
      "The job FeMurn16_0_9 was saved and received the ID: 7970\n",
      "The job FeMurn16_0_92 was saved and received the ID: 7971\n",
      "The job FeMurn16_0_94 was saved and received the ID: 7972\n",
      "The job FeMurn16_0_96 was saved and received the ID: 7973\n",
      "The job FeMurn16_0_98 was saved and received the ID: 7974\n",
      "The job FeMurn16_1_0 was saved and received the ID: 7975\n",
      "The job FeMurn16_1_02 was saved and received the ID: 7976\n",
      "The job FeMurn16_1_04 was saved and received the ID: 7977\n",
      "The job FeMurn16_1_06 was saved and received the ID: 7978\n",
      "The job FeMurn16_1_08 was saved and received the ID: 7979\n",
      "The job FeMurn16_1_1 was saved and received the ID: 7980\n",
      "The job optimize17 was saved and received the ID: 7981\n"
     ]
    },
    {
     "name": "stderr",
     "output_type": "stream",
     "text": [
      "/tmp/ipykernel_2298375/2313573055.py:10: DeprecationWarning: pyiron_atomistics.lammps.base.get_final_structure is deprecated: use get_structure() instead.\n",
      "  opted_structure = j.get_final_structure()\n"
     ]
    },
    {
     "name": "stdout",
     "output_type": "stream",
     "text": [
      "The job FeMurn17 was saved and received the ID: 7982\n",
      "The job FeMurn17_0_9 was saved and received the ID: 7983\n",
      "The job FeMurn17_0_92 was saved and received the ID: 7984\n",
      "The job FeMurn17_0_94 was saved and received the ID: 7985\n",
      "The job FeMurn17_0_96 was saved and received the ID: 7986\n",
      "The job FeMurn17_0_98 was saved and received the ID: 7987\n",
      "The job FeMurn17_1_0 was saved and received the ID: 7988\n",
      "The job FeMurn17_1_02 was saved and received the ID: 7989\n",
      "The job FeMurn17_1_04 was saved and received the ID: 7990\n",
      "The job FeMurn17_1_06 was saved and received the ID: 7991\n",
      "The job FeMurn17_1_08 was saved and received the ID: 7992\n",
      "The job FeMurn17_1_1 was saved and received the ID: 7993\n",
      "The job optimize18 was saved and received the ID: 7994\n"
     ]
    },
    {
     "name": "stderr",
     "output_type": "stream",
     "text": [
      "/tmp/ipykernel_2298375/2313573055.py:10: DeprecationWarning: pyiron_atomistics.lammps.base.get_final_structure is deprecated: use get_structure() instead.\n",
      "  opted_structure = j.get_final_structure()\n"
     ]
    },
    {
     "name": "stdout",
     "output_type": "stream",
     "text": [
      "The job FeMurn18 was saved and received the ID: 7995\n",
      "The job FeMurn18_0_9 was saved and received the ID: 7996\n",
      "The job FeMurn18_0_92 was saved and received the ID: 7997\n",
      "The job FeMurn18_0_94 was saved and received the ID: 7998\n",
      "The job FeMurn18_0_96 was saved and received the ID: 7999\n",
      "The job FeMurn18_0_98 was saved and received the ID: 8000\n",
      "The job FeMurn18_1_0 was saved and received the ID: 8001\n",
      "The job FeMurn18_1_02 was saved and received the ID: 8002\n",
      "The job FeMurn18_1_04 was saved and received the ID: 8003\n",
      "The job FeMurn18_1_06 was saved and received the ID: 8004\n",
      "The job FeMurn18_1_08 was saved and received the ID: 8005\n",
      "The job FeMurn18_1_1 was saved and received the ID: 8006\n",
      "The job optimize19 was saved and received the ID: 8007\n"
     ]
    },
    {
     "name": "stderr",
     "output_type": "stream",
     "text": [
      "/tmp/ipykernel_2298375/2313573055.py:10: DeprecationWarning: pyiron_atomistics.lammps.base.get_final_structure is deprecated: use get_structure() instead.\n",
      "  opted_structure = j.get_final_structure()\n"
     ]
    },
    {
     "name": "stdout",
     "output_type": "stream",
     "text": [
      "The job FeMurn19 was saved and received the ID: 8008\n",
      "The job FeMurn19_0_9 was saved and received the ID: 8009\n",
      "The job FeMurn19_0_92 was saved and received the ID: 8010\n",
      "The job FeMurn19_0_94 was saved and received the ID: 8011\n",
      "The job FeMurn19_0_96 was saved and received the ID: 8012\n",
      "The job FeMurn19_0_98 was saved and received the ID: 8013\n",
      "The job FeMurn19_1_0 was saved and received the ID: 8014\n",
      "The job FeMurn19_1_02 was saved and received the ID: 8015\n",
      "The job FeMurn19_1_04 was saved and received the ID: 8016\n",
      "The job FeMurn19_1_06 was saved and received the ID: 8017\n",
      "The job FeMurn19_1_08 was saved and received the ID: 8018\n",
      "The job FeMurn19_1_1 was saved and received the ID: 8019\n",
      "The job optimize20 was saved and received the ID: 8020\n"
     ]
    },
    {
     "name": "stderr",
     "output_type": "stream",
     "text": [
      "/tmp/ipykernel_2298375/2313573055.py:10: DeprecationWarning: pyiron_atomistics.lammps.base.get_final_structure is deprecated: use get_structure() instead.\n",
      "  opted_structure = j.get_final_structure()\n"
     ]
    },
    {
     "name": "stdout",
     "output_type": "stream",
     "text": [
      "The job FeMurn20 was saved and received the ID: 8021\n",
      "The job FeMurn20_0_9 was saved and received the ID: 8022\n",
      "The job FeMurn20_0_92 was saved and received the ID: 8023\n",
      "The job FeMurn20_0_94 was saved and received the ID: 8024\n",
      "The job FeMurn20_0_96 was saved and received the ID: 8025\n",
      "The job FeMurn20_0_98 was saved and received the ID: 8026\n",
      "The job FeMurn20_1_0 was saved and received the ID: 8027\n",
      "The job FeMurn20_1_02 was saved and received the ID: 8028\n",
      "The job FeMurn20_1_04 was saved and received the ID: 8029\n",
      "The job FeMurn20_1_06 was saved and received the ID: 8030\n",
      "The job FeMurn20_1_08 was saved and received the ID: 8031\n",
      "The job FeMurn20_1_1 was saved and received the ID: 8032\n",
      "The job optimize21 was saved and received the ID: 8033\n"
     ]
    },
    {
     "name": "stderr",
     "output_type": "stream",
     "text": [
      "/tmp/ipykernel_2298375/2313573055.py:10: DeprecationWarning: pyiron_atomistics.lammps.base.get_final_structure is deprecated: use get_structure() instead.\n",
      "  opted_structure = j.get_final_structure()\n"
     ]
    },
    {
     "name": "stdout",
     "output_type": "stream",
     "text": [
      "The job FeMurn21 was saved and received the ID: 8034\n",
      "The job FeMurn21_0_9 was saved and received the ID: 8035\n",
      "The job FeMurn21_0_92 was saved and received the ID: 8036\n",
      "The job FeMurn21_0_94 was saved and received the ID: 8037\n",
      "The job FeMurn21_0_96 was saved and received the ID: 8038\n",
      "The job FeMurn21_0_98 was saved and received the ID: 8039\n",
      "The job FeMurn21_1_0 was saved and received the ID: 8040\n",
      "The job FeMurn21_1_02 was saved and received the ID: 8041\n",
      "The job FeMurn21_1_04 was saved and received the ID: 8042\n",
      "The job FeMurn21_1_06 was saved and received the ID: 8043\n",
      "The job FeMurn21_1_08 was saved and received the ID: 8044\n",
      "The job FeMurn21_1_1 was saved and received the ID: 8045\n",
      "The job optimize22 was saved and received the ID: 8046\n"
     ]
    },
    {
     "name": "stderr",
     "output_type": "stream",
     "text": [
      "/tmp/ipykernel_2298375/2313573055.py:10: DeprecationWarning: pyiron_atomistics.lammps.base.get_final_structure is deprecated: use get_structure() instead.\n",
      "  opted_structure = j.get_final_structure()\n"
     ]
    },
    {
     "name": "stdout",
     "output_type": "stream",
     "text": [
      "The job FeMurn22 was saved and received the ID: 8047\n",
      "The job FeMurn22_0_9 was saved and received the ID: 8048\n",
      "The job FeMurn22_0_92 was saved and received the ID: 8049\n",
      "The job FeMurn22_0_94 was saved and received the ID: 8050\n",
      "The job FeMurn22_0_96 was saved and received the ID: 8051\n",
      "The job FeMurn22_0_98 was saved and received the ID: 8052\n",
      "The job FeMurn22_1_0 was saved and received the ID: 8053\n",
      "The job FeMurn22_1_02 was saved and received the ID: 8054\n",
      "The job FeMurn22_1_04 was saved and received the ID: 8055\n",
      "The job FeMurn22_1_06 was saved and received the ID: 8056\n",
      "The job FeMurn22_1_08 was saved and received the ID: 8057\n",
      "The job FeMurn22_1_1 was saved and received the ID: 8058\n",
      "The job optimize23 was saved and received the ID: 8059\n"
     ]
    },
    {
     "name": "stderr",
     "output_type": "stream",
     "text": [
      "/tmp/ipykernel_2298375/2313573055.py:10: DeprecationWarning: pyiron_atomistics.lammps.base.get_final_structure is deprecated: use get_structure() instead.\n",
      "  opted_structure = j.get_final_structure()\n"
     ]
    },
    {
     "name": "stdout",
     "output_type": "stream",
     "text": [
      "The job FeMurn23 was saved and received the ID: 8060\n",
      "The job FeMurn23_0_9 was saved and received the ID: 8061\n",
      "The job FeMurn23_0_92 was saved and received the ID: 8062\n",
      "The job FeMurn23_0_94 was saved and received the ID: 8063\n",
      "The job FeMurn23_0_96 was saved and received the ID: 8064\n",
      "The job FeMurn23_0_98 was saved and received the ID: 8065\n",
      "The job FeMurn23_1_0 was saved and received the ID: 8066\n",
      "The job FeMurn23_1_02 was saved and received the ID: 8067\n",
      "The job FeMurn23_1_04 was saved and received the ID: 8068\n",
      "The job FeMurn23_1_06 was saved and received the ID: 8069\n",
      "The job FeMurn23_1_08 was saved and received the ID: 8070\n",
      "The job FeMurn23_1_1 was saved and received the ID: 8071\n",
      "The job optimize24 was saved and received the ID: 8072\n"
     ]
    },
    {
     "name": "stderr",
     "output_type": "stream",
     "text": [
      "/tmp/ipykernel_2298375/2313573055.py:10: DeprecationWarning: pyiron_atomistics.lammps.base.get_final_structure is deprecated: use get_structure() instead.\n",
      "  opted_structure = j.get_final_structure()\n"
     ]
    },
    {
     "name": "stdout",
     "output_type": "stream",
     "text": [
      "The job FeMurn24 was saved and received the ID: 8073\n",
      "The job FeMurn24_0_9 was saved and received the ID: 8074\n",
      "The job FeMurn24_0_92 was saved and received the ID: 8075\n",
      "The job FeMurn24_0_94 was saved and received the ID: 8076\n",
      "The job FeMurn24_0_96 was saved and received the ID: 8077\n",
      "The job FeMurn24_0_98 was saved and received the ID: 8078\n",
      "The job FeMurn24_1_0 was saved and received the ID: 8079\n",
      "The job FeMurn24_1_02 was saved and received the ID: 8080\n",
      "The job FeMurn24_1_04 was saved and received the ID: 8081\n",
      "The job FeMurn24_1_06 was saved and received the ID: 8082\n",
      "The job FeMurn24_1_08 was saved and received the ID: 8083\n",
      "The job FeMurn24_1_1 was saved and received the ID: 8084\n",
      "The job optimize25 was saved and received the ID: 8085\n"
     ]
    },
    {
     "name": "stderr",
     "output_type": "stream",
     "text": [
      "/tmp/ipykernel_2298375/2313573055.py:10: DeprecationWarning: pyiron_atomistics.lammps.base.get_final_structure is deprecated: use get_structure() instead.\n",
      "  opted_structure = j.get_final_structure()\n"
     ]
    },
    {
     "name": "stdout",
     "output_type": "stream",
     "text": [
      "The job FeMurn25 was saved and received the ID: 8086\n",
      "The job FeMurn25_0_9 was saved and received the ID: 8087\n",
      "The job FeMurn25_0_92 was saved and received the ID: 8088\n",
      "The job FeMurn25_0_94 was saved and received the ID: 8089\n",
      "The job FeMurn25_0_96 was saved and received the ID: 8090\n",
      "The job FeMurn25_0_98 was saved and received the ID: 8091\n",
      "The job FeMurn25_1_0 was saved and received the ID: 8092\n",
      "The job FeMurn25_1_02 was saved and received the ID: 8093\n",
      "The job FeMurn25_1_04 was saved and received the ID: 8094\n",
      "The job FeMurn25_1_06 was saved and received the ID: 8095\n",
      "The job FeMurn25_1_08 was saved and received the ID: 8096\n",
      "The job FeMurn25_1_1 was saved and received the ID: 8097\n",
      "The job optimize26 was saved and received the ID: 8098\n"
     ]
    },
    {
     "name": "stderr",
     "output_type": "stream",
     "text": [
      "/tmp/ipykernel_2298375/2313573055.py:10: DeprecationWarning: pyiron_atomistics.lammps.base.get_final_structure is deprecated: use get_structure() instead.\n",
      "  opted_structure = j.get_final_structure()\n"
     ]
    },
    {
     "name": "stdout",
     "output_type": "stream",
     "text": [
      "The job FeMurn26 was saved and received the ID: 8099\n",
      "The job FeMurn26_0_9 was saved and received the ID: 8100\n",
      "The job FeMurn26_0_92 was saved and received the ID: 8101\n",
      "The job FeMurn26_0_94 was saved and received the ID: 8102\n",
      "The job FeMurn26_0_96 was saved and received the ID: 8103\n",
      "The job FeMurn26_0_98 was saved and received the ID: 8104\n",
      "The job FeMurn26_1_0 was saved and received the ID: 8105\n",
      "The job FeMurn26_1_02 was saved and received the ID: 8106\n",
      "The job FeMurn26_1_04 was saved and received the ID: 8107\n",
      "The job FeMurn26_1_06 was saved and received the ID: 8108\n",
      "The job FeMurn26_1_08 was saved and received the ID: 8109\n",
      "The job FeMurn26_1_1 was saved and received the ID: 8110\n",
      "The job optimize27 was saved and received the ID: 8111\n"
     ]
    },
    {
     "name": "stderr",
     "output_type": "stream",
     "text": [
      "/tmp/ipykernel_2298375/2313573055.py:10: DeprecationWarning: pyiron_atomistics.lammps.base.get_final_structure is deprecated: use get_structure() instead.\n",
      "  opted_structure = j.get_final_structure()\n"
     ]
    },
    {
     "name": "stdout",
     "output_type": "stream",
     "text": [
      "The job FeMurn27 was saved and received the ID: 8112\n",
      "The job FeMurn27_0_9 was saved and received the ID: 8113\n",
      "The job FeMurn27_0_92 was saved and received the ID: 8114\n",
      "The job FeMurn27_0_94 was saved and received the ID: 8115\n",
      "The job FeMurn27_0_96 was saved and received the ID: 8116\n",
      "The job FeMurn27_0_98 was saved and received the ID: 8117\n",
      "The job FeMurn27_1_0 was saved and received the ID: 8118\n",
      "The job FeMurn27_1_02 was saved and received the ID: 8119\n",
      "The job FeMurn27_1_04 was saved and received the ID: 8120\n",
      "The job FeMurn27_1_06 was saved and received the ID: 8121\n",
      "The job FeMurn27_1_08 was saved and received the ID: 8122\n",
      "The job FeMurn27_1_1 was saved and received the ID: 8123\n",
      "The job optimize28 was saved and received the ID: 8124\n"
     ]
    },
    {
     "name": "stderr",
     "output_type": "stream",
     "text": [
      "2024-04-23 11:43:30,300 - pyiron_log - WARNING - Job aborted\n",
      "2024-04-23 11:43:30,300 - pyiron_log - WARNING - LAMMPS (7 Feb 2024 - Update 1)\n",
      "OMP_NUM_THREADS environment is not set. Defaulting to 1 thread. (src/comm.cpp:98)\n",
      "  using 1 OpenMP thread(s) per MPI task\n",
      "Reading data file ...\n",
      "  orthogonal box = (0 0 0) to (11.48 11.48 11.48)\n",
      "  1 by 1 by 1 MPI processor grid\n",
      "  reading atoms ...\n",
      "  128 atoms\n",
      "  read_data CPU = 0.002 seconds\n",
      "ERROR on proc 0: Not a valid floating-point number: 'Infinity' (src/MANYBODY/pair_eam_alloy.cpp:174)\n",
      "Last command: pair_coeff * * eam/alloy FeCr_d.eam.alloy Fe Cr\n",
      "--------------------------------------------------------------------------\n",
      "MPI_ABORT was invoked on rank 0 in communicator MPI_COMM_WORLD\n",
      "with errorcode 1.\n",
      "\n",
      "NOTE: invoking MPI_ABORT causes Open MPI to kill all MPI processes.\n",
      "You may or may not see output from other processes, depending on\n",
      "exactly when Open MPI kills them.\n",
      "--------------------------------------------------------------------------\n",
      "\n"
     ]
    },
    {
     "ename": "RuntimeError",
     "evalue": "Job aborted",
     "output_type": "error",
     "traceback": [
      "\u001b[0;31m---------------------------------------------------------------------------\u001b[0m",
      "\u001b[0;31mCalledProcessError\u001b[0m                        Traceback (most recent call last)",
      "File \u001b[0;32m~/miniconda3/envs/pyiron/lib/python3.12/site-packages/pyiron_base/jobs/job/runfunction.py:644\u001b[0m, in \u001b[0;36mexecute_job_with_external_executable\u001b[0;34m(job)\u001b[0m\n\u001b[1;32m    643\u001b[0m \u001b[38;5;28;01mtry\u001b[39;00m:\n\u001b[0;32m--> 644\u001b[0m     out \u001b[38;5;241m=\u001b[39m \u001b[43msubprocess\u001b[49m\u001b[38;5;241;43m.\u001b[39;49m\u001b[43mrun\u001b[49m\u001b[43m(\u001b[49m\n\u001b[1;32m    645\u001b[0m \u001b[43m        \u001b[49m\u001b[43mexecutable\u001b[49m\u001b[43m,\u001b[49m\n\u001b[1;32m    646\u001b[0m \u001b[43m        \u001b[49m\u001b[43mcwd\u001b[49m\u001b[38;5;241;43m=\u001b[39;49m\u001b[43mjob\u001b[49m\u001b[38;5;241;43m.\u001b[39;49m\u001b[43mproject_hdf5\u001b[49m\u001b[38;5;241;43m.\u001b[39;49m\u001b[43mworking_directory\u001b[49m\u001b[43m,\u001b[49m\n\u001b[1;32m    647\u001b[0m \u001b[43m        \u001b[49m\u001b[43mshell\u001b[49m\u001b[38;5;241;43m=\u001b[39;49m\u001b[43mshell\u001b[49m\u001b[43m,\u001b[49m\n\u001b[1;32m    648\u001b[0m \u001b[43m        \u001b[49m\u001b[43mstdout\u001b[49m\u001b[38;5;241;43m=\u001b[39;49m\u001b[43msubprocess\u001b[49m\u001b[38;5;241;43m.\u001b[39;49m\u001b[43mPIPE\u001b[49m\u001b[43m,\u001b[49m\n\u001b[1;32m    649\u001b[0m \u001b[43m        \u001b[49m\u001b[43mstderr\u001b[49m\u001b[38;5;241;43m=\u001b[39;49m\u001b[43msubprocess\u001b[49m\u001b[38;5;241;43m.\u001b[39;49m\u001b[43mSTDOUT\u001b[49m\u001b[43m,\u001b[49m\n\u001b[1;32m    650\u001b[0m \u001b[43m        \u001b[49m\u001b[43muniversal_newlines\u001b[49m\u001b[38;5;241;43m=\u001b[39;49m\u001b[38;5;28;43;01mTrue\u001b[39;49;00m\u001b[43m,\u001b[49m\n\u001b[1;32m    651\u001b[0m \u001b[43m        \u001b[49m\u001b[43mcheck\u001b[49m\u001b[38;5;241;43m=\u001b[39;49m\u001b[38;5;28;43;01mTrue\u001b[39;49;00m\u001b[43m,\u001b[49m\n\u001b[1;32m    652\u001b[0m \u001b[43m        \u001b[49m\u001b[43menv\u001b[49m\u001b[38;5;241;43m=\u001b[39;49m\u001b[43mos\u001b[49m\u001b[38;5;241;43m.\u001b[39;49m\u001b[43menviron\u001b[49m\u001b[38;5;241;43m.\u001b[39;49m\u001b[43mcopy\u001b[49m\u001b[43m(\u001b[49m\u001b[43m)\u001b[49m\u001b[43m,\u001b[49m\n\u001b[1;32m    653\u001b[0m \u001b[43m    \u001b[49m\u001b[43m)\u001b[49m\u001b[38;5;241m.\u001b[39mstdout\n\u001b[1;32m    654\u001b[0m \u001b[38;5;28;01mexcept\u001b[39;00m (subprocess\u001b[38;5;241m.\u001b[39mCalledProcessError, \u001b[38;5;167;01mFileNotFoundError\u001b[39;00m) \u001b[38;5;28;01mas\u001b[39;00m e:\n",
      "File \u001b[0;32m~/miniconda3/envs/pyiron/lib/python3.12/subprocess.py:571\u001b[0m, in \u001b[0;36mrun\u001b[0;34m(input, capture_output, timeout, check, *popenargs, **kwargs)\u001b[0m\n\u001b[1;32m    570\u001b[0m     \u001b[38;5;28;01mif\u001b[39;00m check \u001b[38;5;129;01mand\u001b[39;00m retcode:\n\u001b[0;32m--> 571\u001b[0m         \u001b[38;5;28;01mraise\u001b[39;00m CalledProcessError(retcode, process\u001b[38;5;241m.\u001b[39margs,\n\u001b[1;32m    572\u001b[0m                                  output\u001b[38;5;241m=\u001b[39mstdout, stderr\u001b[38;5;241m=\u001b[39mstderr)\n\u001b[1;32m    573\u001b[0m \u001b[38;5;28;01mreturn\u001b[39;00m CompletedProcess(process\u001b[38;5;241m.\u001b[39margs, retcode, stdout, stderr)\n",
      "\u001b[0;31mCalledProcessError\u001b[0m: Command '/home/gu.huang/miniconda3/envs/pyiron/share/pyiron/lammps/bin/run_lammps_2020.03.03.sh' returned non-zero exit status 1.",
      "\nDuring handling of the above exception, another exception occurred:\n",
      "\u001b[0;31mRuntimeError\u001b[0m                              Traceback (most recent call last)",
      "Cell \u001b[0;32mIn[17], line 9\u001b[0m\n\u001b[1;32m      7\u001b[0m j\u001b[38;5;241m.\u001b[39mpotential \u001b[38;5;241m=\u001b[39m \u001b[38;5;28mlist\u001b[39m[i]\n\u001b[1;32m      8\u001b[0m j\u001b[38;5;241m.\u001b[39mcalc_minimize(n_print\u001b[38;5;241m=\u001b[39m\u001b[38;5;241m10\u001b[39m, pressure\u001b[38;5;241m=\u001b[39m\u001b[38;5;241m0.0\u001b[39m)\n\u001b[0;32m----> 9\u001b[0m \u001b[43mj\u001b[49m\u001b[38;5;241;43m.\u001b[39;49m\u001b[43mrun\u001b[49m\u001b[43m(\u001b[49m\u001b[43mdelete_existing_job\u001b[49m\u001b[38;5;241;43m=\u001b[39;49m\u001b[38;5;28;43;01mTrue\u001b[39;49;00m\u001b[43m)\u001b[49m\n\u001b[1;32m     10\u001b[0m opted_structure \u001b[38;5;241m=\u001b[39m j\u001b[38;5;241m.\u001b[39mget_final_structure()\n\u001b[1;32m     12\u001b[0m job \u001b[38;5;241m=\u001b[39m pr\u001b[38;5;241m.\u001b[39mcreate\u001b[38;5;241m.\u001b[39mjob\u001b[38;5;241m.\u001b[39mLammps(\u001b[38;5;124mf\u001b[39m\u001b[38;5;124m'\u001b[39m\u001b[38;5;124mpotentials\u001b[39m\u001b[38;5;132;01m{\u001b[39;00mi\u001b[38;5;132;01m}\u001b[39;00m\u001b[38;5;124m'\u001b[39m, delete_existing_job\u001b[38;5;241m=\u001b[39m\u001b[38;5;28;01mTrue\u001b[39;00m)\n",
      "File \u001b[0;32m~/miniconda3/envs/pyiron/lib/python3.12/site-packages/pyiron_base/utils/deprecate.py:171\u001b[0m, in \u001b[0;36mDeprecator.__deprecate_argument.<locals>.decorated\u001b[0;34m(*args, **kwargs)\u001b[0m\n\u001b[1;32m    161\u001b[0m     \u001b[38;5;28;01mif\u001b[39;00m kw \u001b[38;5;129;01min\u001b[39;00m \u001b[38;5;28mself\u001b[39m\u001b[38;5;241m.\u001b[39marguments:\n\u001b[1;32m    162\u001b[0m         warnings\u001b[38;5;241m.\u001b[39mwarn(\n\u001b[1;32m    163\u001b[0m             message_format\u001b[38;5;241m.\u001b[39mformat(\n\u001b[1;32m    164\u001b[0m                 \u001b[38;5;124m\"\u001b[39m\u001b[38;5;132;01m{}\u001b[39;00m\u001b[38;5;124m.\u001b[39m\u001b[38;5;132;01m{}\u001b[39;00m\u001b[38;5;124m(\u001b[39m\u001b[38;5;132;01m{}\u001b[39;00m\u001b[38;5;124m=\u001b[39m\u001b[38;5;132;01m{}\u001b[39;00m\u001b[38;5;124m)\u001b[39m\u001b[38;5;124m\"\u001b[39m\u001b[38;5;241m.\u001b[39mformat(\n\u001b[0;32m   (...)\u001b[0m\n\u001b[1;32m    169\u001b[0m             stacklevel\u001b[38;5;241m=\u001b[39m\u001b[38;5;241m2\u001b[39m,\n\u001b[1;32m    170\u001b[0m         )\n\u001b[0;32m--> 171\u001b[0m \u001b[38;5;28;01mreturn\u001b[39;00m \u001b[43mfunction\u001b[49m\u001b[43m(\u001b[49m\u001b[38;5;241;43m*\u001b[39;49m\u001b[43margs\u001b[49m\u001b[43m,\u001b[49m\u001b[43m \u001b[49m\u001b[38;5;241;43m*\u001b[39;49m\u001b[38;5;241;43m*\u001b[39;49m\u001b[43mkwargs\u001b[49m\u001b[43m)\u001b[49m\n",
      "File \u001b[0;32m~/miniconda3/envs/pyiron/lib/python3.12/site-packages/pyiron_base/jobs/job/generic.py:777\u001b[0m, in \u001b[0;36mGenericJob.run\u001b[0;34m(self, delete_existing_job, repair, debug, run_mode, run_again)\u001b[0m\n\u001b[1;32m    775\u001b[0m     \u001b[38;5;28mself\u001b[39m\u001b[38;5;241m.\u001b[39m_run_if_repair()\n\u001b[1;32m    776\u001b[0m \u001b[38;5;28;01melif\u001b[39;00m status \u001b[38;5;241m==\u001b[39m \u001b[38;5;124m\"\u001b[39m\u001b[38;5;124minitialized\u001b[39m\u001b[38;5;124m\"\u001b[39m:\n\u001b[0;32m--> 777\u001b[0m     \u001b[38;5;28;43mself\u001b[39;49m\u001b[38;5;241;43m.\u001b[39;49m\u001b[43m_run_if_new\u001b[49m\u001b[43m(\u001b[49m\u001b[43mdebug\u001b[49m\u001b[38;5;241;43m=\u001b[39;49m\u001b[43mdebug\u001b[49m\u001b[43m)\u001b[49m\n\u001b[1;32m    778\u001b[0m \u001b[38;5;28;01melif\u001b[39;00m status \u001b[38;5;241m==\u001b[39m \u001b[38;5;124m\"\u001b[39m\u001b[38;5;124mcreated\u001b[39m\u001b[38;5;124m\"\u001b[39m:\n\u001b[1;32m    779\u001b[0m     \u001b[38;5;28mself\u001b[39m\u001b[38;5;241m.\u001b[39m_run_if_created()\n",
      "File \u001b[0;32m~/miniconda3/envs/pyiron/lib/python3.12/site-packages/pyiron_base/jobs/job/generic.py:1294\u001b[0m, in \u001b[0;36mGenericJob._run_if_new\u001b[0;34m(self, debug)\u001b[0m\n\u001b[1;32m   1286\u001b[0m \u001b[38;5;28;01mdef\u001b[39;00m \u001b[38;5;21m_run_if_new\u001b[39m(\u001b[38;5;28mself\u001b[39m, debug\u001b[38;5;241m=\u001b[39m\u001b[38;5;28;01mFalse\u001b[39;00m):\n\u001b[1;32m   1287\u001b[0m \u001b[38;5;250m    \u001b[39m\u001b[38;5;124;03m\"\"\"\u001b[39;00m\n\u001b[1;32m   1288\u001b[0m \u001b[38;5;124;03m    Internal helper function the run if new function is called when the job status is 'initialized'. It prepares\u001b[39;00m\n\u001b[1;32m   1289\u001b[0m \u001b[38;5;124;03m    the hdf5 file and the corresponding directory structure.\u001b[39;00m\n\u001b[0;32m   (...)\u001b[0m\n\u001b[1;32m   1292\u001b[0m \u001b[38;5;124;03m        debug (bool): Debug Mode\u001b[39;00m\n\u001b[1;32m   1293\u001b[0m \u001b[38;5;124;03m    \"\"\"\u001b[39;00m\n\u001b[0;32m-> 1294\u001b[0m     \u001b[43mrun_job_with_status_initialized\u001b[49m\u001b[43m(\u001b[49m\u001b[43mjob\u001b[49m\u001b[38;5;241;43m=\u001b[39;49m\u001b[38;5;28;43mself\u001b[39;49m\u001b[43m,\u001b[49m\u001b[43m \u001b[49m\u001b[43mdebug\u001b[49m\u001b[38;5;241;43m=\u001b[39;49m\u001b[43mdebug\u001b[49m\u001b[43m)\u001b[49m\n",
      "File \u001b[0;32m~/miniconda3/envs/pyiron/lib/python3.12/site-packages/pyiron_base/jobs/job/runfunction.py:92\u001b[0m, in \u001b[0;36mrun_job_with_status_initialized\u001b[0;34m(job, debug)\u001b[0m\n\u001b[1;32m     90\u001b[0m \u001b[38;5;28;01melse\u001b[39;00m:\n\u001b[1;32m     91\u001b[0m     job\u001b[38;5;241m.\u001b[39msave()\n\u001b[0;32m---> 92\u001b[0m     \u001b[43mjob\u001b[49m\u001b[38;5;241;43m.\u001b[39;49m\u001b[43mrun\u001b[49m\u001b[43m(\u001b[49m\u001b[43m)\u001b[49m\n",
      "File \u001b[0;32m~/miniconda3/envs/pyiron/lib/python3.12/site-packages/pyiron_base/utils/deprecate.py:171\u001b[0m, in \u001b[0;36mDeprecator.__deprecate_argument.<locals>.decorated\u001b[0;34m(*args, **kwargs)\u001b[0m\n\u001b[1;32m    161\u001b[0m     \u001b[38;5;28;01mif\u001b[39;00m kw \u001b[38;5;129;01min\u001b[39;00m \u001b[38;5;28mself\u001b[39m\u001b[38;5;241m.\u001b[39marguments:\n\u001b[1;32m    162\u001b[0m         warnings\u001b[38;5;241m.\u001b[39mwarn(\n\u001b[1;32m    163\u001b[0m             message_format\u001b[38;5;241m.\u001b[39mformat(\n\u001b[1;32m    164\u001b[0m                 \u001b[38;5;124m\"\u001b[39m\u001b[38;5;132;01m{}\u001b[39;00m\u001b[38;5;124m.\u001b[39m\u001b[38;5;132;01m{}\u001b[39;00m\u001b[38;5;124m(\u001b[39m\u001b[38;5;132;01m{}\u001b[39;00m\u001b[38;5;124m=\u001b[39m\u001b[38;5;132;01m{}\u001b[39;00m\u001b[38;5;124m)\u001b[39m\u001b[38;5;124m\"\u001b[39m\u001b[38;5;241m.\u001b[39mformat(\n\u001b[0;32m   (...)\u001b[0m\n\u001b[1;32m    169\u001b[0m             stacklevel\u001b[38;5;241m=\u001b[39m\u001b[38;5;241m2\u001b[39m,\n\u001b[1;32m    170\u001b[0m         )\n\u001b[0;32m--> 171\u001b[0m \u001b[38;5;28;01mreturn\u001b[39;00m \u001b[43mfunction\u001b[49m\u001b[43m(\u001b[49m\u001b[38;5;241;43m*\u001b[39;49m\u001b[43margs\u001b[49m\u001b[43m,\u001b[49m\u001b[43m \u001b[49m\u001b[38;5;241;43m*\u001b[39;49m\u001b[38;5;241;43m*\u001b[39;49m\u001b[43mkwargs\u001b[49m\u001b[43m)\u001b[49m\n",
      "File \u001b[0;32m~/miniconda3/envs/pyiron/lib/python3.12/site-packages/pyiron_base/jobs/job/generic.py:779\u001b[0m, in \u001b[0;36mGenericJob.run\u001b[0;34m(self, delete_existing_job, repair, debug, run_mode, run_again)\u001b[0m\n\u001b[1;32m    777\u001b[0m     \u001b[38;5;28mself\u001b[39m\u001b[38;5;241m.\u001b[39m_run_if_new(debug\u001b[38;5;241m=\u001b[39mdebug)\n\u001b[1;32m    778\u001b[0m \u001b[38;5;28;01melif\u001b[39;00m status \u001b[38;5;241m==\u001b[39m \u001b[38;5;124m\"\u001b[39m\u001b[38;5;124mcreated\u001b[39m\u001b[38;5;124m\"\u001b[39m:\n\u001b[0;32m--> 779\u001b[0m     \u001b[38;5;28;43mself\u001b[39;49m\u001b[38;5;241;43m.\u001b[39;49m\u001b[43m_run_if_created\u001b[49m\u001b[43m(\u001b[49m\u001b[43m)\u001b[49m\n\u001b[1;32m    780\u001b[0m \u001b[38;5;28;01melif\u001b[39;00m status \u001b[38;5;241m==\u001b[39m \u001b[38;5;124m\"\u001b[39m\u001b[38;5;124msubmitted\u001b[39m\u001b[38;5;124m\"\u001b[39m:\n\u001b[1;32m    781\u001b[0m     run_job_with_status_submitted(job\u001b[38;5;241m=\u001b[39m\u001b[38;5;28mself\u001b[39m)\n",
      "File \u001b[0;32m~/miniconda3/envs/pyiron/lib/python3.12/site-packages/pyiron_base/jobs/job/generic.py:1305\u001b[0m, in \u001b[0;36mGenericJob._run_if_created\u001b[0;34m(self)\u001b[0m\n\u001b[1;32m   1296\u001b[0m \u001b[38;5;28;01mdef\u001b[39;00m \u001b[38;5;21m_run_if_created\u001b[39m(\u001b[38;5;28mself\u001b[39m):\n\u001b[1;32m   1297\u001b[0m \u001b[38;5;250m    \u001b[39m\u001b[38;5;124;03m\"\"\"\u001b[39;00m\n\u001b[1;32m   1298\u001b[0m \u001b[38;5;124;03m    Internal helper function the run if created function is called when the job status is 'created'. It executes\u001b[39;00m\n\u001b[1;32m   1299\u001b[0m \u001b[38;5;124;03m    the simulation, either in modal mode, meaning waiting for the simulation to finish, manually, or submits the\u001b[39;00m\n\u001b[0;32m   (...)\u001b[0m\n\u001b[1;32m   1303\u001b[0m \u001b[38;5;124;03m        int: Queue ID - if the job was send to the queue\u001b[39;00m\n\u001b[1;32m   1304\u001b[0m \u001b[38;5;124;03m    \"\"\"\u001b[39;00m\n\u001b[0;32m-> 1305\u001b[0m     \u001b[38;5;28;01mreturn\u001b[39;00m \u001b[43mrun_job_with_status_created\u001b[49m\u001b[43m(\u001b[49m\u001b[43mjob\u001b[49m\u001b[38;5;241;43m=\u001b[39;49m\u001b[38;5;28;43mself\u001b[39;49m\u001b[43m)\u001b[49m\n",
      "File \u001b[0;32m~/miniconda3/envs/pyiron/lib/python3.12/site-packages/pyiron_base/jobs/job/runfunction.py:115\u001b[0m, in \u001b[0;36mrun_job_with_status_created\u001b[0;34m(job)\u001b[0m\n\u001b[1;32m    113\u001b[0m     run_job_with_runmode_manually(job\u001b[38;5;241m=\u001b[39mjob, _manually_print\u001b[38;5;241m=\u001b[39m\u001b[38;5;28;01mTrue\u001b[39;00m)\n\u001b[1;32m    114\u001b[0m \u001b[38;5;28;01melif\u001b[39;00m job\u001b[38;5;241m.\u001b[39mserver\u001b[38;5;241m.\u001b[39mrun_mode\u001b[38;5;241m.\u001b[39mmodal:\n\u001b[0;32m--> 115\u001b[0m     \u001b[43mjob\u001b[49m\u001b[38;5;241;43m.\u001b[39;49m\u001b[43mrun_static\u001b[49m\u001b[43m(\u001b[49m\u001b[43m)\u001b[49m\n\u001b[1;32m    116\u001b[0m \u001b[38;5;28;01melif\u001b[39;00m job\u001b[38;5;241m.\u001b[39mserver\u001b[38;5;241m.\u001b[39mrun_mode\u001b[38;5;241m.\u001b[39msrun:\n\u001b[1;32m    117\u001b[0m     run_job_with_runmode_srun(job\u001b[38;5;241m=\u001b[39mjob)\n",
      "File \u001b[0;32m~/miniconda3/envs/pyiron/lib/python3.12/site-packages/pyiron_base/jobs/job/generic.py:813\u001b[0m, in \u001b[0;36mGenericJob.run_static\u001b[0;34m(self)\u001b[0m\n\u001b[1;32m    809\u001b[0m \u001b[38;5;28;01mdef\u001b[39;00m \u001b[38;5;21mrun_static\u001b[39m(\u001b[38;5;28mself\u001b[39m):\n\u001b[1;32m    810\u001b[0m \u001b[38;5;250m    \u001b[39m\u001b[38;5;124;03m\"\"\"\u001b[39;00m\n\u001b[1;32m    811\u001b[0m \u001b[38;5;124;03m    The run static function is called by run to execute the simulation.\u001b[39;00m\n\u001b[1;32m    812\u001b[0m \u001b[38;5;124;03m    \"\"\"\u001b[39;00m\n\u001b[0;32m--> 813\u001b[0m     \u001b[38;5;28;01mreturn\u001b[39;00m \u001b[43mexecute_job_with_external_executable\u001b[49m\u001b[43m(\u001b[49m\u001b[43mjob\u001b[49m\u001b[38;5;241;43m=\u001b[39;49m\u001b[38;5;28;43mself\u001b[39;49m\u001b[43m)\u001b[49m\n",
      "File \u001b[0;32m~/miniconda3/envs/pyiron/lib/python3.12/site-packages/pyiron_base/jobs/job/runfunction.py:610\u001b[0m, in \u001b[0;36mrun_time_decorator.<locals>.wrapper\u001b[0;34m(job)\u001b[0m\n\u001b[1;32m    608\u001b[0m \u001b[38;5;28;01mif\u001b[39;00m \u001b[38;5;129;01mnot\u001b[39;00m state\u001b[38;5;241m.\u001b[39mdatabase\u001b[38;5;241m.\u001b[39mdatabase_is_disabled \u001b[38;5;129;01mand\u001b[39;00m job\u001b[38;5;241m.\u001b[39mjob_id \u001b[38;5;129;01mis\u001b[39;00m \u001b[38;5;129;01mnot\u001b[39;00m \u001b[38;5;28;01mNone\u001b[39;00m:\n\u001b[1;32m    609\u001b[0m     job\u001b[38;5;241m.\u001b[39mproject\u001b[38;5;241m.\u001b[39mdb\u001b[38;5;241m.\u001b[39mitem_update({\u001b[38;5;124m\"\u001b[39m\u001b[38;5;124mtimestart\u001b[39m\u001b[38;5;124m\"\u001b[39m: datetime\u001b[38;5;241m.\u001b[39mnow()}, job\u001b[38;5;241m.\u001b[39mjob_id)\n\u001b[0;32m--> 610\u001b[0m     output \u001b[38;5;241m=\u001b[39m \u001b[43mfunc\u001b[49m\u001b[43m(\u001b[49m\u001b[43mjob\u001b[49m\u001b[43m)\u001b[49m\n\u001b[1;32m    611\u001b[0m     job\u001b[38;5;241m.\u001b[39mproject\u001b[38;5;241m.\u001b[39mdb\u001b[38;5;241m.\u001b[39mitem_update(job\u001b[38;5;241m.\u001b[39m_runtime(), job\u001b[38;5;241m.\u001b[39mjob_id)\n\u001b[1;32m    612\u001b[0m \u001b[38;5;28;01melse\u001b[39;00m:\n",
      "File \u001b[0;32m~/miniconda3/envs/pyiron/lib/python3.12/site-packages/pyiron_base/jobs/job/runfunction.py:655\u001b[0m, in \u001b[0;36mexecute_job_with_external_executable\u001b[0;34m(job)\u001b[0m\n\u001b[1;32m    644\u001b[0m         out \u001b[38;5;241m=\u001b[39m subprocess\u001b[38;5;241m.\u001b[39mrun(\n\u001b[1;32m    645\u001b[0m             executable,\n\u001b[1;32m    646\u001b[0m             cwd\u001b[38;5;241m=\u001b[39mjob\u001b[38;5;241m.\u001b[39mproject_hdf5\u001b[38;5;241m.\u001b[39mworking_directory,\n\u001b[0;32m   (...)\u001b[0m\n\u001b[1;32m    652\u001b[0m             env\u001b[38;5;241m=\u001b[39mos\u001b[38;5;241m.\u001b[39menviron\u001b[38;5;241m.\u001b[39mcopy(),\n\u001b[1;32m    653\u001b[0m         )\u001b[38;5;241m.\u001b[39mstdout\n\u001b[1;32m    654\u001b[0m     \u001b[38;5;28;01mexcept\u001b[39;00m (subprocess\u001b[38;5;241m.\u001b[39mCalledProcessError, \u001b[38;5;167;01mFileNotFoundError\u001b[39;00m) \u001b[38;5;28;01mas\u001b[39;00m e:\n\u001b[0;32m--> 655\u001b[0m         out, job_crashed \u001b[38;5;241m=\u001b[39m \u001b[43mhandle_failed_job\u001b[49m\u001b[43m(\u001b[49m\u001b[43mjob\u001b[49m\u001b[38;5;241;43m=\u001b[39;49m\u001b[43mjob\u001b[49m\u001b[43m,\u001b[49m\u001b[43m \u001b[49m\u001b[43merror\u001b[49m\u001b[38;5;241;43m=\u001b[39;49m\u001b[43me\u001b[49m\u001b[43m)\u001b[49m\n\u001b[1;32m    656\u001b[0m \u001b[38;5;28;01melse\u001b[39;00m:\n\u001b[1;32m    657\u001b[0m     \u001b[38;5;28;01mimport\u001b[39;00m \u001b[38;5;21;01mconda_subprocess\u001b[39;00m\n",
      "File \u001b[0;32m~/miniconda3/envs/pyiron/lib/python3.12/site-packages/pyiron_base/jobs/job/runfunction.py:734\u001b[0m, in \u001b[0;36mhandle_failed_job\u001b[0;34m(job, error)\u001b[0m\n\u001b[1;32m    732\u001b[0m     \u001b[38;5;28;01mif\u001b[39;00m job\u001b[38;5;241m.\u001b[39mserver\u001b[38;5;241m.\u001b[39mrun_mode\u001b[38;5;241m.\u001b[39mnon_modal:\n\u001b[1;32m    733\u001b[0m         state\u001b[38;5;241m.\u001b[39mdatabase\u001b[38;5;241m.\u001b[39mclose_connection()\n\u001b[0;32m--> 734\u001b[0m     \u001b[38;5;28;01mraise\u001b[39;00m \u001b[38;5;167;01mRuntimeError\u001b[39;00m(\u001b[38;5;124m\"\u001b[39m\u001b[38;5;124mJob aborted\u001b[39m\u001b[38;5;124m\"\u001b[39m)\n\u001b[1;32m    735\u001b[0m \u001b[38;5;28;01melse\u001b[39;00m:\n\u001b[1;32m    736\u001b[0m     \u001b[38;5;28;01mreturn\u001b[39;00m \u001b[38;5;28;01mTrue\u001b[39;00m, out\n",
      "\u001b[0;31mRuntimeError\u001b[0m: Job aborted"
     ]
    }
   ],
   "source": [
    "BM = []\n",
    "N = []\n",
    "\n",
    "for i in range(len(list)):\n",
    "    j = pr.create.job.Lammps(f'optimize{i}', delete_existing_job=True)\n",
    "    j.structure = Fe_sc\n",
    "    j.potential = list[i]\n",
    "    j.calc_minimize(n_print=10, pressure=0.0)\n",
    "    j.run(delete_existing_job=True)\n",
    "    opted_structure = j.get_final_structure()\n",
    "\n",
    "    job = pr.create.job.Lammps(f'potentials{i}', delete_existing_job=True)\n",
    "    job.structure = opted_structure\n",
    "    job.potential = list[i]\n",
    "    murn = job.create_job('Murnaghan', f\"FeMurn{i}\", delete_existing_job=True)\n",
    "    murn.run(delete_existing_job=True)\n",
    "    \n",
    "    bm = murn.fit_birch_murnaghan()['bulkmodul_eq']\n",
    "    BM.append(bm)\n",
    "    N.append(i)"
   ]
  },
  {
   "cell_type": "code",
   "execution_count": 18,
   "id": "18308319-a667-4491-8f9a-393105122c87",
   "metadata": {},
   "outputs": [
    {
     "data": {
      "text/plain": [
       "<matplotlib.collections.PathCollection at 0x7e76a75f53d0>"
      ]
     },
     "execution_count": 18,
     "metadata": {},
     "output_type": "execute_result"
    },
    {
     "data": {
      "image/png": "[encoded data removed]",
      "text/plain": [
       "<Figure size 640x480 with 1 Axes>"
      ]
     },
     "metadata": {},
     "output_type": "display_data"
    }
   ],
   "source": [
    "plt.scatter(N, BM)"
   ]
  },
  {
   "cell_type": "code",
   "execution_count": 19,
   "id": "3873d4f2-1d57-4969-98b5-5c7210c4d439",
   "metadata": {},
   "outputs": [
    {
     "data": {
      "text/plain": [
       "[188.9110326085164,\n",
       " 322.25365633552576,\n",
       " 172.75009599145034,\n",
       " 172.4707066410101,\n",
       " 173.0183964561872,\n",
       " 175.69713227249144,\n",
       " 173.98237252514932,\n",
       " 166.0556266747708,\n",
       " 172.4707066680587,\n",
       " 173.98238867559684,\n",
       " 180.17923689054888,\n",
       " 172.76146264504067,\n",
       " 172.75009596466808,\n",
       " 172.75009596466808,\n",
       " 172.75009596466808,\n",
       " 173.98237252514932,\n",
       " 173.9823867752704,\n",
       " 172.4707066680587,\n",
       " 172.76146274038814,\n",
       " 173.01839644328447,\n",
       " 173.01839644328447,\n",
       " 172.7614627134257,\n",
       " 172.75009596466808,\n",
       " 168.79273130792026,\n",
       " 173.0184368618566,\n",
       " 172.76146282317984,\n",
       " 172.4707066410101,\n",
       " 174.1156964360702]"
      ]
     },
     "execution_count": 19,
     "metadata": {},
     "output_type": "execute_result"
    }
   ],
   "source": [
    "BM"
   ]
  },
  {
   "cell_type": "code",
   "execution_count": 33,
   "id": "1b285179-38c8-4209-ac8a-3b4e5b7003ff",
   "metadata": {},
   "outputs": [
    {
     "data": {
      "text/plain": [
       "['1997--Ackland-G-J--Fe--LAMMPS--ipr1',\n",
       " '1998--Meyer-R--Fe--LAMMPS--ipr1',\n",
       " '2001--Lee-B-J--Fe--LAMMPS--ipr1',\n",
       " '2001--Lee-B-J--Fe-Cr--LAMMPS--ipr1',\n",
       " '2003--Mendelev-M-I--Fe-2--LAMMPS--ipr3',\n",
       " '2003--Mendelev-M-I--Fe-5--LAMMPS--ipr1',\n",
       " '2004--Ackland-G-J--Fe-P--LAMMPS--ipr1',\n",
       " '2004--Zhou-X-W--Fe--LAMMPS--ipr2',\n",
       " '2005--Lee-B-J--Fe-Cu--LAMMPS--ipr1',\n",
       " '2005--Mendelev-M-I--Al-Fe--LAMMPS--ipr1',\n",
       " '2006--Chamati-H--Fe--LAMMPS--ipr1',\n",
       " '2006--Kim-J--Fe-Pt--LAMMPS--ipr1',\n",
       " '2006--Lee-B-J--Fe-C--LAMMPS--ipr1',\n",
       " '2006--Lee-B-J--Fe-N--LAMMPS--ipr1',\n",
       " '2007--Lee-B-J--Fe-H--LAMMPS--ipr1',\n",
       " '2007--Mendelev-M-I--V-Fe--LAMMPS--ipr1',\n",
       " '2008--Hepburn-D-J--Fe-C--LAMMPS--ipr1',\n",
       " '2008--Sa-I--Fe-Nb--LAMMPS--ipr1',\n",
       " '2008--Sa-I--Fe-Ti--LAMMPS--ipr1',\n",
       " '2009--Bonny-G--Fe-Cu-Ni--LAMMPS--ipr1',\n",
       " '2009--Bonny-G--Fe-Ni--LAMMPS--ipr1',\n",
       " '2009--Kim-H-K--Fe-Ti-C--LAMMPS--ipr2',\n",
       " '2009--Kim-Y-M--Fe-Mn--LAMMPS--ipr1',\n",
       " '2009--Olsson-P-A-T--Fe--LAMMPS--ipr1',\n",
       " '2009--Stukowski-A--Fe-Cr--LAMMPS--ipr1',\n",
       " '2010--Kim-H-K--Fe-Nb-C--LAMMPS--ipr1',\n",
       " '2010--Lee-E--Fe-Al--LAMMPS--ipr1',\n",
       " '2010--Malerba-L--Fe--LAMMPS--ipr1',\n",
       " '2011--Bonny-G--Fe-Cr--LAMMPS--ipr2',\n",
       " '2011--Bonny-G--Fe-Cr--LAMMPS--ipr3',\n",
       " '2011--Bonny-G--Fe-Ni-Cr--LAMMPS--ipr1',\n",
       " '2011--Bonny-G--Fe-Ni-Cr--LAMMPS--ipr2',\n",
       " '2011--Chiesa-S--Fe-33--LAMMPS--ipr1',\n",
       " '2012--Jelinek-B--Al-Si-Mg-Cu-Fe--LAMMPS--ipr2',\n",
       " '2012--Ko-W-S--Fe-P--LAMMPS--ipr1',\n",
       " '2012--Proville-L--Fe--LAMMPS--ipr1',\n",
       " '2013--Bonny-G--Fe-Cr-W--LAMMPS--ipr2',\n",
       " '2013--Bonny-G--Fe-Cr-W--LAMMPS--ipr3',\n",
       " '2013--Bonny-G--Fe-Ni-Cr--LAMMPS--ipr1',\n",
       " '2013--Bonny-G--Fe-W--LAMMPS--ipr1',\n",
       " '2013--Henriksson-K-O-E--Fe-C--LAMMPS--ipr1',\n",
       " '2014--Liyanage-L-S-I--Fe-C--LAMMPS--ipr2',\n",
       " '2015--Asadi-E--Fe--LAMMPS--ipr1',\n",
       " '2015--Eich-S-M--Fe-Cr--LAMMPS--ipr1',\n",
       " '2017--Beland-L-K--Fe-Ni-Cr--LAMMPS--ipr1',\n",
       " '2017--Choi-W-M--Co-Fe--LAMMPS--ipr1',\n",
       " '2017--Wu-C--Ni-Cr-Fe--LAMMPS--ipr1',\n",
       " '2017--Wu-C--Ni-Fe--LAMMPS--ipr1',\n",
       " '2018--Choi-W-M--Co-Ni-Cr-Fe-Mn--LAMMPS--ipr1',\n",
       " '2018--Etesami-S-A--Fe--LAMMPS--ipr1',\n",
       " '2018--Farkas-D--Fe-Ni-Cr-Co-Cu--LAMMPS--ipr2',\n",
       " '2018--Jeong-G-U--Pd-Fe--LAMMPS--ipr1',\n",
       " '2018--Zhou-X-W--Fe-Ni-Cr--LAMMPS--ipr1',\n",
       " '2018--Zhou-X-W--Fe-Ni-Cr--LAMMPS--ipr2',\n",
       " '2019--Aslam-I--Fe-Mn-Si-C--LAMMPS--ipr1',\n",
       " '2019--Byggmastar-J--Fe-O--LAMMPS--ipr1',\n",
       " '2019--Mendelev-M-I--Fe-Ni-Cr--LAMMPS--ipr1',\n",
       " '2020--Byggmastar-J--Fe--LAMMPS--ipr1',\n",
       " '2020--Farkas-D--Fe-Ni-Cr-Co-Al--LAMMPS--ipr1',\n",
       " '2020--Groger-R--Co-Cr-Fe-Mn-Ni--LAMMPS--ipr1',\n",
       " '2020--Mori-H--Fe--LAMMPS--ipr1',\n",
       " '2021--Deluigi-O-R--Fe-Ni-Cr-Co-Cu--LAMMPS--ipr1',\n",
       " '2021--Starikov-S--Fe--LAMMPS--ipr1',\n",
       " '2021--Starikov-S--Fe--LAMMPS--ipr2',\n",
       " '2021--Wen-M--Fe-H--LAMMPS--ipr1',\n",
       " '2022--Allera-A--Fe-C--LAMMPS--ipr1',\n",
       " '2022--Mahata-A--Al-Fe--LAMMPS--ipr1',\n",
       " '2022--Starikov-S--Fe-Cr-H--LAMMPS--ipr1',\n",
       " '2022--Sun-Y--Fe--LAMMPS--ipr1',\n",
       " '2023--Jana-R--Fe--LAMMPS--ipr1',\n",
       " '2023--Kumar-P--Fe-H--LAMMPS--ipr1',\n",
       " '2023--Tramontina-D-R--Fe-Cu-Ni--LAMMPS--ipr1',\n",
       " 'EAM_Dynamo_AcklandBaconCalder_1997_Fe__MO_142799717516_005',\n",
       " 'EAM_Dynamo_AcklandMendelevSrolovitz_2004_FeP__MO_884343146310_005',\n",
       " 'EAM_Dynamo_BonnyCastinBullens_2013_FeW__MO_737567242631_000',\n",
       " 'EAM_Dynamo_BonnyCastinTerentyev_2013_FeNiCr__MO_763197941039_000',\n",
       " 'EAM_Dynamo_BonnyPasianotCastin_2009_FeCuNi__MO_469343973171_005',\n",
       " 'EAM_Dynamo_BonnyPasianotMalerba_2009_FeNi__MO_267721408934_005',\n",
       " 'EAM_Dynamo_ChamatiPapanicolaouMishin_2006_Fe__MO_960699513424_000',\n",
       " 'EAM_Dynamo_HepburnAckland_2008_FeC__MO_143977152728_005',\n",
       " 'EAM_Dynamo_Marinica_2007_Fe__MO_466808877130_000',\n",
       " 'EAM_Dynamo_Marinica_2011_Fe__MO_255315407910_000',\n",
       " 'EAM_Dynamo_MendelevBorovikov_2020_FeNiCr__MO_922363340570_000',\n",
       " 'EAM_Dynamo_MendelevHanSon_2007_VFe__MO_249706810527_005',\n",
       " 'EAM_Dynamo_MendelevHanSrolovitz_2003Potential2_Fe__MO_769582363439_005',\n",
       " 'EAM_Dynamo_MendelevHanSrolovitz_2003Potential5_Fe__MO_942420706858_005',\n",
       " 'EAM_Dynamo_MendelevHanSrolovitz_2003_Fe__MO_807997826449_000',\n",
       " 'EAM_Dynamo_MendelevSrolovitzAckland_2005_AlFe__MO_577453891941_005',\n",
       " 'EAM_Dynamo_Mendelev_2003_Fe__MO_546673549085_000',\n",
       " 'EAM_Dynamo_ZhouJohnsonWadley_2004NISTretabulation_Fe__MO_681088298208_000',\n",
       " 'EAM_Dynamo_ZhouJohnsonWadley_2004_Fe__MO_650279905230_005',\n",
       " 'EAM_Magnetic2GQuintic_ChiesaDerletDudarev_2011_Fe__MO_140444321607_002',\n",
       " 'EAM_MagneticCubic_DudarevDerlet_2005_Fe__MO_135034229282_002',\n",
       " 'EAM_MagneticCubic_MendelevHanSrolovitz_2003_Fe__MO_856295952425_002',\n",
       " 'MEAM_LAMMPS_AsadiZaeemNouranian_2015_Fe__MO_492310898779_000',\n",
       " 'MEAM_LAMMPS_ChoiJoSohn_2018_CoNiCrFeMn__MO_115454747503_000',\n",
       " 'MEAM_LAMMPS_ChoiKimSeol_2017_CoFe__MO_179158257180_000',\n",
       " 'MEAM_LAMMPS_EtesamiAsadi_2018_Fe__MO_549900287421_000',\n",
       " 'MEAM_LAMMPS_JelinekGrohHorstemeyer_2012_AlSiMgCuFe__MO_262519520678_000',\n",
       " 'MEAM_LAMMPS_JeongParkDo_2018_PdFe__MO_924736622203_000',\n",
       " 'MEAM_LAMMPS_KimJungLee_2009_FeTiC__MO_110119204723_000',\n",
       " 'MEAM_LAMMPS_KimJungLee_2010_FeNbC__MO_072689718616_000',\n",
       " 'MEAM_LAMMPS_KimLee_2006_PtFe__MO_343168101490_000',\n",
       " 'MEAM_LAMMPS_KimShinLee_2009_FeMn__MO_058735400462_000',\n",
       " 'MEAM_LAMMPS_KoJimLee_2012_FeP__MO_179420363944_000',\n",
       " 'MEAM_LAMMPS_LeeJang_2007_FeH__MO_095610951957_000',\n",
       " 'MEAM_LAMMPS_LeeLeeKim_2006_FeN__MO_432861766738_000',\n",
       " 'MEAM_LAMMPS_LeeLee_2010_FeAl__MO_332211522050_000',\n",
       " 'MEAM_LAMMPS_LeeWirthShim_2005_FeCu__MO_063626065437_000',\n",
       " 'MEAM_LAMMPS_Lee_2006_FeC__MO_856956178669_000',\n",
       " 'MEAM_LAMMPS_LiyanageKimHouze_2014_FeC__MO_075279800195_000',\n",
       " 'MEAM_LAMMPS_SaLee_2008_FeTi__MO_260546967793_000',\n",
       " 'MEAM_LAMMPS_SaLee_2008_NbFe__MO_162036141261_000',\n",
       " 'MEAM_LAMMPS_WuLeeSu_2017_NiCrFe__MO_912636107108_000',\n",
       " 'MEAM_LAMMPS_WuLeeSu_2017_NiFe__MO_321233176498_000',\n",
       " 'MJ_MorrisAgaLevashov_2008_Fe__MO_857282754307_003',\n",
       " 'Morse_Shifted_GirifalcoWeizer_1959HighCutoff_Fe__MO_147603128437_004',\n",
       " 'Morse_Shifted_GirifalcoWeizer_1959LowCutoff_Fe__MO_331285495617_004',\n",
       " 'Morse_Shifted_GirifalcoWeizer_1959MedCutoff_Fe__MO_984358344196_004',\n",
       " 'Tersoff_LAMMPS_MuellerErhartAlbe_2007_Fe__MO_137964310702_003',\n",
       " 'Sim_LAMMPS_EAMCD_StukowskiSadighErhart_2009_FeCr__SM_775564499513_000',\n",
       " 'Sim_LAMMPS_EAM_BonnyCastinBullens_2013_FeCrW__SM_699257350704_000',\n",
       " 'Sim_LAMMPS_EAM_BonnyPasianotTerentyev_2011_FeCr__SM_237089298463_000',\n",
       " 'Sim_LAMMPS_MEAM_AsadiZaeemNouranian_2015_Fe__SM_042630680993_000',\n",
       " 'Sim_LAMMPS_MEAM_EtesamiAsadi_2018_Fe__SM_267016608755_000',\n",
       " 'Sim_LAMMPS_MEAM_JelinekGrohHorstemeyer_2012_AlSiMgCuFe__SM_656517352485_000',\n",
       " 'Sim_LAMMPS_MEAM_KimJungLee_2009_FeTiC__SM_531038274471_000',\n",
       " 'Sim_LAMMPS_MEAM_LiyanageKimHouze_2014_FeC__SM_652425777808_000',\n",
       " 'Sim_LAMMPS_ReaxFF_AryanpourVanDuinKubicki_2010_FeHO__SM_222964216001_001',\n",
       " 'Sim_LAMMPS_TersoffZBL_ByggmastarGranberg_2020_Fe__SM_958863895234_000',\n",
       " 'Sim_LAMMPS_TersoffZBL_HenrikssonBjorkasNordlund_2013_FeC__SM_473463498269_000']"
      ]
     },
     "execution_count": 33,
     "metadata": {},
     "output_type": "execute_result"
    }
   ],
   "source": [
    "job_opt.list_potentials()"
   ]
  },
  {
   "cell_type": "code",
   "execution_count": null,
   "id": "d4fed10f-d5b5-4e47-8e55-02b837578966",
   "metadata": {},
   "outputs": [],
   "source": []
  },
  {
   "cell_type": "code",
   "execution_count": 31,
   "id": "7d4bd631-72b4-4bfd-8df9-8f61ee4876ac",
   "metadata": {},
   "outputs": [],
   "source": [
    "import ase.io"
   ]
  },
  {
   "cell_type": "code",
   "execution_count": 34,
   "id": "ac2ebc96-0be1-42a1-a013-d243a424fe97",
   "metadata": {},
   "outputs": [
    {
     "data": {
      "text/plain": [
       "\u001b[0;31mSignature:\u001b[0m\n",
       "\u001b[0mase\u001b[0m\u001b[0;34m.\u001b[0m\u001b[0mio\u001b[0m\u001b[0;34m.\u001b[0m\u001b[0mwrite\u001b[0m\u001b[0;34m(\u001b[0m\u001b[0;34m\u001b[0m\n",
       "\u001b[0;34m\u001b[0m    \u001b[0mfilename\u001b[0m\u001b[0;34m:\u001b[0m \u001b[0mUnion\u001b[0m\u001b[0;34m[\u001b[0m\u001b[0mstr\u001b[0m\u001b[0;34m,\u001b[0m \u001b[0mpathlib\u001b[0m\u001b[0;34m.\u001b[0m\u001b[0mPurePath\u001b[0m\u001b[0;34m,\u001b[0m \u001b[0mIO\u001b[0m\u001b[0;34m]\u001b[0m\u001b[0;34m,\u001b[0m\u001b[0;34m\u001b[0m\n",
       "\u001b[0;34m\u001b[0m    \u001b[0mimages\u001b[0m\u001b[0;34m:\u001b[0m \u001b[0mUnion\u001b[0m\u001b[0;34m[\u001b[0m\u001b[0mase\u001b[0m\u001b[0;34m.\u001b[0m\u001b[0matoms\u001b[0m\u001b[0;34m.\u001b[0m\u001b[0mAtoms\u001b[0m\u001b[0;34m,\u001b[0m \u001b[0mSequence\u001b[0m\u001b[0;34m[\u001b[0m\u001b[0mase\u001b[0m\u001b[0;34m.\u001b[0m\u001b[0matoms\u001b[0m\u001b[0;34m.\u001b[0m\u001b[0mAtoms\u001b[0m\u001b[0;34m]\u001b[0m\u001b[0;34m]\u001b[0m\u001b[0;34m,\u001b[0m\u001b[0;34m\u001b[0m\n",
       "\u001b[0;34m\u001b[0m    \u001b[0mformat\u001b[0m\u001b[0;34m:\u001b[0m \u001b[0mstr\u001b[0m \u001b[0;34m=\u001b[0m \u001b[0;32mNone\u001b[0m\u001b[0;34m,\u001b[0m\u001b[0;34m\u001b[0m\n",
       "\u001b[0;34m\u001b[0m    \u001b[0mparallel\u001b[0m\u001b[0;34m:\u001b[0m \u001b[0mbool\u001b[0m \u001b[0;34m=\u001b[0m \u001b[0;32mTrue\u001b[0m\u001b[0;34m,\u001b[0m\u001b[0;34m\u001b[0m\n",
       "\u001b[0;34m\u001b[0m    \u001b[0mappend\u001b[0m\u001b[0;34m:\u001b[0m \u001b[0mbool\u001b[0m \u001b[0;34m=\u001b[0m \u001b[0;32mFalse\u001b[0m\u001b[0;34m,\u001b[0m\u001b[0;34m\u001b[0m\n",
       "\u001b[0;34m\u001b[0m    \u001b[0;34m**\u001b[0m\u001b[0mkwargs\u001b[0m\u001b[0;34m:\u001b[0m \u001b[0mdict\u001b[0m\u001b[0;34m,\u001b[0m\u001b[0;34m\u001b[0m\n",
       "\u001b[0;34m\u001b[0m\u001b[0;34m)\u001b[0m \u001b[0;34m->\u001b[0m \u001b[0;32mNone\u001b[0m\u001b[0;34m\u001b[0m\u001b[0;34m\u001b[0m\u001b[0m\n",
       "\u001b[0;31mDocstring:\u001b[0m\n",
       "Write Atoms object(s) to file.\n",
       "\n",
       "filename: str or file\n",
       "    Name of the file to write to or a file descriptor.  The name '-'\n",
       "    means standard output.\n",
       "images: Atoms object or list of Atoms objects\n",
       "    A single Atoms object or a list of Atoms objects.\n",
       "format: str\n",
       "    Used to specify the file-format.  If not given, the\n",
       "    file-format will be taken from suffix of the filename.\n",
       "parallel: bool\n",
       "    Default is to write on master only.  Use parallel=False to write\n",
       "    from all slaves.\n",
       "append: bool\n",
       "    Default is to open files in 'w' or 'wb' mode, overwriting\n",
       "    existing files.  In some cases opening the file in 'a' or 'ab'\n",
       "    mode (appending) is useful,\n",
       "    e.g. writing trajectories or saving multiple Atoms objects in one file.\n",
       "    WARNING: If the file format does not support multiple entries without\n",
       "    additional keywords/headers, files created using 'append=True'\n",
       "    might not be readable by any program! They will nevertheless be\n",
       "    written without error message.\n",
       "\n",
       "The use of additional keywords is format specific. write() may\n",
       "return an object after writing certain formats, but this behaviour\n",
       "may change in the future.\n",
       "\u001b[0;31mFile:\u001b[0m      ~/miniconda3/envs/pyiron/lib/python3.12/site-packages/ase/io/formats.py\n",
       "\u001b[0;31mType:\u001b[0m      function"
      ]
     },
     "metadata": {},
     "output_type": "display_data"
    }
   ],
   "source": [
    "ase.io.write?"
   ]
  },
  {
   "cell_type": "code",
   "execution_count": 35,
   "id": "957ab365-0e75-4dbe-a8ca-79dfee7cf37f",
   "metadata": {},
   "outputs": [],
   "source": [
    "ase.io.write(filename='Fe', images=Fe_p, format='cif')"
   ]
  },
  {
   "cell_type": "code",
   "execution_count": 36,
   "id": "3a2e98ca-664c-4fce-9349-337d8ed9e5e1",
   "metadata": {},
   "outputs": [],
   "source": [
    "Fe_final = job_opt.get_structure(-1)"
   ]
  },
  {
   "cell_type": "code",
   "execution_count": 37,
   "id": "0f003258-fe41-4fe8-8883-ce6d343c66e5",
   "metadata": {
    "scrolled": true
   },
   "outputs": [
    {
     "data": {
      "text/plain": [
       "Fe: [0. 0. 0.]\n",
       "Fe: [1.43325 1.43325 1.43325]\n",
       "tags: \n",
       "    indices: [0 0]\n",
       "pbc: [ True  True  True]\n",
       "cell: \n",
       "Cell([[2.866499999891875, 1.7552250248117367e-16, 1.7552250248117367e-16], [0.0, 2.866499999891875, 1.7552250248117362e-16], [0.0, 0.0, 2.866499999891875]])"
      ]
     },
     "execution_count": 37,
     "metadata": {},
     "output_type": "execute_result"
    }
   ],
   "source": [
    "Fe_final"
   ]
  },
  {
   "cell_type": "code",
   "execution_count": 39,
   "id": "0f33f707-a35b-49f0-b4c3-3b1dbcb8ade3",
   "metadata": {},
   "outputs": [],
   "source": [
    "import pyiron.atomistics.structure.atoms as pta"
   ]
  },
  {
   "cell_type": "code",
   "execution_count": 40,
   "id": "874b2d54-1b08-4c20-a386-ccfcd4bfc700",
   "metadata": {},
   "outputs": [],
   "source": [
    "Fe_2 = pta.pyiron_to_ase(Fe_final)"
   ]
  },
  {
   "cell_type": "code",
   "execution_count": 41,
   "id": "c325fa03-81c3-4e65-b82b-734e1c08a380",
   "metadata": {},
   "outputs": [
    {
     "data": {
      "text/plain": [
       "Atoms(symbols='Fe2', pbc=True, cell=[[2.866499999891875, 1.7552250248117367e-16, 1.7552250248117367e-16], [0.0, 2.866499999891875, 1.7552250248117362e-16], [0.0, 0.0, 2.866499999891875]])"
      ]
     },
     "execution_count": 41,
     "metadata": {},
     "output_type": "execute_result"
    }
   ],
   "source": [
    "Fe_2"
   ]
  },
  {
   "cell_type": "code",
   "execution_count": 42,
   "id": "5901feed-7190-4bc7-92e5-8faa6d565a3e",
   "metadata": {},
   "outputs": [],
   "source": [
    "ase.io.write('Fe_2.cif', Fe_2)"
   ]
  },
  {
   "cell_type": "code",
   "execution_count": 47,
   "id": "5291d232-fcec-4e16-be6d-806ee293b374",
   "metadata": {},
   "outputs": [],
   "source": [
    "Fe_2 = Fe_2.repeat([4,4,4])"
   ]
  },
  {
   "cell_type": "code",
   "execution_count": 48,
   "id": "b6d1dcd9-4c4c-4db2-bb04-0665e5469c39",
   "metadata": {},
   "outputs": [
    {
     "data": {
      "text/plain": [
       "<Popen: returncode: None args: ['/home/gu.huang/miniconda3/envs/pyiron/bin/p...>"
      ]
     },
     "execution_count": 48,
     "metadata": {},
     "output_type": "execute_result"
    }
   ],
   "source": [
    "from ase.visualize import view\n",
    "view(Fe_2)"
   ]
  },
  {
   "cell_type": "code",
   "execution_count": 51,
   "id": "79f825e9-0220-4cd1-9e9d-c4406a1cb42a",
   "metadata": {},
   "outputs": [],
   "source": [
    "ase.io.write('Fe_sc.cif', Fe_2)"
   ]
  },
  {
   "cell_type": "code",
   "execution_count": 50,
   "id": "a4e27cb2-0f8d-4518-832e-0bc27801aafa",
   "metadata": {},
   "outputs": [
    {
     "data": {
      "text/plain": [
       "Atoms(symbols='Fe128', pbc=True, cell=[[11.4659999995675, 7.020900099246947e-16, 7.020900099246947e-16], [0.0, 11.4659999995675, 7.020900099246945e-16], [0.0, 0.0, 11.4659999995675]])"
      ]
     },
     "execution_count": 50,
     "metadata": {},
     "output_type": "execute_result"
    }
   ],
   "source": [
    "Fe_2"
   ]
  },
  {
   "cell_type": "code",
   "execution_count": null,
   "id": "88092601-fb18-4f5a-b4cf-98a6e69a1e05",
   "metadata": {},
   "outputs": [],
   "source": [
    "Fe"
   ]
  },
  {
   "cell_type": "code",
   "execution_count": null,
   "id": "4cfd8738-6047-450d-9c53-1714e301539e",
   "metadata": {},
   "outputs": [],
   "source": []
  },
  {
   "cell_type": "code",
   "execution_count": 57,
   "id": "9e2848a2-d6eb-43be-9009-7da77a82c410",
   "metadata": {},
   "outputs": [],
   "source": [
    "from ase.build import bulk\n",
    "import ase.visualize"
   ]
  },
  {
   "cell_type": "code",
   "execution_count": 59,
   "id": "c18420e2-4eff-478c-9018-eadedbdf99fb",
   "metadata": {},
   "outputs": [],
   "source": [
    "atoms = bulk('W', cubic=True)"
   ]
  },
  {
   "cell_type": "code",
   "execution_count": 60,
   "id": "6ca36ee5-a6a0-4067-ac09-6d66720bb70a",
   "metadata": {},
   "outputs": [
    {
     "data": {
      "text/plain": [
       "<Popen: returncode: None args: ['/home/gu.huang/miniconda3/envs/pyiron/bin/p...>"
      ]
     },
     "execution_count": 60,
     "metadata": {},
     "output_type": "execute_result"
    }
   ],
   "source": [
    "ase.visualize.view(atoms)"
   ]
  },
  {
   "cell_type": "code",
   "execution_count": null,
   "id": "46a7e69c-fcf1-4527-b1d0-95ba3eb07346",
   "metadata": {},
   "outputs": [],
   "source": []
  }
 ],
 "metadata": {
  "kernelspec": {
   "display_name": "Python 3 (ipykernel)",
   "language": "python",
   "name": "python3"
  },
  "language_info": {
   "codemirror_mode": {
    "name": "ipython",
    "version": 3
   },
   "file_extension": ".py",
   "mimetype": "text/x-python",
   "name": "python",
   "nbconvert_exporter": "python",
   "pygments_lexer": "ipython3",
   "version": "3.12.3"
  }
 },
 "nbformat": 4,
 "nbformat_minor": 5
}
