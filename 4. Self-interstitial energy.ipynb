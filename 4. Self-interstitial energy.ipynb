{
 "cells": [
  {
   "cell_type": "markdown",
   "id": "bb0e306f-904b-4a99-8eca-4f5925f899a2",
   "metadata": {},
   "source": [
    "### Self-interstitial energy\n",
    "$$E^f = E[n+1] - E[n] - E_{atom}$$\n",
    "$$E^f = E[n] - \\frac{n}{n+1}E[n+1]$$"
   ]
  },
  {
   "cell_type": "code",
   "execution_count": 1,
   "id": "6f28e33c-adc0-4884-96b0-aaab829d2311",
   "metadata": {},
   "outputs": [
    {
     "data": {
      "application/vnd.jupyter.widget-view+json": {
       "model_id": "0e12f62f86624794a4413c7e7b59bfa1",
       "version_major": 2,
       "version_minor": 0
      },
      "text/plain": []
     },
     "metadata": {},
     "output_type": "display_data"
    }
   ],
   "source": [
    "from pyiron import Project\n",
    "import numpy as np\n",
    "import matplotlib.pylab as plt"
   ]
  },
  {
   "cell_type": "code",
   "execution_count": 2,
   "id": "4b613896-556f-43b5-92ea-40de8128bfb5",
   "metadata": {},
   "outputs": [],
   "source": [
    "potential =  'FeH-NNIP'"
   ]
  },
  {
   "cell_type": "markdown",
   "id": "72c49995-2280-4847-80a9-99174f8528fc",
   "metadata": {},
   "source": [
    "$E^f_{i-O}$: self interstial atom in octahedral site"
   ]
  },
  {
   "cell_type": "code",
   "execution_count": 3,
   "id": "8f1c14c0-971e-47b4-af0b-a3c80f8105ef",
   "metadata": {},
   "outputs": [],
   "source": [
    "pr = Project('Self-interstitial')"
   ]
  },
  {
   "cell_type": "code",
   "execution_count": 4,
   "id": "50deb183-7bf3-40f8-bdf2-e72b4e437f05",
   "metadata": {},
   "outputs": [],
   "source": [
    "E = []"
   ]
  },
  {
   "cell_type": "code",
   "execution_count": 5,
   "id": "dfd51a13-fd48-46a7-991e-34f339403dca",
   "metadata": {},
   "outputs": [
    {
     "name": "stdout",
     "output_type": "stream",
     "text": [
      "The job minimise was saved and received the ID: 10161\n"
     ]
    }
   ],
   "source": [
    "# build supercell, relax, calculate energy\n",
    "job = pr.create.job.Lammps('minimise', delete_existing_job=True)\n",
    "sc = pr.create.structure.bulk('Fe', crystalstructure='bcc', cubic=True).repeat([4,4,4])\n",
    "job.structure = sc\n",
    "job.potential = potential\n",
    "job.calc_minimize(pressure=0.0)\n",
    "job.run(delete_existing_job=True)\n",
    "E_sc = job.output.energy_tot[-1]\n",
    "structure = job.get_structure(frame=-1)"
   ]
  },
  {
   "cell_type": "code",
   "execution_count": 6,
   "id": "6bd0068e-1c5b-433c-9a04-f39fd7e84575",
   "metadata": {},
   "outputs": [
    {
     "data": {
      "application/vnd.jupyter.widget-view+json": {
       "model_id": "cbd044046c964866a0ec640e22dd0aae",
       "version_major": 2,
       "version_minor": 0
      },
      "text/plain": [
       "NGLWidget()"
      ]
     },
     "metadata": {},
     "output_type": "display_data"
    }
   ],
   "source": [
    "# add Fe atom\n",
    "cell = structure.get_cell()\n",
    "adatom = pr.create.structure.atoms(['Fe'], [(2.83/4*6, 2.83/4*8, 2.83/4*6)], cell=cell)\n",
    "\n",
    "structure_1 = structure.copy()\n",
    "structure_1 += adatom\n",
    "structure_1.plot3d()"
   ]
  },
  {
   "cell_type": "code",
   "execution_count": 7,
   "id": "84303a7f-8be4-4a39-b90f-1015cbe935f3",
   "metadata": {},
   "outputs": [
    {
     "name": "stdout",
     "output_type": "stream",
     "text": [
      "The job self was saved and received the ID: 10162\n"
     ]
    }
   ],
   "source": [
    "# calculate energy\n",
    "job_1 = pr.create.job.Lammps('self', delete_existing_job=True)\n",
    "job_1.structure = structure_1\n",
    "job_1.potential = potential\n",
    "job_1.calc_minimize()\n",
    "job_1.run(delete_existing_job=True)"
   ]
  },
  {
   "cell_type": "code",
   "execution_count": 8,
   "id": "e5f831ce-3b2d-4a98-83d7-4c04436682b8",
   "metadata": {},
   "outputs": [
    {
     "data": {
      "text/plain": [
       "-4.1134268061373405"
      ]
     },
     "execution_count": 8,
     "metadata": {},
     "output_type": "execute_result"
    }
   ],
   "source": [
    "E_selfo = job_1.output.energy_tot[-1]\n",
    "E1 = E_sc - len(structure)/len(structure_1)*E_selfo\n",
    "E.append(-E1)\n",
    "E1"
   ]
  },
  {
   "cell_type": "markdown",
   "id": "6b65f40a-75bf-40a9-b75b-f546e93de49f",
   "metadata": {},
   "source": [
    "$E^f_{i-T}$: self interstial atom in tetrahedral site"
   ]
  },
  {
   "cell_type": "code",
   "execution_count": 9,
   "id": "6210e3e5-854b-49fc-987f-6164dc12874c",
   "metadata": {},
   "outputs": [],
   "source": [
    "# add Fe atom\n",
    "cell = structure.get_cell()\n",
    "adatom = pr.create.structure.atoms(['Fe'], [(2.83/4*6, 2.83/4*8, 2.83/4*6-2.83/4)], cell=cell)\n",
    "\n",
    "structure_2 = structure.copy()\n",
    "structure_2 += adatom\n",
    "# structure_2.plot3d()"
   ]
  },
  {
   "cell_type": "code",
   "execution_count": 10,
   "id": "c3cd0b8a-5cd9-4809-966a-af0b04028d93",
   "metadata": {},
   "outputs": [
    {
     "name": "stdout",
     "output_type": "stream",
     "text": [
      "The job self2 was saved and received the ID: 10163\n"
     ]
    },
    {
     "data": {
      "text/plain": [
       "-4.1134268061373405"
      ]
     },
     "execution_count": 10,
     "metadata": {},
     "output_type": "execute_result"
    }
   ],
   "source": [
    "job_2 = pr.create.job.Lammps('self2', delete_existing_job=True)\n",
    "job_2.structure = structure_2\n",
    "job_2.potential = potential\n",
    "job_2.calc_minimize()\n",
    "job_2.run(delete_existing_job=True)\n",
    "\n",
    "E_selft = job_1.output.energy_tot[-1]\n",
    "E2 = E_sc - len(structure)/len(structure_1)*E_selft\n",
    "E.append(-E2)\n",
    "E2"
   ]
  },
  {
   "cell_type": "markdown",
   "id": "b0d09904-527e-43f1-bd33-022f8776e810",
   "metadata": {},
   "source": [
    "$E^f_{i-[110]}$ ~ dumbbells configuration"
   ]
  },
  {
   "cell_type": "code",
   "execution_count": 11,
   "id": "451816ed-1340-46b0-88e3-5b195c0f3392",
   "metadata": {},
   "outputs": [],
   "source": [
    "structure_3 = structure.copy()\n",
    "del structure_3[1]\n",
    "# structure_3.plot3d()\n",
    "\n",
    "adatom = pr.create.structure.atoms(['Fe'], [(2.83/4*1, 2.83/2, 2.83/4*3)], cell=cell)\n",
    "adatom2 = pr.create.structure.atoms(['Fe'], [(2.83/4*3, 2.83/2, 2.83/4*1)], cell=cell)\n",
    "structure_3 = structure.copy()\n",
    "del structure_3[1]\n",
    "structure_3 += adatom\n",
    "structure_3 += adatom2\n",
    "# structure_3.plot3d()"
   ]
  },
  {
   "cell_type": "code",
   "execution_count": 12,
   "id": "6fbfd260-c28c-426c-a68f-c3d9c9fca05f",
   "metadata": {},
   "outputs": [
    {
     "name": "stdout",
     "output_type": "stream",
     "text": [
      "The job self3 was saved and received the ID: 10164\n"
     ]
    }
   ],
   "source": [
    "job_3 = pr.create.job.Lammps('self3', delete_existing_job=True)\n",
    "job_3.structure = structure_3\n",
    "job_3.potential = potential\n",
    "\n",
    "job_3.calc_minimize()\n",
    "job_3.run(delete_existing_job=True)"
   ]
  },
  {
   "cell_type": "code",
   "execution_count": 13,
   "id": "1c02b4ff-9015-4411-a5fa-68fce8a191a6",
   "metadata": {},
   "outputs": [
    {
     "data": {
      "text/plain": [
       "-4.113426806028201"
      ]
     },
     "execution_count": 13,
     "metadata": {},
     "output_type": "execute_result"
    }
   ],
   "source": [
    "E_self110 = job_3.output.energy_tot[-1]\n",
    "E3 = E_sc - len(structure)/len(structure_1)*E_self110\n",
    "E.append(-E3)\n",
    "E3"
   ]
  },
  {
   "cell_type": "markdown",
   "id": "4cff0d65-172f-4a16-8017-32b3bb450e88",
   "metadata": {},
   "source": [
    "$E^f_{i-[111]}$"
   ]
  },
  {
   "cell_type": "code",
   "execution_count": 14,
   "id": "52bb8bfb-37af-40bd-92df-4e4c57e3ffa9",
   "metadata": {},
   "outputs": [],
   "source": [
    "structure_4 = structure.copy()\n",
    "del structure_4[1]\n",
    "# structure_4.plot3d()\n",
    "\n",
    "adatom = pr.create.structure.atoms(['Fe'], [(2.83/4.9*1.45, 2.83/4.9*1.45, 2.83/4.9*1.45)], cell=cell)\n",
    "adatom2 = pr.create.structure.atoms(['Fe'], [(2.83/4.9*3.45, 2.83/4.9*3.45, 2.83/4.9*3.45)], cell=cell)\n",
    "structure_4 = structure.copy()\n",
    "del structure_4[1]\n",
    "structure_4 += adatom\n",
    "structure_4 += adatom2\n",
    "# structure_4.plot3d()"
   ]
  },
  {
   "cell_type": "code",
   "execution_count": 15,
   "id": "e9db262a-d67c-4905-ae08-55b7b0af91ed",
   "metadata": {},
   "outputs": [
    {
     "name": "stdout",
     "output_type": "stream",
     "text": [
      "The job self4 was saved and received the ID: 10165\n"
     ]
    }
   ],
   "source": [
    "job_4 = pr.create.job.Lammps('self4', delete_existing_job=True)\n",
    "job_4.structure = structure_4\n",
    "job_4.potential = potential\n",
    "job_4.calc_minimize()\n",
    "job_4.run(delete_existing_job=True)"
   ]
  },
  {
   "cell_type": "code",
   "execution_count": 16,
   "id": "419f2bf4-4ff6-4b54-879d-ff1213f83a56",
   "metadata": {},
   "outputs": [
    {
     "data": {
      "text/plain": [
       "-4.848814919422239"
      ]
     },
     "execution_count": 16,
     "metadata": {},
     "output_type": "execute_result"
    }
   ],
   "source": [
    "E_self111 = job_4.output.energy_tot[-1]\n",
    "E4 = E_sc - len(structure)/len(structure_1)*E_self111\n",
    "E.append(-E4)\n",
    "E4"
   ]
  },
  {
   "cell_type": "markdown",
   "id": "412de036-926c-4183-86e3-cfd6e7d3df70",
   "metadata": {},
   "source": [
    "$E^f_{i-[001]}$"
   ]
  },
  {
   "cell_type": "code",
   "execution_count": 17,
   "id": "6c369c10-3899-4e79-83d0-6c6caed73c08",
   "metadata": {},
   "outputs": [],
   "source": [
    "structure_5 = structure.copy()\n",
    "del structure_5[1]\n",
    "\n",
    "adatom = pr.create.structure.atoms(['Fe'], [(0.145*2.83, 2.83/2, 2.83/2)], cell=cell)\n",
    "adatom2 = pr.create.structure.atoms(['Fe'], [((1-0.145)*2.83, 2.83/2, 2.83/2)], cell=cell)\n",
    "structure_5 = structure.copy()\n",
    "del structure_5[1]\n",
    "structure_5 += adatom\n",
    "structure_5 += adatom2\n",
    "# structure_5.plot3d()"
   ]
  },
  {
   "cell_type": "code",
   "execution_count": 18,
   "id": "37bdd931-3ddb-436d-97a1-b472cbc08bb4",
   "metadata": {},
   "outputs": [
    {
     "name": "stdout",
     "output_type": "stream",
     "text": [
      "The job self5 was saved and received the ID: 10166\n"
     ]
    }
   ],
   "source": [
    "job_5 = pr.create.job.Lammps('self5', delete_existing_job=True)\n",
    "job_5.structure = structure_5\n",
    "job_5.potential = potential\n",
    "job_5.calc_minimize()\n",
    "job_5.run(delete_existing_job=True)"
   ]
  },
  {
   "cell_type": "code",
   "execution_count": 19,
   "id": "596b5048-03ec-4a2f-8294-6c6e06c6552f",
   "metadata": {},
   "outputs": [
    {
     "data": {
      "text/plain": [
       "-5.18077330398296"
      ]
     },
     "execution_count": 19,
     "metadata": {},
     "output_type": "execute_result"
    }
   ],
   "source": [
    "E_self001 = job_5.output.energy_tot[-1]\n",
    "E5 = E_sc - len(structure)/len(structure_1)*E_self001\n",
    "E.append(-E5)\n",
    "E5"
   ]
  },
  {
   "cell_type": "code",
   "execution_count": 20,
   "id": "96de8f22-7d13-4d6e-a57b-79ab58c50d33",
   "metadata": {},
   "outputs": [],
   "source": [
    "E_ref = [5.322, 4.448,  4.037, 4.744, 5.062]"
   ]
  },
  {
   "cell_type": "code",
   "execution_count": 21,
   "id": "f5300691-31cb-4c78-92dd-b165ab9cd5fb",
   "metadata": {},
   "outputs": [
    {
     "data": {
      "image/png": "[encoded data removed]",
      "text/plain": [
       "<Figure size 640x480 with 1 Axes>"
      ]
     },
     "metadata": {},
     "output_type": "display_data"
    }
   ],
   "source": [
    "X = ['O', 'T', '110', '111', '001']\n",
    "plt.scatter(X, E, label='E', marker='o')\n",
    "plt.scatter(X, E_ref, label='E_ref', marker='s')\n",
    "\n",
    "plt.ylabel('Energy')\n",
    "plt.legend()\n",
    "\n",
    "plt.show()"
   ]
  },
  {
   "cell_type": "code",
   "execution_count": 22,
   "id": "8f387f4d-2766-45ec-8269-849095458b96",
   "metadata": {},
   "outputs": [],
   "source": [
    "from ase.geometry.analysis import Analysis"
   ]
  },
  {
   "cell_type": "code",
   "execution_count": 23,
   "id": "0e9b780a-cce4-4718-8b77-deb2af4c42ba",
   "metadata": {},
   "outputs": [],
   "source": [
    "from pyiron import pyiron_to_ase\n",
    "s0 = pyiron_to_ase(structure)\n",
    "s1 = pyiron_to_ase(structure_1)\n",
    "s2 = pyiron_to_ase(structure_2)\n",
    "s3 = pyiron_to_ase(structure_3)\n",
    "s4 = pyiron_to_ase(structure_4)\n",
    "s5 = pyiron_to_ase(structure_5)"
   ]
  },
  {
   "cell_type": "code",
   "execution_count": 24,
   "id": "0846c972-9691-4dd6-93c2-65deae58e635",
   "metadata": {},
   "outputs": [],
   "source": [
    "ana0 = Analysis(s0)\n",
    "ana1 = Analysis(s1)\n",
    "ana2 = Analysis(s2)\n",
    "ana3 = Analysis(s3)\n",
    "ana4 = Analysis(s4)\n",
    "ana5 = Analysis(s5)"
   ]
  },
  {
   "cell_type": "code",
   "execution_count": 25,
   "id": "61d4bf20-f555-494b-8429-12946bab74f5",
   "metadata": {},
   "outputs": [
    {
     "data": {
      "text/plain": [
       "[array([0.        , 0.        , 0.        , 0.        , 2.83829651,\n",
       "        1.42694577, 0.        , 0.        , 1.19679323, 2.5555142 ])]"
      ]
     },
     "execution_count": 25,
     "metadata": {},
     "output_type": "execute_result"
    }
   ],
   "source": [
    "ana0.get_rdf(rmax=5, nbins=10)"
   ]
  },
  {
   "cell_type": "code",
   "execution_count": 26,
   "id": "d3cd5734-298a-4318-ae07-5a8504669cbd",
   "metadata": {},
   "outputs": [
    {
     "data": {
      "text/plain": [
       "[array([0.        , 0.        , 0.03504568, 0.        , 2.81629421,\n",
       "        1.40490833, 0.04194444, 0.        , 1.20592686, 2.51604739])]"
      ]
     },
     "execution_count": 26,
     "metadata": {},
     "output_type": "execute_result"
    }
   ],
   "source": [
    "ana1.get_rdf(rmax=5, nbins=10)"
   ]
  },
  {
   "cell_type": "code",
   "execution_count": 27,
   "id": "324aefaa-bbdd-4990-ade0-c04a21a34d3f",
   "metadata": {},
   "outputs": [
    {
     "data": {
      "text/plain": [
       "[array([0.        , 0.        , 0.        , 0.03599287, 2.79446247,\n",
       "        1.41954279, 0.02097222, 0.02364028, 1.18444724, 2.53078986])]"
      ]
     },
     "execution_count": 27,
     "metadata": {},
     "output_type": "execute_result"
    }
   ],
   "source": [
    "ana2.get_rdf(rmax=5, nbins=10)"
   ]
  },
  {
   "cell_type": "code",
   "execution_count": 28,
   "id": "6aa8eb09-625b-4fba-a1f4-c51b6824d28a",
   "metadata": {},
   "outputs": [
    {
     "data": {
      "text/plain": [
       "[array([0.        , 0.        , 0.        , 0.03599287, 2.77808867,\n",
       "        1.41222556, 0.02621528, 0.03940047, 1.19058428, 2.49639077])]"
      ]
     },
     "execution_count": 28,
     "metadata": {},
     "output_type": "execute_result"
    }
   ],
   "source": [
    "ana3.get_rdf(rmax=5, nbins=10)"
   ]
  },
  {
   "cell_type": "code",
   "execution_count": 29,
   "id": "ed379f78-3669-438e-822b-175437c6ae5b",
   "metadata": {},
   "outputs": [
    {
     "data": {
      "text/plain": [
       "[array([0.        , 0.        , 0.03504568, 0.        , 2.82175214,\n",
       "        1.40490833, 0.02097222, 0.02758033, 1.19672131, 2.50621908])]"
      ]
     },
     "execution_count": 29,
     "metadata": {},
     "output_type": "execute_result"
    }
   ],
   "source": [
    "ana4.get_rdf(rmax=5, nbins=10)"
   ]
  },
  {
   "cell_type": "code",
   "execution_count": 30,
   "id": "12a6ca09-7031-47ce-ad41-67901ba71927",
   "metadata": {},
   "outputs": [
    {
     "data": {
      "text/plain": [
       "[array([0.        , 0.        , 0.        , 0.01799643, 2.79992041,\n",
       "        1.38295664, 0.06291666, 0.01970024, 1.20899537, 2.48901954])]"
      ]
     },
     "execution_count": 30,
     "metadata": {},
     "output_type": "execute_result"
    }
   ],
   "source": [
    "ana5.get_rdf(rmax=5, nbins=10)"
   ]
  },
  {
   "cell_type": "code",
   "execution_count": null,
   "id": "5560b505-d14f-47f1-997a-f6daf4660453",
   "metadata": {},
   "outputs": [],
   "source": []
  }
 ],
 "metadata": {
  "kernelspec": {
   "display_name": "Python 3 (ipykernel)",
   "language": "python",
   "name": "python3"
  },
  "language_info": {
   "codemirror_mode": {
    "name": "ipython",
    "version": 3
   },
   "file_extension": ".py",
   "mimetype": "text/x-python",
   "name": "python",
   "nbconvert_exporter": "python",
   "pygments_lexer": "ipython3",
   "version": "3.12.3"
  }
 },
 "nbformat": 4,
 "nbformat_minor": 5
}
