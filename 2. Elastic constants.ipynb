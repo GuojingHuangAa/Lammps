{
 "cells": [
  {
   "cell_type": "markdown",
   "id": "0ecd1312-09aa-491b-acff-877e5659ecb2",
   "metadata": {},
   "source": [
    "### Elastic constants"
   ]
  },
  {
   "cell_type": "markdown",
   "id": "b4f687c5-f041-49a4-b391-c31e4fd5affd",
   "metadata": {},
   "source": [
    "$E =  E_0 + \\frac{1}{2} V \\sum \\epsilon_i^T C_{ij}\\epsilon_j$.\n",
    "\n",
    "The strain matrices are\n",
    "\n",
    "$\n",
    "\\begin{align}\n",
    "\\epsilon_{11} = \n",
    "\\left(\n",
    "\\begin{array}{ccc}\n",
    "\\epsilon & 0 &0 \\\\\n",
    "0 & 0 &0 \\\\\n",
    "0 & 0 &0 \\\\\n",
    "\\end{array}\n",
    "\\right)\n",
    "\\quad\\quad\n",
    "\\epsilon_{22} = \n",
    "\\left(\n",
    "\\begin{array}{ccc}\n",
    "0 & 0 &0 \\\\\"\n",
    "0 & \\epsilon &0 \\\\\n",
    "0 & 0 &0 \\\\\n",
    "\\end{array}\n",
    "\\right)\n",
    "\\quad\\quad\n",
    "\\epsilon_{33} = \n",
    "\\left(\n",
    "\\begin{array}{ccc}\n",
    "0 & 0 &0 \\\\\n",
    "0 & 0 &0 \\\\\n",
    "0 & 0 &\\epsilon \\\\\n",
    "\\end{array}\n",
    "\\right)\\\\\n",
    "\\epsilon_{12} = \n",
    "\\left(\n",
    "\\begin{array}{ccc}\n",
    "0 & \\epsilon &0 \\\\\n",
    "0 & 0 &0 \\\\\n",
    "0 & 0 &0 \\\\\n",
    "\\end{array}\n",
    "\\right)\n",
    "\\quad\\quad\n",
    "\\epsilon_{13} = \n",
    "\\left(\n",
    "\\begin{array}{ccc}\n",
    "0 & 0 &\\epsilon \\\\\n",
    "0 & 0 &0 \\\\\n",
    "0 & 0 &0 \\\\\n",
    "\\end{array}\n",
    "\\right)\n",
    "\\quad\\quad\n",
    "\\epsilon_{23} = \n",
    "\\left(\n",
    "\\begin{array}{ccc}\n",
    "0 & 0 &0 \\\\\n",
    "0 & 0 &\\epsilon \\\\\n",
    "0 & 0 &0 \\\\\n",
    "\\end{array}\n",
    "\\right)\\\\\n",
    "\\epsilon_{21} = \n",
    "\\left(\n",
    "\\begin{array}{ccc}\n",
    "0& 0 &0 \\\\\n",
    "\\epsilon & 0 &0 \\\\\n",
    "0 & 0 &0 \\\\\n",
    "\\end{array}\n",
    "\\right)\n",
    "\\quad\\quad\n",
    "\\epsilon_{31} = \n",
    "\\left(\n",
    "\\begin{array}{ccc}\n",
    "0 & 0 &0 \\\\\n",
    "0 & 0 &0 \\\\\n",
    "\\epsilon & 0 &0 \\\\\n",
    "\\end{array}\n",
    "\\right)\n",
    "\\quad\\quad\n",
    "\\epsilon_{32} = \n",
    "\\left(\n",
    "\\begin{array}{ccc}\n",
    "0 & 0 &0 \\\\\n",
    "0 & 0 &0 \\\\\n",
    "0 &\\epsilon &0\\\\\n",
    "\\end{array}\n",
    "\\right)\\\\\n",
    "\\end{align}\n",
    "$\n",
    "\n",
    "and the corresponding strain Voigt 'vectors' are\n",
    "\n",
    "$\n",
    "\\begin{align}\n",
    "\\epsilon_1 &= (\\epsilon_{11}, 0, 0, 0, 0 ,0)\\\\\n",
    "\\epsilon_2 &= (0, \\epsilon_{22}, 0, 0, 0 ,0)\\\\\n",
    "\\epsilon_3 &= (0, 0, \\epsilon_{33}, 0, 0 ,0)\\\\\n",
    "\\epsilon_4 &= (0, 0, 0, 2\\epsilon_{23}, 0 ,0)\\\\\n",
    "\\epsilon_5 &= (0, 0, 0, 0, 2\\epsilon_{13} ,0)\\\\\n",
    "\\epsilon_6 &= (0, 0, 0, 0, 0 ,2\\epsilon_{12})\n",
    "\\end{align}\n",
    "$\n",
    "\n",
    "In general, we first compute the diagonals $C_{ii}$ by solving\n",
    "\n",
    "$E = E_0 + \\frac{1}{2} V_0 C_{ii} \\epsilon_{i}\\epsilon_{i}$\n",
    "\n",
    "and then the off-diagonals,\n",
    "\n",
    "$E = E_0 + \\frac{1}{2} V_0 C_{ii} \\epsilon_{i}\\epsilon_{i}\n",
    "+ \\frac{1}{2} V_0 C_{jj} \\epsilon_{j}\\epsilon_{j}\n",
    "+ V_0 C_{ij} \\epsilon_{i}\\epsilon_{j}\n",
    "$\n"
   ]
  },
  {
   "cell_type": "code",
   "execution_count": 31,
   "id": "cafbf955-d401-448f-93b3-0a1087c84968",
   "metadata": {},
   "outputs": [],
   "source": [
    "from pyiron import Project\n",
    "import numpy as np\n",
    "import matplotlib.pylab as plt\n",
    "import scipy.optimize\n",
    "import ase.units"
   ]
  },
  {
   "cell_type": "code",
   "execution_count": 32,
   "id": "c307829e-a858-47f4-843e-e76c1e7b4e97",
   "metadata": {},
   "outputs": [],
   "source": [
    "potential =  'FeH-NNIP'"
   ]
  },
  {
   "cell_type": "code",
   "execution_count": 7,
   "id": "a2d10a54-0700-4162-b4f4-071087aa1d00",
   "metadata": {},
   "outputs": [],
   "source": [
    "pr = Project(\"Elastic_C\")"
   ]
  },
  {
   "cell_type": "code",
   "execution_count": 10,
   "id": "510be51a-0c0c-4717-9df1-19ff73263a19",
   "metadata": {},
   "outputs": [
    {
     "name": "stdout",
     "output_type": "stream",
     "text": [
      "The job optimise was saved and received the ID: 10090\n"
     ]
    }
   ],
   "source": [
    "# structure optimization\n",
    "job = pr.create.job.Lammps(\"optimise\", delete_existing_job=True)\n",
    "job.structure = pr.create.structure.bulk('Fe', crystalstructure='bcc', cubic=True)\n",
    "job.potential = potential\n",
    "job.calc_minimize(pressure=0.0)\n",
    "job.run(delete_existing_job=True)\n",
    "\n",
    "# get E0, V0\n",
    "structure_opt = job.get_structure(frame=-1)\n",
    "cell = structure_opt.get_cell()\n",
    "e0   = job.output.energy_pot[-1]\n",
    "v0   = structure_opt.get_volume()"
   ]
  },
  {
   "cell_type": "code",
   "execution_count": 11,
   "id": "ae50d4db-183a-4d16-8848-de61d1914fc7",
   "metadata": {},
   "outputs": [],
   "source": [
    "strains = [-0.01, -0.005, 0.005, 0.01]\n",
    "shear_strains = [0.005, 0.01, 0.015, 0.02]\n",
    "\n",
    "I = np.diag((1, 1, 1))\n",
    "\n",
    "def strain(e, i, j):\n",
    "    voigt_map = {1:[1, 1], 2:[2, 2], 3:[3, 3],\n",
    "                 4:[2, 3], 5:[1, 3], 6:[1, 2]}\n",
    "\n",
    "    k, l = voigt_map[i]\n",
    "    eps1 = np.zeros((3, 3))\n",
    "    eps1[k-1][l-1] += e/2\n",
    "    eps1[l-1][k-1] += e/2\n",
    "    k, l = voigt_map[j]\n",
    "    eps2 = np.zeros((3, 3))\n",
    "    eps2[k-1][l-1] += e/2\n",
    "    eps2[l-1][k-1] += e/2\n",
    "    return (eps1 + eps2)/2"
   ]
  },
  {
   "cell_type": "code",
   "execution_count": 12,
   "id": "4b8c4336-4dea-42c4-9d4b-c3fb371c377d",
   "metadata": {},
   "outputs": [
    {
     "name": "stdout",
     "output_type": "stream",
     "text": [
      "The job minimise was saved and received the ID: 10091\n",
      "The job minimise was saved and received the ID: 10091\n",
      "The job minimise was saved and received the ID: 10091\n",
      "The job minimise was saved and received the ID: 10091\n"
     ]
    },
    {
     "data": {
      "image/png": "[encoded data removed]",
      "text/plain": [
       "<Figure size 640x480 with 1 Axes>"
      ]
     },
     "metadata": {},
     "output_type": "display_data"
    },
    {
     "name": "stdout",
     "output_type": "stream",
     "text": [
      "C11 = 296.12 GPa\n"
     ]
    }
   ],
   "source": [
    "# C11 calculation\n",
    "data = []\n",
    "for e in strains:\n",
    "    D = I + strain(e, 1, 1)\n",
    "    structure = structure_opt.copy()\n",
    "    cell = structure_opt.get_cell()\n",
    "    structure.set_cell(D.dot(cell.T).T, scale_atoms=True)\n",
    "    job = pr.create.job.Lammps(\"minimise\", delete_existing_job=True)\n",
    "    job.structure = structure\n",
    "    job.potential = potential\n",
    "    job.calc_minimize()\n",
    "    job.run(delete_existing_job=True)\n",
    "    en = job.output.energy_tot[-1]\n",
    "    v = structure.get_volume()\n",
    "    data.append([e, v, en-e0])\n",
    "\n",
    "E = lambda eps, C: 0.5*v0 * C * eps**2\n",
    "\n",
    "eps, volumes, energies = zip(*data)\n",
    "\n",
    "popt = scipy.optimize.curve_fit(E, eps, energies)\n",
    "C11  = popt[0]\n",
    "\n",
    "x = np.linspace(-eps[-1]*1.2, eps[-1]*1.2, 31)\n",
    "plt.figure()\n",
    "plt.plot(x, E(x, C11))\n",
    "plt.plot(eps, energies, \"o\")\n",
    "plt.xlabel(\"strain(%)\")\n",
    "plt.ylabel(\"energy difference (eV/cell)\")\n",
    "plt.tight_layout()\n",
    "plt.show()\n",
    "\n",
    "print(\"C11 = %.2f GPa\" %(C11[0] / ase.units.kJ * 1.0e24))"
   ]
  },
  {
   "cell_type": "code",
   "execution_count": 14,
   "id": "96743894-7dd2-47ed-a234-c6eeaae564fc",
   "metadata": {},
   "outputs": [
    {
     "name": "stdout",
     "output_type": "stream",
     "text": [
      "The job minimise was saved and received the ID: 10091\n",
      "The job minimise was saved and received the ID: 10091\n",
      "The job minimise was saved and received the ID: 10091\n",
      "The job minimise was saved and received the ID: 10091\n"
     ]
    },
    {
     "data": {
      "image/png": "[encoded data removed]",
      "text/plain": [
       "<Figure size 640x480 with 1 Axes>"
      ]
     },
     "metadata": {},
     "output_type": "display_data"
    },
    {
     "name": "stdout",
     "output_type": "stream",
     "text": [
      "C44 = 95.56 GPa\n"
     ]
    }
   ],
   "source": [
    "# C44 calculation\n",
    "data = []\n",
    "for e in shear_strains:\n",
    "    D = I + strain(e, 4, 4)\n",
    "    structure = structure_opt.copy()\n",
    "    cell = structure_opt.cell\n",
    "    structure.set_cell(D.dot(cell.T).T, scale_atoms=True)\n",
    "    job = pr.create.job.Lammps(\"minimise\", delete_existing_job=True)\n",
    "    job.structure = structure\n",
    "    job.potential = potential\n",
    "    job.calc_minimize()\n",
    "    job.run(delete_existing_job=True)\n",
    "    en = job.output.energy_tot[-1]\n",
    "    v = structure.get_volume()\n",
    "    data.append([e, v, en-e0])\n",
    "\n",
    "E = lambda eps, C: 0.5*v0 * C * eps**2\n",
    "\n",
    "eps, volumes, energies = zip(*data)\n",
    "\n",
    "popt = scipy.optimize.curve_fit(E, eps, energies)\n",
    "C44  = popt[0]\n",
    "\n",
    "x = np.linspace(-eps[-1]*1.2, eps[-1]*1.2, 31)\n",
    "plt.figure()\n",
    "plt.plot(x, E(x, C44))\n",
    "plt.plot(eps, energies, \"o\")\n",
    "plt.xlabel(\"strain(%)\")\n",
    "plt.ylabel(\"energy difference (eV/cell)\")\n",
    "plt.tight_layout()\n",
    "plt.show()\n",
    "\n",
    "print(\"C44 = %.2f GPa\" %(C44[0] / ase.units.kJ * 1.0e24))"
   ]
  },
  {
   "cell_type": "code",
   "execution_count": 15,
   "id": "be26c8bd-15bc-47c3-94ac-453ee49bbf97",
   "metadata": {},
   "outputs": [
    {
     "name": "stdout",
     "output_type": "stream",
     "text": [
      "The job minimise was saved and received the ID: 10091\n",
      "The job minimise was saved and received the ID: 10091\n",
      "The job minimise was saved and received the ID: 10091\n",
      "The job minimise was saved and received the ID: 10091\n"
     ]
    },
    {
     "data": {
      "image/png": "[encoded data removed]",
      "text/plain": [
       "<Figure size 640x480 with 1 Axes>"
      ]
     },
     "metadata": {},
     "output_type": "display_data"
    },
    {
     "name": "stdout",
     "output_type": "stream",
     "text": [
      "C12 = 146.99 GPa\n"
     ]
    }
   ],
   "source": [
    "# C12 calculation\n",
    "data = []\n",
    "for e in strains:\n",
    "    D = I + strain(e, 1, 2)\n",
    "    structure = structure_opt.copy()\n",
    "    cell = structure_opt.cell\n",
    "    structure.set_cell(D.dot(cell.T).T, scale_atoms=True)\n",
    "    job = pr.create.job.Lammps(\"minimise\", delete_existing_job=True)\n",
    "    job.structure = structure\n",
    "    job.potential = potential\n",
    "    job.calc_minimize()\n",
    "    job.run(delete_existing_job=True)\n",
    "    en = job.output.energy_tot[-1]\n",
    "    v = structure.get_volume()\n",
    "    data.append([e, v, (en - e0)*2] )\n",
    "\n",
    "\n",
    "E = lambda eps, C: 0.5 * v0 * C * eps**2\n",
    "\n",
    "eps, volumes, energies = zip(*data)\n",
    "\n",
    "popt = scipy.optimize.curve_fit(E, eps, energies)\n",
    "C  = popt[0]\n",
    "\n",
    "x = np.linspace(-eps[-1]*1.2, eps[-1]*1.2, 31)\n",
    "plt.figure()\n",
    "plt.plot(x, E(x, C))\n",
    "plt.plot(eps, energies, \"o\")\n",
    "plt.xlabel(\"strain(%)\")\n",
    "plt.ylabel(\"energy difference (eV/cell)\")\n",
    "plt.tight_layout()\n",
    "plt.show()\n",
    "\n",
    "print(\"C12 = %.2f GPa\" %((C[0]-C11[0]) / ase.units.kJ * 1.0e24))\n"
   ]
  },
  {
   "cell_type": "code",
   "execution_count": 16,
   "id": "283d938c-fefc-411f-ad76-0fe969589cb4",
   "metadata": {},
   "outputs": [],
   "source": [
    "# build-in module: ElasticTensor\n",
    "job_ref = pr.create.job.Lammps('reference', delete_existing_job=True)\n",
    "job_ref.structure = structure_opt\n",
    "job_ref.potential = potential"
   ]
  },
  {
   "cell_type": "code",
   "execution_count": 21,
   "id": "32a3ce95-5b5e-4749-a990-7aea9f404ac2",
   "metadata": {},
   "outputs": [
    {
     "data": {
      "text/html": [
       "<div>\n",
       "<style scoped>\n",
       "    .dataframe tbody tr th:only-of-type {\n",
       "        vertical-align: middle;\n",
       "    }\n",
       "\n",
       "    .dataframe tbody tr th {\n",
       "        vertical-align: top;\n",
       "    }\n",
       "\n",
       "    .dataframe thead th {\n",
       "        text-align: right;\n",
       "    }\n",
       "</style>\n",
       "<table border=\"1\" class=\"dataframe\">\n",
       "  <thead>\n",
       "    <tr style=\"text-align: right;\">\n",
       "      <th></th>\n",
       "      <th>Parameter</th>\n",
       "      <th>Value</th>\n",
       "      <th>Comment</th>\n",
       "    </tr>\n",
       "  </thead>\n",
       "  <tbody>\n",
       "    <tr>\n",
       "      <th>0</th>\n",
       "      <td>min_num_measurements</td>\n",
       "      <td>11</td>\n",
       "      <td>minimum number of samples to be taken</td>\n",
       "    </tr>\n",
       "    <tr>\n",
       "      <th>1</th>\n",
       "      <td>min_num_points</td>\n",
       "      <td>105</td>\n",
       "      <td>minimum number of data points(number of measur...</td>\n",
       "    </tr>\n",
       "    <tr>\n",
       "      <th>2</th>\n",
       "      <td>max_strain</td>\n",
       "      <td>0.01</td>\n",
       "      <td>relative volume variation around volume define...</td>\n",
       "    </tr>\n",
       "    <tr>\n",
       "      <th>3</th>\n",
       "      <td>polynomial_order</td>\n",
       "      <td>2</td>\n",
       "      <td></td>\n",
       "    </tr>\n",
       "    <tr>\n",
       "      <th>4</th>\n",
       "      <td>additional_points</td>\n",
       "      <td>0</td>\n",
       "      <td>number of additional linear-dependent points t...</td>\n",
       "    </tr>\n",
       "    <tr>\n",
       "      <th>5</th>\n",
       "      <td>strain_matrices</td>\n",
       "      <td>[]</td>\n",
       "      <td>List of strain matrices (generated automatical...</td>\n",
       "    </tr>\n",
       "    <tr>\n",
       "      <th>6</th>\n",
       "      <td>use_symmetry</td>\n",
       "      <td>True</td>\n",
       "      <td>Whether to consider box symmetries</td>\n",
       "    </tr>\n",
       "    <tr>\n",
       "      <th>7</th>\n",
       "      <td>rotations</td>\n",
       "      <td>[]</td>\n",
       "      <td>List of rotation matrices (generated automatic...</td>\n",
       "    </tr>\n",
       "    <tr>\n",
       "      <th>8</th>\n",
       "      <td>normalize_magnitude</td>\n",
       "      <td>False</td>\n",
       "      <td>Whether or normalize magnitude, so that the Fr...</td>\n",
       "    </tr>\n",
       "    <tr>\n",
       "      <th>9</th>\n",
       "      <td>use_elements</td>\n",
       "      <td>True</td>\n",
       "      <td>Whether or not consider chemical elements for ...</td>\n",
       "    </tr>\n",
       "    <tr>\n",
       "      <th>10</th>\n",
       "      <td>fit_first_order</td>\n",
       "      <td>False</td>\n",
       "      <td>Whether or not fit first order strains. In pri...</td>\n",
       "    </tr>\n",
       "    <tr>\n",
       "      <th>11</th>\n",
       "      <td>use_pressure</td>\n",
       "      <td>True</td>\n",
       "      <td>Whether to use the pressure values instead of ...</td>\n",
       "    </tr>\n",
       "  </tbody>\n",
       "</table>\n",
       "</div>"
      ],
      "text/plain": [
       "               Parameter  Value  \\\n",
       "0   min_num_measurements     11   \n",
       "1         min_num_points    105   \n",
       "2             max_strain   0.01   \n",
       "3       polynomial_order      2   \n",
       "4      additional_points      0   \n",
       "5        strain_matrices     []   \n",
       "6           use_symmetry   True   \n",
       "7              rotations     []   \n",
       "8    normalize_magnitude  False   \n",
       "9           use_elements   True   \n",
       "10       fit_first_order  False   \n",
       "11          use_pressure   True   \n",
       "\n",
       "                                              Comment  \n",
       "0               minimum number of samples to be taken  \n",
       "1   minimum number of data points(number of measur...  \n",
       "2   relative volume variation around volume define...  \n",
       "3                                                      \n",
       "4   number of additional linear-dependent points t...  \n",
       "5   List of strain matrices (generated automatical...  \n",
       "6                  Whether to consider box symmetries  \n",
       "7   List of rotation matrices (generated automatic...  \n",
       "8   Whether or normalize magnitude, so that the Fr...  \n",
       "9   Whether or not consider chemical elements for ...  \n",
       "10  Whether or not fit first order strains. In pri...  \n",
       "11  Whether to use the pressure values instead of ...  "
      ]
     },
     "execution_count": 21,
     "metadata": {},
     "output_type": "execute_result"
    }
   ],
   "source": [
    "elastic = job_ref.create_job(job_type='ElasticTensor', job_name='ET', delete_existing_job=True)\n",
    "elastic.input"
   ]
  },
  {
   "cell_type": "code",
   "execution_count": 22,
   "id": "0d14d974-0ed7-4eb3-a569-10fd6ceda51e",
   "metadata": {},
   "outputs": [
    {
     "name": "stdout",
     "output_type": "stream",
     "text": [
      "The job ET was saved and received the ID: 10092\n",
      "The job ET_0 was saved and received the ID: 10093\n",
      "The job ET_1 was saved and received the ID: 10094\n",
      "The job ET_2 was saved and received the ID: 10095\n",
      "The job ET_3 was saved and received the ID: 10096\n",
      "The job ET_4 was saved and received the ID: 10097\n",
      "The job ET_5 was saved and received the ID: 10098\n",
      "The job ET_6 was saved and received the ID: 10099\n",
      "The job ET_7 was saved and received the ID: 10100\n",
      "The job ET_8 was saved and received the ID: 10101\n",
      "The job ET_9 was saved and received the ID: 10102\n",
      "The job ET_10 was saved and received the ID: 10103\n",
      "The job ET_11 was saved and received the ID: 10104\n",
      "The job ET_12 was saved and received the ID: 10105\n",
      "The job ET_13 was saved and received the ID: 10106\n",
      "The job ET_14 was saved and received the ID: 10107\n",
      "The job ET_15 was saved and received the ID: 10108\n",
      "The job ET_16 was saved and received the ID: 10109\n",
      "The job ET_17 was saved and received the ID: 10110\n",
      "The job ET_18 was saved and received the ID: 10111\n",
      "The job ET_19 was saved and received the ID: 10112\n",
      "The job ET_20 was saved and received the ID: 10113\n",
      "The job ET_21 was saved and received the ID: 10114\n",
      "The job ET_22 was saved and received the ID: 10115\n"
     ]
    }
   ],
   "source": [
    "elastic.run(delete_existing_job=True)"
   ]
  },
  {
   "cell_type": "code",
   "execution_count": 30,
   "id": "7bda8615-d85b-4ba0-82aa-4b1c0de3ea37",
   "metadata": {},
   "outputs": [
    {
     "data": {
      "text/plain": [
       "array([[ 2.94135390e+02,  1.45869279e+02,  1.45863569e+02,\n",
       "        -1.80132629e-02,  1.54121628e-02, -3.29874365e-03],\n",
       "       [ 1.45863195e+02,  2.94130235e+02,  1.45862306e+02,\n",
       "        -2.10528652e-02,  1.55628817e-02,  2.14968775e-04],\n",
       "       [ 1.45868902e+02,  1.45870351e+02,  2.94141133e+02,\n",
       "        -2.06558431e-02,  1.23338144e-02, -1.03856847e-02],\n",
       "       [-6.28927036e-03, -4.18817596e-03, -4.40191280e-03,\n",
       "         9.57242786e+01,  7.66540805e-03,  7.63342566e-03],\n",
       "       [ 7.80911639e-03, -2.50402633e-03,  4.73602716e-03,\n",
       "        -3.26807171e-03,  9.57206582e+01, -4.90735289e-03],\n",
       "       [ 6.39282714e-03,  4.70910459e-03, -1.65484742e-03,\n",
       "         8.31102671e-03, -4.94289539e-03,  9.57284566e+01]])"
      ]
     },
     "execution_count": 30,
     "metadata": {},
     "output_type": "execute_result"
    }
   ],
   "source": [
    "C = elastic['output/elastic_tensor']\n",
    "C"
   ]
  },
  {
   "cell_type": "code",
   "execution_count": 26,
   "id": "6795c0b0-91d5-4d88-b953-a7aca46fa76b",
   "metadata": {},
   "outputs": [
    {
     "data": {
      "text/plain": [
       "294.13539033541883"
      ]
     },
     "execution_count": 26,
     "metadata": {},
     "output_type": "execute_result"
    }
   ],
   "source": [
    "C11 = C[0][0]\n",
    "C11"
   ]
  },
  {
   "cell_type": "code",
   "execution_count": 28,
   "id": "77763455-040b-4130-8026-d18066a039cf",
   "metadata": {},
   "outputs": [
    {
     "data": {
      "text/plain": [
       "95.72427858362201"
      ]
     },
     "execution_count": 28,
     "metadata": {},
     "output_type": "execute_result"
    }
   ],
   "source": [
    "C44 = C[3][3]\n",
    "C44"
   ]
  },
  {
   "cell_type": "code",
   "execution_count": 29,
   "id": "5d528cd1-cf5f-4db0-af7d-29ea73a82271",
   "metadata": {},
   "outputs": [
    {
     "data": {
      "text/plain": [
       "145.869278711709"
      ]
     },
     "execution_count": 29,
     "metadata": {},
     "output_type": "execute_result"
    }
   ],
   "source": [
    "C12 = C[0][1]\n",
    "C12"
   ]
  },
  {
   "cell_type": "code",
   "execution_count": null,
   "id": "20cdfd92-601e-4f9c-9216-f9f71330c8af",
   "metadata": {},
   "outputs": [],
   "source": []
  }
 ],
 "metadata": {
  "kernelspec": {
   "display_name": "Python 3 (ipykernel)",
   "language": "python",
   "name": "python3"
  },
  "language_info": {
   "codemirror_mode": {
    "name": "ipython",
    "version": 3
   },
   "file_extension": ".py",
   "mimetype": "text/x-python",
   "name": "python",
   "nbconvert_exporter": "python",
   "pygments_lexer": "ipython3",
   "version": "3.12.3"
  }
 },
 "nbformat": 4,
 "nbformat_minor": 5
}
