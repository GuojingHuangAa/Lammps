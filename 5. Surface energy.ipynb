{
 "cells": [
  {
   "cell_type": "markdown",
   "id": "5bd7dabf-6634-4329-93f9-bdb368de6367",
   "metadata": {},
   "source": [
    "### surface energy\n",
    "$$\\gamma = \\frac{E_{slab}- n*E_{atom}}{A_{total}}$$"
   ]
  },
  {
   "cell_type": "code",
   "execution_count": 14,
   "id": "9c1ef12a-f75f-49da-a3dc-2f474d7a0b3c",
   "metadata": {},
   "outputs": [],
   "source": [
    "from pyiron import Project\n",
    "import numpy as np\n",
    "import matplotlib.pylab as plt\n",
    "import ase.units"
   ]
  },
  {
   "cell_type": "code",
   "execution_count": 15,
   "id": "9477f162-814f-417f-bb53-3cbca812e59d",
   "metadata": {},
   "outputs": [],
   "source": [
    "potential =  'FeH-NNIP'"
   ]
  },
  {
   "cell_type": "code",
   "execution_count": 16,
   "id": "127f77e1-3d78-4db8-9802-a520f3445f1e",
   "metadata": {},
   "outputs": [],
   "source": [
    "pr = Project('Surface')"
   ]
  },
  {
   "cell_type": "code",
   "execution_count": 17,
   "id": "303fd57d-164f-4985-9c84-9c1528b9205d",
   "metadata": {},
   "outputs": [],
   "source": [
    "def cal_area(structure):\n",
    "    structure = structure\n",
    "    V = structure.get_volume()\n",
    "    c = structure.get_cell()[-1][-1]\n",
    "    return V/c"
   ]
  },
  {
   "cell_type": "code",
   "execution_count": 18,
   "id": "935123ab-f405-47ef-8071-bcc93f8a6f5a",
   "metadata": {},
   "outputs": [],
   "source": [
    "Gamma = []"
   ]
  },
  {
   "cell_type": "code",
   "execution_count": 19,
   "id": "90d2e1be-47ca-4043-ba5d-e27e0ca76fec",
   "metadata": {},
   "outputs": [
    {
     "name": "stdout",
     "output_type": "stream",
     "text": [
      "The job Bulk was saved and received the ID: 10180\n"
     ]
    }
   ],
   "source": [
    "# calculat E_atom\n",
    "job_bulk = pr.create.job.Lammps('Bulk', delete_existing_job=True)\n",
    "bulk = pr.create.structure.bulk('Fe', crystalstructure='bcc', cubic=True)\n",
    "job_bulk.structure = bulk\n",
    "job_bulk.potential = potential\n",
    "job_bulk.calc_minimize(pressure=0.0)\n",
    "job_bulk.run(delete_existing_job=True)\n",
    "eFe = job_bulk.output.energy_tot[-1]/len(bulk)\n",
    "sc = job_bulk.get_structure(-1).repeat([4,4,4])"
   ]
  },
  {
   "cell_type": "code",
   "execution_count": 20,
   "id": "d6ab7c61-f38b-4609-8f17-d77ae51a4e94",
   "metadata": {},
   "outputs": [
    {
     "name": "stdout",
     "output_type": "stream",
     "text": [
      "The job s001 was saved and received the ID: 10181\n"
     ]
    }
   ],
   "source": [
    "# 001 surface\n",
    "slab001 = pr.create.structure.surface_hkl(sc, hkl=[0,0,1],\n",
    "                        layers=3, vacuum=20, center=True)\n",
    "# slab001.plot3d()\n",
    "\n",
    "job1 = pr.create.job.Lammps('s001', delete_existing_job=True)\n",
    "job1.structure = slab001\n",
    "job1.potential = potential\n",
    "job1.calc_minimize()\n",
    "job1.run(delete_existing_job=True)\n",
    "E001 = job1.output.energy_tot[-1]\n",
    "# A= job1.get_structure(-1).get_volume()/job1.get_structures(-1).get_cell()[-1]\n",
    "A= cal_area(job1.get_structure(-1))\n",
    "gamma001 = (E001-len(slab001)*eFe)/(2*A)\n",
    "Gamma.append(gamma001)"
   ]
  },
  {
   "cell_type": "code",
   "execution_count": 21,
   "id": "6b5593e3-f356-4f64-92b0-cd1640b2cfd8",
   "metadata": {},
   "outputs": [
    {
     "name": "stdout",
     "output_type": "stream",
     "text": [
      "The job s110 was saved and received the ID: 10182\n"
     ]
    }
   ],
   "source": [
    "# 110\n",
    "slab110 = pr.create.structure.surface_hkl(sc, hkl=[1,1,0],\n",
    "                        layers=3, vacuum=20, center=True)\n",
    "# slab110.plot3d()\n",
    "\n",
    "job2 = pr.create.job.Lammps('s110', delete_existing_job=True)\n",
    "job2.structure = slab110\n",
    "job2.potential = potential\n",
    "job2.calc_minimize()\n",
    "job2.run(delete_existing_job=True)\n",
    "E110 = job2.output.energy_tot[-1]\n",
    "A= cal_area(job2.get_structure(-1))\n",
    "gamma110 = (E110-len(slab110)*eFe)/(2*A)\n",
    "Gamma.append(gamma110)"
   ]
  },
  {
   "cell_type": "code",
   "execution_count": 22,
   "id": "b47bd0b2-eb19-4e5e-87ab-4a6751998999",
   "metadata": {},
   "outputs": [
    {
     "name": "stdout",
     "output_type": "stream",
     "text": [
      "The job s111 was saved and received the ID: 10183\n"
     ]
    }
   ],
   "source": [
    "# 111\n",
    "slab111 = pr.create.structure.surface_hkl(sc, hkl=[1,1,1],\n",
    "                        layers=3, vacuum=20, center=True)\n",
    "# slab111.plot3d()\n",
    "\n",
    "job3 = pr.create.job.Lammps('s111', delete_existing_job=True)\n",
    "job3.structure = slab111\n",
    "job3.potential = potential\n",
    "job3.calc_minimize()\n",
    "job3.run(delete_existing_job=True)\n",
    "E111 = job3.output.energy_tot[-1]\n",
    "A= cal_area(job3.get_structure(-1))\n",
    "gamma111 = (E111-len(slab111)*eFe)/(2*A)\n",
    "Gamma.append(gamma111)"
   ]
  },
  {
   "cell_type": "code",
   "execution_count": 23,
   "id": "c671f34a-0b79-4427-a81c-329eda7ea413",
   "metadata": {},
   "outputs": [
    {
     "name": "stdout",
     "output_type": "stream",
     "text": [
      "The job s112 was saved and received the ID: 10184\n"
     ]
    }
   ],
   "source": [
    "# 112\n",
    "slab112 = pr.create.structure.surface_hkl(sc, hkl=[1,1,2],\n",
    "                        layers=3, vacuum=20, center=True)\n",
    "# slab112.plot3d()\n",
    "\n",
    "job4 = pr.create.job.Lammps('s112', delete_existing_job=True)\n",
    "job4.structure = slab112\n",
    "job4.potential = potential\n",
    "job4.calc_minimize()\n",
    "job4.run(delete_existing_job=True)\n",
    "E112 = job4.output.energy_tot[-1]\n",
    "A= cal_area(job4.get_structure(-1))\n",
    "gamma112 = (E112-len(slab112)*eFe)/(2*A)\n",
    "Gamma.append(gamma112)"
   ]
  },
  {
   "cell_type": "code",
   "execution_count": 24,
   "id": "ee47fc30-0042-4c75-8c19-d0f9a4969a3b",
   "metadata": {},
   "outputs": [
    {
     "data": {
      "image/png": "[encoded data removed]",
      "text/plain": [
       "<Figure size 640x480 with 1 Axes>"
      ]
     },
     "metadata": {},
     "output_type": "display_data"
    }
   ],
   "source": [
    "Gamma_ref = [2.479, 2.436, 2.695, 2.586]\n",
    "\n",
    "Gamma1 = [x /ase.units.J * (ase.units.m)**2 for x in Gamma]\n",
    "\n",
    "x_values = ['001', '110', '111', '112']\n",
    "\n",
    "plt.scatter(x_values, Gamma1, label='Gamma', marker='o')\n",
    "plt.scatter(x_values, Gamma_ref, label='Gamma_ref', marker='s')\n",
    "\n",
    "plt.ylabel('Energy')\n",
    "plt.legend()\n",
    "\n",
    "plt.show()"
   ]
  },
  {
   "cell_type": "code",
   "execution_count": null,
   "id": "aef4ea88-ab25-4f7b-8b27-a6b241fc13e3",
   "metadata": {},
   "outputs": [],
   "source": []
  }
 ],
 "metadata": {
  "kernelspec": {
   "display_name": "Python 3 (ipykernel)",
   "language": "python",
   "name": "python3"
  },
  "language_info": {
   "codemirror_mode": {
    "name": "ipython",
    "version": 3
   },
   "file_extension": ".py",
   "mimetype": "text/x-python",
   "name": "python",
   "nbconvert_exporter": "python",
   "pygments_lexer": "ipython3",
   "version": "3.12.3"
  }
 },
 "nbformat": 4,
 "nbformat_minor": 5
}
