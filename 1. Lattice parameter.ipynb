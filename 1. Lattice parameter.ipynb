{
 "cells": [
  {
   "cell_type": "markdown",
   "id": "66862436-a722-41b3-a57d-cf9ac8a3ab4c",
   "metadata": {},
   "source": [
    "### lattice constant"
   ]
  },
  {
   "cell_type": "code",
   "execution_count": 2,
   "id": "fba5c4b7-9059-46e9-8efc-ba631cc52616",
   "metadata": {},
   "outputs": [],
   "source": [
    "from pyiron import Project\n",
    "import numpy as np"
   ]
  },
  {
   "cell_type": "code",
   "execution_count": 3,
   "id": "a2340bb4-b846-4e55-aacb-ac7e66161426",
   "metadata": {},
   "outputs": [],
   "source": [
    "potential =  'FeH-NNIP'"
   ]
  },
  {
   "cell_type": "code",
   "execution_count": 4,
   "id": "05635690-602f-4d08-950e-c9ed53c9a05b",
   "metadata": {},
   "outputs": [],
   "source": [
    "pr = Project('Lattice parameter')"
   ]
  },
  {
   "cell_type": "code",
   "execution_count": 11,
   "id": "05754d9c-bf0c-40e5-a7a3-c1d729bbe690",
   "metadata": {},
   "outputs": [
    {
     "name": "stdout",
     "output_type": "stream",
     "text": [
      "The job lattice was saved and received the ID: 10240\n"
     ]
    }
   ],
   "source": [
    "job = pr.create_job(job_name='lattice', job_type='Lammps', delete_existing_job=True)\n",
    "structure = pr.create.structure.bulk('Fe', crystalstructure='bcc', cubic=True)\n",
    "potential =  potential\n",
    "job.structure = structure\n",
    "job.potential = potential\n",
    "job.calc_minimize(pressure=0.0)\n",
    "job.run(delete_existing_job=True)"
   ]
  },
  {
   "cell_type": "code",
   "execution_count": 12,
   "id": "ae3000e0-3012-4a09-9056-a643259d7c5c",
   "metadata": {},
   "outputs": [
    {
     "data": {
      "text/plain": [
       "2.8299282001208694"
      ]
     },
     "execution_count": 12,
     "metadata": {},
     "output_type": "execute_result"
    }
   ],
   "source": [
    "structure_opt = job.get_structure(frame=-1)\n",
    "structure_opt.get_cell()\n",
    "a = np.linalg.norm(structure_opt.cell[0])\n",
    "a"
   ]
  }
 ],
 "metadata": {
  "kernelspec": {
   "display_name": "Python 3 (ipykernel)",
   "language": "python",
   "name": "python3"
  },
  "language_info": {
   "codemirror_mode": {
    "name": "ipython",
    "version": 3
   },
   "file_extension": ".py",
   "mimetype": "text/x-python",
   "name": "python",
   "nbconvert_exporter": "python",
   "pygments_lexer": "ipython3",
   "version": "3.12.3"
  }
 },
 "nbformat": 4,
 "nbformat_minor": 5
}
