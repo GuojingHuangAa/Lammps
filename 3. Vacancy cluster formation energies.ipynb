{
 "cells": [
  {
   "cell_type": "markdown",
   "id": "0562a743-3e9a-4b76-a1ac-5b8a28938715",
   "metadata": {},
   "source": [
    "### Vacancy cluster formation energies\n",
    "$$E_f^v = E[n-m] + mE_{atom} - E[n]$$\n",
    "$$E_f^v = E[n-m]-\\frac{n-m}{n}E[n]$$"
   ]
  },
  {
   "cell_type": "code",
   "execution_count": 23,
   "id": "7c600563-fe7b-448d-96ed-ae04f679859d",
   "metadata": {},
   "outputs": [],
   "source": [
    "from pyiron import Project\n",
    "import numpy as np\n",
    "import matplotlib.pylab as plt"
   ]
  },
  {
   "cell_type": "code",
   "execution_count": 4,
   "id": "6723971e-e023-44a5-a263-fdf56589a050",
   "metadata": {},
   "outputs": [],
   "source": [
    "potential =  'FeH-NNIP'"
   ]
  },
  {
   "cell_type": "markdown",
   "id": "fc8526fa-2e98-4116-a361-500d1b40b308",
   "metadata": {},
   "source": [
    "1 vacancy:"
   ]
  },
  {
   "cell_type": "code",
   "execution_count": 5,
   "id": "c691101a-0a7c-4f68-9775-d2b9fe388da4",
   "metadata": {},
   "outputs": [],
   "source": [
    "pr = Project('vacancies')\n",
    "E_f = []"
   ]
  },
  {
   "cell_type": "code",
   "execution_count": 8,
   "id": "b7e8aad7-71fb-475e-b395-4e0ad6cd9668",
   "metadata": {},
   "outputs": [
    {
     "name": "stdout",
     "output_type": "stream",
     "text": [
      "The job bulk was saved and received the ID: 10116\n"
     ]
    },
    {
     "data": {
      "text/plain": [
       "-8.2415477862903"
      ]
     },
     "execution_count": 8,
     "metadata": {},
     "output_type": "execute_result"
    }
   ],
   "source": [
    "# relax structure, get bulk energy\n",
    "bulk = pr.create.structure.bulk('Fe', crystalstructure='bcc', cubic= True)\n",
    "job_bulk = pr.create.job.Lammps('bulk', delete_existing_job=True)\n",
    "job_bulk.structure = bulk\n",
    "job_bulk.potential = potential\n",
    "job_bulk.calc_minimize(pressure=0.0)\n",
    "job_bulk.run(delete_existing_job=True)\n",
    "eFe = job_bulk.output.energy_tot[-1]/len(bulk)\n",
    "eFe"
   ]
  },
  {
   "cell_type": "code",
   "execution_count": 11,
   "id": "6f66d6dc-488d-421a-a2e9-03847a653663",
   "metadata": {},
   "outputs": [
    {
     "name": "stdout",
     "output_type": "stream",
     "text": [
      "The job opt was saved and received the ID: 10117\n"
     ]
    }
   ],
   "source": [
    "# construct supercell, relax, get energy\n",
    "sc = pr.create.structure.bulk('Fe', crystalstructure='bcc', cubic= True).repeat([4,4,4])\n",
    "job = pr.create.job.Lammps('opt', delete_existing_job=True)\n",
    "job.structure = sc\n",
    "job.potential = potential\n",
    "job.calc_minimize(pressure=0.0)\n",
    "job.run(delete_existing_job=True)\n",
    "e0 = job.output.energy_tot[-1]\n",
    "supercell = job.get_structure(frame=-1)"
   ]
  },
  {
   "cell_type": "code",
   "execution_count": 12,
   "id": "8a4ed2ad-6484-4c18-aa6e-2ae0956da24f",
   "metadata": {},
   "outputs": [],
   "source": [
    "# make one vacancy by deleting one Fe atom\n",
    "supercell_1 = supercell.copy()\n",
    "del supercell_1[np.random.randint(1, len(supercell)+1)]"
   ]
  },
  {
   "cell_type": "code",
   "execution_count": 14,
   "id": "f33ad067-314c-4af4-a465-4c60ac372f5a",
   "metadata": {},
   "outputs": [
    {
     "name": "stdout",
     "output_type": "stream",
     "text": [
      "The job sc_1 was saved and received the ID: 10118\n"
     ]
    }
   ],
   "source": [
    "# calculate the energy\n",
    "job_1 = pr.create_job('Lammps', 'sc_1', delete_existing_job=True)\n",
    "job_1.structure = supercell_1\n",
    "job_1.potential = potential\n",
    "job_1.calc_minimize()\n",
    "job_1.run(delete_existing_job=True)\n",
    "e1 = job_1.output.energy_tot[-1]"
   ]
  },
  {
   "cell_type": "code",
   "execution_count": 15,
   "id": "cb816a6a-9fae-46bf-ab6e-e823edbc50fc",
   "metadata": {},
   "outputs": [
    {
     "data": {
      "text/plain": [
       "2.212154898179506"
      ]
     },
     "execution_count": 15,
     "metadata": {},
     "output_type": "execute_result"
    }
   ],
   "source": [
    "# calculate formation energy\n",
    "E1 = e1 - (len(supercell_1)/len(supercell))*e0\n",
    "E_f.append(E1)\n",
    "E1"
   ]
  },
  {
   "cell_type": "markdown",
   "id": "3ab45dc4-eee6-4229-8b82-d2c3b0e44cf7",
   "metadata": {},
   "source": [
    "2 vacancies"
   ]
  },
  {
   "cell_type": "markdown",
   "id": "c20327d7-0431-41d9-833d-c9fa01f4f435",
   "metadata": {},
   "source": [
    "NN = nearest neighbour, for bcc:\n",
    "\n",
    "$1NN = \\frac{\\sqrt{3}}{2}a$\n",
    "\n",
    "$2NN = a $\n",
    "\n",
    "$3NN = \\sqrt{2}a$\n",
    "\n",
    "$4NN = \\frac{\\sqrt{11}}{2}a$\n",
    "\n",
    "$5NN = \\sqrt{3}a$\n",
    "\n",
    "$6NN = 2a$"
   ]
  },
  {
   "cell_type": "code",
   "execution_count": 16,
   "id": "eb233727-b5df-4725-a774-8fc8a6a80846",
   "metadata": {},
   "outputs": [
    {
     "name": "stdout",
     "output_type": "stream",
     "text": [
      "The job v2 was saved and received the ID: 10119\n"
     ]
    },
    {
     "data": {
      "text/plain": [
       "4.203852636569081"
      ]
     },
     "execution_count": 16,
     "metadata": {},
     "output_type": "execute_result"
    }
   ],
   "source": [
    "# 1 NN\n",
    "supercell_2 = supercell.copy()\n",
    "del supercell_2[1]\n",
    "del supercell_2[41]\n",
    "# supercell_2.plot3d()\n",
    "\n",
    "job_2 = pr.create.job.Lammps('v2', delete_existing_job=True)\n",
    "job_2.structure = supercell_2\n",
    "job_2.potential = potential\n",
    "job_2.calc_minimize()\n",
    "job_2.run(delete_existing_job=True)\n",
    "\n",
    "e2 = job_2.output.energy_tot[-1]\n",
    "E2 = e2 - len(supercell_2)/len(supercell)*e0\n",
    "E_f.append(E2)\n",
    "E2"
   ]
  },
  {
   "cell_type": "code",
   "execution_count": 17,
   "id": "4d562b25-48b0-4326-9e56-3adc399c0c5d",
   "metadata": {},
   "outputs": [
    {
     "name": "stdout",
     "output_type": "stream",
     "text": [
      "The job v3 was saved and received the ID: 10120\n"
     ]
    },
    {
     "data": {
      "text/plain": [
       "4.213877723758969"
      ]
     },
     "execution_count": 17,
     "metadata": {},
     "output_type": "execute_result"
    }
   ],
   "source": [
    "# 2 NN\n",
    "supercell_3 = supercell.copy()\n",
    "del supercell_3[1]\n",
    "del supercell_3[8]\n",
    "# supercell_3.plot3d()\n",
    "\n",
    "job_3 = pr.create.job.Lammps('v3')\n",
    "job_3.structure = supercell_3\n",
    "job_3.potential = potential\n",
    "job_3.calc_minimize()\n",
    "job_3.run(delete_existing_job=True)\n",
    "\n",
    "e3 = job_3.output.energy_tot[-1]\n",
    "E3 = e3 - len(supercell_3)/len(supercell)*e0\n",
    "E_f.append(E3)\n",
    "E3"
   ]
  },
  {
   "cell_type": "code",
   "execution_count": 18,
   "id": "1667fa14-5a3b-44a3-9b89-621a1e068e45",
   "metadata": {},
   "outputs": [
    {
     "name": "stdout",
     "output_type": "stream",
     "text": [
      "The job v4 was saved and received the ID: 10121\n"
     ]
    },
    {
     "data": {
      "text/plain": [
       "4.47324938531915"
      ]
     },
     "execution_count": 18,
     "metadata": {},
     "output_type": "execute_result"
    }
   ],
   "source": [
    "# 3 NN\n",
    "job_4 = pr.create.job.Lammps('v4')\n",
    "supercell_4 = supercell.copy()\n",
    "del supercell_4[1]\n",
    "del supercell_4[10]\n",
    "\n",
    "job_4.structure = supercell_4\n",
    "job_4.potential = potential\n",
    "job_4.calc_minimize()\n",
    "job_4.run(delete_existing_job=True)\n",
    "\n",
    "e4 = job_4.output.energy_tot[-1]\n",
    "E4 = e4 - len(supercell_4)/len(supercell)*e0\n",
    "E_f.append(E4)\n",
    "E4"
   ]
  },
  {
   "cell_type": "code",
   "execution_count": 19,
   "id": "486626f7-4de3-4136-a7e1-dd36a68f8dc9",
   "metadata": {},
   "outputs": [
    {
     "name": "stdout",
     "output_type": "stream",
     "text": [
      "The job v5 was saved and received the ID: 10122\n"
     ]
    },
    {
     "data": {
      "text/plain": [
       "4.407007481279152"
      ]
     },
     "execution_count": 19,
     "metadata": {},
     "output_type": "execute_result"
    }
   ],
   "source": [
    "# 4 NN\n",
    "job_5 = pr.create.job.Lammps('v5')\n",
    "supercell_5 = supercell.copy()\n",
    "# i = np.random.randint(len(supercell))\n",
    "del supercell_5[1]\n",
    "del supercell_5[49]\n",
    "\n",
    "job_5.structure = supercell_5\n",
    "job_5.potential = potential\n",
    "job_5.calc_minimize()\n",
    "job_5.run(delete_existing_job=True)\n",
    "\n",
    "e5 = job_5.output.energy_tot[-1]\n",
    "E5 = e5 - len(supercell_5)/len(supercell)*e0\n",
    "E_f.append(E5)\n",
    "E5"
   ]
  },
  {
   "cell_type": "code",
   "execution_count": 20,
   "id": "a7b260c2-629a-4f0f-a4e1-bd7c1a8c3234",
   "metadata": {},
   "outputs": [
    {
     "name": "stdout",
     "output_type": "stream",
     "text": [
      "The job v6 was saved and received the ID: 10123\n"
     ]
    },
    {
     "data": {
      "text/plain": [
       "4.398490042309049"
      ]
     },
     "execution_count": 20,
     "metadata": {},
     "output_type": "execute_result"
    }
   ],
   "source": [
    "# 5 NN\n",
    "job_6 = pr.create.job.Lammps('v6')\n",
    "supercell_6 = supercell.copy()\n",
    "# i = np.random.randint(len(supercell))\n",
    "del supercell_6[1]\n",
    "del supercell_6[42]\n",
    "\n",
    "job_6.structure = supercell_6\n",
    "job_6.potential = potential\n",
    "job_6.calc_minimize()\n",
    "job_6.run(delete_existing_job=True)\n",
    "\n",
    "e6 = job_6.output.energy_tot[-1]\n",
    "E6 = e6 - len(supercell_5)/len(supercell)*e0\n",
    "E_f.append(E6)\n",
    "E6"
   ]
  },
  {
   "cell_type": "code",
   "execution_count": 24,
   "id": "e7855f7a-7373-4cb2-b662-361ffbb83196",
   "metadata": {},
   "outputs": [
    {
     "data": {
      "image/png": "[encoded data removed]",
      "text/plain": [
       "<Figure size 640x480 with 1 Axes>"
      ]
     },
     "metadata": {},
     "output_type": "display_data"
    }
   ],
   "source": [
    "E_f_ref = [2.203, 4.184, 4.183, 4.445, 4.374, 4.378]\n",
    "\n",
    "x_values = ['1V', '2V-1NN', '2V-2NN', '2V-3NN', '2V-4NN', '2V-5NN']\n",
    "\n",
    "plt.scatter(x_values, E_f, label='E_f', marker='o')\n",
    "plt.scatter(x_values, E_f_ref, label='E_f_NN', marker='s')\n",
    "\n",
    "plt.ylabel('Energy')\n",
    "plt.legend()\n",
    "\n",
    "plt.show()"
   ]
  },
  {
   "cell_type": "markdown",
   "id": "d54601f5-bd63-493d-afac-bab58fe775b7",
   "metadata": {},
   "source": [
    "3 VACANCIES"
   ]
  },
  {
   "cell_type": "markdown",
   "id": "b6a8f53b-2e6a-4286-8e19-3bbadfd99662",
   "metadata": {},
   "source": [
    "Beeler notation (DOI: https://doi.org/10.1103/PhysRev.156.677)"
   ]
  },
  {
   "cell_type": "code",
   "execution_count": 25,
   "id": "d8a02d4c-2a09-401b-b100-d4fb3d6f96a9",
   "metadata": {},
   "outputs": [],
   "source": [
    "index = {'112': [0,0,0],\n",
    "         '226': [0,1,2],\n",
    "         '223': [0,1,30],\n",
    "         '115': [0,0,40],\n",
    "         '113': [0,0,8],\n",
    "         '333': [0,33,38],\n",
    "        }"
   ]
  },
  {
   "cell_type": "code",
   "execution_count": 26,
   "id": "47e020bb-c5bf-4561-b8f0-4dc71c063211",
   "metadata": {},
   "outputs": [
    {
     "name": "stdout",
     "output_type": "stream",
     "text": [
      "The job trimV_112 was saved and received the ID: 10124\n",
      "5.904890611129076\n",
      "The job trimV_226 was saved and received the ID: 10125\n",
      "6.210298479649055\n",
      "The job trimV_223 was saved and received the ID: 10126\n",
      "6.216798904348934\n",
      "The job trimV_115 was saved and received the ID: 10127\n",
      "6.187563331958927\n",
      "The job trimV_113 was saved and received the ID: 10128\n",
      "6.228175454438997\n",
      "The job trimV_333 was saved and received the ID: 10129\n",
      "6.738819420158961\n"
     ]
    }
   ],
   "source": [
    "E_triv = []\n",
    "\n",
    "for key, value in index.items():\n",
    "    job = pr.create.job.Lammps(job_name=f'tri-V_{key}',delete_existing_job=True)\n",
    "    supercell_x = supercell.copy()\n",
    "    del supercell_x[value[0]]\n",
    "    del supercell_x[value[1]]\n",
    "    del supercell_x[value[2]]\n",
    "    job.structure = supercell_x\n",
    "    job.potential = potential\n",
    "    job.calc_minimize()\n",
    "    job.run(delete_existing_job=True)\n",
    "    ex = job.output.energy_tot[-1]\n",
    "    # Ex = ex - len(supercell_x)/len(supercell)*e0\n",
    "    Ex = ex + 3*eFe - e0\n",
    "    E_triv.append(Ex)\n",
    "    print(Ex)"
   ]
  },
  {
   "cell_type": "code",
   "execution_count": 28,
   "id": "57186e05-b92a-4ac1-b66b-cc2daa098bfa",
   "metadata": {},
   "outputs": [
    {
     "data": {
      "image/png": "[encoded data removed]",
      "text/plain": [
       "<Figure size 640x480 with 1 Axes>"
      ]
     },
     "metadata": {},
     "output_type": "display_data"
    }
   ],
   "source": [
    "E_triv_ref = [5.867, 6.146, 6.155, 6.152, 6.158, 6.665]\n",
    "\n",
    "x_values = ['3V-112', '3V-226', '3V-223', '3V-115', '3V-113', '3V-333']\n",
    "\n",
    "plt.scatter(x_values, E_triv, label='E_triv', marker='o')\n",
    "plt.scatter(x_values, E_triv_ref, label='E_triv_NN', marker='s')\n",
    "\n",
    "plt.ylabel('Energy')\n",
    "plt.legend()\n",
    "\n",
    "plt.show()"
   ]
  },
  {
   "cell_type": "markdown",
   "id": "16eb33e7-d477-483d-983f-ac544d748fe8",
   "metadata": {},
   "source": [
    "4 vacancies"
   ]
  },
  {
   "cell_type": "code",
   "execution_count": 30,
   "id": "550e263c-fd0e-435c-b8b8-b765af529edd",
   "metadata": {},
   "outputs": [
    {
     "name": "stdout",
     "output_type": "stream",
     "text": [
      "The job quadra1 was saved and received the ID: 10130\n",
      "The job quadra2 was saved and received the ID: 10131\n"
     ]
    }
   ],
   "source": [
    "E_q = []\n",
    "\n",
    "# 4 vacancies along [111] direction\n",
    "supercell_qua = supercell.copy()\n",
    "del supercell_qua[0]\n",
    "del supercell_qua[0]\n",
    "del supercell_qua[40]\n",
    "del supercell_qua[40]\n",
    "# supercell_qua.plot3d()\n",
    "\n",
    "job = pr.create.job.Lammps('quadra1', delete_existing_job=True)\n",
    "\n",
    "job.structure = supercell_qua\n",
    "job.potential = potential\n",
    "job.calc_minimize()\n",
    "job.run(delete_existing_job=True)\n",
    "\n",
    "eq1 = job.output.energy_tot[-1]\n",
    "E = eq1 - len(supercell_qua)/len(supercell)*e0\n",
    "E_q.append(E)\n",
    "\n",
    "# 4 vacancies in tetrahedral configuration\n",
    "supercell_qua = supercell.copy()\n",
    "del supercell_qua[1]\n",
    "del supercell_qua[7]\n",
    "del supercell_qua[7]\n",
    "del supercell_qua[37]\n",
    "# supercell_qua.plot3d()\n",
    "\n",
    "job = pr.create.job.Lammps('quadra2', delete_existing_job=True)\n",
    "\n",
    "job.structure = supercell_qua\n",
    "job.potential = potential\n",
    "job.calc_minimize()\n",
    "job.run(delete_existing_job=True)\n",
    "\n",
    "eq2 = job.output.energy_tot[-1]\n",
    "E = eq2 - len(supercell_qua)/len(supercell)*e0\n",
    "E_q.append(E)\n"
   ]
  },
  {
   "cell_type": "code",
   "execution_count": 31,
   "id": "e3053301-05ca-4de1-be88-ef1e33e24dd7",
   "metadata": {},
   "outputs": [
    {
     "data": {
      "image/png": "[encoded data removed]",
      "text/plain": [
       "<Figure size 640x480 with 1 Axes>"
      ]
     },
     "metadata": {},
     "output_type": "display_data"
    }
   ],
   "source": [
    "E_q_ref = [8.114, 7.278]\n",
    "\n",
    "x_values = ['4V-111', '4V-Tet']\n",
    "\n",
    "plt.scatter(x_values, E_q, label='E_q', marker='o')\n",
    "plt.scatter(x_values, E_q_ref, label='E_q_ref', marker='s')\n",
    "\n",
    "plt.ylabel('Energy')\n",
    "plt.legend()\n",
    "\n",
    "plt.show()"
   ]
  }
 ],
 "metadata": {
  "kernelspec": {
   "display_name": "Python 3 (ipykernel)",
   "language": "python",
   "name": "python3"
  },
  "language_info": {
   "codemirror_mode": {
    "name": "ipython",
    "version": 3
   },
   "file_extension": ".py",
   "mimetype": "text/x-python",
   "name": "python",
   "nbconvert_exporter": "python",
   "pygments_lexer": "ipython3",
   "version": "3.12.3"
  }
 },
 "nbformat": 4,
 "nbformat_minor": 5
}
